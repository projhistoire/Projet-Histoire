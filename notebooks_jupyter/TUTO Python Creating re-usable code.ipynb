{
 "cells": [
  {
   "cell_type": "code",
   "execution_count": 10,
   "id": "a384b970",
   "metadata": {},
   "outputs": [],
   "source": [
    "import csv\n",
    "import json\n",
    "import pandas as pd\n",
    "import numpy as np\n",
    "import matplotlib.pyplot as plt"
   ]
  },
  {
   "cell_type": "code",
   "execution_count": 11,
   "id": "966c0edd",
   "metadata": {},
   "outputs": [
    {
     "name": "stdout",
     "output_type": "stream",
     "text": [
      "4\n"
     ]
    }
   ],
   "source": [
    "def get_item_count(items_str,sep):\n",
    "    '''\n",
    "    This function takes a string with a list of items and the character that they're separated by and returns the number of items\n",
    "    '''\n",
    "    items_list = items_str.split(sep)\n",
    "    num_items = len(items_list)\n",
    "    return num_items\n",
    "\n",
    "items_owned = \"bicycle;television;solar_panel;table\"\n",
    "print(get_item_count(items_owned,';'))"
   ]
  },
  {
   "cell_type": "code",
   "execution_count": 12,
   "id": "d52846d1",
   "metadata": {},
   "outputs": [
    {
     "name": "stdout",
     "output_type": "stream",
     "text": [
      "4\n"
     ]
    }
   ],
   "source": [
    "def get_item_count(items_str,sep=';'):\n",
    "    '''\n",
    "    This function takes a string with a list of items and the character that they're separated by and returns the number of items\n",
    "    '''\n",
    "    items_list = items_str.split(sep)\n",
    "    num_items = len(items_list)\n",
    "    return num_items\n",
    "\n",
    "\n",
    "print(get_item_count(items_owned))"
   ]
  },
  {
   "cell_type": "code",
   "execution_count": 13,
   "id": "61eed367",
   "metadata": {},
   "outputs": [
    {
     "name": "stdout",
     "output_type": "stream",
     "text": [
      "1\n",
      "4\n"
     ]
    }
   ],
   "source": [
    "print(get_item_count(items_owned, sep = ','))\n",
    "print(get_item_count(items_str = items_owned, sep=';'))"
   ]
  }
 ],
 "metadata": {
  "kernelspec": {
   "display_name": "Python 3",
   "language": "python",
   "name": "python3"
  },
  "language_info": {
   "codemirror_mode": {
    "name": "ipython",
    "version": 3
   },
   "file_extension": ".py",
   "mimetype": "text/x-python",
   "name": "python",
   "nbconvert_exporter": "python",
   "pygments_lexer": "ipython3",
   "version": "3.9.6"
  }
 },
 "nbformat": 4,
 "nbformat_minor": 5
}
