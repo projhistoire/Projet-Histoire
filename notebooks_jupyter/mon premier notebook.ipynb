{
 "cells": [
  {
   "cell_type": "markdown",
   "id": "44f31a87-ae51-4c73-ab4f-498ee921c750",
   "metadata": {
    "execution": {
     "iopub.execute_input": "2024-11-25T14:41:29.449941Z",
     "iopub.status.busy": "2024-11-25T14:41:29.444016Z",
     "iopub.status.idle": "2024-11-25T14:41:29.462401Z",
     "shell.execute_reply": "2024-11-25T14:41:29.460604Z",
     "shell.execute_reply.started": "2024-11-25T14:41:29.449838Z"
    }
   },
   "source": [
    "a = 25"
   ]
  },
  {
   "cell_type": "code",
   "execution_count": 2,
   "id": "2ff65462-1f62-45e9-96f2-29b9b2b26a7e",
   "metadata": {
    "execution": {
     "iopub.execute_input": "2024-11-25T14:41:38.398507Z",
     "iopub.status.busy": "2024-11-25T14:41:38.397982Z",
     "iopub.status.idle": "2024-11-25T14:41:38.406747Z",
     "shell.execute_reply": "2024-11-25T14:41:38.404764Z",
     "shell.execute_reply.started": "2024-11-25T14:41:38.398464Z"
    }
   },
   "outputs": [],
   "source": [
    "b = 45"
   ]
  },
  {
   "cell_type": "markdown",
   "id": "a8e63fea-b23e-48f3-a7c5-1a9334b67842",
   "metadata": {
    "execution": {
     "iopub.execute_input": "2024-11-25T14:41:56.155566Z",
     "iopub.status.busy": "2024-11-25T14:41:56.153545Z",
     "iopub.status.idle": "2024-11-25T14:41:56.173350Z",
     "shell.execute_reply": "2024-11-25T14:41:56.171041Z",
     "shell.execute_reply.started": "2024-11-25T14:41:56.155501Z"
    }
   },
   "source": [
    "a + b "
   ]
  },
  {
   "cell_type": "code",
   "execution_count": 4,
   "id": "bedc2ce0-1a71-4ade-8164-ce1c6ea7503f",
   "metadata": {
    "execution": {
     "iopub.execute_input": "2024-11-25T14:52:13.897482Z",
     "iopub.status.busy": "2024-11-25T14:52:13.894721Z",
     "iopub.status.idle": "2024-11-25T14:52:14.908636Z",
     "shell.execute_reply": "2024-11-25T14:52:14.906397Z",
     "shell.execute_reply.started": "2024-11-25T14:52:13.897308Z"
    }
   },
   "outputs": [],
   "source": [
    "from bokeh.plotting import figure, output_file, show\n"
   ]
  },
  {
   "cell_type": "code",
   "execution_count": 6,
   "id": "714116c6-0e4e-436f-9ac8-db9909330f9f",
   "metadata": {
    "execution": {
     "iopub.execute_input": "2024-11-25T14:55:51.185015Z",
     "iopub.status.busy": "2024-11-25T14:55:51.182415Z",
     "iopub.status.idle": "2024-11-25T14:55:51.194349Z",
     "shell.execute_reply": "2024-11-25T14:55:51.192350Z",
     "shell.execute_reply.started": "2024-11-25T14:55:51.184925Z"
    }
   },
   "outputs": [],
   "source": [
    "adresse_fichier = 'mes_graphiques/my_first_graph.html'\n",
    "output_file(adresse_fichier)"
   ]
  },
  {
   "cell_type": "code",
   "execution_count": 7,
   "id": "81ff5df4-7201-47b1-812e-17f6563941bd",
   "metadata": {
    "execution": {
     "iopub.execute_input": "2024-11-25T14:58:20.984053Z",
     "iopub.status.busy": "2024-11-25T14:58:20.982894Z",
     "iopub.status.idle": "2024-11-25T14:58:20.995746Z",
     "shell.execute_reply": "2024-11-25T14:58:20.994047Z",
     "shell.execute_reply.started": "2024-11-25T14:58:20.983970Z"
    }
   },
   "outputs": [],
   "source": [
    "output_file('mes_graphiques/my_first_graph.html')"
   ]
  },
  {
   "cell_type": "code",
   "execution_count": 8,
   "id": "fedd3e87-057f-4662-b473-0684370196f4",
   "metadata": {
    "execution": {
     "iopub.execute_input": "2024-11-25T14:58:50.043730Z",
     "iopub.status.busy": "2024-11-25T14:58:50.041037Z",
     "iopub.status.idle": "2024-11-25T14:58:50.052478Z",
     "shell.execute_reply": "2024-11-25T14:58:50.050593Z",
     "shell.execute_reply.started": "2024-11-25T14:58:50.043642Z"
    }
   },
   "outputs": [],
   "source": [
    "x = [1, 3, 5, 7]\n",
    "y = [2, 4, 6, 8]\n"
   ]
  },
  {
   "cell_type": "code",
   "execution_count": 12,
   "id": "e52ea71e-7150-4294-83a2-3b9727e6751b",
   "metadata": {
    "execution": {
     "iopub.execute_input": "2024-11-25T15:02:55.396504Z",
     "iopub.status.busy": "2024-11-25T15:02:55.395425Z",
     "iopub.status.idle": "2024-11-25T15:02:55.525041Z",
     "shell.execute_reply": "2024-11-25T15:02:55.522451Z",
     "shell.execute_reply.started": "2024-11-25T15:02:55.396366Z"
    }
   },
   "outputs": [],
   "source": [
    "p = figure()\n",
    "\n",
    "### beware: argument 'legend' is deprecated\n",
    "# https://discourse.bokeh.org/t/bokehdeprecationwarning-legend-keyword-is-deprecated-use-explicit-legend-label-legend-field-or-legend-group-keywords-instead/8066\n",
    "### 'circle() method with size value' was deprecated in Bokeh 3.4.0 \n",
    "p.scatter(x, y, size=10, color='red', legend_label='circle')\n",
    "p.line(x, y, color='blue', legend_label='line')\n",
    "### 'triangle() method' was deprecated in Bokeh 3.4.0 \n",
    "p.scatter(y, x, marker='triangle', color='gold', size=10, legend_label='triangle')\n",
    "p.legend.click_policy='hide'\n",
    "show(p)\n"
   ]
  },
  {
   "cell_type": "code",
   "execution_count": null,
   "id": "1fe418de-e864-46e0-ba57-27a6d6631c2f",
   "metadata": {},
   "outputs": [],
   "source": []
  }
 ],
 "metadata": {
  "kernelspec": {
   "display_name": "Python3",
   "language": "python",
   "name": "python3"
  },
  "language_info": {
   "codemirror_mode": {
    "name": "ipython",
    "version": 3
   },
   "file_extension": ".py",
   "mimetype": "text/x-python",
   "name": "python",
   "nbconvert_exporter": "python",
   "pygments_lexer": "ipython3",
   "version": "3.12.5"
  }
 },
 "nbformat": 4,
 "nbformat_minor": 5
}
