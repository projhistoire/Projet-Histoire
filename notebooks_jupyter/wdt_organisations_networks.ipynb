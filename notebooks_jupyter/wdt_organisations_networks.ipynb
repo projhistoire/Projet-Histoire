{
 "cells": [
  {
   "cell_type": "markdown",
   "metadata": {},
   "source": [
    "# Networks of organisations\n",
    "\n",
    "\n",
    "  \n",
    "* *Exploratory SNA* book's chapter 5 about 'Affiliations'\n",
    "* Cf. [this notebook](https://github.com/Sciences-historiques-numeriques/histoire_numerique_methodes/blob/main/analyse_reseaux/pajek_book/chapter5_affiliations.ipynb) \n",
    "\n"
   ]
  },
  {
   "cell_type": "code",
   "execution_count": 1,
   "metadata": {
    "execution": {
     "iopub.execute_input": "2025-05-25T08:42:36.310506Z",
     "iopub.status.busy": "2025-05-25T08:42:36.309579Z",
     "iopub.status.idle": "2025-05-25T08:42:38.578800Z",
     "shell.execute_reply": "2025-05-25T08:42:38.576464Z",
     "shell.execute_reply.started": "2025-05-25T08:42:36.310420Z"
    }
   },
   "outputs": [],
   "source": [
    "### Librairie à installer dans l'environnement conda (si on exécute en local)\n",
    "# qui sera choisi pour exécuter le carnet\n",
    "\n",
    "%matplotlib inline\n",
    "\n",
    "from SPARQLWrapper import SPARQLWrapper, JSON, TURTLE, XML, RDFXML\n",
    "import pandas as pd\n",
    "\n",
    "import scipy.stats as stats\n",
    "\n",
    "import networkx as nx\n",
    "from networkx.algorithms import bipartite\n",
    "\n",
    "import matplotlib.pyplot as plt\n",
    "import matplotlib.patches as patches\n",
    "\n",
    "import numpy as np\n",
    "import seaborn as sns\n",
    "import math\n",
    "import os"
   ]
  },
  {
   "cell_type": "code",
   "execution_count": 2,
   "metadata": {
    "execution": {
     "iopub.execute_input": "2025-05-25T08:42:38.580784Z",
     "iopub.status.busy": "2025-05-25T08:42:38.580323Z",
     "iopub.status.idle": "2025-05-25T08:42:38.588182Z",
     "shell.execute_reply": "2025-05-25T08:42:38.586977Z",
     "shell.execute_reply.started": "2025-05-25T08:42:38.580753Z"
    }
   },
   "outputs": [],
   "source": [
    "### Librairies déjà installées avec Python\n",
    "import pprint\n",
    "import csv\n",
    "\n",
    "import sqlite3 as sql\n",
    "\n",
    "import time\n",
    "import datetime\n",
    "from dateutil import parser\n",
    "\n",
    "\n",
    "from shutil import copyfile\n"
   ]
  },
  {
   "cell_type": "code",
   "execution_count": 3,
   "metadata": {
    "execution": {
     "iopub.execute_input": "2025-05-25T08:42:38.589349Z",
     "iopub.status.busy": "2025-05-25T08:42:38.589076Z",
     "iopub.status.idle": "2025-05-25T08:42:38.711529Z",
     "shell.execute_reply": "2025-05-25T08:42:38.708974Z",
     "shell.execute_reply.started": "2025-05-25T08:42:38.589324Z"
    }
   },
   "outputs": [],
   "source": [
    "### Importer un module de fonctions crées ad hoc\n",
    "##  ATTENTION : le fichier 'sparql_functions.py' doit se trouver \n",
    "#   dans un dossier qui se situe dans le chemin ('path') de recherche\n",
    "#   vu par le présent carnet Jupyter afin que\n",
    "#   l'importation fonctionne correctement\n",
    "\n",
    "import sys\n",
    "from importlib import reload\n",
    "\n",
    "# Add parent directory to the path\n",
    "sys.path.insert(0, '..')\n",
    "\n",
    "### If you want to add the parent-parent directory,\n",
    "sys.path.insert(0, '../..')\n",
    "\n",
    "\n",
    "import sparql_functions as spqf\n",
    "import network_analysis_functions as naf"
   ]
  },
  {
   "cell_type": "code",
   "execution_count": 4,
   "metadata": {
    "execution": {
     "iopub.execute_input": "2025-05-25T08:42:38.717753Z",
     "iopub.status.busy": "2025-05-25T08:42:38.716047Z",
     "iopub.status.idle": "2025-05-25T08:42:38.743647Z",
     "shell.execute_reply": "2025-05-25T08:42:38.741028Z",
     "shell.execute_reply.started": "2025-05-25T08:42:38.717670Z"
    }
   },
   "outputs": [
    {
     "name": "stdout",
     "output_type": "stream",
     "text": [
      "<module 'network_analysis_functions' from '/home/My_notebook_printemps/network_analysis_functions.py'>\n"
     ]
    }
   ],
   "source": [
    "print(reload(naf))  "
   ]
  },
  {
   "cell_type": "markdown",
   "metadata": {},
   "source": [
    "## Get the data from the triplestore\n",
    "\n",
    "This notebook is based on the same relationships (and therefore data) as [the one about persons' relationships](wdt_persons_organisations_networks.ipynb), namely the relationship between persons and organisations as original information.\n",
    "\n",
    "Here, however, we will focus on relationships between institutions, so the treatment is different.\n"
   ]
  },
  {
   "cell_type": "code",
   "execution_count": 5,
   "metadata": {
    "execution": {
     "iopub.execute_input": "2025-05-25T08:42:40.101824Z",
     "iopub.status.busy": "2025-05-25T08:42:40.100353Z",
     "iopub.status.idle": "2025-05-25T08:42:40.111586Z",
     "shell.execute_reply": "2025-05-25T08:42:40.109178Z",
     "shell.execute_reply.started": "2025-05-25T08:42:40.101745Z"
    }
   },
   "outputs": [],
   "source": [
    "## define SPARQL enpoint\n",
    "endpoint = \"https://ag1khc5dnlqgdc0c.allegrograph.cloud/repositories/Astronauts\""
   ]
  },
  {
   "cell_type": "code",
   "execution_count": 6,
   "metadata": {
    "execution": {
     "iopub.execute_input": "2025-05-25T08:42:40.823306Z",
     "iopub.status.busy": "2025-05-25T08:42:40.822240Z",
     "iopub.status.idle": "2025-05-25T08:42:40.837269Z",
     "shell.execute_reply": "2025-05-25T08:42:40.834573Z",
     "shell.execute_reply.started": "2025-05-25T08:42:40.823167Z"
    }
   },
   "outputs": [],
   "source": [
    "query = \"\"\"\n",
    "\n",
    "PREFIX franzOption_defaultDatasetBehavior: <franz:rdf>\n",
    "PREFIX wd: <http://www.wikidata.org/entity/>\n",
    "PREFIX wdt: <http://www.wikidata.org/prop/direct/>\n",
    "PREFIX rdf: <http://www.w3.org/1999/02/22-rdf-syntax-ns#>\n",
    "PREFIX rdfs: <http://www.w3.org/2000/01/rdf-schema#>\n",
    "PREFIX crm: <http://www.cidoc-crm.org/cidoc-crm/>\n",
    "PREFIX wikibase: <http://wikiba.se/ontology#>\n",
    "PREFIX bd: <http://www.bigdata.com/rdf#>\n",
    "\n",
    "\n",
    "SELECT ?person (MIN(?pLabel) AS ?personLabel)\n",
    "        (MIN(?birthYear) AS ?birthYear)\n",
    "        ?relationship \n",
    "        ?organisation (MIN(?oLabel) AS ?organisationLabel)\n",
    "        (COUNT(*) as ?n) \n",
    "        (GROUP_CONCAT(DISTINCT ?groupTypeLabel; separator=\" | \") AS ?groupTypes) \n",
    "        #(GROUP_CONCAT(DISTINCT ?countryLabel; separator=\" | \") AS ?countries) \n",
    "\n",
    "WHERE {\n",
    "        GRAPH <https://github.com/projhistoire/Projet-Histoire/blob/main/Wikidata/graph/imported-data.md>\n",
    "        {\n",
    "        {?person a wd:Q5;\n",
    "           rdfs:label ?pLabel;\n",
    "           wdt:P569 ?birthYear.\n",
    "        }\n",
    "\n",
    "\n",
    "        {?person wdt:P108 ?organisation.\n",
    "        BIND('employment' AS ?relationship)\n",
    "        }   \n",
    "        UNION\n",
    "        {?person wdt:P463 ?organisation.\n",
    "        BIND('membership' AS ?relationship)\n",
    "        }   \n",
    "        UNION\n",
    "        {?person wdt:P69 ?organisation.\n",
    "        BIND('education' AS ?relationship)\n",
    "        }  \n",
    "        ?organisation rdfs:label ?oLabel;\n",
    "                # instance of\n",
    "                wdt:P31 ?groupType.\n",
    "        ?groupType rdfs:label ?groupTypeLabel         \n",
    "        \n",
    "        # OPTIONAL {\n",
    "        #    ?organisation wdt:P17 ?country.\n",
    "        #    ?country rdfs:label ?countryLabel.\n",
    "        # }\n",
    "\n",
    "         }        \n",
    "\n",
    "\n",
    "\n",
    "    }\n",
    "\n",
    "GROUP BY ?person ?relationship ?organisation   \n",
    "ORDER by ?person \n",
    "\"\"\""
   ]
  },
  {
   "cell_type": "code",
   "execution_count": 7,
   "metadata": {
    "execution": {
     "iopub.execute_input": "2025-05-25T08:42:42.285343Z",
     "iopub.status.busy": "2025-05-25T08:42:42.284299Z",
     "iopub.status.idle": "2025-05-25T08:42:42.880558Z",
     "shell.execute_reply": "2025-05-25T08:42:42.878219Z",
     "shell.execute_reply.started": "2025-05-25T08:42:42.285252Z"
    }
   },
   "outputs": [
    {
     "name": "stdout",
     "output_type": "stream",
     "text": [
      "2000\n",
      "[['http://www.wikidata.org/entity/Q110916469',\n",
      "  'Scott Poteet',\n",
      "  '1973',\n",
      "  'education',\n",
      "  'http://www.wikidata.org/entity/Q4697817',\n",
      "  'Air Command and Staff College',\n",
      "  '1',\n",
      "  'staff college'],\n",
      " ['http://www.wikidata.org/entity/Q110916469',\n",
      "  'Scott Poteet',\n",
      "  '1973',\n",
      "  'education',\n",
      "  'http://www.wikidata.org/entity/Q7116352',\n",
      "  'Oyster River High School',\n",
      "  '1',\n",
      "  'high school'],\n",
      " ['http://www.wikidata.org/entity/Q110916469',\n",
      "  'Scott Poteet',\n",
      "  '1973',\n",
      "  'education',\n",
      "  'http://www.wikidata.org/entity/Q49207',\n",
      "  'University of New Hampshire',\n",
      "  '3',\n",
      "  'public research university | public educational institution of the United '\n",
      "  'States | land-grant university']]\n"
     ]
    }
   ],
   "source": [
    "### Executer la requête avec les fonctions de la librairie locale\n",
    "try:\n",
    "    qr = spqf.get_json_sparql_result(endpoint,query)\n",
    "    out = [l for l in spqf.sparql_result_to_list(qr)]\n",
    "    print(len(out))\n",
    "    pprint.pprint(out[100:103])\n",
    "except Exception as e:\n",
    "    print(e)    \n"
   ]
  },
  {
   "cell_type": "markdown",
   "metadata": {},
   "source": [
    "## Inspect the data\n"
   ]
  },
  {
   "cell_type": "code",
   "execution_count": 8,
   "metadata": {
    "execution": {
     "iopub.execute_input": "2025-05-25T08:42:49.968945Z",
     "iopub.status.busy": "2025-05-25T08:42:49.967000Z",
     "iopub.status.idle": "2025-05-25T08:42:50.021183Z",
     "shell.execute_reply": "2025-05-25T08:42:50.018419Z",
     "shell.execute_reply.started": "2025-05-25T08:42:49.968801Z"
    }
   },
   "outputs": [
    {
     "name": "stdout",
     "output_type": "stream",
     "text": [
      "Number:  2000\n"
     ]
    },
    {
     "data": {
      "text/html": [
       "<div>\n",
       "<style scoped>\n",
       "    .dataframe tbody tr th:only-of-type {\n",
       "        vertical-align: middle;\n",
       "    }\n",
       "\n",
       "    .dataframe tbody tr th {\n",
       "        vertical-align: top;\n",
       "    }\n",
       "\n",
       "    .dataframe thead th {\n",
       "        text-align: right;\n",
       "    }\n",
       "</style>\n",
       "<table border=\"1\" class=\"dataframe\">\n",
       "  <thead>\n",
       "    <tr style=\"text-align: right;\">\n",
       "      <th></th>\n",
       "      <th>uriPer</th>\n",
       "      <th>labelPer</th>\n",
       "      <th>birthYear</th>\n",
       "      <th>relaType</th>\n",
       "      <th>uriOrg</th>\n",
       "      <th>labelOrg</th>\n",
       "      <th>nTypes</th>\n",
       "      <th>typesOrg</th>\n",
       "    </tr>\n",
       "  </thead>\n",
       "  <tbody>\n",
       "    <tr>\n",
       "      <th>10</th>\n",
       "      <td>http://www.wikidata.org/entity/Q104865</td>\n",
       "      <td>Vladimir Komarov</td>\n",
       "      <td>1927</td>\n",
       "      <td>education</td>\n",
       "      <td>http://www.wikidata.org/entity/Q4238545</td>\n",
       "      <td>Krasnodar Higher Military Aviation School of P...</td>\n",
       "      <td>1</td>\n",
       "      <td>military school</td>\n",
       "    </tr>\n",
       "    <tr>\n",
       "      <th>11</th>\n",
       "      <td>http://www.wikidata.org/entity/Q104865</td>\n",
       "      <td>Vladimir Komarov</td>\n",
       "      <td>1927</td>\n",
       "      <td>education</td>\n",
       "      <td>http://www.wikidata.org/entity/Q4094046</td>\n",
       "      <td>Borisoglebsk Higher Aviators School</td>\n",
       "      <td>1</td>\n",
       "      <td>military school</td>\n",
       "    </tr>\n",
       "    <tr>\n",
       "      <th>12</th>\n",
       "      <td>http://www.wikidata.org/entity/Q106286882</td>\n",
       "      <td>Christopher Sembroski</td>\n",
       "      <td>1979</td>\n",
       "      <td>education</td>\n",
       "      <td>http://www.wikidata.org/entity/Q5370252</td>\n",
       "      <td>Embry–Riddle Aeronautical University, Daytona ...</td>\n",
       "      <td>1</td>\n",
       "      <td>private not-for-profit educational institution</td>\n",
       "    </tr>\n",
       "  </tbody>\n",
       "</table>\n",
       "</div>"
      ],
      "text/plain": [
       "                                       uriPer               labelPer  \\\n",
       "10     http://www.wikidata.org/entity/Q104865       Vladimir Komarov   \n",
       "11     http://www.wikidata.org/entity/Q104865       Vladimir Komarov   \n",
       "12  http://www.wikidata.org/entity/Q106286882  Christopher Sembroski   \n",
       "\n",
       "   birthYear   relaType                                   uriOrg  \\\n",
       "10      1927  education  http://www.wikidata.org/entity/Q4238545   \n",
       "11      1927  education  http://www.wikidata.org/entity/Q4094046   \n",
       "12      1979  education  http://www.wikidata.org/entity/Q5370252   \n",
       "\n",
       "                                             labelOrg nTypes  \\\n",
       "10  Krasnodar Higher Military Aviation School of P...      1   \n",
       "11                Borisoglebsk Higher Aviators School      1   \n",
       "12  Embry–Riddle Aeronautical University, Daytona ...      1   \n",
       "\n",
       "                                          typesOrg  \n",
       "10                                 military school  \n",
       "11                                 military school  \n",
       "12  private not-for-profit educational institution  "
      ]
     },
     "execution_count": 8,
     "metadata": {},
     "output_type": "execute_result"
    }
   ],
   "source": [
    "### Créer un DataFrame à partir du résultat\n",
    "df_p = pd.DataFrame(out)\n",
    "df_p.columns = ['uriPer', 'labelPer', 'birthYear', 'relaType', 'uriOrg', 'labelOrg', 'nTypes',\n",
    "                'typesOrg']\n",
    "print('Number: ',len(df_p))\n",
    "df_p.iloc[10:13,:]\n"
   ]
  },
  {
   "cell_type": "markdown",
   "metadata": {},
   "source": [
    "### Distribution of relationships in relation to birthYears of organisations members"
   ]
  },
  {
   "cell_type": "code",
   "execution_count": 10,
   "metadata": {
    "execution": {
     "iopub.execute_input": "2025-05-25T08:43:08.843032Z",
     "iopub.status.busy": "2025-05-25T08:43:08.840655Z",
     "iopub.status.idle": "2025-05-25T08:43:08.854825Z",
     "shell.execute_reply": "2025-05-25T08:43:08.852245Z",
     "shell.execute_reply.started": "2025-05-25T08:43:08.842918Z"
    }
   },
   "outputs": [
    {
     "name": "stdout",
     "output_type": "stream",
     "text": [
      "[1900, 1930, 1960, 1990, 2020, 2050]\n"
     ]
    }
   ],
   "source": [
    "l_50 = list(range(1900, 2051, 30))\n",
    "print(l_50)"
   ]
  },
  {
   "cell_type": "code",
   "execution_count": 12,
   "metadata": {
    "execution": {
     "iopub.execute_input": "2025-05-25T08:45:15.417265Z",
     "iopub.status.busy": "2025-05-25T08:45:15.416285Z",
     "iopub.status.idle": "2025-05-25T08:45:15.432552Z",
     "shell.execute_reply": "2025-05-25T08:45:15.429470Z",
     "shell.execute_reply.started": "2025-05-25T08:45:15.417181Z"
    }
   },
   "outputs": [],
   "source": [
    "### We adapt the periods manually,\n",
    "# we would like to have eight periods\n",
    "# making sense from an historical point of view \n",
    "lc = [1900, 1915, 1930, 1945, 1960, 1975, 1990, 2005, 2020]"
   ]
  },
  {
   "cell_type": "code",
   "execution_count": 13,
   "metadata": {
    "execution": {
     "iopub.execute_input": "2025-05-25T08:45:47.045931Z",
     "iopub.status.busy": "2025-05-25T08:45:47.044771Z",
     "iopub.status.idle": "2025-05-25T08:45:47.057166Z",
     "shell.execute_reply": "2025-05-25T08:45:47.054525Z",
     "shell.execute_reply.started": "2025-05-25T08:45:47.045797Z"
    }
   },
   "outputs": [],
   "source": [
    "### 30 years periods, but some customisations\n",
    "lc = [1900, 1915, 1930, 1945, 1960, 1975, 1990, 2005, 2020]"
   ]
  },
  {
   "cell_type": "code",
   "execution_count": 14,
   "metadata": {
    "execution": {
     "iopub.execute_input": "2025-05-25T08:45:47.791248Z",
     "iopub.status.busy": "2025-05-25T08:45:47.790289Z",
     "iopub.status.idle": "2025-05-25T08:45:47.809676Z",
     "shell.execute_reply": "2025-05-25T08:45:47.806985Z",
     "shell.execute_reply.started": "2025-05-25T08:45:47.791168Z"
    }
   },
   "outputs": [],
   "source": [
    "### convert birthYear to integer\n",
    "df_p.birthYear = df_p.birthYear.apply(lambda x : int(x))"
   ]
  },
  {
   "cell_type": "code",
   "execution_count": 15,
   "metadata": {
    "execution": {
     "iopub.execute_input": "2025-05-25T08:45:55.434254Z",
     "iopub.status.busy": "2025-05-25T08:45:55.433241Z",
     "iopub.status.idle": "2025-05-25T08:45:55.477507Z",
     "shell.execute_reply": "2025-05-25T08:45:55.473455Z",
     "shell.execute_reply.started": "2025-05-25T08:45:55.434169Z"
    }
   },
   "outputs": [
    {
     "data": {
      "text/html": [
       "<div>\n",
       "<style scoped>\n",
       "    .dataframe tbody tr th:only-of-type {\n",
       "        vertical-align: middle;\n",
       "    }\n",
       "\n",
       "    .dataframe tbody tr th {\n",
       "        vertical-align: top;\n",
       "    }\n",
       "\n",
       "    .dataframe thead th {\n",
       "        text-align: right;\n",
       "    }\n",
       "</style>\n",
       "<table border=\"1\" class=\"dataframe\">\n",
       "  <thead>\n",
       "    <tr style=\"text-align: right;\">\n",
       "      <th></th>\n",
       "      <th>uriPer</th>\n",
       "      <th>labelPer</th>\n",
       "      <th>birthYear</th>\n",
       "      <th>relaType</th>\n",
       "      <th>uriOrg</th>\n",
       "      <th>labelOrg</th>\n",
       "      <th>nTypes</th>\n",
       "      <th>typesOrg</th>\n",
       "      <th>periods</th>\n",
       "    </tr>\n",
       "  </thead>\n",
       "  <tbody>\n",
       "    <tr>\n",
       "      <th>1</th>\n",
       "      <td>http://www.wikidata.org/entity/Q1018622</td>\n",
       "      <td>Byron K. Lichtenberg</td>\n",
       "      <td>1948</td>\n",
       "      <td>education</td>\n",
       "      <td>http://www.wikidata.org/entity/Q49108</td>\n",
       "      <td>Massachusetts Institute of Technology</td>\n",
       "      <td>6</td>\n",
       "      <td>university | space grant institution | institu...</td>\n",
       "      <td>1945-1959</td>\n",
       "    </tr>\n",
       "    <tr>\n",
       "      <th>5</th>\n",
       "      <td>http://www.wikidata.org/entity/Q104859</td>\n",
       "      <td>Michael Collins</td>\n",
       "      <td>1930</td>\n",
       "      <td>education</td>\n",
       "      <td>http://www.wikidata.org/entity/Q49126</td>\n",
       "      <td>Harvard Business School</td>\n",
       "      <td>2</td>\n",
       "      <td>business school | organization</td>\n",
       "      <td>1930-1944</td>\n",
       "    </tr>\n",
       "    <tr>\n",
       "      <th>10</th>\n",
       "      <td>http://www.wikidata.org/entity/Q104865</td>\n",
       "      <td>Vladimir Komarov</td>\n",
       "      <td>1927</td>\n",
       "      <td>education</td>\n",
       "      <td>http://www.wikidata.org/entity/Q4238545</td>\n",
       "      <td>Krasnodar Higher Military Aviation School of P...</td>\n",
       "      <td>1</td>\n",
       "      <td>military school</td>\n",
       "      <td>1915-1929</td>\n",
       "    </tr>\n",
       "  </tbody>\n",
       "</table>\n",
       "</div>"
      ],
      "text/plain": [
       "                                     uriPer              labelPer  birthYear  \\\n",
       "1   http://www.wikidata.org/entity/Q1018622  Byron K. Lichtenberg       1948   \n",
       "5    http://www.wikidata.org/entity/Q104859       Michael Collins       1930   \n",
       "10   http://www.wikidata.org/entity/Q104865      Vladimir Komarov       1927   \n",
       "\n",
       "     relaType                                   uriOrg  \\\n",
       "1   education    http://www.wikidata.org/entity/Q49108   \n",
       "5   education    http://www.wikidata.org/entity/Q49126   \n",
       "10  education  http://www.wikidata.org/entity/Q4238545   \n",
       "\n",
       "                                             labelOrg nTypes  \\\n",
       "1               Massachusetts Institute of Technology      6   \n",
       "5                             Harvard Business School      2   \n",
       "10  Krasnodar Higher Military Aviation School of P...      1   \n",
       "\n",
       "                                             typesOrg    periods  \n",
       "1   university | space grant institution | institu...  1945-1959  \n",
       "5                      business school | organization  1930-1944  \n",
       "10                                    military school  1915-1929  "
      ]
     },
     "execution_count": 15,
     "metadata": {},
     "output_type": "execute_result"
    }
   ],
   "source": [
    "### fonction pd.cut : https://pandas.pydata.org/pandas-docs/stable/reference/api/pandas.cut.html\n",
    "# On ajoute une nouvelle colonne qui contient la période sur la base de la liste précédente\n",
    "# et de la valeur de l'année\n",
    "df_p['periods'] = pd.cut(df_p['birthYear'], lc, right=False)\n",
    "\n",
    "### Transformer le code ajouté pour qu'il soit plus lisible\n",
    "# noter qu'on a arrondi les valeurs\n",
    "df_p['periods'] = df_p['periods'].apply(lambda x : str(int(x.left))+'-'+ str(int(x.right)-1))\n",
    "\n",
    "# Inspection\n",
    "df_p.iloc[[1,5,10]]"
   ]
  },
  {
   "cell_type": "markdown",
   "metadata": {},
   "source": [
    "#### Reload from CSV\n",
    "\n",
    "This is only possible if you already stored the data into a CSV, cf. below"
   ]
  },
  {
   "cell_type": "code",
   "execution_count": 16,
   "metadata": {
    "execution": {
     "iopub.execute_input": "2025-05-25T08:46:19.352969Z",
     "iopub.status.busy": "2025-05-25T08:46:19.351913Z",
     "iopub.status.idle": "2025-05-25T08:46:19.425785Z",
     "shell.execute_reply": "2025-05-25T08:46:19.423423Z",
     "shell.execute_reply.started": "2025-05-25T08:46:19.352842Z"
    }
   },
   "outputs": [
    {
     "name": "stdout",
     "output_type": "stream",
     "text": [
      "2000\n"
     ]
    },
    {
     "data": {
      "text/html": [
       "<div>\n",
       "<style scoped>\n",
       "    .dataframe tbody tr th:only-of-type {\n",
       "        vertical-align: middle;\n",
       "    }\n",
       "\n",
       "    .dataframe tbody tr th {\n",
       "        vertical-align: top;\n",
       "    }\n",
       "\n",
       "    .dataframe thead th {\n",
       "        text-align: right;\n",
       "    }\n",
       "</style>\n",
       "<table border=\"1\" class=\"dataframe\">\n",
       "  <thead>\n",
       "    <tr style=\"text-align: right;\">\n",
       "      <th></th>\n",
       "      <th>uriPer</th>\n",
       "      <th>labelPer</th>\n",
       "      <th>birthYear</th>\n",
       "      <th>relaType</th>\n",
       "      <th>uriOrg</th>\n",
       "      <th>labelOrg</th>\n",
       "      <th>nTypes</th>\n",
       "      <th>typesOrg</th>\n",
       "      <th>periods</th>\n",
       "      <th>listTypesOrg</th>\n",
       "      <th>orgMainType</th>\n",
       "    </tr>\n",
       "  </thead>\n",
       "  <tbody>\n",
       "    <tr>\n",
       "      <th>0</th>\n",
       "      <td>http://www.wikidata.org/entity/Q1018622</td>\n",
       "      <td>Byron K. Lichtenberg</td>\n",
       "      <td>1948</td>\n",
       "      <td>education</td>\n",
       "      <td>http://www.wikidata.org/entity/Q49114</td>\n",
       "      <td>Brown University</td>\n",
       "      <td>5</td>\n",
       "      <td>academic publisher | colonial colleges | priva...</td>\n",
       "      <td>1941-1960</td>\n",
       "      <td>['academic publisher', 'colonial colleges', 'p...</td>\n",
       "      <td>private university</td>\n",
       "    </tr>\n",
       "    <tr>\n",
       "      <th>1</th>\n",
       "      <td>http://www.wikidata.org/entity/Q1018622</td>\n",
       "      <td>Byron K. Lichtenberg</td>\n",
       "      <td>1948</td>\n",
       "      <td>education</td>\n",
       "      <td>http://www.wikidata.org/entity/Q49108</td>\n",
       "      <td>Massachusetts Institute of Technology</td>\n",
       "      <td>6</td>\n",
       "      <td>academic publisher | institute of technology |...</td>\n",
       "      <td>1941-1960</td>\n",
       "      <td>['academic publisher', 'institute of technolog...</td>\n",
       "      <td>institute of technology</td>\n",
       "    </tr>\n",
       "  </tbody>\n",
       "</table>\n",
       "</div>"
      ],
      "text/plain": [
       "                                    uriPer              labelPer  birthYear  \\\n",
       "0  http://www.wikidata.org/entity/Q1018622  Byron K. Lichtenberg       1948   \n",
       "1  http://www.wikidata.org/entity/Q1018622  Byron K. Lichtenberg       1948   \n",
       "\n",
       "    relaType                                 uriOrg  \\\n",
       "0  education  http://www.wikidata.org/entity/Q49114   \n",
       "1  education  http://www.wikidata.org/entity/Q49108   \n",
       "\n",
       "                                labelOrg  nTypes  \\\n",
       "0                       Brown University       5   \n",
       "1  Massachusetts Institute of Technology       6   \n",
       "\n",
       "                                            typesOrg    periods  \\\n",
       "0  academic publisher | colonial colleges | priva...  1941-1960   \n",
       "1  academic publisher | institute of technology |...  1941-1960   \n",
       "\n",
       "                                        listTypesOrg              orgMainType  \n",
       "0  ['academic publisher', 'colonial colleges', 'p...       private university  \n",
       "1  ['academic publisher', 'institute of technolog...  institute of technology  "
      ]
     },
     "execution_count": 16,
     "metadata": {},
     "output_type": "execute_result"
    }
   ],
   "source": [
    "### load from CSV\n",
    "\n",
    "file_add = 'data/persons_organisations_from_organisations.csv'\n",
    "df_p=pd.read_csv(file_add)\n",
    "print(len(df_p))\n",
    "df_p.head(2)"
   ]
  },
  {
   "cell_type": "code",
   "execution_count": 17,
   "metadata": {
    "execution": {
     "iopub.execute_input": "2025-05-25T08:46:28.883476Z",
     "iopub.status.busy": "2025-05-25T08:46:28.881817Z",
     "iopub.status.idle": "2025-05-25T08:46:28.905285Z",
     "shell.execute_reply": "2025-05-25T08:46:28.902412Z",
     "shell.execute_reply.started": "2025-05-25T08:46:28.883372Z"
    }
   },
   "outputs": [
    {
     "name": "stdout",
     "output_type": "stream",
     "text": [
      "periods\n",
      "1901-1920      4\n",
      "1921-1940    434\n",
      "1941-1960    944\n",
      "1961-1980    487\n",
      "1981-2000    131\n",
      "dtype: int64\n"
     ]
    }
   ],
   "source": [
    "### Group by periods\n",
    "df_period = df_p.groupby(by='periods', observed=True).size()\n",
    "print(df_period)"
   ]
  },
  {
   "cell_type": "code",
   "execution_count": 18,
   "metadata": {
    "execution": {
     "iopub.execute_input": "2025-05-25T08:46:45.117725Z",
     "iopub.status.busy": "2025-05-25T08:46:45.117252Z",
     "iopub.status.idle": "2025-05-25T08:46:45.400807Z",
     "shell.execute_reply": "2025-05-25T08:46:45.399346Z",
     "shell.execute_reply.started": "2025-05-25T08:46:45.117683Z"
    }
   },
   "outputs": [
    {
     "data": {
      "image/png": "[encoded data removed]",
      "text/plain": [
       "<Figure size 800x600 with 1 Axes>"
      ]
     },
     "metadata": {},
     "output_type": "display_data"
    }
   ],
   "source": [
    "ax = df_period.plot(kind='bar',rot=50, fontsize=10, figsize=(8,6))\n",
    "ax.bar_label(ax.containers[-1], size=10)\n",
    "plt.ylabel('Number')\n",
    "plt.xlabel('Periods')\n",
    "plt.title('Distribution of relationships in relation to generations')\n",
    "plt.show()"
   ]
  },
  {
   "cell_type": "markdown",
   "metadata": {},
   "source": [
    "### Inspect available relationships"
   ]
  },
  {
   "cell_type": "code",
   "execution_count": 19,
   "metadata": {
    "execution": {
     "iopub.execute_input": "2025-05-25T08:46:56.928480Z",
     "iopub.status.busy": "2025-05-25T08:46:56.927251Z",
     "iopub.status.idle": "2025-05-25T08:46:56.947492Z",
     "shell.execute_reply": "2025-05-25T08:46:56.945275Z",
     "shell.execute_reply.started": "2025-05-25T08:46:56.928395Z"
    }
   },
   "outputs": [
    {
     "name": "stdout",
     "output_type": "stream",
     "text": [
      "relaType\n",
      "education     1894\n",
      "employment     106\n",
      "dtype: int64\n"
     ]
    }
   ],
   "source": [
    "### Available relationships\n",
    "print(df_p.groupby(by='relaType').size())"
   ]
  },
  {
   "cell_type": "code",
   "execution_count": 20,
   "metadata": {
    "execution": {
     "iopub.execute_input": "2025-05-25T08:47:00.466103Z",
     "iopub.status.busy": "2025-05-25T08:47:00.463930Z",
     "iopub.status.idle": "2025-05-25T08:47:00.492515Z",
     "shell.execute_reply": "2025-05-25T08:47:00.491260Z",
     "shell.execute_reply.started": "2025-05-25T08:47:00.466013Z"
    }
   },
   "outputs": [
    {
     "name": "stdout",
     "output_type": "stream",
     "text": [
      "     periods    relaType  size\n",
      "0  1901-1920   education     4\n",
      "1  1921-1940   education   419\n",
      "2  1921-1940  employment    15\n",
      "3  1941-1960   education   875\n",
      "4  1941-1960  employment    69\n",
      "5  1961-1980   education   474\n",
      "6  1961-1980  employment    13\n",
      "7  1981-2000   education   122\n",
      "8  1981-2000  employment     9\n"
     ]
    }
   ],
   "source": [
    "dfg_pr=df_p.groupby(by=['periods','relaType'], observed=True, as_index=False).size()\n",
    "print(dfg_pr)"
   ]
  },
  {
   "cell_type": "code",
   "execution_count": 21,
   "metadata": {
    "execution": {
     "iopub.execute_input": "2025-05-25T08:47:08.792804Z",
     "iopub.status.busy": "2025-05-25T08:47:08.791638Z",
     "iopub.status.idle": "2025-05-25T08:47:09.096193Z",
     "shell.execute_reply": "2025-05-25T08:47:09.094898Z",
     "shell.execute_reply.started": "2025-05-25T08:47:08.792721Z"
    }
   },
   "outputs": [
    {
     "data": {
      "image/png": "[encoded data removed]",
      "text/plain": [
       "<Figure size 800x600 with 1 Axes>"
      ]
     },
     "metadata": {},
     "output_type": "display_data"
    }
   ],
   "source": [
    "%matplotlib inline\n",
    "plt.figure(figsize=(8, 6)) \n",
    "ax = sns.barplot(data=dfg_pr, x='periods', y='size', hue='relaType', palette='Blues')\n",
    "ax.tick_params(axis='x', labelrotation=45)\n"
   ]
  },
  {
   "cell_type": "markdown",
   "metadata": {},
   "source": [
    "### Clean up organisations type"
   ]
  },
  {
   "cell_type": "code",
   "execution_count": 22,
   "metadata": {
    "execution": {
     "iopub.execute_input": "2025-05-25T08:47:20.102159Z",
     "iopub.status.busy": "2025-05-25T08:47:20.101215Z",
     "iopub.status.idle": "2025-05-25T08:47:20.229894Z",
     "shell.execute_reply": "2025-05-25T08:47:20.228363Z",
     "shell.execute_reply.started": "2025-05-25T08:47:20.102078Z"
    }
   },
   "outputs": [
    {
     "name": "stdout",
     "output_type": "stream",
     "text": [
      "2000\n",
      "[['academic publisher',\n",
      "  'colonial colleges',\n",
      "  'private not-for-profit educational institution',\n",
      "  'private university',\n",
      "  'research university'],\n",
      " ['academic publisher',\n",
      "  'institute of technology',\n",
      "  'institute of technology',\n",
      "  'private not-for-profit educational institution',\n",
      "  'space grant institution',\n",
      "  'university'],\n",
      " ['national research university',\n",
      "  'open-access publisher',\n",
      "  'publishing company']]\n"
     ]
    }
   ],
   "source": [
    "### Transform types' strings to alphabetically sorted lists and delete additional white spaces\n",
    "df_p['listTypesOrg'] = df_p.typesOrg.apply(lambda x : sorted([e.strip().lower() for e in x.split('|')]))\n",
    "\n",
    "ll = df_p.listTypesOrg.to_list()\n",
    "print(len(ll))\n",
    "pprint.pprint(ll[:3])\n"
   ]
  },
  {
   "cell_type": "code",
   "execution_count": 23,
   "metadata": {
    "execution": {
     "iopub.execute_input": "2025-05-25T08:47:23.182214Z",
     "iopub.status.busy": "2025-05-25T08:47:23.181059Z",
     "iopub.status.idle": "2025-05-25T08:47:23.222277Z",
     "shell.execute_reply": "2025-05-25T08:47:23.219760Z",
     "shell.execute_reply.started": "2025-05-25T08:47:23.182123Z"
    }
   },
   "outputs": [
    {
     "data": {
      "text/html": [
       "<div>\n",
       "<style scoped>\n",
       "    .dataframe tbody tr th:only-of-type {\n",
       "        vertical-align: middle;\n",
       "    }\n",
       "\n",
       "    .dataframe tbody tr th {\n",
       "        vertical-align: top;\n",
       "    }\n",
       "\n",
       "    .dataframe thead th {\n",
       "        text-align: right;\n",
       "    }\n",
       "</style>\n",
       "<table border=\"1\" class=\"dataframe\">\n",
       "  <thead>\n",
       "    <tr style=\"text-align: right;\">\n",
       "      <th></th>\n",
       "      <th>uriPer</th>\n",
       "      <th>labelPer</th>\n",
       "      <th>birthYear</th>\n",
       "      <th>relaType</th>\n",
       "      <th>uriOrg</th>\n",
       "      <th>labelOrg</th>\n",
       "      <th>nTypes</th>\n",
       "      <th>typesOrg</th>\n",
       "      <th>periods</th>\n",
       "      <th>listTypesOrg</th>\n",
       "      <th>orgMainType</th>\n",
       "    </tr>\n",
       "  </thead>\n",
       "  <tbody>\n",
       "    <tr>\n",
       "      <th>1</th>\n",
       "      <td>http://www.wikidata.org/entity/Q1018622</td>\n",
       "      <td>Byron K. Lichtenberg</td>\n",
       "      <td>1948</td>\n",
       "      <td>education</td>\n",
       "      <td>http://www.wikidata.org/entity/Q49108</td>\n",
       "      <td>Massachusetts Institute of Technology</td>\n",
       "      <td>6</td>\n",
       "      <td>academic publisher | institute of technology |...</td>\n",
       "      <td>1941-1960</td>\n",
       "      <td>[academic publisher, institute of technology, ...</td>\n",
       "      <td>institute of technology</td>\n",
       "    </tr>\n",
       "    <tr>\n",
       "      <th>5</th>\n",
       "      <td>http://www.wikidata.org/entity/Q104859</td>\n",
       "      <td>Michael Collins</td>\n",
       "      <td>1930</td>\n",
       "      <td>education</td>\n",
       "      <td>http://www.wikidata.org/entity/Q49126</td>\n",
       "      <td>Harvard Business School</td>\n",
       "      <td>2</td>\n",
       "      <td>business school | organization</td>\n",
       "      <td>1921-1940</td>\n",
       "      <td>[business school, organization]</td>\n",
       "      <td>educational institution</td>\n",
       "    </tr>\n",
       "    <tr>\n",
       "      <th>10</th>\n",
       "      <td>http://www.wikidata.org/entity/Q104865</td>\n",
       "      <td>Vladimir Komarov</td>\n",
       "      <td>1927</td>\n",
       "      <td>education</td>\n",
       "      <td>http://www.wikidata.org/entity/Q4238545</td>\n",
       "      <td>Krasnodar Higher Military Aviation School of P...</td>\n",
       "      <td>1</td>\n",
       "      <td>military school</td>\n",
       "      <td>1921-1940</td>\n",
       "      <td>[military school]</td>\n",
       "      <td>educational institution</td>\n",
       "    </tr>\n",
       "  </tbody>\n",
       "</table>\n",
       "</div>"
      ],
      "text/plain": [
       "                                     uriPer              labelPer  birthYear  \\\n",
       "1   http://www.wikidata.org/entity/Q1018622  Byron K. Lichtenberg       1948   \n",
       "5    http://www.wikidata.org/entity/Q104859       Michael Collins       1930   \n",
       "10   http://www.wikidata.org/entity/Q104865      Vladimir Komarov       1927   \n",
       "\n",
       "     relaType                                   uriOrg  \\\n",
       "1   education    http://www.wikidata.org/entity/Q49108   \n",
       "5   education    http://www.wikidata.org/entity/Q49126   \n",
       "10  education  http://www.wikidata.org/entity/Q4238545   \n",
       "\n",
       "                                             labelOrg  nTypes  \\\n",
       "1               Massachusetts Institute of Technology       6   \n",
       "5                             Harvard Business School       2   \n",
       "10  Krasnodar Higher Military Aviation School of P...       1   \n",
       "\n",
       "                                             typesOrg    periods  \\\n",
       "1   academic publisher | institute of technology |...  1941-1960   \n",
       "5                      business school | organization  1921-1940   \n",
       "10                                    military school  1921-1940   \n",
       "\n",
       "                                         listTypesOrg              orgMainType  \n",
       "1   [academic publisher, institute of technology, ...  institute of technology  \n",
       "5                     [business school, organization]  educational institution  \n",
       "10                                  [military school]  educational institution  "
      ]
     },
     "execution_count": 23,
     "metadata": {},
     "output_type": "execute_result"
    }
   ],
   "source": [
    "## Rebuild the sorted original texts after sorting\n",
    "df_p['typesOrg'] = df_p.listTypesOrg.apply(lambda x : ' | '.join(x))\n",
    "df_p.iloc[[1,5,10]]\n"
   ]
  },
  {
   "cell_type": "markdown",
   "metadata": {},
   "source": [
    "#### Organisations' types distribution"
   ]
  },
  {
   "cell_type": "code",
   "execution_count": 24,
   "metadata": {
    "execution": {
     "iopub.execute_input": "2025-05-25T08:47:30.129280Z",
     "iopub.status.busy": "2025-05-25T08:47:30.128135Z",
     "iopub.status.idle": "2025-05-25T08:47:30.151824Z",
     "shell.execute_reply": "2025-05-25T08:47:30.149366Z",
     "shell.execute_reply.started": "2025-05-25T08:47:30.129190Z"
    }
   },
   "outputs": [
    {
     "name": "stdout",
     "output_type": "stream",
     "text": [
      "typesOrg\n",
      "high school                                                                                                                         214\n",
      "military school                                                                                                                     101\n",
      "flight school                                                                                                                        97\n",
      "census-designated place in the united states | naval academy | observatory | public educational institution of the united states     62\n",
      "land-grant university | public educational institution of the united states | public research university                             57\n",
      "high school | public school                                                                                                          56\n",
      "university                                                                                                                           55\n",
      "open-access publisher | private not-for-profit educational institution | private university | research university                    54\n",
      "public educational institution of the united states | public research university                                                     51\n",
      "public educational institution of the united states | university                                                                     51\n",
      "dtype: int64\n"
     ]
    }
   ],
   "source": [
    "print(df_p.groupby('typesOrg').size().sort_values(ascending=False).iloc[:10])"
   ]
  },
  {
   "cell_type": "markdown",
   "metadata": {},
   "source": [
    "#### Save dataframe to CSV"
   ]
  },
  {
   "cell_type": "code",
   "execution_count": 25,
   "metadata": {
    "execution": {
     "iopub.execute_input": "2025-05-25T08:47:40.285294Z",
     "iopub.status.busy": "2025-05-25T08:47:40.283568Z",
     "iopub.status.idle": "2025-05-25T08:47:40.572724Z",
     "shell.execute_reply": "2025-05-25T08:47:40.569917Z",
     "shell.execute_reply.started": "2025-05-25T08:47:40.285211Z"
    }
   },
   "outputs": [],
   "source": [
    "file_add = 'data/persons_organisations_from_organisations.csv'\n",
    "df_p.to_csv(file_add, index=False, sep=',', quotechar='\"')"
   ]
  },
  {
   "cell_type": "markdown",
   "metadata": {},
   "source": [
    "## Types of organisations\n",
    "\n",
    "Property **wdt:P31 instance of**\n",
    "\n",
    "\n",
    "We are trying to figure out if we can use these types to distinguish and categorise organisations. We will introduce high-level, research-driven classes that primarily serve a heuristic function and express no objective point of view."
   ]
  },
  {
   "cell_type": "code",
   "execution_count": 26,
   "metadata": {
    "execution": {
     "iopub.execute_input": "2025-05-25T08:47:47.995456Z",
     "iopub.status.busy": "2025-05-25T08:47:47.994481Z",
     "iopub.status.idle": "2025-05-25T08:47:48.027649Z",
     "shell.execute_reply": "2025-05-25T08:47:48.025837Z",
     "shell.execute_reply.started": "2025-05-25T08:47:47.995376Z"
    }
   },
   "outputs": [
    {
     "data": {
      "text/html": [
       "<div>\n",
       "<style scoped>\n",
       "    .dataframe tbody tr th:only-of-type {\n",
       "        vertical-align: middle;\n",
       "    }\n",
       "\n",
       "    .dataframe tbody tr th {\n",
       "        vertical-align: top;\n",
       "    }\n",
       "\n",
       "    .dataframe thead th {\n",
       "        text-align: right;\n",
       "    }\n",
       "</style>\n",
       "<table border=\"1\" class=\"dataframe\">\n",
       "  <thead>\n",
       "    <tr style=\"text-align: right;\">\n",
       "      <th></th>\n",
       "      <th>typesOrg</th>\n",
       "      <th>number</th>\n",
       "      <th>numberOrg</th>\n",
       "    </tr>\n",
       "  </thead>\n",
       "  <tbody>\n",
       "    <tr>\n",
       "      <th>0</th>\n",
       "      <td>high school</td>\n",
       "      <td>214</td>\n",
       "      <td>1</td>\n",
       "    </tr>\n",
       "    <tr>\n",
       "      <th>1</th>\n",
       "      <td>military school</td>\n",
       "      <td>101</td>\n",
       "      <td>1</td>\n",
       "    </tr>\n",
       "    <tr>\n",
       "      <th>2</th>\n",
       "      <td>flight school</td>\n",
       "      <td>97</td>\n",
       "      <td>1</td>\n",
       "    </tr>\n",
       "    <tr>\n",
       "      <th>3</th>\n",
       "      <td>census-designated place in the united states |...</td>\n",
       "      <td>62</td>\n",
       "      <td>4</td>\n",
       "    </tr>\n",
       "    <tr>\n",
       "      <th>4</th>\n",
       "      <td>land-grant university | public educational ins...</td>\n",
       "      <td>57</td>\n",
       "      <td>3</td>\n",
       "    </tr>\n",
       "    <tr>\n",
       "      <th>5</th>\n",
       "      <td>high school | public school</td>\n",
       "      <td>56</td>\n",
       "      <td>2</td>\n",
       "    </tr>\n",
       "    <tr>\n",
       "      <th>6</th>\n",
       "      <td>university</td>\n",
       "      <td>55</td>\n",
       "      <td>1</td>\n",
       "    </tr>\n",
       "    <tr>\n",
       "      <th>7</th>\n",
       "      <td>open-access publisher | private not-for-profit...</td>\n",
       "      <td>54</td>\n",
       "      <td>4</td>\n",
       "    </tr>\n",
       "    <tr>\n",
       "      <th>8</th>\n",
       "      <td>public educational institution of the united s...</td>\n",
       "      <td>51</td>\n",
       "      <td>2</td>\n",
       "    </tr>\n",
       "    <tr>\n",
       "      <th>9</th>\n",
       "      <td>public educational institution of the united s...</td>\n",
       "      <td>51</td>\n",
       "      <td>2</td>\n",
       "    </tr>\n",
       "  </tbody>\n",
       "</table>\n",
       "</div>"
      ],
      "text/plain": [
       "                                            typesOrg  number  numberOrg\n",
       "0                                        high school     214          1\n",
       "1                                    military school     101          1\n",
       "2                                      flight school      97          1\n",
       "3  census-designated place in the united states |...      62          4\n",
       "4  land-grant university | public educational ins...      57          3\n",
       "5                        high school | public school      56          2\n",
       "6                                         university      55          1\n",
       "7  open-access publisher | private not-for-profit...      54          4\n",
       "8  public educational institution of the united s...      51          2\n",
       "9  public educational institution of the united s...      51          2"
      ]
     },
     "execution_count": 26,
     "metadata": {},
     "output_type": "execute_result"
    }
   ],
   "source": [
    "### Inspect the available composed types\n",
    "df_types = pd.DataFrame(df_p.groupby('typesOrg').size().sort_values(ascending=False))\n",
    "df_types.reset_index(inplace=True)\n",
    "df_types.columns=['typesOrg', 'number']\n",
    "df_types['numberOrg'] = df_types.typesOrg.apply( lambda x: len(x.split('|')))\n",
    "df_types.iloc[:10]"
   ]
  },
  {
   "cell_type": "code",
   "execution_count": 27,
   "metadata": {
    "execution": {
     "iopub.execute_input": "2025-05-25T08:47:56.032435Z",
     "iopub.status.busy": "2025-05-25T08:47:56.031102Z",
     "iopub.status.idle": "2025-05-25T08:47:56.103535Z",
     "shell.execute_reply": "2025-05-25T08:47:56.100930Z",
     "shell.execute_reply.started": "2025-05-25T08:47:56.032342Z"
    }
   },
   "outputs": [],
   "source": [
    "### Print to CSV in order to inspect the data\n",
    "csv_file='data/network_organisations_types_groups.csv'\n",
    "df_types.to_csv(csv_file)"
   ]
  },
  {
   "cell_type": "markdown",
   "metadata": {},
   "source": [
    "### Add organisation main type"
   ]
  },
  {
   "cell_type": "code",
   "execution_count": 28,
   "metadata": {
    "execution": {
     "iopub.execute_input": "2025-05-25T08:48:02.714537Z",
     "iopub.status.busy": "2025-05-25T08:48:02.713615Z",
     "iopub.status.idle": "2025-05-25T08:48:02.744957Z",
     "shell.execute_reply": "2025-05-25T08:48:02.742783Z",
     "shell.execute_reply.started": "2025-05-25T08:48:02.714457Z"
    }
   },
   "outputs": [
    {
     "data": {
      "text/html": [
       "<div>\n",
       "<style scoped>\n",
       "    .dataframe tbody tr th:only-of-type {\n",
       "        vertical-align: middle;\n",
       "    }\n",
       "\n",
       "    .dataframe tbody tr th {\n",
       "        vertical-align: top;\n",
       "    }\n",
       "\n",
       "    .dataframe thead th {\n",
       "        text-align: right;\n",
       "    }\n",
       "</style>\n",
       "<table border=\"1\" class=\"dataframe\">\n",
       "  <thead>\n",
       "    <tr style=\"text-align: right;\">\n",
       "      <th></th>\n",
       "      <th>uriPer</th>\n",
       "      <th>labelPer</th>\n",
       "      <th>birthYear</th>\n",
       "      <th>relaType</th>\n",
       "      <th>uriOrg</th>\n",
       "      <th>labelOrg</th>\n",
       "      <th>nTypes</th>\n",
       "      <th>typesOrg</th>\n",
       "      <th>periods</th>\n",
       "      <th>listTypesOrg</th>\n",
       "      <th>orgMainType</th>\n",
       "    </tr>\n",
       "  </thead>\n",
       "  <tbody>\n",
       "    <tr>\n",
       "      <th>0</th>\n",
       "      <td>http://www.wikidata.org/entity/Q1018622</td>\n",
       "      <td>Byron K. Lichtenberg</td>\n",
       "      <td>1948</td>\n",
       "      <td>education</td>\n",
       "      <td>http://www.wikidata.org/entity/Q49114</td>\n",
       "      <td>Brown University</td>\n",
       "      <td>5</td>\n",
       "      <td>academic publisher | colonial colleges | priva...</td>\n",
       "      <td>1941-1960</td>\n",
       "      <td>[academic publisher, colonial colleges, privat...</td>\n",
       "      <td>private university</td>\n",
       "    </tr>\n",
       "  </tbody>\n",
       "</table>\n",
       "</div>"
      ],
      "text/plain": [
       "                                    uriPer              labelPer  birthYear  \\\n",
       "0  http://www.wikidata.org/entity/Q1018622  Byron K. Lichtenberg       1948   \n",
       "\n",
       "    relaType                                 uriOrg          labelOrg  nTypes  \\\n",
       "0  education  http://www.wikidata.org/entity/Q49114  Brown University       5   \n",
       "\n",
       "                                            typesOrg    periods  \\\n",
       "0  academic publisher | colonial colleges | priva...  1941-1960   \n",
       "\n",
       "                                        listTypesOrg         orgMainType  \n",
       "0  [academic publisher, colonial colleges, privat...  private university  "
      ]
     },
     "execution_count": 28,
     "metadata": {},
     "output_type": "execute_result"
    }
   ],
   "source": [
    "### Inspect the data\n",
    "df_p.head(1)"
   ]
  },
  {
   "cell_type": "code",
   "execution_count": 29,
   "metadata": {
    "execution": {
     "iopub.execute_input": "2025-05-25T08:48:06.417395Z",
     "iopub.status.busy": "2025-05-25T08:48:06.416488Z",
     "iopub.status.idle": "2025-05-25T08:48:06.444393Z",
     "shell.execute_reply": "2025-05-25T08:48:06.441931Z",
     "shell.execute_reply.started": "2025-05-25T08:48:06.417315Z"
    }
   },
   "outputs": [],
   "source": [
    "def code_organisation_main_type(x):\n",
    "    val = ''\n",
    "    if 'institute of technol' in x:\n",
    "        val = 'institute of technology'\n",
    "    elif 'polyt' in x:\n",
    "        val = 'institute of technology'    \n",
    "    elif 'observato' in x:\n",
    "        val = 'astronomical observatory'  \n",
    "    elif 'public university' in x:\n",
    "        val = 'public university'\n",
    "    elif 'école normale sup' in x:\n",
    "        val = 'public university'    \n",
    "    elif 'grande école' in x:\n",
    "        val = 'public university'\n",
    "    elif 'grand établissement' in x:\n",
    "        val = 'public university'\n",
    "    elif 'private university' in x:\n",
    "        val = 'private university'\n",
    "    elif 'university' in x:\n",
    "        val = 'university'   \n",
    "    elif 'educational inst' in x:\n",
    "        val = 'educational institution'    \n",
    "    elif 'military academy' in x:\n",
    "        val = 'educational institution' \n",
    "    elif 'naval academy' in x:\n",
    "        val = 'educational institution'        \n",
    "    elif 'art academy' in x:\n",
    "        val = 'educational institution' \n",
    "    elif 'faculty' in x:\n",
    "        val = 'university'  # could also be 'faculty'\n",
    "    elif 'academic dep' in x:\n",
    "        val =  'university'  # could also be 'faculty'    \n",
    "    elif 'college' in x:\n",
    "        val = 'educational institution'   # could also be 'college'             \n",
    "    elif 'gymnas' in x:\n",
    "        val = 'educational institution'   # could also be 'college'\n",
    "    elif 'learned society' in x:\n",
    "        val = 'learned society'     \n",
    "    elif 'academy of sciences' in x:\n",
    "        val = 'academy of sciences'\n",
    "    elif 'research institute' in x:\n",
    "        val = 'research organisation'\n",
    "    elif 'max planck' in x:\n",
    "        val = 'research organisation'\n",
    "    elif 'institute' in x:\n",
    "        val = 'research organisation' \n",
    "    elif 'research' in x:\n",
    "        val = 'research organisation'\n",
    "    elif 'laboratory' in x:\n",
    "        val = 'research facility'  \n",
    "    elif 'facility' in x:\n",
    "        val = 'research facility'   \n",
    "    elif 'scientific society' in x:\n",
    "        val = 'scientific organisation'\n",
    "    elif 'scientific society' in x:\n",
    "        val = 'scientific organisation'\n",
    "    elif 'museum' in x:\n",
    "        val = 'scientific organisation'\n",
    "    elif 'nonprofit organization' in x:\n",
    "        val = 'scientific organisation'    \n",
    "    elif 'national academy' in x:\n",
    "        val = 'scientific organisation'\n",
    "    elif 'scientific organization' in x:\n",
    "        val = 'scientific organisation'\n",
    "    elif 'higher education' in x:\n",
    "        val = 'educational institution'\n",
    "    elif 'school' in x:\n",
    "        val = 'educational institution'   # could also be 'high school or similar'\n",
    "    elif 'academic institution' in x:\n",
    "        val = 'educational institution'   # could also be 'high school or similar'\n",
    "    elif 'academy' in x:\n",
    "        val = 'learned society'\n",
    "    elif 'society' in x:\n",
    "        val = 'learned society'      \n",
    "    elif 'company' in x \\\n",
    "                or 'business'  in x \\\n",
    "                or 'entrepr' in x:\n",
    "        val = 'company or gov. agency' # could also be 'company'\n",
    "    elif 'government' in x :\n",
    "        val = 'company or gov. agency' # could also be 'government agency'         \n",
    "    elif 'publish' in x :\n",
    "        val = 'company or gov. agency' # could also be 'publisher_edition'     \n",
    "    elif 'journal' in x :\n",
    "        val = 'company or gov. agency' # could also be 'publisher_edition'\n",
    "    elif 'periodical' in x :\n",
    "        val = 'company or gov. agency' # could also be 'publisher_edition'    \n",
    "    else:\n",
    "        val = 'not classified organisation'\n",
    "\n",
    "    return val        "
   ]
  },
  {
   "cell_type": "code",
   "execution_count": 30,
   "metadata": {
    "execution": {
     "iopub.execute_input": "2025-05-25T08:48:09.237566Z",
     "iopub.status.busy": "2025-05-25T08:48:09.236558Z",
     "iopub.status.idle": "2025-05-25T08:48:09.274105Z",
     "shell.execute_reply": "2025-05-25T08:48:09.272967Z",
     "shell.execute_reply.started": "2025-05-25T08:48:09.237480Z"
    }
   },
   "outputs": [
    {
     "data": {
      "text/html": [
       "<div>\n",
       "<style scoped>\n",
       "    .dataframe tbody tr th:only-of-type {\n",
       "        vertical-align: middle;\n",
       "    }\n",
       "\n",
       "    .dataframe tbody tr th {\n",
       "        vertical-align: top;\n",
       "    }\n",
       "\n",
       "    .dataframe thead th {\n",
       "        text-align: right;\n",
       "    }\n",
       "</style>\n",
       "<table border=\"1\" class=\"dataframe\">\n",
       "  <thead>\n",
       "    <tr style=\"text-align: right;\">\n",
       "      <th></th>\n",
       "      <th>uriPer</th>\n",
       "      <th>labelPer</th>\n",
       "      <th>birthYear</th>\n",
       "      <th>relaType</th>\n",
       "      <th>uriOrg</th>\n",
       "      <th>labelOrg</th>\n",
       "      <th>nTypes</th>\n",
       "      <th>typesOrg</th>\n",
       "      <th>periods</th>\n",
       "      <th>listTypesOrg</th>\n",
       "      <th>orgMainType</th>\n",
       "    </tr>\n",
       "  </thead>\n",
       "  <tbody>\n",
       "    <tr>\n",
       "      <th>7</th>\n",
       "      <td>http://www.wikidata.org/entity/Q104859</td>\n",
       "      <td>Michael Collins</td>\n",
       "      <td>1930</td>\n",
       "      <td>education</td>\n",
       "      <td>http://www.wikidata.org/entity/Q4671107</td>\n",
       "      <td>Academia del Perpetuo Socorro</td>\n",
       "      <td>1</td>\n",
       "      <td>school</td>\n",
       "      <td>1921-1940</td>\n",
       "      <td>[school]</td>\n",
       "      <td>educational institution</td>\n",
       "    </tr>\n",
       "    <tr>\n",
       "      <th>8</th>\n",
       "      <td>http://www.wikidata.org/entity/Q104859</td>\n",
       "      <td>Michael Collins</td>\n",
       "      <td>1930</td>\n",
       "      <td>education</td>\n",
       "      <td>http://www.wikidata.org/entity/Q3428253</td>\n",
       "      <td>U.S. Air Force Test Pilot School</td>\n",
       "      <td>1</td>\n",
       "      <td>flight school</td>\n",
       "      <td>1921-1940</td>\n",
       "      <td>[flight school]</td>\n",
       "      <td>educational institution</td>\n",
       "    </tr>\n",
       "    <tr>\n",
       "      <th>9</th>\n",
       "      <td>http://www.wikidata.org/entity/Q104865</td>\n",
       "      <td>Vladimir Komarov</td>\n",
       "      <td>1927</td>\n",
       "      <td>education</td>\n",
       "      <td>http://www.wikidata.org/entity/Q1934904</td>\n",
       "      <td>Zhukovsky Air Force Engineering Academy</td>\n",
       "      <td>3</td>\n",
       "      <td>educational institution | military academy | m...</td>\n",
       "      <td>1921-1940</td>\n",
       "      <td>[educational institution, military academy, mi...</td>\n",
       "      <td>educational institution</td>\n",
       "    </tr>\n",
       "  </tbody>\n",
       "</table>\n",
       "</div>"
      ],
      "text/plain": [
       "                                   uriPer          labelPer  birthYear  \\\n",
       "7  http://www.wikidata.org/entity/Q104859   Michael Collins       1930   \n",
       "8  http://www.wikidata.org/entity/Q104859   Michael Collins       1930   \n",
       "9  http://www.wikidata.org/entity/Q104865  Vladimir Komarov       1927   \n",
       "\n",
       "    relaType                                   uriOrg  \\\n",
       "7  education  http://www.wikidata.org/entity/Q4671107   \n",
       "8  education  http://www.wikidata.org/entity/Q3428253   \n",
       "9  education  http://www.wikidata.org/entity/Q1934904   \n",
       "\n",
       "                                  labelOrg  nTypes  \\\n",
       "7            Academia del Perpetuo Socorro       1   \n",
       "8         U.S. Air Force Test Pilot School       1   \n",
       "9  Zhukovsky Air Force Engineering Academy       3   \n",
       "\n",
       "                                            typesOrg    periods  \\\n",
       "7                                             school  1921-1940   \n",
       "8                                      flight school  1921-1940   \n",
       "9  educational institution | military academy | m...  1921-1940   \n",
       "\n",
       "                                        listTypesOrg              orgMainType  \n",
       "7                                           [school]  educational institution  \n",
       "8                                    [flight school]  educational institution  \n",
       "9  [educational institution, military academy, mi...  educational institution  "
      ]
     },
     "execution_count": 30,
     "metadata": {},
     "output_type": "execute_result"
    }
   ],
   "source": [
    "df_p['orgMainType'] = df_p['typesOrg'].apply(lambda x : code_organisation_main_type(x))\n",
    "df_p.iloc[7:10]"
   ]
  },
  {
   "cell_type": "code",
   "execution_count": 31,
   "metadata": {
    "execution": {
     "iopub.execute_input": "2025-05-25T08:48:14.649105Z",
     "iopub.status.busy": "2025-05-25T08:48:14.647199Z",
     "iopub.status.idle": "2025-05-25T08:48:14.678247Z",
     "shell.execute_reply": "2025-05-25T08:48:14.675935Z",
     "shell.execute_reply.started": "2025-05-25T08:48:14.649021Z"
    }
   },
   "outputs": [
    {
     "data": {
      "text/html": [
       "<div>\n",
       "<style scoped>\n",
       "    .dataframe tbody tr th:only-of-type {\n",
       "        vertical-align: middle;\n",
       "    }\n",
       "\n",
       "    .dataframe tbody tr th {\n",
       "        vertical-align: top;\n",
       "    }\n",
       "\n",
       "    .dataframe thead th {\n",
       "        text-align: right;\n",
       "    }\n",
       "</style>\n",
       "<table border=\"1\" class=\"dataframe\">\n",
       "  <thead>\n",
       "    <tr style=\"text-align: right;\">\n",
       "      <th></th>\n",
       "      <th>mainType</th>\n",
       "      <th>number</th>\n",
       "    </tr>\n",
       "  </thead>\n",
       "  <tbody>\n",
       "    <tr>\n",
       "      <th>1</th>\n",
       "      <td>educational institution</td>\n",
       "      <td>837</td>\n",
       "    </tr>\n",
       "    <tr>\n",
       "      <th>10</th>\n",
       "      <td>university</td>\n",
       "      <td>626</td>\n",
       "    </tr>\n",
       "    <tr>\n",
       "      <th>6</th>\n",
       "      <td>public university</td>\n",
       "      <td>151</td>\n",
       "    </tr>\n",
       "    <tr>\n",
       "      <th>5</th>\n",
       "      <td>private university</td>\n",
       "      <td>151</td>\n",
       "    </tr>\n",
       "    <tr>\n",
       "      <th>2</th>\n",
       "      <td>institute of technology</td>\n",
       "      <td>103</td>\n",
       "    </tr>\n",
       "    <tr>\n",
       "      <th>0</th>\n",
       "      <td>astronomical observatory</td>\n",
       "      <td>62</td>\n",
       "    </tr>\n",
       "    <tr>\n",
       "      <th>3</th>\n",
       "      <td>learned society</td>\n",
       "      <td>47</td>\n",
       "    </tr>\n",
       "    <tr>\n",
       "      <th>4</th>\n",
       "      <td>not classified organisation</td>\n",
       "      <td>13</td>\n",
       "    </tr>\n",
       "    <tr>\n",
       "      <th>8</th>\n",
       "      <td>research organisation</td>\n",
       "      <td>5</td>\n",
       "    </tr>\n",
       "    <tr>\n",
       "      <th>7</th>\n",
       "      <td>research facility</td>\n",
       "      <td>4</td>\n",
       "    </tr>\n",
       "    <tr>\n",
       "      <th>9</th>\n",
       "      <td>scientific organisation</td>\n",
       "      <td>1</td>\n",
       "    </tr>\n",
       "  </tbody>\n",
       "</table>\n",
       "</div>"
      ],
      "text/plain": [
       "                       mainType  number\n",
       "1       educational institution     837\n",
       "10                   university     626\n",
       "6             public university     151\n",
       "5            private university     151\n",
       "2       institute of technology     103\n",
       "0      astronomical observatory      62\n",
       "3               learned society      47\n",
       "4   not classified organisation      13\n",
       "8         research organisation       5\n",
       "7             research facility       4\n",
       "9       scientific organisation       1"
      ]
     },
     "execution_count": 31,
     "metadata": {},
     "output_type": "execute_result"
    }
   ],
   "source": [
    "df_mainTypes = pd.DataFrame(df_p.groupby(by='orgMainType', as_index=False).size().sort_values(by='size',ascending=False))\n",
    "df_mainTypes.columns=['mainType', 'number']\n",
    "df_mainTypes"
   ]
  },
  {
   "cell_type": "code",
   "execution_count": 32,
   "metadata": {
    "execution": {
     "iopub.execute_input": "2025-05-25T08:48:25.947989Z",
     "iopub.status.busy": "2025-05-25T08:48:25.945718Z",
     "iopub.status.idle": "2025-05-25T08:48:26.108367Z",
     "shell.execute_reply": "2025-05-25T08:48:26.106020Z",
     "shell.execute_reply.started": "2025-05-25T08:48:25.947807Z"
    }
   },
   "outputs": [
    {
     "data": {
      "text/html": [
       "<div>\n",
       "<style scoped>\n",
       "    .dataframe tbody tr th:only-of-type {\n",
       "        vertical-align: middle;\n",
       "    }\n",
       "\n",
       "    .dataframe tbody tr th {\n",
       "        vertical-align: top;\n",
       "    }\n",
       "\n",
       "    .dataframe thead th {\n",
       "        text-align: right;\n",
       "    }\n",
       "</style>\n",
       "<table border=\"1\" class=\"dataframe\">\n",
       "  <thead>\n",
       "    <tr style=\"text-align: right;\">\n",
       "      <th></th>\n",
       "      <th>typesOrg</th>\n",
       "      <th>orgMainType</th>\n",
       "      <th>number</th>\n",
       "      <th>numberOrg</th>\n",
       "    </tr>\n",
       "  </thead>\n",
       "  <tbody>\n",
       "    <tr>\n",
       "      <th>243</th>\n",
       "      <td>open-access publisher | private not-for-profit...</td>\n",
       "      <td>private university</td>\n",
       "      <td>54</td>\n",
       "      <td>4</td>\n",
       "    </tr>\n",
       "    <tr>\n",
       "      <th>283</th>\n",
       "      <td>public educational institution of the united s...</td>\n",
       "      <td>university</td>\n",
       "      <td>51</td>\n",
       "      <td>2</td>\n",
       "    </tr>\n",
       "    <tr>\n",
       "      <th>289</th>\n",
       "      <td>public educational institution of the united s...</td>\n",
       "      <td>university</td>\n",
       "      <td>51</td>\n",
       "      <td>2</td>\n",
       "    </tr>\n",
       "  </tbody>\n",
       "</table>\n",
       "</div>"
      ],
      "text/plain": [
       "                                              typesOrg         orgMainType  \\\n",
       "243  open-access publisher | private not-for-profit...  private university   \n",
       "283  public educational institution of the united s...          university   \n",
       "289  public educational institution of the united s...          university   \n",
       "\n",
       "     number  numberOrg  \n",
       "243      54          4  \n",
       "283      51          2  \n",
       "289      51          2  "
      ]
     },
     "execution_count": 32,
     "metadata": {},
     "output_type": "execute_result"
    }
   ],
   "source": [
    "### Inspect the available composed types\n",
    "df_types = pd.DataFrame(df_p.groupby(['typesOrg', 'orgMainType'], as_index=False).\\\n",
    "                        size().sort_values(by='size',ascending=False))\n",
    "df_types.columns=['typesOrg', 'orgMainType', 'number']\n",
    "df_types['numberOrg'] = df_types.typesOrg.apply( lambda x: len(x.split('|')))\n",
    "### Print to CSV in order to inspect the data\n",
    "csv_file='data/network_organisations_with_main_types_groups.csv'\n",
    "df_types.to_csv(csv_file)\n",
    "\n",
    "df_types.iloc[7:10]"
   ]
  },
  {
   "cell_type": "markdown",
   "metadata": {},
   "source": [
    "#### 'Manual' corrections and classification improvements\n",
    "\n",
    "In some cases, instpecting the organisations shows that the provided classification is not suitable and should be replaced:\n",
    "\n",
    "Academia Europaea, ...\n",
    "\n",
    "We provide this example merely to illustrate the point; further work would be required, but this is beyond the scope of this exercise."
   ]
  },
  {
   "cell_type": "code",
   "execution_count": 33,
   "metadata": {
    "execution": {
     "iopub.execute_input": "2025-05-25T08:48:36.760855Z",
     "iopub.status.busy": "2025-05-25T08:48:36.758684Z",
     "iopub.status.idle": "2025-05-25T08:48:36.794846Z",
     "shell.execute_reply": "2025-05-25T08:48:36.792831Z",
     "shell.execute_reply.started": "2025-05-25T08:48:36.760762Z"
    }
   },
   "outputs": [
    {
     "data": {
      "text/html": [
       "<div>\n",
       "<style scoped>\n",
       "    .dataframe tbody tr th:only-of-type {\n",
       "        vertical-align: middle;\n",
       "    }\n",
       "\n",
       "    .dataframe tbody tr th {\n",
       "        vertical-align: top;\n",
       "    }\n",
       "\n",
       "    .dataframe thead th {\n",
       "        text-align: right;\n",
       "    }\n",
       "</style>\n",
       "<table border=\"1\" class=\"dataframe\">\n",
       "  <thead>\n",
       "    <tr style=\"text-align: right;\">\n",
       "      <th></th>\n",
       "      <th>uriPer</th>\n",
       "      <th>labelPer</th>\n",
       "      <th>birthYear</th>\n",
       "      <th>relaType</th>\n",
       "      <th>uriOrg</th>\n",
       "      <th>labelOrg</th>\n",
       "      <th>nTypes</th>\n",
       "      <th>typesOrg</th>\n",
       "      <th>periods</th>\n",
       "      <th>listTypesOrg</th>\n",
       "      <th>orgMainType</th>\n",
       "    </tr>\n",
       "  </thead>\n",
       "  <tbody>\n",
       "  </tbody>\n",
       "</table>\n",
       "</div>"
      ],
      "text/plain": [
       "Empty DataFrame\n",
       "Columns: [uriPer, labelPer, birthYear, relaType, uriOrg, labelOrg, nTypes, typesOrg, periods, listTypesOrg, orgMainType]\n",
       "Index: []"
      ]
     },
     "execution_count": 33,
     "metadata": {},
     "output_type": "execute_result"
    }
   ],
   "source": [
    "### Please note the warning and the orders fo the filter, after (!) the column \n",
    "\"\"\"\n",
    "Do not use:\n",
    "df[\"col\"][row_indexer] = value\n",
    "\n",
    "Use `df.loc[row_indexer, \"col\"] = values` instead, to perform the assignment in a single step and ensure this keeps updating the original `df`.\n",
    "See the caveats in the documentation: https://pandas.pydata.org/pandas-docs/stable/user_guide/indexing.html#returning-a-view-versus-a-copy\n",
    "\"\"\"\n",
    "\n",
    "df_p.loc[df_p.uriOrg == 'http://www.wikidata.org/entity/Q337234', 'orgMainType'] = 'research organisation'\n",
    "df_p[df_p.labelOrg.str.contains('Europaea')].head(2)\n",
    "\n"
   ]
  },
  {
   "cell_type": "markdown",
   "metadata": {},
   "source": [
    "# Create graphs"
   ]
  },
  {
   "cell_type": "code",
   "execution_count": 34,
   "metadata": {
    "execution": {
     "iopub.execute_input": "2025-05-25T08:50:05.038298Z",
     "iopub.status.busy": "2025-05-25T08:50:05.037242Z",
     "iopub.status.idle": "2025-05-25T08:50:05.054745Z",
     "shell.execute_reply": "2025-05-25T08:50:05.052780Z",
     "shell.execute_reply.started": "2025-05-25T08:50:05.038216Z"
    }
   },
   "outputs": [
    {
     "name": "stdout",
     "output_type": "stream",
     "text": [
      "relaType\n",
      "education     1894\n",
      "employment     106\n",
      "dtype: int64\n"
     ]
    }
   ],
   "source": [
    "### Available relationships\n",
    "print(df_p.groupby(by='relaType').size())"
   ]
  },
  {
   "cell_type": "markdown",
   "metadata": {},
   "source": [
    "### Prepare the dataframe"
   ]
  },
  {
   "cell_type": "code",
   "execution_count": 35,
   "metadata": {
    "execution": {
     "iopub.execute_input": "2025-05-25T08:50:10.097270Z",
     "iopub.status.busy": "2025-05-25T08:50:10.096232Z",
     "iopub.status.idle": "2025-05-25T08:50:10.122353Z",
     "shell.execute_reply": "2025-05-25T08:50:10.119100Z",
     "shell.execute_reply.started": "2025-05-25T08:50:10.097184Z"
    }
   },
   "outputs": [
    {
     "name": "stdout",
     "output_type": "stream",
     "text": [
      "2000\n"
     ]
    }
   ],
   "source": [
    "### Select the columns that will be used\n",
    "df_prep = df_p[['uriPer','labelPer','birthYear','uriOrg', 'labelOrg', 'typesOrg', 'orgMainType', 'relaType', 'periods']].copy(deep=True)\n",
    "print(len(df_prep))"
   ]
  },
  {
   "cell_type": "markdown",
   "metadata": {},
   "source": [
    "### Features of organisations"
   ]
  },
  {
   "cell_type": "markdown",
   "metadata": {},
   "source": [
    "#### General grouping\n",
    "\n",
    "\n",
    "We first group by organisations, counting all relationships of persons which provides the total degree or number of members over the whole time "
   ]
  },
  {
   "cell_type": "code",
   "execution_count": 36,
   "metadata": {
    "execution": {
     "iopub.execute_input": "2025-05-25T08:50:19.457804Z",
     "iopub.status.busy": "2025-05-25T08:50:19.456789Z",
     "iopub.status.idle": "2025-05-25T08:50:19.493451Z",
     "shell.execute_reply": "2025-05-25T08:50:19.492157Z",
     "shell.execute_reply.started": "2025-05-25T08:50:19.457724Z"
    }
   },
   "outputs": [
    {
     "data": {
      "text/html": [
       "<div>\n",
       "<style scoped>\n",
       "    .dataframe tbody tr th:only-of-type {\n",
       "        vertical-align: middle;\n",
       "    }\n",
       "\n",
       "    .dataframe tbody tr th {\n",
       "        vertical-align: top;\n",
       "    }\n",
       "\n",
       "    .dataframe thead th {\n",
       "        text-align: right;\n",
       "    }\n",
       "</style>\n",
       "<table border=\"1\" class=\"dataframe\">\n",
       "  <thead>\n",
       "    <tr style=\"text-align: right;\">\n",
       "      <th></th>\n",
       "      <th>uriOrg</th>\n",
       "      <th>labelOrg</th>\n",
       "      <th>typesOrg</th>\n",
       "      <th>orgMainType</th>\n",
       "      <th>tot_members_number</th>\n",
       "    </tr>\n",
       "  </thead>\n",
       "  <tbody>\n",
       "    <tr>\n",
       "      <th>312</th>\n",
       "      <td>http://www.wikidata.org/entity/Q3428253</td>\n",
       "      <td>U.S. Air Force Test Pilot School</td>\n",
       "      <td>flight school</td>\n",
       "      <td>educational institution</td>\n",
       "      <td>95</td>\n",
       "    </tr>\n",
       "    <tr>\n",
       "      <th>30</th>\n",
       "      <td>http://www.wikidata.org/entity/Q1128819</td>\n",
       "      <td>United States Naval Test Pilot School</td>\n",
       "      <td>military school</td>\n",
       "      <td>educational institution</td>\n",
       "      <td>81</td>\n",
       "    </tr>\n",
       "    <tr>\n",
       "      <th>569</th>\n",
       "      <td>http://www.wikidata.org/entity/Q559549</td>\n",
       "      <td>United States Naval Academy</td>\n",
       "      <td>census-designated place in the united states |...</td>\n",
       "      <td>astronomical observatory</td>\n",
       "      <td>62</td>\n",
       "    </tr>\n",
       "    <tr>\n",
       "      <th>432</th>\n",
       "      <td>http://www.wikidata.org/entity/Q49108</td>\n",
       "      <td>Massachusetts Institute of Technology</td>\n",
       "      <td>academic publisher | institute of technology |...</td>\n",
       "      <td>institute of technology</td>\n",
       "      <td>50</td>\n",
       "    </tr>\n",
       "    <tr>\n",
       "      <th>82</th>\n",
       "      <td>http://www.wikidata.org/entity/Q1331280</td>\n",
       "      <td>United States Air Force Academy</td>\n",
       "      <td>air force academy | field operating agency</td>\n",
       "      <td>learned society</td>\n",
       "      <td>44</td>\n",
       "    </tr>\n",
       "    <tr>\n",
       "      <th>141</th>\n",
       "      <td>http://www.wikidata.org/entity/Q1515048</td>\n",
       "      <td>Naval Postgraduate School</td>\n",
       "      <td>military university | open-access publisher | ...</td>\n",
       "      <td>university</td>\n",
       "      <td>43</td>\n",
       "    </tr>\n",
       "    <tr>\n",
       "      <th>355</th>\n",
       "      <td>http://www.wikidata.org/entity/Q41506</td>\n",
       "      <td>Stanford University</td>\n",
       "      <td>open-access publisher | private not-for-profit...</td>\n",
       "      <td>private university</td>\n",
       "      <td>29</td>\n",
       "    </tr>\n",
       "    <tr>\n",
       "      <th>186</th>\n",
       "      <td>http://www.wikidata.org/entity/Q1719898</td>\n",
       "      <td>Moscow Aviation Institute</td>\n",
       "      <td>national research university | open-access pub...</td>\n",
       "      <td>university</td>\n",
       "      <td>28</td>\n",
       "    </tr>\n",
       "    <tr>\n",
       "      <th>861</th>\n",
       "      <td>http://www.wikidata.org/entity/Q9219</td>\n",
       "      <td>United States Military Academy</td>\n",
       "      <td>direct reporting unit | military academy | mil...</td>\n",
       "      <td>educational institution</td>\n",
       "      <td>28</td>\n",
       "    </tr>\n",
       "    <tr>\n",
       "      <th>240</th>\n",
       "      <td>http://www.wikidata.org/entity/Q217741</td>\n",
       "      <td>Purdue University</td>\n",
       "      <td>land-grant university | public educational ins...</td>\n",
       "      <td>university</td>\n",
       "      <td>25</td>\n",
       "    </tr>\n",
       "  </tbody>\n",
       "</table>\n",
       "</div>"
      ],
      "text/plain": [
       "                                      uriOrg  \\\n",
       "312  http://www.wikidata.org/entity/Q3428253   \n",
       "30   http://www.wikidata.org/entity/Q1128819   \n",
       "569   http://www.wikidata.org/entity/Q559549   \n",
       "432    http://www.wikidata.org/entity/Q49108   \n",
       "82   http://www.wikidata.org/entity/Q1331280   \n",
       "141  http://www.wikidata.org/entity/Q1515048   \n",
       "355    http://www.wikidata.org/entity/Q41506   \n",
       "186  http://www.wikidata.org/entity/Q1719898   \n",
       "861     http://www.wikidata.org/entity/Q9219   \n",
       "240   http://www.wikidata.org/entity/Q217741   \n",
       "\n",
       "                                  labelOrg  \\\n",
       "312       U.S. Air Force Test Pilot School   \n",
       "30   United States Naval Test Pilot School   \n",
       "569            United States Naval Academy   \n",
       "432  Massachusetts Institute of Technology   \n",
       "82         United States Air Force Academy   \n",
       "141              Naval Postgraduate School   \n",
       "355                    Stanford University   \n",
       "186              Moscow Aviation Institute   \n",
       "861         United States Military Academy   \n",
       "240                      Purdue University   \n",
       "\n",
       "                                              typesOrg  \\\n",
       "312                                      flight school   \n",
       "30                                     military school   \n",
       "569  census-designated place in the united states |...   \n",
       "432  academic publisher | institute of technology |...   \n",
       "82          air force academy | field operating agency   \n",
       "141  military university | open-access publisher | ...   \n",
       "355  open-access publisher | private not-for-profit...   \n",
       "186  national research university | open-access pub...   \n",
       "861  direct reporting unit | military academy | mil...   \n",
       "240  land-grant university | public educational ins...   \n",
       "\n",
       "                  orgMainType  tot_members_number  \n",
       "312   educational institution                  95  \n",
       "30    educational institution                  81  \n",
       "569  astronomical observatory                  62  \n",
       "432   institute of technology                  50  \n",
       "82            learned society                  44  \n",
       "141                university                  43  \n",
       "355        private university                  29  \n",
       "186                university                  28  \n",
       "861   educational institution                  28  \n",
       "240                university                  25  "
      ]
     },
     "execution_count": 36,
     "metadata": {},
     "output_type": "execute_result"
    }
   ],
   "source": [
    "### Memberships by organisations\n",
    "df_org = pd.DataFrame(df_prep.groupby(['uriOrg', 'labelOrg', 'typesOrg','orgMainType'],as_index=False).size())\n",
    "df_org.columns=['uriOrg', 'labelOrg', 'typesOrg', 'orgMainType','tot_members_number']\n",
    "df_org.sort_values('tot_members_number',ascending=False).iloc[:10]"
   ]
  },
  {
   "cell_type": "code",
   "execution_count": 37,
   "metadata": {
    "execution": {
     "iopub.execute_input": "2025-05-25T08:50:28.566283Z",
     "iopub.status.busy": "2025-05-25T08:50:28.565332Z",
     "iopub.status.idle": "2025-05-25T08:50:28.688695Z",
     "shell.execute_reply": "2025-05-25T08:50:28.686102Z",
     "shell.execute_reply.started": "2025-05-25T08:50:28.566202Z"
    }
   },
   "outputs": [],
   "source": [
    "### Save list of organisations as CSV\n",
    "csv_file='data/network_organisations_with_main_type_and_number.csv'\n",
    "df_org.sort_values('tot_members_number',ascending=False).to_csv(csv_file)"
   ]
  },
  {
   "cell_type": "markdown",
   "metadata": {},
   "source": [
    "#### Group by period\n",
    "\n",
    "We then group by heuristic period (or generation)"
   ]
  },
  {
   "cell_type": "code",
   "execution_count": 40,
   "metadata": {
    "execution": {
     "iopub.execute_input": "2025-05-25T08:50:44.356438Z",
     "iopub.status.busy": "2025-05-25T08:50:44.353614Z",
     "iopub.status.idle": "2025-05-25T08:50:44.391759Z",
     "shell.execute_reply": "2025-05-25T08:50:44.390256Z",
     "shell.execute_reply.started": "2025-05-25T08:50:44.356341Z"
    }
   },
   "outputs": [
    {
     "data": {
      "text/html": [
       "<div>\n",
       "<style scoped>\n",
       "    .dataframe tbody tr th:only-of-type {\n",
       "        vertical-align: middle;\n",
       "    }\n",
       "\n",
       "    .dataframe tbody tr th {\n",
       "        vertical-align: top;\n",
       "    }\n",
       "\n",
       "    .dataframe thead th {\n",
       "        text-align: right;\n",
       "    }\n",
       "</style>\n",
       "<table border=\"1\" class=\"dataframe\">\n",
       "  <thead>\n",
       "    <tr style=\"text-align: right;\">\n",
       "      <th></th>\n",
       "      <th>uriOrg</th>\n",
       "      <th>labelOrg</th>\n",
       "      <th>orgMainType</th>\n",
       "      <th>periods</th>\n",
       "      <th>period_members_number</th>\n",
       "    </tr>\n",
       "  </thead>\n",
       "  <tbody>\n",
       "    <tr>\n",
       "      <th>0</th>\n",
       "      <td>http://www.wikidata.org/entity/Q102398197</td>\n",
       "      <td>Faculty of Law, German University in Prague</td>\n",
       "      <td>university</td>\n",
       "      <td>1901-1920</td>\n",
       "      <td>1</td>\n",
       "    </tr>\n",
       "    <tr>\n",
       "      <th>344</th>\n",
       "      <td>http://www.wikidata.org/entity/Q238101</td>\n",
       "      <td>University of Minnesota</td>\n",
       "      <td>university</td>\n",
       "      <td>1901-1920</td>\n",
       "      <td>1</td>\n",
       "    </tr>\n",
       "    <tr>\n",
       "      <th>465</th>\n",
       "      <td>http://www.wikidata.org/entity/Q4129735</td>\n",
       "      <td>Higher school of glider flying</td>\n",
       "      <td>educational institution</td>\n",
       "      <td>1901-1920</td>\n",
       "      <td>1</td>\n",
       "    </tr>\n",
       "    <tr>\n",
       "      <th>650</th>\n",
       "      <td>http://www.wikidata.org/entity/Q5061177</td>\n",
       "      <td>Central High School</td>\n",
       "      <td>educational institution</td>\n",
       "      <td>1901-1920</td>\n",
       "      <td>1</td>\n",
       "    </tr>\n",
       "    <tr>\n",
       "      <th>629</th>\n",
       "      <td>http://www.wikidata.org/entity/Q5006618</td>\n",
       "      <td>C. K. McClatchy High School</td>\n",
       "      <td>educational institution</td>\n",
       "      <td>1921-1940</td>\n",
       "      <td>1</td>\n",
       "    </tr>\n",
       "  </tbody>\n",
       "</table>\n",
       "</div>"
      ],
      "text/plain": [
       "                                        uriOrg  \\\n",
       "0    http://www.wikidata.org/entity/Q102398197   \n",
       "344     http://www.wikidata.org/entity/Q238101   \n",
       "465    http://www.wikidata.org/entity/Q4129735   \n",
       "650    http://www.wikidata.org/entity/Q5061177   \n",
       "629    http://www.wikidata.org/entity/Q5006618   \n",
       "\n",
       "                                        labelOrg              orgMainType  \\\n",
       "0    Faculty of Law, German University in Prague               university   \n",
       "344                      University of Minnesota               university   \n",
       "465               Higher school of glider flying  educational institution   \n",
       "650                          Central High School  educational institution   \n",
       "629                  C. K. McClatchy High School  educational institution   \n",
       "\n",
       "       periods  period_members_number  \n",
       "0    1901-1920                      1  \n",
       "344  1901-1920                      1  \n",
       "465  1901-1920                      1  \n",
       "650  1901-1920                      1  \n",
       "629  1921-1940                      1  "
      ]
     },
     "execution_count": 40,
     "metadata": {},
     "output_type": "execute_result"
    }
   ],
   "source": [
    "df_orgPeriod = pd.DataFrame(df_prep.groupby(['uriOrg', 'labelOrg', 'orgMainType', 'periods']).size(), columns=['period_members_number'])\n",
    "df_orgPeriod.reset_index(inplace=True)\n",
    "df_orgPeriod.sort_values(by='periods', ascending=True).head()"
   ]
  },
  {
   "cell_type": "code",
   "execution_count": 39,
   "metadata": {
    "execution": {
     "iopub.execute_input": "2025-05-25T08:50:38.049049Z",
     "iopub.status.busy": "2025-05-25T08:50:38.047768Z",
     "iopub.status.idle": "2025-05-25T08:50:38.072933Z",
     "shell.execute_reply": "2025-05-25T08:50:38.070698Z",
     "shell.execute_reply.started": "2025-05-25T08:50:38.048852Z"
    }
   },
   "outputs": [
    {
     "data": {
      "text/html": [
       "<div>\n",
       "<style scoped>\n",
       "    .dataframe tbody tr th:only-of-type {\n",
       "        vertical-align: middle;\n",
       "    }\n",
       "\n",
       "    .dataframe tbody tr th {\n",
       "        vertical-align: top;\n",
       "    }\n",
       "\n",
       "    .dataframe thead th {\n",
       "        text-align: right;\n",
       "    }\n",
       "</style>\n",
       "<table border=\"1\" class=\"dataframe\">\n",
       "  <thead>\n",
       "    <tr style=\"text-align: right;\">\n",
       "      <th></th>\n",
       "      <th>uriOrg</th>\n",
       "      <th>labelOrg</th>\n",
       "      <th>orgMainType</th>\n",
       "      <th>periods</th>\n",
       "      <th>period_members_number</th>\n",
       "    </tr>\n",
       "  </thead>\n",
       "  <tbody>\n",
       "  </tbody>\n",
       "</table>\n",
       "</div>"
      ],
      "text/plain": [
       "Empty DataFrame\n",
       "Columns: [uriOrg, labelOrg, orgMainType, periods, period_members_number]\n",
       "Index: []"
      ]
     },
     "execution_count": 39,
     "metadata": {},
     "output_type": "execute_result"
    }
   ],
   "source": [
    "df_orgPeriod[df_orgPeriod.labelOrg=='AMOLF']"
   ]
  },
  {
   "cell_type": "markdown",
   "metadata": {},
   "source": [
    "#### Group by period and relationship type\n",
    "\n",
    "We then group by heuristic period (or generation) AND relationship type, i.e. which kind of relationship associates a person to an organisation in the bipartite network"
   ]
  },
  {
   "cell_type": "code",
   "execution_count": 41,
   "metadata": {
    "execution": {
     "iopub.execute_input": "2025-05-25T08:51:21.368144Z",
     "iopub.status.busy": "2025-05-25T08:51:21.366774Z",
     "iopub.status.idle": "2025-05-25T08:51:21.406845Z",
     "shell.execute_reply": "2025-05-25T08:51:21.405323Z",
     "shell.execute_reply.started": "2025-05-25T08:51:21.368052Z"
    }
   },
   "outputs": [
    {
     "data": {
      "text/html": [
       "<div>\n",
       "<style scoped>\n",
       "    .dataframe tbody tr th:only-of-type {\n",
       "        vertical-align: middle;\n",
       "    }\n",
       "\n",
       "    .dataframe tbody tr th {\n",
       "        vertical-align: top;\n",
       "    }\n",
       "\n",
       "    .dataframe thead th {\n",
       "        text-align: right;\n",
       "    }\n",
       "</style>\n",
       "<table border=\"1\" class=\"dataframe\">\n",
       "  <thead>\n",
       "    <tr style=\"text-align: right;\">\n",
       "      <th></th>\n",
       "      <th>uriOrg</th>\n",
       "      <th>labelOrg</th>\n",
       "      <th>orgMainType</th>\n",
       "      <th>relaType</th>\n",
       "      <th>periods</th>\n",
       "      <th>period_members_number</th>\n",
       "    </tr>\n",
       "  </thead>\n",
       "  <tbody>\n",
       "    <tr>\n",
       "      <th>37</th>\n",
       "      <td>http://www.wikidata.org/entity/Q1128819</td>\n",
       "      <td>United States Naval Test Pilot School</td>\n",
       "      <td>educational institution</td>\n",
       "      <td>education</td>\n",
       "      <td>1941-1960</td>\n",
       "      <td>43</td>\n",
       "    </tr>\n",
       "    <tr>\n",
       "      <th>455</th>\n",
       "      <td>http://www.wikidata.org/entity/Q3428253</td>\n",
       "      <td>U.S. Air Force Test Pilot School</td>\n",
       "      <td>educational institution</td>\n",
       "      <td>education</td>\n",
       "      <td>1941-1960</td>\n",
       "      <td>41</td>\n",
       "    </tr>\n",
       "    <tr>\n",
       "      <th>454</th>\n",
       "      <td>http://www.wikidata.org/entity/Q3428253</td>\n",
       "      <td>U.S. Air Force Test Pilot School</td>\n",
       "      <td>educational institution</td>\n",
       "      <td>education</td>\n",
       "      <td>1921-1940</td>\n",
       "      <td>37</td>\n",
       "    </tr>\n",
       "    <tr>\n",
       "      <th>106</th>\n",
       "      <td>http://www.wikidata.org/entity/Q1331280</td>\n",
       "      <td>United States Air Force Academy</td>\n",
       "      <td>learned society</td>\n",
       "      <td>education</td>\n",
       "      <td>1941-1960</td>\n",
       "      <td>32</td>\n",
       "    </tr>\n",
       "    <tr>\n",
       "      <th>795</th>\n",
       "      <td>http://www.wikidata.org/entity/Q559549</td>\n",
       "      <td>United States Naval Academy</td>\n",
       "      <td>astronomical observatory</td>\n",
       "      <td>education</td>\n",
       "      <td>1941-1960</td>\n",
       "      <td>30</td>\n",
       "    </tr>\n",
       "  </tbody>\n",
       "</table>\n",
       "</div>"
      ],
      "text/plain": [
       "                                      uriOrg  \\\n",
       "37   http://www.wikidata.org/entity/Q1128819   \n",
       "455  http://www.wikidata.org/entity/Q3428253   \n",
       "454  http://www.wikidata.org/entity/Q3428253   \n",
       "106  http://www.wikidata.org/entity/Q1331280   \n",
       "795   http://www.wikidata.org/entity/Q559549   \n",
       "\n",
       "                                  labelOrg               orgMainType  \\\n",
       "37   United States Naval Test Pilot School   educational institution   \n",
       "455       U.S. Air Force Test Pilot School   educational institution   \n",
       "454       U.S. Air Force Test Pilot School   educational institution   \n",
       "106        United States Air Force Academy           learned society   \n",
       "795            United States Naval Academy  astronomical observatory   \n",
       "\n",
       "      relaType    periods  period_members_number  \n",
       "37   education  1941-1960                     43  \n",
       "455  education  1941-1960                     41  \n",
       "454  education  1921-1940                     37  \n",
       "106  education  1941-1960                     32  \n",
       "795  education  1941-1960                     30  "
      ]
     },
     "execution_count": 41,
     "metadata": {},
     "output_type": "execute_result"
    }
   ],
   "source": [
    "df_orgPeriodRelType = pd.DataFrame(df_prep.groupby(['uriOrg', 'labelOrg', 'orgMainType', 'relaType', 'periods']).size(), columns=['period_members_number'])\n",
    "df_orgPeriodRelType.reset_index(inplace=True)\n",
    "df_orgPeriodRelType.sort_values(by='period_members_number', ascending=False).head()"
   ]
  },
  {
   "cell_type": "code",
   "execution_count": 43,
   "metadata": {
    "execution": {
     "iopub.execute_input": "2025-05-25T08:51:37.075056Z",
     "iopub.status.busy": "2025-05-25T08:51:37.074023Z",
     "iopub.status.idle": "2025-05-25T08:51:37.154564Z",
     "shell.execute_reply": "2025-05-25T08:51:37.152282Z",
     "shell.execute_reply.started": "2025-05-25T08:51:37.074969Z"
    }
   },
   "outputs": [
    {
     "name": "stdout",
     "output_type": "stream",
     "text": [
      "63\n"
     ]
    },
    {
     "data": {
      "text/html": [
       "<div>\n",
       "<style scoped>\n",
       "    .dataframe tbody tr th:only-of-type {\n",
       "        vertical-align: middle;\n",
       "    }\n",
       "\n",
       "    .dataframe tbody tr th {\n",
       "        vertical-align: top;\n",
       "    }\n",
       "\n",
       "    .dataframe thead th {\n",
       "        text-align: right;\n",
       "    }\n",
       "</style>\n",
       "<table border=\"1\" class=\"dataframe\">\n",
       "  <thead>\n",
       "    <tr style=\"text-align: right;\">\n",
       "      <th></th>\n",
       "      <th>periods</th>\n",
       "      <th>relaType</th>\n",
       "      <th>orgMainType</th>\n",
       "      <th>period_members_number</th>\n",
       "    </tr>\n",
       "  </thead>\n",
       "  <tbody>\n",
       "    <tr>\n",
       "      <th>0</th>\n",
       "      <td>1901-1920</td>\n",
       "      <td>education</td>\n",
       "      <td>educational institution</td>\n",
       "      <td>2</td>\n",
       "    </tr>\n",
       "    <tr>\n",
       "      <th>1</th>\n",
       "      <td>1901-1920</td>\n",
       "      <td>education</td>\n",
       "      <td>university</td>\n",
       "      <td>2</td>\n",
       "    </tr>\n",
       "    <tr>\n",
       "      <th>2</th>\n",
       "      <td>1921-1940</td>\n",
       "      <td>education</td>\n",
       "      <td>astronomical observatory</td>\n",
       "      <td>16</td>\n",
       "    </tr>\n",
       "    <tr>\n",
       "      <th>3</th>\n",
       "      <td>1921-1940</td>\n",
       "      <td>education</td>\n",
       "      <td>educational institution</td>\n",
       "      <td>223</td>\n",
       "    </tr>\n",
       "    <tr>\n",
       "      <th>4</th>\n",
       "      <td>1921-1940</td>\n",
       "      <td>education</td>\n",
       "      <td>institute of technology</td>\n",
       "      <td>18</td>\n",
       "    </tr>\n",
       "    <tr>\n",
       "      <th>5</th>\n",
       "      <td>1921-1940</td>\n",
       "      <td>education</td>\n",
       "      <td>learned society</td>\n",
       "      <td>1</td>\n",
       "    </tr>\n",
       "    <tr>\n",
       "      <th>6</th>\n",
       "      <td>1921-1940</td>\n",
       "      <td>education</td>\n",
       "      <td>not classified organisation</td>\n",
       "      <td>2</td>\n",
       "    </tr>\n",
       "    <tr>\n",
       "      <th>7</th>\n",
       "      <td>1921-1940</td>\n",
       "      <td>education</td>\n",
       "      <td>private university</td>\n",
       "      <td>27</td>\n",
       "    </tr>\n",
       "    <tr>\n",
       "      <th>8</th>\n",
       "      <td>1921-1940</td>\n",
       "      <td>education</td>\n",
       "      <td>public university</td>\n",
       "      <td>15</td>\n",
       "    </tr>\n",
       "    <tr>\n",
       "      <th>9</th>\n",
       "      <td>1921-1940</td>\n",
       "      <td>education</td>\n",
       "      <td>research organisation</td>\n",
       "      <td>1</td>\n",
       "    </tr>\n",
       "  </tbody>\n",
       "</table>\n",
       "</div>"
      ],
      "text/plain": [
       "     periods   relaType                  orgMainType  period_members_number\n",
       "0  1901-1920  education      educational institution                      2\n",
       "1  1901-1920  education                   university                      2\n",
       "2  1921-1940  education     astronomical observatory                     16\n",
       "3  1921-1940  education      educational institution                    223\n",
       "4  1921-1940  education      institute of technology                     18\n",
       "5  1921-1940  education              learned society                      1\n",
       "6  1921-1940  education  not classified organisation                      2\n",
       "7  1921-1940  education           private university                     27\n",
       "8  1921-1940  education            public university                     15\n",
       "9  1921-1940  education        research organisation                      1"
      ]
     },
     "execution_count": 43,
     "metadata": {},
     "output_type": "execute_result"
    }
   ],
   "source": [
    "### Number of relationships by period with type\n",
    "dfgt = df_orgPeriodRelType.groupby(['periods', 'relaType', 'orgMainType'], as_index=False)\\\n",
    "    .sum('members').sort_values(['relaType', 'periods'])\n",
    "file_addr='data/organisations_types_periods_distribution.csv'\n",
    "dfgt.sort_values(['relaType', 'periods']).to_csv(file_addr)\n",
    "print(len(dfgt))\n",
    "dfgt.iloc[:10]"
   ]
  },
  {
   "cell_type": "code",
   "execution_count": 44,
   "metadata": {
    "execution": {
     "iopub.execute_input": "2025-05-25T08:51:42.319651Z",
     "iopub.status.busy": "2025-05-25T08:51:42.318702Z",
     "iopub.status.idle": "2025-05-25T08:51:42.344316Z",
     "shell.execute_reply": "2025-05-25T08:51:42.342045Z",
     "shell.execute_reply.started": "2025-05-25T08:51:42.319572Z"
    }
   },
   "outputs": [
    {
     "name": "stdout",
     "output_type": "stream",
     "text": [
      "19\n"
     ]
    }
   ],
   "source": [
    "### Number of relationships without period\n",
    "dfgw = df_orgPeriodRelType.groupby(['relaType', 'orgMainType'], as_index=False)\\\n",
    "    .sum('members').sort_values([ 'relaType', 'orgMainType'])\n",
    "print(len(dfgw))"
   ]
  },
  {
   "cell_type": "markdown",
   "metadata": {},
   "source": [
    "## Bivariate analysis: relationship, organisation type"
   ]
  },
  {
   "cell_type": "markdown",
   "metadata": {},
   "source": [
    "### Create the needed functions"
   ]
  },
  {
   "cell_type": "code",
   "execution_count": 45,
   "metadata": {
    "execution": {
     "iopub.execute_input": "2025-05-25T08:51:51.748137Z",
     "iopub.status.busy": "2025-05-25T08:51:51.747147Z",
     "iopub.status.idle": "2025-05-25T08:51:51.762703Z",
     "shell.execute_reply": "2025-05-25T08:51:51.760527Z",
     "shell.execute_reply.started": "2025-05-25T08:51:51.748056Z"
    }
   },
   "outputs": [],
   "source": [
    "### ct_m : contingency table without totals in margins\n",
    "def bivariee_stats(ct_wm):\n",
    "    \n",
    "    \n",
    "    n = ct_wm.sum().sum()\n",
    "\n",
    "    ### Valeurs produites par la fonction de la librairie 'stats'\n",
    "    statistic, p, dof, expected = stats.chi2_contingency(ct_wm)\n",
    "\n",
    "    print('Chi2 :', statistic.round(2), ', dof :',dof)\n",
    "    print('p-value :', p)\n",
    "\n",
    "    \n",
    "\n",
    "    print('phi2 = inertie (variance totale) :', statistic/n)\n",
    "\n",
    "\n",
    "    ### Tableau à l'indépendance\n",
    "    dfe = round(pd.DataFrame(expected),4)\n",
    "\n",
    "    ### Coéfficient de Cramer\n",
    "    # https://docs.scipy.org/doc/scipy/reference/generated/scipy.stats.contingency.association.html\n",
    "\n",
    "    vc = stats.contingency.association(ct_wm, method='cramer')\n",
    "    print('Cramer: ', vc)\n",
    "\n",
    "    return None\n",
    "\n",
    "\n",
    "\n"
   ]
  },
  {
   "cell_type": "code",
   "execution_count": 46,
   "metadata": {
    "execution": {
     "iopub.execute_input": "2025-05-25T08:51:56.202301Z",
     "iopub.status.busy": "2025-05-25T08:51:56.201385Z",
     "iopub.status.idle": "2025-05-25T08:51:56.220100Z",
     "shell.execute_reply": "2025-05-25T08:51:56.217741Z",
     "shell.execute_reply.started": "2025-05-25T08:51:56.202224Z"
    }
   },
   "outputs": [],
   "source": [
    "### ct_m : contingency tables with totals in margins\n",
    "def plot_chi2_residuals(ct_wm, figsize=(9,3)):\n",
    "    \n",
    "    D = ct_wm\n",
    "\n",
    "    \n",
    "    ### Valeurs produites par la fonction de la librairie 'stats'\n",
    "    statistic, p, dof, expected = stats.chi2_contingency(D)\n",
    "\n",
    "    ### Situation à l'indépendance\n",
    "    indep = pd.DataFrame(expected)\n",
    "    indep.columns = D.columns\n",
    "    indep.index = D.index\n",
    "\n",
    "    ### Résidus pondérés (avec le signe)\n",
    "    ### Doc. :\n",
    "    #   Rakotomalala, p.240\n",
    "    residus_ponderes = (round((D-indep)/np.sqrt(indep),2))\n",
    "    ### Résidus pondérés\n",
    "    tableau = residus_ponderes\n",
    "   \n",
    "\n",
    "    fig, ax = plt.subplots(figsize=figsize)         \n",
    "    # Sample figsize in inches\n",
    "    g = sns.heatmap(tableau, annot=tableau, cmap=\"coolwarm\", linewidths=.5, ax=ax)\n",
    "    xlabels = tableau.columns\n",
    "    px = g.set_xticklabels(xlabels, rotation=60, size=8, \n",
    "                           ha='right', rotation_mode='anchor')\n",
    "    ylabels = tableau.index\n",
    "    py = g.set_yticklabels(ylabels, rotation=20, size=8)\n",
    "    \n",
    "    plt.show()\n",
    "\n",
    "    return residus_ponderes"
   ]
  },
  {
   "cell_type": "markdown",
   "metadata": {},
   "source": [
    "### Explore contingency table : types of relationships, types of organisations"
   ]
  },
  {
   "cell_type": "code",
   "execution_count": 47,
   "metadata": {
    "execution": {
     "iopub.execute_input": "2025-05-25T08:52:04.289367Z",
     "iopub.status.busy": "2025-05-25T08:52:04.288392Z",
     "iopub.status.idle": "2025-05-25T08:52:04.339591Z",
     "shell.execute_reply": "2025-05-25T08:52:04.338027Z",
     "shell.execute_reply.started": "2025-05-25T08:52:04.289251Z"
    }
   },
   "outputs": [
    {
     "data": {
      "text/html": [
       "<div>\n",
       "<style scoped>\n",
       "    .dataframe tbody tr th:only-of-type {\n",
       "        vertical-align: middle;\n",
       "    }\n",
       "\n",
       "    .dataframe tbody tr th {\n",
       "        vertical-align: top;\n",
       "    }\n",
       "\n",
       "    .dataframe thead th {\n",
       "        text-align: right;\n",
       "    }\n",
       "</style>\n",
       "<table border=\"1\" class=\"dataframe\">\n",
       "  <thead>\n",
       "    <tr style=\"text-align: right;\">\n",
       "      <th>relaType</th>\n",
       "      <th>education</th>\n",
       "      <th>employment</th>\n",
       "      <th>Total</th>\n",
       "    </tr>\n",
       "    <tr>\n",
       "      <th>orgMainType</th>\n",
       "      <th></th>\n",
       "      <th></th>\n",
       "      <th></th>\n",
       "    </tr>\n",
       "  </thead>\n",
       "  <tbody>\n",
       "    <tr>\n",
       "      <th>astronomical observatory</th>\n",
       "      <td>59</td>\n",
       "      <td>3</td>\n",
       "      <td>62</td>\n",
       "    </tr>\n",
       "    <tr>\n",
       "      <th>educational institution</th>\n",
       "      <td>825</td>\n",
       "      <td>12</td>\n",
       "      <td>837</td>\n",
       "    </tr>\n",
       "    <tr>\n",
       "      <th>institute of technology</th>\n",
       "      <td>92</td>\n",
       "      <td>11</td>\n",
       "      <td>103</td>\n",
       "    </tr>\n",
       "    <tr>\n",
       "      <th>learned society</th>\n",
       "      <td>47</td>\n",
       "      <td>0</td>\n",
       "      <td>47</td>\n",
       "    </tr>\n",
       "    <tr>\n",
       "      <th>not classified organisation</th>\n",
       "      <td>11</td>\n",
       "      <td>2</td>\n",
       "      <td>13</td>\n",
       "    </tr>\n",
       "    <tr>\n",
       "      <th>private university</th>\n",
       "      <td>135</td>\n",
       "      <td>16</td>\n",
       "      <td>151</td>\n",
       "    </tr>\n",
       "    <tr>\n",
       "      <th>public university</th>\n",
       "      <td>136</td>\n",
       "      <td>15</td>\n",
       "      <td>151</td>\n",
       "    </tr>\n",
       "    <tr>\n",
       "      <th>research facility</th>\n",
       "      <td>4</td>\n",
       "      <td>0</td>\n",
       "      <td>4</td>\n",
       "    </tr>\n",
       "    <tr>\n",
       "      <th>research organisation</th>\n",
       "      <td>3</td>\n",
       "      <td>2</td>\n",
       "      <td>5</td>\n",
       "    </tr>\n",
       "    <tr>\n",
       "      <th>scientific organisation</th>\n",
       "      <td>1</td>\n",
       "      <td>0</td>\n",
       "      <td>1</td>\n",
       "    </tr>\n",
       "    <tr>\n",
       "      <th>university</th>\n",
       "      <td>581</td>\n",
       "      <td>45</td>\n",
       "      <td>626</td>\n",
       "    </tr>\n",
       "    <tr>\n",
       "      <th>Total</th>\n",
       "      <td>1894</td>\n",
       "      <td>106</td>\n",
       "      <td>2000</td>\n",
       "    </tr>\n",
       "  </tbody>\n",
       "</table>\n",
       "</div>"
      ],
      "text/plain": [
       "relaType                     education  employment  Total\n",
       "orgMainType                                              \n",
       "astronomical observatory            59           3     62\n",
       "educational institution            825          12    837\n",
       "institute of technology             92          11    103\n",
       "learned society                     47           0     47\n",
       "not classified organisation         11           2     13\n",
       "private university                 135          16    151\n",
       "public university                  136          15    151\n",
       "research facility                    4           0      4\n",
       "research organisation                3           2      5\n",
       "scientific organisation              1           0      1\n",
       "university                         581          45    626\n",
       "Total                             1894         106   2000"
      ]
     },
     "execution_count": 47,
     "metadata": {},
     "output_type": "execute_result"
    }
   ],
   "source": [
    "\n",
    "\n",
    "### Contingency table\n",
    "X = 'relaType'\n",
    "Y = 'orgMainType'  \n",
    "\n",
    "ddf = df_prep[[X,Y]].pivot_table(index=Y,columns=X,observed=True, aggfunc=len,margins=True,margins_name=\"Total\").fillna(0).astype(int)\n",
    "ddf\n",
    "\n"
   ]
  },
  {
   "cell_type": "code",
   "execution_count": 48,
   "metadata": {
    "execution": {
     "iopub.execute_input": "2025-05-25T08:52:11.782438Z",
     "iopub.status.busy": "2025-05-25T08:52:11.781480Z",
     "iopub.status.idle": "2025-05-25T08:52:11.806381Z",
     "shell.execute_reply": "2025-05-25T08:52:11.804377Z",
     "shell.execute_reply.started": "2025-05-25T08:52:11.782359Z"
    }
   },
   "outputs": [
    {
     "data": {
      "text/html": [
       "<div>\n",
       "<style scoped>\n",
       "    .dataframe tbody tr th:only-of-type {\n",
       "        vertical-align: middle;\n",
       "    }\n",
       "\n",
       "    .dataframe tbody tr th {\n",
       "        vertical-align: top;\n",
       "    }\n",
       "\n",
       "    .dataframe thead th {\n",
       "        text-align: right;\n",
       "    }\n",
       "</style>\n",
       "<table border=\"1\" class=\"dataframe\">\n",
       "  <thead>\n",
       "    <tr style=\"text-align: right;\">\n",
       "      <th>relaType</th>\n",
       "      <th>education</th>\n",
       "      <th>employment</th>\n",
       "    </tr>\n",
       "    <tr>\n",
       "      <th>orgMainType</th>\n",
       "      <th></th>\n",
       "      <th></th>\n",
       "    </tr>\n",
       "  </thead>\n",
       "  <tbody>\n",
       "    <tr>\n",
       "      <th>astronomical observatory</th>\n",
       "      <td>59</td>\n",
       "      <td>3</td>\n",
       "    </tr>\n",
       "    <tr>\n",
       "      <th>educational institution</th>\n",
       "      <td>825</td>\n",
       "      <td>12</td>\n",
       "    </tr>\n",
       "    <tr>\n",
       "      <th>institute of technology</th>\n",
       "      <td>92</td>\n",
       "      <td>11</td>\n",
       "    </tr>\n",
       "    <tr>\n",
       "      <th>learned society</th>\n",
       "      <td>47</td>\n",
       "      <td>0</td>\n",
       "    </tr>\n",
       "    <tr>\n",
       "      <th>not classified organisation</th>\n",
       "      <td>11</td>\n",
       "      <td>2</td>\n",
       "    </tr>\n",
       "    <tr>\n",
       "      <th>private university</th>\n",
       "      <td>135</td>\n",
       "      <td>16</td>\n",
       "    </tr>\n",
       "    <tr>\n",
       "      <th>public university</th>\n",
       "      <td>136</td>\n",
       "      <td>15</td>\n",
       "    </tr>\n",
       "    <tr>\n",
       "      <th>research facility</th>\n",
       "      <td>4</td>\n",
       "      <td>0</td>\n",
       "    </tr>\n",
       "    <tr>\n",
       "      <th>research organisation</th>\n",
       "      <td>3</td>\n",
       "      <td>2</td>\n",
       "    </tr>\n",
       "    <tr>\n",
       "      <th>scientific organisation</th>\n",
       "      <td>1</td>\n",
       "      <td>0</td>\n",
       "    </tr>\n",
       "    <tr>\n",
       "      <th>university</th>\n",
       "      <td>581</td>\n",
       "      <td>45</td>\n",
       "    </tr>\n",
       "  </tbody>\n",
       "</table>\n",
       "</div>"
      ],
      "text/plain": [
       "relaType                     education  employment\n",
       "orgMainType                                       \n",
       "astronomical observatory            59           3\n",
       "educational institution            825          12\n",
       "institute of technology             92          11\n",
       "learned society                     47           0\n",
       "not classified organisation         11           2\n",
       "private university                 135          16\n",
       "public university                  136          15\n",
       "research facility                    4           0\n",
       "research organisation                3           2\n",
       "scientific organisation              1           0\n",
       "university                         581          45"
      ]
     },
     "execution_count": 48,
     "metadata": {},
     "output_type": "execute_result"
    }
   ],
   "source": [
    "ct_wm = ddf.iloc[:-1,:-1].copy(deep=True)\n",
    "ct_wm"
   ]
  },
  {
   "cell_type": "code",
   "execution_count": 49,
   "metadata": {
    "execution": {
     "iopub.execute_input": "2025-05-25T08:52:15.830291Z",
     "iopub.status.busy": "2025-05-25T08:52:15.829364Z",
     "iopub.status.idle": "2025-05-25T08:52:15.848981Z",
     "shell.execute_reply": "2025-05-25T08:52:15.846935Z",
     "shell.execute_reply.started": "2025-05-25T08:52:15.830211Z"
    }
   },
   "outputs": [
    {
     "name": "stdout",
     "output_type": "stream",
     "text": [
      "Chi2 : 67.78 , dof : 10\n",
      "p-value : 1.1877227913803305e-10\n",
      "phi2 = inertie (variance totale) : 0.03388962797162134\n",
      "Cramer:  0.18409135767770668\n"
     ]
    }
   ],
   "source": [
    "### We observe a strong relationship between these two variables\n",
    "\n",
    "bivariee_stats(ct_wm)"
   ]
  },
  {
   "cell_type": "code",
   "execution_count": 50,
   "metadata": {
    "execution": {
     "iopub.execute_input": "2025-05-25T08:52:16.601007Z",
     "iopub.status.busy": "2025-05-25T08:52:16.600055Z",
     "iopub.status.idle": "2025-05-25T08:52:17.050026Z",
     "shell.execute_reply": "2025-05-25T08:52:17.048370Z",
     "shell.execute_reply.started": "2025-05-25T08:52:16.600927Z"
    }
   },
   "outputs": [
    {
     "data": {
      "image/png": "[encoded data removed]",
      "text/plain": [
       "<Figure size 500x800 with 2 Axes>"
      ]
     },
     "metadata": {},
     "output_type": "display_data"
    }
   ],
   "source": [
    "pp = plot_chi2_residuals(ct_wm, figsize=(5, 8))"
   ]
  },
  {
   "cell_type": "markdown",
   "metadata": {},
   "source": [
    "#### Comment\n",
    "\n",
    "We observe a strong relationship between these two variables which is explained by the fact that not all organisations types are concerned by the same relationship types\n",
    "\n",
    "We also observe that some values should be corrected, like memberships in technical organisations that should be employments.\n",
    "\n",
    "See the following example"
   ]
  },
  {
   "cell_type": "code",
   "execution_count": 51,
   "metadata": {
    "execution": {
     "iopub.execute_input": "2025-05-25T08:52:26.634694Z",
     "iopub.status.busy": "2025-05-25T08:52:26.633674Z",
     "iopub.status.idle": "2025-05-25T08:52:26.661942Z",
     "shell.execute_reply": "2025-05-25T08:52:26.660071Z",
     "shell.execute_reply.started": "2025-05-25T08:52:26.634612Z"
    }
   },
   "outputs": [
    {
     "name": "stdout",
     "output_type": "stream",
     "text": [
      "[('uriPer', Series([], Name: uriPer, dtype: object)),\n",
      " ('labelPer', Series([], Name: labelPer, dtype: object)),\n",
      " ('birthYear', Series([], Name: birthYear, dtype: int64)),\n",
      " ('relaType', Series([], Name: relaType, dtype: object)),\n",
      " ('uriOrg', Series([], Name: uriOrg, dtype: object)),\n",
      " ('labelOrg', Series([], Name: labelOrg, dtype: object))]\n"
     ]
    }
   ],
   "source": [
    "pprint.pprint(list(df_p.loc[df_p.orgMainType.str.contains('techno') & df_p.relaType.str.contains('memb') ].items())[:6])"
   ]
  },
  {
   "cell_type": "markdown",
   "metadata": {},
   "source": [
    "### Explore contingency table of relationships to organisations : periods, types of organisations"
   ]
  },
  {
   "cell_type": "code",
   "execution_count": 52,
   "metadata": {
    "execution": {
     "iopub.execute_input": "2025-05-25T08:52:35.848512Z",
     "iopub.status.busy": "2025-05-25T08:52:35.847610Z",
     "iopub.status.idle": "2025-05-25T08:52:35.894299Z",
     "shell.execute_reply": "2025-05-25T08:52:35.892803Z",
     "shell.execute_reply.started": "2025-05-25T08:52:35.848436Z"
    }
   },
   "outputs": [
    {
     "data": {
      "text/html": [
       "<div>\n",
       "<style scoped>\n",
       "    .dataframe tbody tr th:only-of-type {\n",
       "        vertical-align: middle;\n",
       "    }\n",
       "\n",
       "    .dataframe tbody tr th {\n",
       "        vertical-align: top;\n",
       "    }\n",
       "\n",
       "    .dataframe thead th {\n",
       "        text-align: right;\n",
       "    }\n",
       "</style>\n",
       "<table border=\"1\" class=\"dataframe\">\n",
       "  <thead>\n",
       "    <tr style=\"text-align: right;\">\n",
       "      <th>periods</th>\n",
       "      <th>1901-1920</th>\n",
       "      <th>1921-1940</th>\n",
       "      <th>1941-1960</th>\n",
       "      <th>1961-1980</th>\n",
       "      <th>1981-2000</th>\n",
       "      <th>Total</th>\n",
       "    </tr>\n",
       "    <tr>\n",
       "      <th>orgMainType</th>\n",
       "      <th></th>\n",
       "      <th></th>\n",
       "      <th></th>\n",
       "      <th></th>\n",
       "      <th></th>\n",
       "      <th></th>\n",
       "    </tr>\n",
       "  </thead>\n",
       "  <tbody>\n",
       "    <tr>\n",
       "      <th>astronomical observatory</th>\n",
       "      <td>0</td>\n",
       "      <td>16</td>\n",
       "      <td>33</td>\n",
       "      <td>11</td>\n",
       "      <td>2</td>\n",
       "      <td>62</td>\n",
       "    </tr>\n",
       "    <tr>\n",
       "      <th>educational institution</th>\n",
       "      <td>2</td>\n",
       "      <td>224</td>\n",
       "      <td>364</td>\n",
       "      <td>212</td>\n",
       "      <td>35</td>\n",
       "      <td>837</td>\n",
       "    </tr>\n",
       "    <tr>\n",
       "      <th>institute of technology</th>\n",
       "      <td>0</td>\n",
       "      <td>20</td>\n",
       "      <td>42</td>\n",
       "      <td>29</td>\n",
       "      <td>12</td>\n",
       "      <td>103</td>\n",
       "    </tr>\n",
       "    <tr>\n",
       "      <th>learned society</th>\n",
       "      <td>0</td>\n",
       "      <td>1</td>\n",
       "      <td>34</td>\n",
       "      <td>10</td>\n",
       "      <td>2</td>\n",
       "      <td>47</td>\n",
       "    </tr>\n",
       "    <tr>\n",
       "      <th>not classified organisation</th>\n",
       "      <td>0</td>\n",
       "      <td>3</td>\n",
       "      <td>5</td>\n",
       "      <td>4</td>\n",
       "      <td>1</td>\n",
       "      <td>13</td>\n",
       "    </tr>\n",
       "    <tr>\n",
       "      <th>private university</th>\n",
       "      <td>0</td>\n",
       "      <td>30</td>\n",
       "      <td>79</td>\n",
       "      <td>31</td>\n",
       "      <td>11</td>\n",
       "      <td>151</td>\n",
       "    </tr>\n",
       "    <tr>\n",
       "      <th>public university</th>\n",
       "      <td>0</td>\n",
       "      <td>16</td>\n",
       "      <td>76</td>\n",
       "      <td>43</td>\n",
       "      <td>16</td>\n",
       "      <td>151</td>\n",
       "    </tr>\n",
       "    <tr>\n",
       "      <th>research facility</th>\n",
       "      <td>0</td>\n",
       "      <td>0</td>\n",
       "      <td>2</td>\n",
       "      <td>1</td>\n",
       "      <td>1</td>\n",
       "      <td>4</td>\n",
       "    </tr>\n",
       "    <tr>\n",
       "      <th>research organisation</th>\n",
       "      <td>0</td>\n",
       "      <td>1</td>\n",
       "      <td>1</td>\n",
       "      <td>1</td>\n",
       "      <td>2</td>\n",
       "      <td>5</td>\n",
       "    </tr>\n",
       "    <tr>\n",
       "      <th>scientific organisation</th>\n",
       "      <td>0</td>\n",
       "      <td>0</td>\n",
       "      <td>1</td>\n",
       "      <td>0</td>\n",
       "      <td>0</td>\n",
       "      <td>1</td>\n",
       "    </tr>\n",
       "    <tr>\n",
       "      <th>university</th>\n",
       "      <td>2</td>\n",
       "      <td>123</td>\n",
       "      <td>307</td>\n",
       "      <td>145</td>\n",
       "      <td>49</td>\n",
       "      <td>626</td>\n",
       "    </tr>\n",
       "    <tr>\n",
       "      <th>Total</th>\n",
       "      <td>4</td>\n",
       "      <td>434</td>\n",
       "      <td>944</td>\n",
       "      <td>487</td>\n",
       "      <td>131</td>\n",
       "      <td>2000</td>\n",
       "    </tr>\n",
       "  </tbody>\n",
       "</table>\n",
       "</div>"
      ],
      "text/plain": [
       "periods                      1901-1920  1921-1940  1941-1960  1961-1980  \\\n",
       "orgMainType                                                               \n",
       "astronomical observatory             0         16         33         11   \n",
       "educational institution              2        224        364        212   \n",
       "institute of technology              0         20         42         29   \n",
       "learned society                      0          1         34         10   \n",
       "not classified organisation          0          3          5          4   \n",
       "private university                   0         30         79         31   \n",
       "public university                    0         16         76         43   \n",
       "research facility                    0          0          2          1   \n",
       "research organisation                0          1          1          1   \n",
       "scientific organisation              0          0          1          0   \n",
       "university                           2        123        307        145   \n",
       "Total                                4        434        944        487   \n",
       "\n",
       "periods                      1981-2000  Total  \n",
       "orgMainType                                    \n",
       "astronomical observatory             2     62  \n",
       "educational institution             35    837  \n",
       "institute of technology             12    103  \n",
       "learned society                      2     47  \n",
       "not classified organisation          1     13  \n",
       "private university                  11    151  \n",
       "public university                   16    151  \n",
       "research facility                    1      4  \n",
       "research organisation                2      5  \n",
       "scientific organisation              0      1  \n",
       "university                          49    626  \n",
       "Total                              131   2000  "
      ]
     },
     "execution_count": 52,
     "metadata": {},
     "output_type": "execute_result"
    }
   ],
   "source": [
    "### Contingency table\n",
    "X = 'periods'\n",
    "Y = 'orgMainType'  \n",
    "\n",
    "ddf = df_prep[[X,Y]].pivot_table(index=Y,columns=X,observed=True, aggfunc=len,margins=True,margins_name=\"Total\").fillna(0).astype(int)\n",
    "ddf\n",
    "\n"
   ]
  },
  {
   "cell_type": "code",
   "execution_count": 53,
   "metadata": {
    "execution": {
     "iopub.execute_input": "2025-05-25T08:52:42.959244Z",
     "iopub.status.busy": "2025-05-25T08:52:42.958279Z",
     "iopub.status.idle": "2025-05-25T08:52:42.971556Z",
     "shell.execute_reply": "2025-05-25T08:52:42.969039Z",
     "shell.execute_reply.started": "2025-05-25T08:52:42.959163Z"
    }
   },
   "outputs": [],
   "source": [
    "ct_wm = ddf.iloc[:-1,:-1].copy(deep=True)"
   ]
  },
  {
   "cell_type": "code",
   "execution_count": 54,
   "metadata": {
    "execution": {
     "iopub.execute_input": "2025-05-25T08:52:43.531636Z",
     "iopub.status.busy": "2025-05-25T08:52:43.530681Z",
     "iopub.status.idle": "2025-05-25T08:52:43.548971Z",
     "shell.execute_reply": "2025-05-25T08:52:43.546386Z",
     "shell.execute_reply.started": "2025-05-25T08:52:43.531555Z"
    }
   },
   "outputs": [
    {
     "name": "stdout",
     "output_type": "stream",
     "text": [
      "Chi2 : 78.85 , dof : 40\n",
      "p-value : 0.0002409521009631493\n",
      "phi2 = inertie (variance totale) : 0.03942300795708904\n",
      "Cramer:  0.09927614008044562\n"
     ]
    }
   ],
   "source": [
    "### We observe some not so strong relationship between these two variables\n",
    "bivariee_stats(ct_wm)"
   ]
  },
  {
   "cell_type": "code",
   "execution_count": 55,
   "metadata": {
    "execution": {
     "iopub.execute_input": "2025-05-25T08:52:44.195898Z",
     "iopub.status.busy": "2025-05-25T08:52:44.194913Z",
     "iopub.status.idle": "2025-05-25T08:52:44.699172Z",
     "shell.execute_reply": "2025-05-25T08:52:44.697902Z",
     "shell.execute_reply.started": "2025-05-25T08:52:44.195778Z"
    }
   },
   "outputs": [
    {
     "data": {
      "image/png": "[encoded data removed]",
      "text/plain": [
       "<Figure size 800x800 with 2 Axes>"
      ]
     },
     "metadata": {},
     "output_type": "display_data"
    }
   ],
   "source": [
    "pp = plot_chi2_residuals(ct_wm, figsize=(8, 8))"
   ]
  },
  {
   "cell_type": "markdown",
   "metadata": {},
   "source": [
    "### Explore contingency table of relationships to organisations : periods, types of relationships"
   ]
  },
  {
   "cell_type": "code",
   "execution_count": 56,
   "metadata": {
    "execution": {
     "iopub.execute_input": "2025-05-25T08:52:48.316349Z",
     "iopub.status.busy": "2025-05-25T08:52:48.315432Z",
     "iopub.status.idle": "2025-05-25T08:52:48.360473Z",
     "shell.execute_reply": "2025-05-25T08:52:48.358906Z",
     "shell.execute_reply.started": "2025-05-25T08:52:48.316271Z"
    }
   },
   "outputs": [
    {
     "data": {
      "text/html": [
       "<div>\n",
       "<style scoped>\n",
       "    .dataframe tbody tr th:only-of-type {\n",
       "        vertical-align: middle;\n",
       "    }\n",
       "\n",
       "    .dataframe tbody tr th {\n",
       "        vertical-align: top;\n",
       "    }\n",
       "\n",
       "    .dataframe thead th {\n",
       "        text-align: right;\n",
       "    }\n",
       "</style>\n",
       "<table border=\"1\" class=\"dataframe\">\n",
       "  <thead>\n",
       "    <tr style=\"text-align: right;\">\n",
       "      <th>periods</th>\n",
       "      <th>1901-1920</th>\n",
       "      <th>1921-1940</th>\n",
       "      <th>1941-1960</th>\n",
       "      <th>1961-1980</th>\n",
       "      <th>1981-2000</th>\n",
       "      <th>Total</th>\n",
       "    </tr>\n",
       "    <tr>\n",
       "      <th>relaType</th>\n",
       "      <th></th>\n",
       "      <th></th>\n",
       "      <th></th>\n",
       "      <th></th>\n",
       "      <th></th>\n",
       "      <th></th>\n",
       "    </tr>\n",
       "  </thead>\n",
       "  <tbody>\n",
       "    <tr>\n",
       "      <th>education</th>\n",
       "      <td>4</td>\n",
       "      <td>419</td>\n",
       "      <td>875</td>\n",
       "      <td>474</td>\n",
       "      <td>122</td>\n",
       "      <td>1894</td>\n",
       "    </tr>\n",
       "    <tr>\n",
       "      <th>employment</th>\n",
       "      <td>0</td>\n",
       "      <td>15</td>\n",
       "      <td>69</td>\n",
       "      <td>13</td>\n",
       "      <td>9</td>\n",
       "      <td>106</td>\n",
       "    </tr>\n",
       "    <tr>\n",
       "      <th>Total</th>\n",
       "      <td>4</td>\n",
       "      <td>434</td>\n",
       "      <td>944</td>\n",
       "      <td>487</td>\n",
       "      <td>131</td>\n",
       "      <td>2000</td>\n",
       "    </tr>\n",
       "  </tbody>\n",
       "</table>\n",
       "</div>"
      ],
      "text/plain": [
       "periods     1901-1920  1921-1940  1941-1960  1961-1980  1981-2000  Total\n",
       "relaType                                                                \n",
       "education           4        419        875        474        122   1894\n",
       "employment          0         15         69         13          9    106\n",
       "Total               4        434        944        487        131   2000"
      ]
     },
     "execution_count": 56,
     "metadata": {},
     "output_type": "execute_result"
    }
   ],
   "source": [
    "### Contingency table\n",
    "X = 'periods'\n",
    "Y = 'relaType'  \n",
    "\n",
    "ddf = df_prep[[X,Y]].pivot_table(index=Y,columns=X,observed=True, aggfunc=len,margins=True,margins_name=\"Total\").fillna(0).astype(int)\n",
    "ddf\n",
    "\n"
   ]
  },
  {
   "cell_type": "code",
   "execution_count": 57,
   "metadata": {
    "execution": {
     "iopub.execute_input": "2025-05-25T08:52:51.991299Z",
     "iopub.status.busy": "2025-05-25T08:52:51.990265Z",
     "iopub.status.idle": "2025-05-25T08:52:52.004193Z",
     "shell.execute_reply": "2025-05-25T08:52:52.001444Z",
     "shell.execute_reply.started": "2025-05-25T08:52:51.991214Z"
    }
   },
   "outputs": [],
   "source": [
    "ct_wm = ddf.iloc[:-1,:-1].copy(deep=True)"
   ]
  },
  {
   "cell_type": "code",
   "execution_count": 58,
   "metadata": {
    "execution": {
     "iopub.execute_input": "2025-05-25T08:52:52.520380Z",
     "iopub.status.busy": "2025-05-25T08:52:52.518571Z",
     "iopub.status.idle": "2025-05-25T08:52:52.536351Z",
     "shell.execute_reply": "2025-05-25T08:52:52.534194Z",
     "shell.execute_reply.started": "2025-05-25T08:52:52.520292Z"
    }
   },
   "outputs": [
    {
     "name": "stdout",
     "output_type": "stream",
     "text": [
      "Chi2 : 18.11 , dof : 4\n",
      "p-value : 0.0011718530738446663\n",
      "phi2 = inertie (variance totale) : 0.009057486213358468\n",
      "Cramer:  0.09517082648248079\n"
     ]
    }
   ],
   "source": [
    "### We observe a relationship between these two variables, \n",
    "# not so strong \n",
    "bivariee_stats(ct_wm)"
   ]
  },
  {
   "cell_type": "code",
   "execution_count": 59,
   "metadata": {
    "execution": {
     "iopub.execute_input": "2025-05-25T08:52:53.322033Z",
     "iopub.status.busy": "2025-05-25T08:52:53.319845Z",
     "iopub.status.idle": "2025-05-25T08:52:53.586499Z",
     "shell.execute_reply": "2025-05-25T08:52:53.584137Z",
     "shell.execute_reply.started": "2025-05-25T08:52:53.321838Z"
    }
   },
   "outputs": [
    {
     "data": {
      "image/png": "[encoded data removed]",
      "text/plain": [
       "<Figure size 800x300 with 2 Axes>"
      ]
     },
     "metadata": {},
     "output_type": "display_data"
    }
   ],
   "source": [
    "pp = plot_chi2_residuals(ct_wm, figsize=(8, 3))"
   ]
  },
  {
   "cell_type": "markdown",
   "metadata": {},
   "source": [
    "### Explore contingency table of relationships to organisations : periods+types of relationships vs organisations types"
   ]
  },
  {
   "cell_type": "code",
   "execution_count": 60,
   "metadata": {
    "execution": {
     "iopub.execute_input": "2025-05-25T08:52:58.989380Z",
     "iopub.status.busy": "2025-05-25T08:52:58.988439Z",
     "iopub.status.idle": "2025-05-25T08:52:59.065140Z",
     "shell.execute_reply": "2025-05-25T08:52:59.063888Z",
     "shell.execute_reply.started": "2025-05-25T08:52:58.989301Z"
    }
   },
   "outputs": [
    {
     "data": {
      "text/html": [
       "<div>\n",
       "<style scoped>\n",
       "    .dataframe tbody tr th:only-of-type {\n",
       "        vertical-align: middle;\n",
       "    }\n",
       "\n",
       "    .dataframe tbody tr th {\n",
       "        vertical-align: top;\n",
       "    }\n",
       "\n",
       "    .dataframe thead th {\n",
       "        text-align: right;\n",
       "    }\n",
       "</style>\n",
       "<table border=\"1\" class=\"dataframe\">\n",
       "  <thead>\n",
       "    <tr style=\"text-align: right;\">\n",
       "      <th></th>\n",
       "      <th>uriPer</th>\n",
       "      <th>labelPer</th>\n",
       "      <th>birthYear</th>\n",
       "      <th>uriOrg</th>\n",
       "      <th>labelOrg</th>\n",
       "      <th>typesOrg</th>\n",
       "      <th>orgMainType</th>\n",
       "      <th>relaType</th>\n",
       "      <th>periods</th>\n",
       "      <th>periods_relaType</th>\n",
       "    </tr>\n",
       "  </thead>\n",
       "  <tbody>\n",
       "    <tr>\n",
       "      <th>0</th>\n",
       "      <td>http://www.wikidata.org/entity/Q1018622</td>\n",
       "      <td>Byron K. Lichtenberg</td>\n",
       "      <td>1948</td>\n",
       "      <td>http://www.wikidata.org/entity/Q49114</td>\n",
       "      <td>Brown University</td>\n",
       "      <td>academic publisher | colonial colleges | priva...</td>\n",
       "      <td>private university</td>\n",
       "      <td>education</td>\n",
       "      <td>1941-1960</td>\n",
       "      <td>1941-1960_education</td>\n",
       "    </tr>\n",
       "  </tbody>\n",
       "</table>\n",
       "</div>"
      ],
      "text/plain": [
       "                                    uriPer              labelPer  birthYear  \\\n",
       "0  http://www.wikidata.org/entity/Q1018622  Byron K. Lichtenberg       1948   \n",
       "\n",
       "                                  uriOrg          labelOrg  \\\n",
       "0  http://www.wikidata.org/entity/Q49114  Brown University   \n",
       "\n",
       "                                            typesOrg         orgMainType  \\\n",
       "0  academic publisher | colonial colleges | priva...  private university   \n",
       "\n",
       "    relaType    periods     periods_relaType  \n",
       "0  education  1941-1960  1941-1960_education  "
      ]
     },
     "execution_count": 60,
     "metadata": {},
     "output_type": "execute_result"
    }
   ],
   "source": [
    "df_prep['periods_relaType'] = df_prep.apply(lambda x : x.periods+'_'+x.relaType, axis=1)\n",
    "df_prep.head(1)"
   ]
  },
  {
   "cell_type": "code",
   "execution_count": 61,
   "metadata": {
    "execution": {
     "iopub.execute_input": "2025-05-25T08:53:02.365151Z",
     "iopub.status.busy": "2025-05-25T08:53:02.364160Z",
     "iopub.status.idle": "2025-05-25T08:53:02.432718Z",
     "shell.execute_reply": "2025-05-25T08:53:02.429985Z",
     "shell.execute_reply.started": "2025-05-25T08:53:02.365067Z"
    }
   },
   "outputs": [
    {
     "data": {
      "text/html": [
       "<div>\n",
       "<style scoped>\n",
       "    .dataframe tbody tr th:only-of-type {\n",
       "        vertical-align: middle;\n",
       "    }\n",
       "\n",
       "    .dataframe tbody tr th {\n",
       "        vertical-align: top;\n",
       "    }\n",
       "\n",
       "    .dataframe thead th {\n",
       "        text-align: right;\n",
       "    }\n",
       "</style>\n",
       "<table border=\"1\" class=\"dataframe\">\n",
       "  <thead>\n",
       "    <tr style=\"text-align: right;\">\n",
       "      <th>periods_relaType</th>\n",
       "      <th>1901-1920_education</th>\n",
       "      <th>1921-1940_education</th>\n",
       "      <th>1921-1940_employment</th>\n",
       "      <th>1941-1960_education</th>\n",
       "      <th>1941-1960_employment</th>\n",
       "      <th>1961-1980_education</th>\n",
       "      <th>1961-1980_employment</th>\n",
       "      <th>1981-2000_education</th>\n",
       "      <th>1981-2000_employment</th>\n",
       "      <th>Total</th>\n",
       "    </tr>\n",
       "    <tr>\n",
       "      <th>orgMainType</th>\n",
       "      <th></th>\n",
       "      <th></th>\n",
       "      <th></th>\n",
       "      <th></th>\n",
       "      <th></th>\n",
       "      <th></th>\n",
       "      <th></th>\n",
       "      <th></th>\n",
       "      <th></th>\n",
       "      <th></th>\n",
       "    </tr>\n",
       "  </thead>\n",
       "  <tbody>\n",
       "    <tr>\n",
       "      <th>astronomical observatory</th>\n",
       "      <td>0</td>\n",
       "      <td>16</td>\n",
       "      <td>0</td>\n",
       "      <td>30</td>\n",
       "      <td>3</td>\n",
       "      <td>11</td>\n",
       "      <td>0</td>\n",
       "      <td>2</td>\n",
       "      <td>0</td>\n",
       "      <td>62</td>\n",
       "    </tr>\n",
       "    <tr>\n",
       "      <th>educational institution</th>\n",
       "      <td>2</td>\n",
       "      <td>223</td>\n",
       "      <td>1</td>\n",
       "      <td>358</td>\n",
       "      <td>6</td>\n",
       "      <td>208</td>\n",
       "      <td>4</td>\n",
       "      <td>34</td>\n",
       "      <td>1</td>\n",
       "      <td>837</td>\n",
       "    </tr>\n",
       "    <tr>\n",
       "      <th>institute of technology</th>\n",
       "      <td>0</td>\n",
       "      <td>18</td>\n",
       "      <td>2</td>\n",
       "      <td>35</td>\n",
       "      <td>7</td>\n",
       "      <td>28</td>\n",
       "      <td>1</td>\n",
       "      <td>11</td>\n",
       "      <td>1</td>\n",
       "      <td>103</td>\n",
       "    </tr>\n",
       "    <tr>\n",
       "      <th>learned society</th>\n",
       "      <td>0</td>\n",
       "      <td>1</td>\n",
       "      <td>0</td>\n",
       "      <td>34</td>\n",
       "      <td>0</td>\n",
       "      <td>10</td>\n",
       "      <td>0</td>\n",
       "      <td>2</td>\n",
       "      <td>0</td>\n",
       "      <td>47</td>\n",
       "    </tr>\n",
       "    <tr>\n",
       "      <th>not classified organisation</th>\n",
       "      <td>0</td>\n",
       "      <td>2</td>\n",
       "      <td>1</td>\n",
       "      <td>4</td>\n",
       "      <td>1</td>\n",
       "      <td>4</td>\n",
       "      <td>0</td>\n",
       "      <td>1</td>\n",
       "      <td>0</td>\n",
       "      <td>13</td>\n",
       "    </tr>\n",
       "    <tr>\n",
       "      <th>private university</th>\n",
       "      <td>0</td>\n",
       "      <td>27</td>\n",
       "      <td>3</td>\n",
       "      <td>71</td>\n",
       "      <td>8</td>\n",
       "      <td>26</td>\n",
       "      <td>5</td>\n",
       "      <td>11</td>\n",
       "      <td>0</td>\n",
       "      <td>151</td>\n",
       "    </tr>\n",
       "    <tr>\n",
       "      <th>public university</th>\n",
       "      <td>0</td>\n",
       "      <td>15</td>\n",
       "      <td>1</td>\n",
       "      <td>64</td>\n",
       "      <td>12</td>\n",
       "      <td>43</td>\n",
       "      <td>0</td>\n",
       "      <td>14</td>\n",
       "      <td>2</td>\n",
       "      <td>151</td>\n",
       "    </tr>\n",
       "    <tr>\n",
       "      <th>research facility</th>\n",
       "      <td>0</td>\n",
       "      <td>0</td>\n",
       "      <td>0</td>\n",
       "      <td>2</td>\n",
       "      <td>0</td>\n",
       "      <td>1</td>\n",
       "      <td>0</td>\n",
       "      <td>1</td>\n",
       "      <td>0</td>\n",
       "      <td>4</td>\n",
       "    </tr>\n",
       "    <tr>\n",
       "      <th>research organisation</th>\n",
       "      <td>0</td>\n",
       "      <td>1</td>\n",
       "      <td>0</td>\n",
       "      <td>0</td>\n",
       "      <td>1</td>\n",
       "      <td>0</td>\n",
       "      <td>1</td>\n",
       "      <td>2</td>\n",
       "      <td>0</td>\n",
       "      <td>5</td>\n",
       "    </tr>\n",
       "    <tr>\n",
       "      <th>scientific organisation</th>\n",
       "      <td>0</td>\n",
       "      <td>0</td>\n",
       "      <td>0</td>\n",
       "      <td>1</td>\n",
       "      <td>0</td>\n",
       "      <td>0</td>\n",
       "      <td>0</td>\n",
       "      <td>0</td>\n",
       "      <td>0</td>\n",
       "      <td>1</td>\n",
       "    </tr>\n",
       "    <tr>\n",
       "      <th>university</th>\n",
       "      <td>2</td>\n",
       "      <td>116</td>\n",
       "      <td>7</td>\n",
       "      <td>276</td>\n",
       "      <td>31</td>\n",
       "      <td>143</td>\n",
       "      <td>2</td>\n",
       "      <td>44</td>\n",
       "      <td>5</td>\n",
       "      <td>626</td>\n",
       "    </tr>\n",
       "    <tr>\n",
       "      <th>Total</th>\n",
       "      <td>4</td>\n",
       "      <td>419</td>\n",
       "      <td>15</td>\n",
       "      <td>875</td>\n",
       "      <td>69</td>\n",
       "      <td>474</td>\n",
       "      <td>13</td>\n",
       "      <td>122</td>\n",
       "      <td>9</td>\n",
       "      <td>2000</td>\n",
       "    </tr>\n",
       "  </tbody>\n",
       "</table>\n",
       "</div>"
      ],
      "text/plain": [
       "periods_relaType             1901-1920_education  1921-1940_education  \\\n",
       "orgMainType                                                             \n",
       "astronomical observatory                       0                   16   \n",
       "educational institution                        2                  223   \n",
       "institute of technology                        0                   18   \n",
       "learned society                                0                    1   \n",
       "not classified organisation                    0                    2   \n",
       "private university                             0                   27   \n",
       "public university                              0                   15   \n",
       "research facility                              0                    0   \n",
       "research organisation                          0                    1   \n",
       "scientific organisation                        0                    0   \n",
       "university                                     2                  116   \n",
       "Total                                          4                  419   \n",
       "\n",
       "periods_relaType             1921-1940_employment  1941-1960_education  \\\n",
       "orgMainType                                                              \n",
       "astronomical observatory                        0                   30   \n",
       "educational institution                         1                  358   \n",
       "institute of technology                         2                   35   \n",
       "learned society                                 0                   34   \n",
       "not classified organisation                     1                    4   \n",
       "private university                              3                   71   \n",
       "public university                               1                   64   \n",
       "research facility                               0                    2   \n",
       "research organisation                           0                    0   \n",
       "scientific organisation                         0                    1   \n",
       "university                                      7                  276   \n",
       "Total                                          15                  875   \n",
       "\n",
       "periods_relaType             1941-1960_employment  1961-1980_education  \\\n",
       "orgMainType                                                              \n",
       "astronomical observatory                        3                   11   \n",
       "educational institution                         6                  208   \n",
       "institute of technology                         7                   28   \n",
       "learned society                                 0                   10   \n",
       "not classified organisation                     1                    4   \n",
       "private university                              8                   26   \n",
       "public university                              12                   43   \n",
       "research facility                               0                    1   \n",
       "research organisation                           1                    0   \n",
       "scientific organisation                         0                    0   \n",
       "university                                     31                  143   \n",
       "Total                                          69                  474   \n",
       "\n",
       "periods_relaType             1961-1980_employment  1981-2000_education  \\\n",
       "orgMainType                                                              \n",
       "astronomical observatory                        0                    2   \n",
       "educational institution                         4                   34   \n",
       "institute of technology                         1                   11   \n",
       "learned society                                 0                    2   \n",
       "not classified organisation                     0                    1   \n",
       "private university                              5                   11   \n",
       "public university                               0                   14   \n",
       "research facility                               0                    1   \n",
       "research organisation                           1                    2   \n",
       "scientific organisation                         0                    0   \n",
       "university                                      2                   44   \n",
       "Total                                          13                  122   \n",
       "\n",
       "periods_relaType             1981-2000_employment  Total  \n",
       "orgMainType                                               \n",
       "astronomical observatory                        0     62  \n",
       "educational institution                         1    837  \n",
       "institute of technology                         1    103  \n",
       "learned society                                 0     47  \n",
       "not classified organisation                     0     13  \n",
       "private university                              0    151  \n",
       "public university                               2    151  \n",
       "research facility                               0      4  \n",
       "research organisation                           0      5  \n",
       "scientific organisation                         0      1  \n",
       "university                                      5    626  \n",
       "Total                                           9   2000  "
      ]
     },
     "execution_count": 61,
     "metadata": {},
     "output_type": "execute_result"
    }
   ],
   "source": [
    "### Contingency table\n",
    "X = 'periods_relaType'\n",
    "Y = 'orgMainType'  \n",
    "\n",
    "ddf = df_prep[[X,Y]].pivot_table(index=Y,columns=X,observed=True, aggfunc=len,margins=True,margins_name=\"Total\").fillna(0).astype(int)\n",
    "ddf\n",
    "\n"
   ]
  },
  {
   "cell_type": "code",
   "execution_count": 62,
   "metadata": {
    "execution": {
     "iopub.execute_input": "2025-05-25T08:53:04.191718Z",
     "iopub.status.busy": "2025-05-25T08:53:04.190775Z",
     "iopub.status.idle": "2025-05-25T08:53:04.206492Z",
     "shell.execute_reply": "2025-05-25T08:53:04.204455Z",
     "shell.execute_reply.started": "2025-05-25T08:53:04.191638Z"
    }
   },
   "outputs": [],
   "source": [
    "ct_wm = ddf.iloc[:-1,:-1].copy(deep=True)"
   ]
  },
  {
   "cell_type": "code",
   "execution_count": 63,
   "metadata": {
    "execution": {
     "iopub.execute_input": "2025-05-25T08:53:05.098052Z",
     "iopub.status.busy": "2025-05-25T08:53:05.096667Z",
     "iopub.status.idle": "2025-05-25T08:53:05.114123Z",
     "shell.execute_reply": "2025-05-25T08:53:05.110120Z",
     "shell.execute_reply.started": "2025-05-25T08:53:05.097969Z"
    }
   },
   "outputs": [
    {
     "name": "stdout",
     "output_type": "stream",
     "text": [
      "Chi2 : 205.0 , dof : 80\n",
      "p-value : 6.265373713145856e-13\n",
      "phi2 = inertie (variance totale) : 0.10250175979053139\n",
      "Cramer:  0.11319328590431689\n"
     ]
    }
   ],
   "source": [
    "### We observe a relationship between these two variables, \n",
    "# not so strong \n",
    "bivariee_stats(ct_wm)"
   ]
  },
  {
   "cell_type": "code",
   "execution_count": 64,
   "metadata": {
    "execution": {
     "iopub.execute_input": "2025-05-25T08:53:07.587248Z",
     "iopub.status.busy": "2025-05-25T08:53:07.585251Z",
     "iopub.status.idle": "2025-05-25T08:53:08.340509Z",
     "shell.execute_reply": "2025-05-25T08:53:08.339527Z",
     "shell.execute_reply.started": "2025-05-25T08:53:07.587160Z"
    }
   },
   "outputs": [
    {
     "data": {
      "image/png": "[encoded data removed]",
      "text/plain": [
       "<Figure size 2000x1200 with 2 Axes>"
      ]
     },
     "metadata": {},
     "output_type": "display_data"
    }
   ],
   "source": [
    "pp = plot_chi2_residuals(ct_wm, figsize=(20, 12))"
   ]
  },
  {
   "cell_type": "markdown",
   "metadata": {},
   "source": [
    "## Prepare graph\n",
    "\n",
    "\n",
    "In a heuristic perspective we take the persons as representing relationships among organisations.\n",
    "\n",
    "Of course these relations are limited in time and with different meaning but in this general inspection of the field, we consider all the relationship. Filters are introduced later on.\n",
    "\n",
    "We will create a projection of the graph on organisations and keep in a first stage all relationships, with types and periods, one per relationship, where the joining elements are those concerning uniquely the person"
   ]
  },
  {
   "cell_type": "code",
   "execution_count": 65,
   "metadata": {
    "execution": {
     "iopub.execute_input": "2025-05-25T08:54:02.857381Z",
     "iopub.status.busy": "2025-05-25T08:54:02.856383Z",
     "iopub.status.idle": "2025-05-25T08:54:02.891535Z",
     "shell.execute_reply": "2025-05-25T08:54:02.889713Z",
     "shell.execute_reply.started": "2025-05-25T08:54:02.857300Z"
    }
   },
   "outputs": [
    {
     "name": "stdout",
     "output_type": "stream",
     "text": [
      "7236\n"
     ]
    }
   ],
   "source": [
    "### Join on common organisation: Cartesian product -> produces a lot of rows !\n",
    "merged = pd.merge(df_prep, df_prep, on=['uriPer','labelPer','birthYear', 'periods'])\n",
    "print(len(merged))\n"
   ]
  },
  {
   "cell_type": "code",
   "execution_count": 66,
   "metadata": {
    "execution": {
     "iopub.execute_input": "2025-05-25T08:54:05.961324Z",
     "iopub.status.busy": "2025-05-25T08:54:05.960393Z",
     "iopub.status.idle": "2025-05-25T08:54:05.979983Z",
     "shell.execute_reply": "2025-05-25T08:54:05.978001Z",
     "shell.execute_reply.started": "2025-05-25T08:54:05.961243Z"
    }
   },
   "outputs": [],
   "source": [
    "### Eliminate double rows :relationship A-B but relationship B-A\n",
    "merged = merged[merged['uriOrg_x'] < (merged['uriOrg_y'])]\n"
   ]
  },
  {
   "cell_type": "code",
   "execution_count": 67,
   "metadata": {
    "execution": {
     "iopub.execute_input": "2025-05-25T08:54:06.796566Z",
     "iopub.status.busy": "2025-05-25T08:54:06.795622Z",
     "iopub.status.idle": "2025-05-25T08:54:06.832907Z",
     "shell.execute_reply": "2025-05-25T08:54:06.831138Z",
     "shell.execute_reply.started": "2025-05-25T08:54:06.796485Z"
    }
   },
   "outputs": [
    {
     "name": "stdout",
     "output_type": "stream",
     "text": [
      "2571\n",
      "['uriPer', 'labelPer', 'birthYear', 'uriOrg_x', 'labelOrg_x', 'typesOrg_x', 'orgMainType_x', 'relaType_x', 'periods', 'periods_relaType_x', 'uriOrg_y', 'labelOrg_y', 'typesOrg_y', 'orgMainType_y', 'relaType_y', 'periods_relaType_y']\n"
     ]
    },
    {
     "data": {
      "text/html": [
       "<div>\n",
       "<style scoped>\n",
       "    .dataframe tbody tr th:only-of-type {\n",
       "        vertical-align: middle;\n",
       "    }\n",
       "\n",
       "    .dataframe tbody tr th {\n",
       "        vertical-align: top;\n",
       "    }\n",
       "\n",
       "    .dataframe thead th {\n",
       "        text-align: right;\n",
       "    }\n",
       "</style>\n",
       "<table border=\"1\" class=\"dataframe\">\n",
       "  <thead>\n",
       "    <tr style=\"text-align: right;\">\n",
       "      <th></th>\n",
       "      <th>uriPer</th>\n",
       "      <th>labelPer</th>\n",
       "      <th>birthYear</th>\n",
       "      <th>uriOrg_x</th>\n",
       "      <th>labelOrg_x</th>\n",
       "      <th>typesOrg_x</th>\n",
       "      <th>orgMainType_x</th>\n",
       "      <th>relaType_x</th>\n",
       "      <th>periods</th>\n",
       "      <th>periods_relaType_x</th>\n",
       "      <th>uriOrg_y</th>\n",
       "      <th>labelOrg_y</th>\n",
       "      <th>typesOrg_y</th>\n",
       "      <th>orgMainType_y</th>\n",
       "      <th>relaType_y</th>\n",
       "      <th>periods_relaType_y</th>\n",
       "    </tr>\n",
       "  </thead>\n",
       "  <tbody>\n",
       "    <tr>\n",
       "      <th>299</th>\n",
       "      <td>http://www.wikidata.org/entity/Q109968497</td>\n",
       "      <td>Luke Delaney</td>\n",
       "      <td>1979</td>\n",
       "      <td>http://www.wikidata.org/entity/Q1515048</td>\n",
       "      <td>Naval Postgraduate School</td>\n",
       "      <td>military university | open-access publisher | ...</td>\n",
       "      <td>university</td>\n",
       "      <td>education</td>\n",
       "      <td>1961-1980</td>\n",
       "      <td>1961-1980_education</td>\n",
       "      <td>http://www.wikidata.org/entity/Q7715757</td>\n",
       "      <td>The Basic School</td>\n",
       "      <td>census-designated place in the united states |...</td>\n",
       "      <td>educational institution</td>\n",
       "      <td>education</td>\n",
       "      <td>1961-1980_education</td>\n",
       "    </tr>\n",
       "    <tr>\n",
       "      <th>301</th>\n",
       "      <td>http://www.wikidata.org/entity/Q109968497</td>\n",
       "      <td>Luke Delaney</td>\n",
       "      <td>1979</td>\n",
       "      <td>http://www.wikidata.org/entity/Q1515048</td>\n",
       "      <td>Naval Postgraduate School</td>\n",
       "      <td>military university | open-access publisher | ...</td>\n",
       "      <td>university</td>\n",
       "      <td>education</td>\n",
       "      <td>1961-1980</td>\n",
       "      <td>1961-1980_education</td>\n",
       "      <td>http://www.wikidata.org/entity/Q6764126</td>\n",
       "      <td>Marine Corps University</td>\n",
       "      <td>staff college | university</td>\n",
       "      <td>university</td>\n",
       "      <td>education</td>\n",
       "      <td>1961-1980_education</td>\n",
       "    </tr>\n",
       "    <tr>\n",
       "      <th>305</th>\n",
       "      <td>http://www.wikidata.org/entity/Q109968900</td>\n",
       "      <td>Jack Hathaway</td>\n",
       "      <td>1982</td>\n",
       "      <td>http://www.wikidata.org/entity/Q3428915</td>\n",
       "      <td>Empire Test Pilots' School</td>\n",
       "      <td>educational institution | flight school</td>\n",
       "      <td>educational institution</td>\n",
       "      <td>education</td>\n",
       "      <td>1981-2000</td>\n",
       "      <td>1981-2000_education</td>\n",
       "      <td>http://www.wikidata.org/entity/Q7568951</td>\n",
       "      <td>South Windsor High School</td>\n",
       "      <td>high school</td>\n",
       "      <td>educational institution</td>\n",
       "      <td>education</td>\n",
       "      <td>1981-2000_education</td>\n",
       "    </tr>\n",
       "    <tr>\n",
       "      <th>306</th>\n",
       "      <td>http://www.wikidata.org/entity/Q109968900</td>\n",
       "      <td>Jack Hathaway</td>\n",
       "      <td>1982</td>\n",
       "      <td>http://www.wikidata.org/entity/Q3428915</td>\n",
       "      <td>Empire Test Pilots' School</td>\n",
       "      <td>educational institution | flight school</td>\n",
       "      <td>educational institution</td>\n",
       "      <td>education</td>\n",
       "      <td>1981-2000</td>\n",
       "      <td>1981-2000_education</td>\n",
       "      <td>http://www.wikidata.org/entity/Q559549</td>\n",
       "      <td>United States Naval Academy</td>\n",
       "      <td>census-designated place in the united states |...</td>\n",
       "      <td>astronomical observatory</td>\n",
       "      <td>education</td>\n",
       "      <td>1981-2000_education</td>\n",
       "    </tr>\n",
       "  </tbody>\n",
       "</table>\n",
       "</div>"
      ],
      "text/plain": [
       "                                        uriPer       labelPer  birthYear  \\\n",
       "299  http://www.wikidata.org/entity/Q109968497   Luke Delaney       1979   \n",
       "301  http://www.wikidata.org/entity/Q109968497   Luke Delaney       1979   \n",
       "305  http://www.wikidata.org/entity/Q109968900  Jack Hathaway       1982   \n",
       "306  http://www.wikidata.org/entity/Q109968900  Jack Hathaway       1982   \n",
       "\n",
       "                                    uriOrg_x                  labelOrg_x  \\\n",
       "299  http://www.wikidata.org/entity/Q1515048   Naval Postgraduate School   \n",
       "301  http://www.wikidata.org/entity/Q1515048   Naval Postgraduate School   \n",
       "305  http://www.wikidata.org/entity/Q3428915  Empire Test Pilots' School   \n",
       "306  http://www.wikidata.org/entity/Q3428915  Empire Test Pilots' School   \n",
       "\n",
       "                                            typesOrg_x  \\\n",
       "299  military university | open-access publisher | ...   \n",
       "301  military university | open-access publisher | ...   \n",
       "305            educational institution | flight school   \n",
       "306            educational institution | flight school   \n",
       "\n",
       "               orgMainType_x relaType_x    periods   periods_relaType_x  \\\n",
       "299               university  education  1961-1980  1961-1980_education   \n",
       "301               university  education  1961-1980  1961-1980_education   \n",
       "305  educational institution  education  1981-2000  1981-2000_education   \n",
       "306  educational institution  education  1981-2000  1981-2000_education   \n",
       "\n",
       "                                    uriOrg_y                   labelOrg_y  \\\n",
       "299  http://www.wikidata.org/entity/Q7715757             The Basic School   \n",
       "301  http://www.wikidata.org/entity/Q6764126      Marine Corps University   \n",
       "305  http://www.wikidata.org/entity/Q7568951    South Windsor High School   \n",
       "306   http://www.wikidata.org/entity/Q559549  United States Naval Academy   \n",
       "\n",
       "                                            typesOrg_y  \\\n",
       "299  census-designated place in the united states |...   \n",
       "301                         staff college | university   \n",
       "305                                        high school   \n",
       "306  census-designated place in the united states |...   \n",
       "\n",
       "                orgMainType_y relaType_y   periods_relaType_y  \n",
       "299   educational institution  education  1961-1980_education  \n",
       "301                university  education  1961-1980_education  \n",
       "305   educational institution  education  1981-2000_education  \n",
       "306  astronomical observatory  education  1981-2000_education  "
      ]
     },
     "execution_count": 67,
     "metadata": {},
     "output_type": "execute_result"
    }
   ],
   "source": [
    "### Inspect\n",
    "print(len(merged))\n",
    "print(list(merged.columns))\n",
    "merged.iloc[110:114]"
   ]
  },
  {
   "cell_type": "code",
   "execution_count": 68,
   "metadata": {
    "execution": {
     "iopub.execute_input": "2025-05-25T08:54:11.002454Z",
     "iopub.status.busy": "2025-05-25T08:54:11.001495Z",
     "iopub.status.idle": "2025-05-25T08:54:11.018741Z",
     "shell.execute_reply": "2025-05-25T08:54:11.016172Z",
     "shell.execute_reply.started": "2025-05-25T08:54:11.002372Z"
    }
   },
   "outputs": [
    {
     "name": "stdout",
     "output_type": "stream",
     "text": [
      "relaType\n",
      "education     1894\n",
      "employment     106\n",
      "dtype: int64\n"
     ]
    }
   ],
   "source": [
    "### Available ORIGINAL relationships\n",
    "print(df_p.groupby(by='relaType').size())"
   ]
  },
  {
   "cell_type": "code",
   "execution_count": 69,
   "metadata": {
    "execution": {
     "iopub.execute_input": "2025-05-25T08:54:12.476675Z",
     "iopub.status.busy": "2025-05-25T08:54:12.475757Z",
     "iopub.status.idle": "2025-05-25T08:54:12.505830Z",
     "shell.execute_reply": "2025-05-25T08:54:12.504237Z",
     "shell.execute_reply.started": "2025-05-25T08:54:12.476598Z"
    }
   },
   "outputs": [
    {
     "data": {
      "text/html": [
       "<div>\n",
       "<style scoped>\n",
       "    .dataframe tbody tr th:only-of-type {\n",
       "        vertical-align: middle;\n",
       "    }\n",
       "\n",
       "    .dataframe tbody tr th {\n",
       "        vertical-align: top;\n",
       "    }\n",
       "\n",
       "    .dataframe thead th {\n",
       "        text-align: right;\n",
       "    }\n",
       "</style>\n",
       "<table border=\"1\" class=\"dataframe\">\n",
       "  <thead>\n",
       "    <tr style=\"text-align: right;\">\n",
       "      <th></th>\n",
       "      <th>relaType_x</th>\n",
       "      <th>relaType_y</th>\n",
       "      <th>size</th>\n",
       "    </tr>\n",
       "  </thead>\n",
       "  <tbody>\n",
       "    <tr>\n",
       "      <th>0</th>\n",
       "      <td>education</td>\n",
       "      <td>education</td>\n",
       "      <td>2303</td>\n",
       "    </tr>\n",
       "    <tr>\n",
       "      <th>1</th>\n",
       "      <td>education</td>\n",
       "      <td>employment</td>\n",
       "      <td>124</td>\n",
       "    </tr>\n",
       "    <tr>\n",
       "      <th>2</th>\n",
       "      <td>employment</td>\n",
       "      <td>education</td>\n",
       "      <td>123</td>\n",
       "    </tr>\n",
       "    <tr>\n",
       "      <th>3</th>\n",
       "      <td>employment</td>\n",
       "      <td>employment</td>\n",
       "      <td>21</td>\n",
       "    </tr>\n",
       "  </tbody>\n",
       "</table>\n",
       "</div>"
      ],
      "text/plain": [
       "   relaType_x  relaType_y  size\n",
       "0   education   education  2303\n",
       "1   education  employment   124\n",
       "2  employment   education   123\n",
       "3  employment  employment    21"
      ]
     },
     "execution_count": 69,
     "metadata": {},
     "output_type": "execute_result"
    }
   ],
   "source": [
    "### Number of relationships per type prepared for graph\n",
    "gl_relaType = merged.groupby(['relaType_x', 'relaType_y'], as_index=False).size().sort_values(by='size', ascending=False)\n",
    "\n",
    "gl_relaType\n"
   ]
  },
  {
   "cell_type": "markdown",
   "metadata": {},
   "source": [
    "### Swap values in order to have the same orientation for all relationships\n",
    "\n",
    "All relationships should have the same 'orientation', which is determined by alphabetical order:\n",
    "\n",
    "education -> employment -> membership"
   ]
  },
  {
   "cell_type": "code",
   "execution_count": 70,
   "metadata": {
    "execution": {
     "iopub.execute_input": "2025-05-25T08:54:17.503446Z",
     "iopub.status.busy": "2025-05-25T08:54:17.502456Z",
     "iopub.status.idle": "2025-05-25T08:54:17.527927Z",
     "shell.execute_reply": "2025-05-25T08:54:17.525937Z",
     "shell.execute_reply.started": "2025-05-25T08:54:17.503364Z"
    }
   },
   "outputs": [
    {
     "name": "stdout",
     "output_type": "stream",
     "text": [
      "  column1 column2\n",
      "0       X       A\n",
      "1       Y       B\n",
      "2       Z       C\n",
      "3       W       D\n"
     ]
    }
   ],
   "source": [
    "### Example\n",
    "df = pd.DataFrame({\n",
    "    'column1': ['A', 'B', 'C', 'D'],\n",
    "    'column2': ['X', 'Y', 'Z', 'W']\n",
    "})\n",
    "\n",
    "condition = df['column1'] < df['column2']\n",
    "df.loc[condition, ['column1', 'column2']] = df.loc[condition, ['column2', 'column1']].values\n",
    "\n",
    "print(df)"
   ]
  },
  {
   "cell_type": "code",
   "execution_count": 71,
   "metadata": {
    "execution": {
     "iopub.execute_input": "2025-05-25T08:54:18.610714Z",
     "iopub.status.busy": "2025-05-25T08:54:18.609726Z",
     "iopub.status.idle": "2025-05-25T08:54:18.623665Z",
     "shell.execute_reply": "2025-05-25T08:54:18.621127Z",
     "shell.execute_reply.started": "2025-05-25T08:54:18.610631Z"
    }
   },
   "outputs": [],
   "source": [
    "### Test whether the relationship types are in the wrong alphabetical order.\n",
    "condition = merged.relaType_x > merged.relaType_y"
   ]
  },
  {
   "cell_type": "code",
   "execution_count": 72,
   "metadata": {
    "execution": {
     "iopub.execute_input": "2025-05-25T08:54:20.200755Z",
     "iopub.status.busy": "2025-05-25T08:54:20.199817Z",
     "iopub.status.idle": "2025-05-25T08:54:20.226272Z",
     "shell.execute_reply": "2025-05-25T08:54:20.224101Z",
     "shell.execute_reply.started": "2025-05-25T08:54:20.200676Z"
    }
   },
   "outputs": [],
   "source": [
    "### Transpose under condition that the relation orientation is 'wrong',\n",
    "# i.e. not according the alphabatical order\n",
    "\n",
    "merged.loc[condition, \n",
    "    ['uriOrg_x','labelOrg_x','orgMainType_x','relaType_x', 'uriOrg_y','labelOrg_y','orgMainType_y','relaType_y']] = \\\n",
    "        merged.loc[condition,\n",
    "    ['uriOrg_y','labelOrg_y','orgMainType_y','relaType_y','uriOrg_x','labelOrg_x','orgMainType_x','relaType_x']].values"
   ]
  },
  {
   "cell_type": "code",
   "execution_count": 73,
   "metadata": {
    "execution": {
     "iopub.execute_input": "2025-05-25T08:54:20.833128Z",
     "iopub.status.busy": "2025-05-25T08:54:20.832185Z",
     "iopub.status.idle": "2025-05-25T08:54:20.870471Z",
     "shell.execute_reply": "2025-05-25T08:54:20.867964Z",
     "shell.execute_reply.started": "2025-05-25T08:54:20.833048Z"
    }
   },
   "outputs": [
    {
     "data": {
      "text/html": [
       "<div>\n",
       "<style scoped>\n",
       "    .dataframe tbody tr th:only-of-type {\n",
       "        vertical-align: middle;\n",
       "    }\n",
       "\n",
       "    .dataframe tbody tr th {\n",
       "        vertical-align: top;\n",
       "    }\n",
       "\n",
       "    .dataframe thead th {\n",
       "        text-align: right;\n",
       "    }\n",
       "</style>\n",
       "<table border=\"1\" class=\"dataframe\">\n",
       "  <thead>\n",
       "    <tr style=\"text-align: right;\">\n",
       "      <th></th>\n",
       "      <th>uriPer</th>\n",
       "      <th>labelPer</th>\n",
       "      <th>birthYear</th>\n",
       "      <th>uriOrg_x</th>\n",
       "      <th>labelOrg_x</th>\n",
       "      <th>typesOrg_x</th>\n",
       "      <th>orgMainType_x</th>\n",
       "      <th>relaType_x</th>\n",
       "      <th>periods</th>\n",
       "      <th>periods_relaType_x</th>\n",
       "      <th>uriOrg_y</th>\n",
       "      <th>labelOrg_y</th>\n",
       "      <th>typesOrg_y</th>\n",
       "      <th>orgMainType_y</th>\n",
       "      <th>relaType_y</th>\n",
       "      <th>periods_relaType_y</th>\n",
       "    </tr>\n",
       "  </thead>\n",
       "  <tbody>\n",
       "    <tr>\n",
       "      <th>299</th>\n",
       "      <td>http://www.wikidata.org/entity/Q109968497</td>\n",
       "      <td>Luke Delaney</td>\n",
       "      <td>1979</td>\n",
       "      <td>http://www.wikidata.org/entity/Q1515048</td>\n",
       "      <td>Naval Postgraduate School</td>\n",
       "      <td>military university | open-access publisher | ...</td>\n",
       "      <td>university</td>\n",
       "      <td>education</td>\n",
       "      <td>1961-1980</td>\n",
       "      <td>1961-1980_education</td>\n",
       "      <td>http://www.wikidata.org/entity/Q7715757</td>\n",
       "      <td>The Basic School</td>\n",
       "      <td>census-designated place in the united states |...</td>\n",
       "      <td>educational institution</td>\n",
       "      <td>education</td>\n",
       "      <td>1961-1980_education</td>\n",
       "    </tr>\n",
       "    <tr>\n",
       "      <th>301</th>\n",
       "      <td>http://www.wikidata.org/entity/Q109968497</td>\n",
       "      <td>Luke Delaney</td>\n",
       "      <td>1979</td>\n",
       "      <td>http://www.wikidata.org/entity/Q1515048</td>\n",
       "      <td>Naval Postgraduate School</td>\n",
       "      <td>military university | open-access publisher | ...</td>\n",
       "      <td>university</td>\n",
       "      <td>education</td>\n",
       "      <td>1961-1980</td>\n",
       "      <td>1961-1980_education</td>\n",
       "      <td>http://www.wikidata.org/entity/Q6764126</td>\n",
       "      <td>Marine Corps University</td>\n",
       "      <td>staff college | university</td>\n",
       "      <td>university</td>\n",
       "      <td>education</td>\n",
       "      <td>1961-1980_education</td>\n",
       "    </tr>\n",
       "    <tr>\n",
       "      <th>305</th>\n",
       "      <td>http://www.wikidata.org/entity/Q109968900</td>\n",
       "      <td>Jack Hathaway</td>\n",
       "      <td>1982</td>\n",
       "      <td>http://www.wikidata.org/entity/Q3428915</td>\n",
       "      <td>Empire Test Pilots' School</td>\n",
       "      <td>educational institution | flight school</td>\n",
       "      <td>educational institution</td>\n",
       "      <td>education</td>\n",
       "      <td>1981-2000</td>\n",
       "      <td>1981-2000_education</td>\n",
       "      <td>http://www.wikidata.org/entity/Q7568951</td>\n",
       "      <td>South Windsor High School</td>\n",
       "      <td>high school</td>\n",
       "      <td>educational institution</td>\n",
       "      <td>education</td>\n",
       "      <td>1981-2000_education</td>\n",
       "    </tr>\n",
       "    <tr>\n",
       "      <th>306</th>\n",
       "      <td>http://www.wikidata.org/entity/Q109968900</td>\n",
       "      <td>Jack Hathaway</td>\n",
       "      <td>1982</td>\n",
       "      <td>http://www.wikidata.org/entity/Q3428915</td>\n",
       "      <td>Empire Test Pilots' School</td>\n",
       "      <td>educational institution | flight school</td>\n",
       "      <td>educational institution</td>\n",
       "      <td>education</td>\n",
       "      <td>1981-2000</td>\n",
       "      <td>1981-2000_education</td>\n",
       "      <td>http://www.wikidata.org/entity/Q559549</td>\n",
       "      <td>United States Naval Academy</td>\n",
       "      <td>census-designated place in the united states |...</td>\n",
       "      <td>astronomical observatory</td>\n",
       "      <td>education</td>\n",
       "      <td>1981-2000_education</td>\n",
       "    </tr>\n",
       "    <tr>\n",
       "      <th>307</th>\n",
       "      <td>http://www.wikidata.org/entity/Q109968900</td>\n",
       "      <td>Jack Hathaway</td>\n",
       "      <td>1982</td>\n",
       "      <td>http://www.wikidata.org/entity/Q3428915</td>\n",
       "      <td>Empire Test Pilots' School</td>\n",
       "      <td>educational institution | flight school</td>\n",
       "      <td>educational institution</td>\n",
       "      <td>education</td>\n",
       "      <td>1981-2000</td>\n",
       "      <td>1981-2000_education</td>\n",
       "      <td>http://www.wikidata.org/entity/Q575662</td>\n",
       "      <td>Naval War College</td>\n",
       "      <td>naval academy | staff college | university campus</td>\n",
       "      <td>university</td>\n",
       "      <td>education</td>\n",
       "      <td>1981-2000_education</td>\n",
       "    </tr>\n",
       "    <tr>\n",
       "      <th>308</th>\n",
       "      <td>http://www.wikidata.org/entity/Q109968900</td>\n",
       "      <td>Jack Hathaway</td>\n",
       "      <td>1982</td>\n",
       "      <td>http://www.wikidata.org/entity/Q181177</td>\n",
       "      <td>Cranfield University</td>\n",
       "      <td>educational organization | higher education in...</td>\n",
       "      <td>university</td>\n",
       "      <td>education</td>\n",
       "      <td>1981-2000</td>\n",
       "      <td>1981-2000_education</td>\n",
       "      <td>http://www.wikidata.org/entity/Q3428915</td>\n",
       "      <td>Empire Test Pilots' School</td>\n",
       "      <td>educational institution | flight school</td>\n",
       "      <td>educational institution</td>\n",
       "      <td>education</td>\n",
       "      <td>1981-2000_education</td>\n",
       "    </tr>\n",
       "    <tr>\n",
       "      <th>310</th>\n",
       "      <td>http://www.wikidata.org/entity/Q109968900</td>\n",
       "      <td>Jack Hathaway</td>\n",
       "      <td>1982</td>\n",
       "      <td>http://www.wikidata.org/entity/Q181177</td>\n",
       "      <td>Cranfield University</td>\n",
       "      <td>educational organization | higher education in...</td>\n",
       "      <td>university</td>\n",
       "      <td>education</td>\n",
       "      <td>1981-2000</td>\n",
       "      <td>1981-2000_education</td>\n",
       "      <td>http://www.wikidata.org/entity/Q7568951</td>\n",
       "      <td>South Windsor High School</td>\n",
       "      <td>high school</td>\n",
       "      <td>educational institution</td>\n",
       "      <td>education</td>\n",
       "      <td>1981-2000_education</td>\n",
       "    </tr>\n",
       "  </tbody>\n",
       "</table>\n",
       "</div>"
      ],
      "text/plain": [
       "                                        uriPer       labelPer  birthYear  \\\n",
       "299  http://www.wikidata.org/entity/Q109968497   Luke Delaney       1979   \n",
       "301  http://www.wikidata.org/entity/Q109968497   Luke Delaney       1979   \n",
       "305  http://www.wikidata.org/entity/Q109968900  Jack Hathaway       1982   \n",
       "306  http://www.wikidata.org/entity/Q109968900  Jack Hathaway       1982   \n",
       "307  http://www.wikidata.org/entity/Q109968900  Jack Hathaway       1982   \n",
       "308  http://www.wikidata.org/entity/Q109968900  Jack Hathaway       1982   \n",
       "310  http://www.wikidata.org/entity/Q109968900  Jack Hathaway       1982   \n",
       "\n",
       "                                    uriOrg_x                  labelOrg_x  \\\n",
       "299  http://www.wikidata.org/entity/Q1515048   Naval Postgraduate School   \n",
       "301  http://www.wikidata.org/entity/Q1515048   Naval Postgraduate School   \n",
       "305  http://www.wikidata.org/entity/Q3428915  Empire Test Pilots' School   \n",
       "306  http://www.wikidata.org/entity/Q3428915  Empire Test Pilots' School   \n",
       "307  http://www.wikidata.org/entity/Q3428915  Empire Test Pilots' School   \n",
       "308   http://www.wikidata.org/entity/Q181177        Cranfield University   \n",
       "310   http://www.wikidata.org/entity/Q181177        Cranfield University   \n",
       "\n",
       "                                            typesOrg_x  \\\n",
       "299  military university | open-access publisher | ...   \n",
       "301  military university | open-access publisher | ...   \n",
       "305            educational institution | flight school   \n",
       "306            educational institution | flight school   \n",
       "307            educational institution | flight school   \n",
       "308  educational organization | higher education in...   \n",
       "310  educational organization | higher education in...   \n",
       "\n",
       "               orgMainType_x relaType_x    periods   periods_relaType_x  \\\n",
       "299               university  education  1961-1980  1961-1980_education   \n",
       "301               university  education  1961-1980  1961-1980_education   \n",
       "305  educational institution  education  1981-2000  1981-2000_education   \n",
       "306  educational institution  education  1981-2000  1981-2000_education   \n",
       "307  educational institution  education  1981-2000  1981-2000_education   \n",
       "308               university  education  1981-2000  1981-2000_education   \n",
       "310               university  education  1981-2000  1981-2000_education   \n",
       "\n",
       "                                    uriOrg_y                   labelOrg_y  \\\n",
       "299  http://www.wikidata.org/entity/Q7715757             The Basic School   \n",
       "301  http://www.wikidata.org/entity/Q6764126      Marine Corps University   \n",
       "305  http://www.wikidata.org/entity/Q7568951    South Windsor High School   \n",
       "306   http://www.wikidata.org/entity/Q559549  United States Naval Academy   \n",
       "307   http://www.wikidata.org/entity/Q575662            Naval War College   \n",
       "308  http://www.wikidata.org/entity/Q3428915   Empire Test Pilots' School   \n",
       "310  http://www.wikidata.org/entity/Q7568951    South Windsor High School   \n",
       "\n",
       "                                            typesOrg_y  \\\n",
       "299  census-designated place in the united states |...   \n",
       "301                         staff college | university   \n",
       "305                                        high school   \n",
       "306  census-designated place in the united states |...   \n",
       "307  naval academy | staff college | university campus   \n",
       "308            educational institution | flight school   \n",
       "310                                        high school   \n",
       "\n",
       "                orgMainType_y relaType_y   periods_relaType_y  \n",
       "299   educational institution  education  1961-1980_education  \n",
       "301                university  education  1961-1980_education  \n",
       "305   educational institution  education  1981-2000_education  \n",
       "306  astronomical observatory  education  1981-2000_education  \n",
       "307                university  education  1981-2000_education  \n",
       "308   educational institution  education  1981-2000_education  \n",
       "310   educational institution  education  1981-2000_education  "
      ]
     },
     "execution_count": 73,
     "metadata": {},
     "output_type": "execute_result"
    }
   ],
   "source": [
    "### Inspect\n",
    "\n",
    "merged.iloc[110:117]"
   ]
  },
  {
   "cell_type": "code",
   "execution_count": 74,
   "metadata": {
    "execution": {
     "iopub.execute_input": "2025-05-25T08:54:23.308692Z",
     "iopub.status.busy": "2025-05-25T08:54:23.307630Z",
     "iopub.status.idle": "2025-05-25T08:54:23.339663Z",
     "shell.execute_reply": "2025-05-25T08:54:23.337699Z",
     "shell.execute_reply.started": "2025-05-25T08:54:23.308607Z"
    }
   },
   "outputs": [
    {
     "data": {
      "text/html": [
       "<div>\n",
       "<style scoped>\n",
       "    .dataframe tbody tr th:only-of-type {\n",
       "        vertical-align: middle;\n",
       "    }\n",
       "\n",
       "    .dataframe tbody tr th {\n",
       "        vertical-align: top;\n",
       "    }\n",
       "\n",
       "    .dataframe thead th {\n",
       "        text-align: right;\n",
       "    }\n",
       "</style>\n",
       "<table border=\"1\" class=\"dataframe\">\n",
       "  <thead>\n",
       "    <tr style=\"text-align: right;\">\n",
       "      <th></th>\n",
       "      <th>relaType_x</th>\n",
       "      <th>relaType_y</th>\n",
       "      <th>size</th>\n",
       "    </tr>\n",
       "  </thead>\n",
       "  <tbody>\n",
       "    <tr>\n",
       "      <th>0</th>\n",
       "      <td>education</td>\n",
       "      <td>education</td>\n",
       "      <td>2303</td>\n",
       "    </tr>\n",
       "    <tr>\n",
       "      <th>1</th>\n",
       "      <td>education</td>\n",
       "      <td>employment</td>\n",
       "      <td>247</td>\n",
       "    </tr>\n",
       "    <tr>\n",
       "      <th>2</th>\n",
       "      <td>employment</td>\n",
       "      <td>employment</td>\n",
       "      <td>21</td>\n",
       "    </tr>\n",
       "  </tbody>\n",
       "</table>\n",
       "</div>"
      ],
      "text/plain": [
       "   relaType_x  relaType_y  size\n",
       "0   education   education  2303\n",
       "1   education  employment   247\n",
       "2  employment  employment    21"
      ]
     },
     "execution_count": 74,
     "metadata": {},
     "output_type": "execute_result"
    }
   ],
   "source": [
    "### Number of relationships per type prepared for graph\n",
    "gl_relaType = merged.groupby(['relaType_x', 'relaType_y'], as_index=False).size().sort_values(by='size', ascending=False)\n",
    "\n",
    "gl_relaType\n"
   ]
  },
  {
   "cell_type": "code",
   "execution_count": 75,
   "metadata": {
    "execution": {
     "iopub.execute_input": "2025-05-25T08:54:28.438907Z",
     "iopub.status.busy": "2025-05-25T08:54:28.437920Z",
     "iopub.status.idle": "2025-05-25T08:54:28.518917Z",
     "shell.execute_reply": "2025-05-25T08:54:28.516289Z",
     "shell.execute_reply.started": "2025-05-25T08:54:28.438782Z"
    }
   },
   "outputs": [],
   "source": [
    "### Concat relationships\n",
    "merged['relaType_concat'] = merged.apply(lambda x: x.relaType_x + '_' +x.relaType_y, axis=1)"
   ]
  },
  {
   "cell_type": "code",
   "execution_count": 76,
   "metadata": {
    "execution": {
     "iopub.execute_input": "2025-05-25T08:54:29.573464Z",
     "iopub.status.busy": "2025-05-25T08:54:29.571375Z",
     "iopub.status.idle": "2025-05-25T08:54:29.610158Z",
     "shell.execute_reply": "2025-05-25T08:54:29.608724Z",
     "shell.execute_reply.started": "2025-05-25T08:54:29.573378Z"
    }
   },
   "outputs": [
    {
     "name": "stdout",
     "output_type": "stream",
     "text": [
      "['uriPer', 'labelPer', 'birthYear', 'uriOrg_x', 'labelOrg_x', 'typesOrg_x', 'orgMainType_x', 'relaType_x', 'periods', 'periods_relaType_x', 'uriOrg_y', 'labelOrg_y', 'typesOrg_y', 'orgMainType_y', 'relaType_y', 'periods_relaType_y', 'relaType_concat']\n"
     ]
    },
    {
     "data": {
      "text/html": [
       "<div>\n",
       "<style scoped>\n",
       "    .dataframe tbody tr th:only-of-type {\n",
       "        vertical-align: middle;\n",
       "    }\n",
       "\n",
       "    .dataframe tbody tr th {\n",
       "        vertical-align: top;\n",
       "    }\n",
       "\n",
       "    .dataframe thead th {\n",
       "        text-align: right;\n",
       "    }\n",
       "</style>\n",
       "<table border=\"1\" class=\"dataframe\">\n",
       "  <thead>\n",
       "    <tr style=\"text-align: right;\">\n",
       "      <th></th>\n",
       "      <th>uriPer</th>\n",
       "      <th>labelPer</th>\n",
       "      <th>birthYear</th>\n",
       "      <th>uriOrg_x</th>\n",
       "      <th>labelOrg_x</th>\n",
       "      <th>typesOrg_x</th>\n",
       "      <th>orgMainType_x</th>\n",
       "      <th>relaType_x</th>\n",
       "      <th>periods</th>\n",
       "      <th>periods_relaType_x</th>\n",
       "      <th>uriOrg_y</th>\n",
       "      <th>labelOrg_y</th>\n",
       "      <th>typesOrg_y</th>\n",
       "      <th>orgMainType_y</th>\n",
       "      <th>relaType_y</th>\n",
       "      <th>periods_relaType_y</th>\n",
       "      <th>relaType_concat</th>\n",
       "    </tr>\n",
       "  </thead>\n",
       "  <tbody>\n",
       "    <tr>\n",
       "      <th>299</th>\n",
       "      <td>http://www.wikidata.org/entity/Q109968497</td>\n",
       "      <td>Luke Delaney</td>\n",
       "      <td>1979</td>\n",
       "      <td>http://www.wikidata.org/entity/Q1515048</td>\n",
       "      <td>Naval Postgraduate School</td>\n",
       "      <td>military university | open-access publisher | ...</td>\n",
       "      <td>university</td>\n",
       "      <td>education</td>\n",
       "      <td>1961-1980</td>\n",
       "      <td>1961-1980_education</td>\n",
       "      <td>http://www.wikidata.org/entity/Q7715757</td>\n",
       "      <td>The Basic School</td>\n",
       "      <td>census-designated place in the united states |...</td>\n",
       "      <td>educational institution</td>\n",
       "      <td>education</td>\n",
       "      <td>1961-1980_education</td>\n",
       "      <td>education_education</td>\n",
       "    </tr>\n",
       "    <tr>\n",
       "      <th>301</th>\n",
       "      <td>http://www.wikidata.org/entity/Q109968497</td>\n",
       "      <td>Luke Delaney</td>\n",
       "      <td>1979</td>\n",
       "      <td>http://www.wikidata.org/entity/Q1515048</td>\n",
       "      <td>Naval Postgraduate School</td>\n",
       "      <td>military university | open-access publisher | ...</td>\n",
       "      <td>university</td>\n",
       "      <td>education</td>\n",
       "      <td>1961-1980</td>\n",
       "      <td>1961-1980_education</td>\n",
       "      <td>http://www.wikidata.org/entity/Q6764126</td>\n",
       "      <td>Marine Corps University</td>\n",
       "      <td>staff college | university</td>\n",
       "      <td>university</td>\n",
       "      <td>education</td>\n",
       "      <td>1961-1980_education</td>\n",
       "      <td>education_education</td>\n",
       "    </tr>\n",
       "  </tbody>\n",
       "</table>\n",
       "</div>"
      ],
      "text/plain": [
       "                                        uriPer      labelPer  birthYear  \\\n",
       "299  http://www.wikidata.org/entity/Q109968497  Luke Delaney       1979   \n",
       "301  http://www.wikidata.org/entity/Q109968497  Luke Delaney       1979   \n",
       "\n",
       "                                    uriOrg_x                 labelOrg_x  \\\n",
       "299  http://www.wikidata.org/entity/Q1515048  Naval Postgraduate School   \n",
       "301  http://www.wikidata.org/entity/Q1515048  Naval Postgraduate School   \n",
       "\n",
       "                                            typesOrg_x orgMainType_x  \\\n",
       "299  military university | open-access publisher | ...    university   \n",
       "301  military university | open-access publisher | ...    university   \n",
       "\n",
       "    relaType_x    periods   periods_relaType_x  \\\n",
       "299  education  1961-1980  1961-1980_education   \n",
       "301  education  1961-1980  1961-1980_education   \n",
       "\n",
       "                                    uriOrg_y               labelOrg_y  \\\n",
       "299  http://www.wikidata.org/entity/Q7715757         The Basic School   \n",
       "301  http://www.wikidata.org/entity/Q6764126  Marine Corps University   \n",
       "\n",
       "                                            typesOrg_y  \\\n",
       "299  census-designated place in the united states |...   \n",
       "301                         staff college | university   \n",
       "\n",
       "               orgMainType_y relaType_y   periods_relaType_y  \\\n",
       "299  educational institution  education  1961-1980_education   \n",
       "301               university  education  1961-1980_education   \n",
       "\n",
       "         relaType_concat  \n",
       "299  education_education  \n",
       "301  education_education  "
      ]
     },
     "execution_count": 76,
     "metadata": {},
     "output_type": "execute_result"
    }
   ],
   "source": [
    "print(list(merged.columns))\n",
    "merged.iloc[110:112]\n"
   ]
  },
  {
   "cell_type": "code",
   "execution_count": 77,
   "metadata": {
    "execution": {
     "iopub.execute_input": "2025-05-25T08:54:32.411475Z",
     "iopub.status.busy": "2025-05-25T08:54:32.410532Z",
     "iopub.status.idle": "2025-05-25T08:54:32.729052Z",
     "shell.execute_reply": "2025-05-25T08:54:32.727446Z",
     "shell.execute_reply.started": "2025-05-25T08:54:32.411393Z"
    }
   },
   "outputs": [],
   "source": [
    "df_graph=merged.groupby(['periods', 'relaType_concat', 'uriOrg_x', 'labelOrg_x', 'orgMainType_x',  \n",
    "                         'uriOrg_y', 'labelOrg_y', 'orgMainType_y'],\n",
    "               as_index=False)\\\n",
    "    .agg({'labelPer': '|'.join, 'uriPer': '|'.join})\n",
    "\n",
    "df_graph['number'] = df_graph.labelPer.apply(lambda x : len(x.split('|')))\n"
   ]
  },
  {
   "cell_type": "code",
   "execution_count": 78,
   "metadata": {
    "execution": {
     "iopub.execute_input": "2025-05-25T08:54:33.313850Z",
     "iopub.status.busy": "2025-05-25T08:54:33.312970Z",
     "iopub.status.idle": "2025-05-25T08:54:33.343775Z",
     "shell.execute_reply": "2025-05-25T08:54:33.342620Z",
     "shell.execute_reply.started": "2025-05-25T08:54:33.313773Z"
    }
   },
   "outputs": [
    {
     "name": "stdout",
     "output_type": "stream",
     "text": [
      "2325\n"
     ]
    },
    {
     "data": {
      "text/html": [
       "<div>\n",
       "<style scoped>\n",
       "    .dataframe tbody tr th:only-of-type {\n",
       "        vertical-align: middle;\n",
       "    }\n",
       "\n",
       "    .dataframe tbody tr th {\n",
       "        vertical-align: top;\n",
       "    }\n",
       "\n",
       "    .dataframe thead th {\n",
       "        text-align: right;\n",
       "    }\n",
       "</style>\n",
       "<table border=\"1\" class=\"dataframe\">\n",
       "  <thead>\n",
       "    <tr style=\"text-align: right;\">\n",
       "      <th></th>\n",
       "      <th>periods</th>\n",
       "      <th>relaType_concat</th>\n",
       "      <th>uriOrg_x</th>\n",
       "      <th>labelOrg_x</th>\n",
       "      <th>orgMainType_x</th>\n",
       "      <th>uriOrg_y</th>\n",
       "      <th>labelOrg_y</th>\n",
       "      <th>orgMainType_y</th>\n",
       "      <th>labelPer</th>\n",
       "      <th>uriPer</th>\n",
       "      <th>number</th>\n",
       "    </tr>\n",
       "  </thead>\n",
       "  <tbody>\n",
       "    <tr>\n",
       "      <th>724</th>\n",
       "      <td>1941-1960</td>\n",
       "      <td>education_education</td>\n",
       "      <td>http://www.wikidata.org/entity/Q1331280</td>\n",
       "      <td>United States Air Force Academy</td>\n",
       "      <td>learned society</td>\n",
       "      <td>http://www.wikidata.org/entity/Q3428253</td>\n",
       "      <td>U.S. Air Force Test Pilot School</td>\n",
       "      <td>educational institution</td>\n",
       "      <td>Charles J. Precourt|Donald R. McMonagle|John C...</td>\n",
       "      <td>http://www.wikidata.org/entity/Q1065133|http:/...</td>\n",
       "      <td>19</td>\n",
       "    </tr>\n",
       "    <tr>\n",
       "      <th>620</th>\n",
       "      <td>1941-1960</td>\n",
       "      <td>education_education</td>\n",
       "      <td>http://www.wikidata.org/entity/Q1128819</td>\n",
       "      <td>United States Naval Test Pilot School</td>\n",
       "      <td>educational institution</td>\n",
       "      <td>http://www.wikidata.org/entity/Q559549</td>\n",
       "      <td>United States Naval Academy</td>\n",
       "      <td>astronomical observatory</td>\n",
       "      <td>Kenneth S. Reightler, Jr.|Robert D. Cabana|Ste...</td>\n",
       "      <td>http://www.wikidata.org/entity/Q1323571|http:/...</td>\n",
       "      <td>18</td>\n",
       "    </tr>\n",
       "    <tr>\n",
       "      <th>590</th>\n",
       "      <td>1941-1960</td>\n",
       "      <td>education_education</td>\n",
       "      <td>http://www.wikidata.org/entity/Q1128819</td>\n",
       "      <td>United States Naval Test Pilot School</td>\n",
       "      <td>educational institution</td>\n",
       "      <td>http://www.wikidata.org/entity/Q1515048</td>\n",
       "      <td>Naval Postgraduate School</td>\n",
       "      <td>university</td>\n",
       "      <td>Kenneth S. Reightler, Jr.|Kent Rominger|Robert...</td>\n",
       "      <td>http://www.wikidata.org/entity/Q1323571|http:/...</td>\n",
       "      <td>11</td>\n",
       "    </tr>\n",
       "    <tr>\n",
       "      <th>875</th>\n",
       "      <td>1941-1960</td>\n",
       "      <td>education_education</td>\n",
       "      <td>http://www.wikidata.org/entity/Q1515048</td>\n",
       "      <td>Naval Postgraduate School</td>\n",
       "      <td>university</td>\n",
       "      <td>http://www.wikidata.org/entity/Q559549</td>\n",
       "      <td>United States Naval Academy</td>\n",
       "      <td>astronomical observatory</td>\n",
       "      <td>David Leestma|Kenneth S. Reightler, Jr.|Robert...</td>\n",
       "      <td>http://www.wikidata.org/entity/Q1174077|http:/...</td>\n",
       "      <td>10</td>\n",
       "    </tr>\n",
       "    <tr>\n",
       "      <th>1631</th>\n",
       "      <td>1961-1980</td>\n",
       "      <td>education_education</td>\n",
       "      <td>http://www.wikidata.org/entity/Q1128819</td>\n",
       "      <td>United States Naval Test Pilot School</td>\n",
       "      <td>educational institution</td>\n",
       "      <td>http://www.wikidata.org/entity/Q1515048</td>\n",
       "      <td>Naval Postgraduate School</td>\n",
       "      <td>university</td>\n",
       "      <td>Luke Delaney|Kenneth Ham|Stephen Frick|William...</td>\n",
       "      <td>http://www.wikidata.org/entity/Q109968497|http...</td>\n",
       "      <td>9</td>\n",
       "    </tr>\n",
       "  </tbody>\n",
       "</table>\n",
       "</div>"
      ],
      "text/plain": [
       "        periods      relaType_concat                                 uriOrg_x  \\\n",
       "724   1941-1960  education_education  http://www.wikidata.org/entity/Q1331280   \n",
       "620   1941-1960  education_education  http://www.wikidata.org/entity/Q1128819   \n",
       "590   1941-1960  education_education  http://www.wikidata.org/entity/Q1128819   \n",
       "875   1941-1960  education_education  http://www.wikidata.org/entity/Q1515048   \n",
       "1631  1961-1980  education_education  http://www.wikidata.org/entity/Q1128819   \n",
       "\n",
       "                                 labelOrg_x            orgMainType_x  \\\n",
       "724         United States Air Force Academy          learned society   \n",
       "620   United States Naval Test Pilot School  educational institution   \n",
       "590   United States Naval Test Pilot School  educational institution   \n",
       "875               Naval Postgraduate School               university   \n",
       "1631  United States Naval Test Pilot School  educational institution   \n",
       "\n",
       "                                     uriOrg_y  \\\n",
       "724   http://www.wikidata.org/entity/Q3428253   \n",
       "620    http://www.wikidata.org/entity/Q559549   \n",
       "590   http://www.wikidata.org/entity/Q1515048   \n",
       "875    http://www.wikidata.org/entity/Q559549   \n",
       "1631  http://www.wikidata.org/entity/Q1515048   \n",
       "\n",
       "                            labelOrg_y             orgMainType_y  \\\n",
       "724   U.S. Air Force Test Pilot School   educational institution   \n",
       "620        United States Naval Academy  astronomical observatory   \n",
       "590          Naval Postgraduate School                university   \n",
       "875        United States Naval Academy  astronomical observatory   \n",
       "1631         Naval Postgraduate School                university   \n",
       "\n",
       "                                               labelPer  \\\n",
       "724   Charles J. Precourt|Donald R. McMonagle|John C...   \n",
       "620   Kenneth S. Reightler, Jr.|Robert D. Cabana|Ste...   \n",
       "590   Kenneth S. Reightler, Jr.|Kent Rominger|Robert...   \n",
       "875   David Leestma|Kenneth S. Reightler, Jr.|Robert...   \n",
       "1631  Luke Delaney|Kenneth Ham|Stephen Frick|William...   \n",
       "\n",
       "                                                 uriPer  number  \n",
       "724   http://www.wikidata.org/entity/Q1065133|http:/...      19  \n",
       "620   http://www.wikidata.org/entity/Q1323571|http:/...      18  \n",
       "590   http://www.wikidata.org/entity/Q1323571|http:/...      11  \n",
       "875   http://www.wikidata.org/entity/Q1174077|http:/...      10  \n",
       "1631  http://www.wikidata.org/entity/Q109968497|http...       9  "
      ]
     },
     "execution_count": 78,
     "metadata": {},
     "output_type": "execute_result"
    }
   ],
   "source": [
    "print(len(df_graph))\n",
    "df_graph.sort_values('number',ascending=False).head()\n"
   ]
  },
  {
   "cell_type": "markdown",
   "metadata": {},
   "source": [
    "### Explore contingency table of relationship pairs to periods"
   ]
  },
  {
   "cell_type": "code",
   "execution_count": 79,
   "metadata": {
    "execution": {
     "iopub.execute_input": "2025-05-25T08:54:40.554179Z",
     "iopub.status.busy": "2025-05-25T08:54:40.553127Z",
     "iopub.status.idle": "2025-05-25T08:54:40.602299Z",
     "shell.execute_reply": "2025-05-25T08:54:40.600264Z",
     "shell.execute_reply.started": "2025-05-25T08:54:40.554094Z"
    }
   },
   "outputs": [
    {
     "data": {
      "text/html": [
       "<div>\n",
       "<style scoped>\n",
       "    .dataframe tbody tr th:only-of-type {\n",
       "        vertical-align: middle;\n",
       "    }\n",
       "\n",
       "    .dataframe tbody tr th {\n",
       "        vertical-align: top;\n",
       "    }\n",
       "\n",
       "    .dataframe thead th {\n",
       "        text-align: right;\n",
       "    }\n",
       "</style>\n",
       "<table border=\"1\" class=\"dataframe\">\n",
       "  <thead>\n",
       "    <tr style=\"text-align: right;\">\n",
       "      <th>periods</th>\n",
       "      <th>1901-1920</th>\n",
       "      <th>1921-1940</th>\n",
       "      <th>1941-1960</th>\n",
       "      <th>1961-1980</th>\n",
       "      <th>1981-2000</th>\n",
       "      <th>Total</th>\n",
       "    </tr>\n",
       "    <tr>\n",
       "      <th>relaType_concat</th>\n",
       "      <th></th>\n",
       "      <th></th>\n",
       "      <th></th>\n",
       "      <th></th>\n",
       "      <th></th>\n",
       "      <th></th>\n",
       "    </tr>\n",
       "  </thead>\n",
       "  <tbody>\n",
       "    <tr>\n",
       "      <th>education_education</th>\n",
       "      <td>1</td>\n",
       "      <td>497</td>\n",
       "      <td>894</td>\n",
       "      <td>533</td>\n",
       "      <td>138</td>\n",
       "      <td>2063</td>\n",
       "    </tr>\n",
       "    <tr>\n",
       "      <th>education_employment</th>\n",
       "      <td>0</td>\n",
       "      <td>27</td>\n",
       "      <td>162</td>\n",
       "      <td>32</td>\n",
       "      <td>20</td>\n",
       "      <td>241</td>\n",
       "    </tr>\n",
       "    <tr>\n",
       "      <th>employment_employment</th>\n",
       "      <td>0</td>\n",
       "      <td>1</td>\n",
       "      <td>8</td>\n",
       "      <td>10</td>\n",
       "      <td>2</td>\n",
       "      <td>21</td>\n",
       "    </tr>\n",
       "    <tr>\n",
       "      <th>Total</th>\n",
       "      <td>1</td>\n",
       "      <td>525</td>\n",
       "      <td>1064</td>\n",
       "      <td>575</td>\n",
       "      <td>160</td>\n",
       "      <td>2325</td>\n",
       "    </tr>\n",
       "  </tbody>\n",
       "</table>\n",
       "</div>"
      ],
      "text/plain": [
       "periods                1901-1920  1921-1940  1941-1960  1961-1980  1981-2000  \\\n",
       "relaType_concat                                                                \n",
       "education_education            1        497        894        533        138   \n",
       "education_employment           0         27        162         32         20   \n",
       "employment_employment          0          1          8         10          2   \n",
       "Total                          1        525       1064        575        160   \n",
       "\n",
       "periods                Total  \n",
       "relaType_concat               \n",
       "education_education     2063  \n",
       "education_employment     241  \n",
       "employment_employment     21  \n",
       "Total                   2325  "
      ]
     },
     "execution_count": 79,
     "metadata": {},
     "output_type": "execute_result"
    }
   ],
   "source": [
    "\n",
    "\n",
    "### Contingency table\n",
    "X = 'periods'\n",
    "Y = 'relaType_concat'  \n",
    "\n",
    "ddf = df_graph[[X,Y]].pivot_table(index=Y,columns=X,observed=True, aggfunc=len,margins=True,margins_name=\"Total\").fillna(0).astype(int)\n",
    "ddf\n",
    "\n"
   ]
  },
  {
   "cell_type": "code",
   "execution_count": 80,
   "metadata": {
    "execution": {
     "iopub.execute_input": "2025-05-25T08:54:42.142303Z",
     "iopub.status.busy": "2025-05-25T08:54:42.141390Z",
     "iopub.status.idle": "2025-05-25T08:54:42.154637Z",
     "shell.execute_reply": "2025-05-25T08:54:42.152295Z",
     "shell.execute_reply.started": "2025-05-25T08:54:42.142224Z"
    }
   },
   "outputs": [],
   "source": [
    "ct_wm = ddf.iloc[:-1,:-1].copy(deep=True)"
   ]
  },
  {
   "cell_type": "code",
   "execution_count": 81,
   "metadata": {
    "execution": {
     "iopub.execute_input": "2025-05-25T08:54:42.538553Z",
     "iopub.status.busy": "2025-05-25T08:54:42.537633Z",
     "iopub.status.idle": "2025-05-25T08:54:42.556570Z",
     "shell.execute_reply": "2025-05-25T08:54:42.554067Z",
     "shell.execute_reply.started": "2025-05-25T08:54:42.538474Z"
    }
   },
   "outputs": [
    {
     "name": "stdout",
     "output_type": "stream",
     "text": [
      "Chi2 : 65.43 , dof : 8\n",
      "p-value : 3.968932607547399e-11\n",
      "phi2 = inertie (variance totale) : 0.028141648179166465\n",
      "Cramer:  0.11862050450737104\n"
     ]
    }
   ],
   "source": [
    "### We observe a relationship between these two variables, \n",
    "# not so strong \n",
    "bivariee_stats(ct_wm)"
   ]
  },
  {
   "cell_type": "code",
   "execution_count": 82,
   "metadata": {
    "execution": {
     "iopub.execute_input": "2025-05-25T08:54:44.807948Z",
     "iopub.status.busy": "2025-05-25T08:54:44.806945Z",
     "iopub.status.idle": "2025-05-25T08:54:45.132692Z",
     "shell.execute_reply": "2025-05-25T08:54:45.131180Z",
     "shell.execute_reply.started": "2025-05-25T08:54:44.807829Z"
    }
   },
   "outputs": [
    {
     "data": {
      "image/png": "[encoded data removed]",
      "text/plain": [
       "<Figure size 800x400 with 2 Axes>"
      ]
     },
     "metadata": {},
     "output_type": "display_data"
    }
   ],
   "source": [
    "pp = plot_chi2_residuals(ct_wm, figsize=(8, 4))"
   ]
  },
  {
   "cell_type": "code",
   "execution_count": null,
   "metadata": {},
   "outputs": [],
   "source": []
  },
  {
   "cell_type": "markdown",
   "metadata": {},
   "source": [
    "## Graph analysis\n",
    "\n",
    "\n",
    "We will explore some aspects of the relationships:\n",
    "\n",
    "* which organisations are connected through education, but this only at the level of universities, not earlier education stages\n",
    "* in the same perspective (same kind of relations), we will explore memberships and employments, keeping them separated\n",
    "* we will then ask what appears regarding the relationship between employment and membership\n",
    "* we finally inspect if some kind of educational institutions (at unversity level) lead to specific employments or memberships.\n",
    "\n",
    "\n",
    "\n",
    "\n"
   ]
  },
  {
   "cell_type": "markdown",
   "metadata": {},
   "source": [
    "### Organisations connected through higher education"
   ]
  },
  {
   "cell_type": "code",
   "execution_count": 83,
   "metadata": {
    "execution": {
     "iopub.execute_input": "2025-05-25T08:54:53.216154Z",
     "iopub.status.busy": "2025-05-25T08:54:53.215187Z",
     "iopub.status.idle": "2025-05-25T08:54:53.229806Z",
     "shell.execute_reply": "2025-05-25T08:54:53.227395Z",
     "shell.execute_reply.started": "2025-05-25T08:54:53.216072Z"
    }
   },
   "outputs": [
    {
     "name": "stdout",
     "output_type": "stream",
     "text": [
      "['astronomical observatory',\n",
      " 'educational institution',\n",
      " 'institute of technology',\n",
      " 'learned society',\n",
      " 'not classified organisation',\n",
      " 'private university',\n",
      " 'public university',\n",
      " 'research facility',\n",
      " 'research organisation',\n",
      " 'scientific organisation',\n",
      " 'university']\n"
     ]
    }
   ],
   "source": [
    "pprint.pprint(sorted(df_mainTypes.mainType.to_list()))"
   ]
  },
  {
   "cell_type": "code",
   "execution_count": 84,
   "metadata": {
    "execution": {
     "iopub.execute_input": "2025-05-25T08:54:57.448127Z",
     "iopub.status.busy": "2025-05-25T08:54:57.447157Z",
     "iopub.status.idle": "2025-05-25T08:54:57.458672Z",
     "shell.execute_reply": "2025-05-25T08:54:57.456100Z",
     "shell.execute_reply.started": "2025-05-25T08:54:57.448044Z"
    }
   },
   "outputs": [],
   "source": [
    "types_list=['university', 'public university', 'private university']"
   ]
  },
  {
   "cell_type": "code",
   "execution_count": 85,
   "metadata": {
    "execution": {
     "iopub.execute_input": "2025-05-25T08:54:58.184045Z",
     "iopub.status.busy": "2025-05-25T08:54:58.182942Z",
     "iopub.status.idle": "2025-05-25T08:54:58.220788Z",
     "shell.execute_reply": "2025-05-25T08:54:58.218933Z",
     "shell.execute_reply.started": "2025-05-25T08:54:58.183955Z"
    }
   },
   "outputs": [
    {
     "name": "stdout",
     "output_type": "stream",
     "text": [
      "397\n"
     ]
    },
    {
     "data": {
      "text/html": [
       "<div>\n",
       "<style scoped>\n",
       "    .dataframe tbody tr th:only-of-type {\n",
       "        vertical-align: middle;\n",
       "    }\n",
       "\n",
       "    .dataframe tbody tr th {\n",
       "        vertical-align: top;\n",
       "    }\n",
       "\n",
       "    .dataframe thead th {\n",
       "        text-align: right;\n",
       "    }\n",
       "</style>\n",
       "<table border=\"1\" class=\"dataframe\">\n",
       "  <thead>\n",
       "    <tr style=\"text-align: right;\">\n",
       "      <th></th>\n",
       "      <th>periods</th>\n",
       "      <th>relaType_concat</th>\n",
       "      <th>uriOrg_x</th>\n",
       "      <th>labelOrg_x</th>\n",
       "      <th>orgMainType_x</th>\n",
       "      <th>uriOrg_y</th>\n",
       "      <th>labelOrg_y</th>\n",
       "      <th>orgMainType_y</th>\n",
       "      <th>labelPer</th>\n",
       "      <th>uriPer</th>\n",
       "      <th>number</th>\n",
       "    </tr>\n",
       "  </thead>\n",
       "  <tbody>\n",
       "    <tr>\n",
       "      <th>5</th>\n",
       "      <td>1921-1940</td>\n",
       "      <td>education_education</td>\n",
       "      <td>http://www.wikidata.org/entity/Q1048898</td>\n",
       "      <td>University of Vermont</td>\n",
       "      <td>university</td>\n",
       "      <td>http://www.wikidata.org/entity/Q193727</td>\n",
       "      <td>Johns Hopkins University</td>\n",
       "      <td>university</td>\n",
       "      <td>Duane Graveline</td>\n",
       "      <td>http://www.wikidata.org/entity/Q3499300</td>\n",
       "      <td>1</td>\n",
       "    </tr>\n",
       "    <tr>\n",
       "      <th>6</th>\n",
       "      <td>1921-1940</td>\n",
       "      <td>education_education</td>\n",
       "      <td>http://www.wikidata.org/entity/Q1068072</td>\n",
       "      <td>University of Delaware</td>\n",
       "      <td>public university</td>\n",
       "      <td>http://www.wikidata.org/entity/Q230492</td>\n",
       "      <td>University of Michigan</td>\n",
       "      <td>university</td>\n",
       "      <td>Theodore Freeman</td>\n",
       "      <td>http://www.wikidata.org/entity/Q634141</td>\n",
       "      <td>1</td>\n",
       "    </tr>\n",
       "  </tbody>\n",
       "</table>\n",
       "</div>"
      ],
      "text/plain": [
       "     periods      relaType_concat                                 uriOrg_x  \\\n",
       "5  1921-1940  education_education  http://www.wikidata.org/entity/Q1048898   \n",
       "6  1921-1940  education_education  http://www.wikidata.org/entity/Q1068072   \n",
       "\n",
       "               labelOrg_x      orgMainType_x  \\\n",
       "5   University of Vermont         university   \n",
       "6  University of Delaware  public university   \n",
       "\n",
       "                                 uriOrg_y                labelOrg_y  \\\n",
       "5  http://www.wikidata.org/entity/Q193727  Johns Hopkins University   \n",
       "6  http://www.wikidata.org/entity/Q230492    University of Michigan   \n",
       "\n",
       "  orgMainType_y          labelPer                                   uriPer  \\\n",
       "5    university   Duane Graveline  http://www.wikidata.org/entity/Q3499300   \n",
       "6    university  Theodore Freeman   http://www.wikidata.org/entity/Q634141   \n",
       "\n",
       "   number  \n",
       "5       1  \n",
       "6       1  "
      ]
     },
     "execution_count": 85,
     "metadata": {},
     "output_type": "execute_result"
    }
   ],
   "source": [
    "df_edu_graph = df_graph[(df_graph.relaType_concat == 'education_education') \\\n",
    "                     & (df_graph.orgMainType_x.isin(types_list)) \\\n",
    "                     & (df_graph.orgMainType_y.isin(types_list))  ]\n",
    "\n",
    "print(len(df_edu_graph))\n",
    "df_edu_graph.iloc[:2]"
   ]
  },
  {
   "cell_type": "code",
   "execution_count": 86,
   "metadata": {
    "execution": {
     "iopub.execute_input": "2025-05-25T08:55:00.340292Z",
     "iopub.status.busy": "2025-05-25T08:55:00.339303Z",
     "iopub.status.idle": "2025-05-25T08:55:00.370762Z",
     "shell.execute_reply": "2025-05-25T08:55:00.369049Z",
     "shell.execute_reply.started": "2025-05-25T08:55:00.340209Z"
    }
   },
   "outputs": [
    {
     "data": {
      "text/html": [
       "<div>\n",
       "<style scoped>\n",
       "    .dataframe tbody tr th:only-of-type {\n",
       "        vertical-align: middle;\n",
       "    }\n",
       "\n",
       "    .dataframe tbody tr th {\n",
       "        vertical-align: top;\n",
       "    }\n",
       "\n",
       "    .dataframe thead th {\n",
       "        text-align: right;\n",
       "    }\n",
       "</style>\n",
       "<table border=\"1\" class=\"dataframe\">\n",
       "  <thead>\n",
       "    <tr style=\"text-align: right;\">\n",
       "      <th></th>\n",
       "      <th>periods</th>\n",
       "      <th>relaType_concat</th>\n",
       "      <th>uriOrg_x</th>\n",
       "      <th>labelOrg_x</th>\n",
       "      <th>orgMainType_x</th>\n",
       "      <th>uriOrg_y</th>\n",
       "      <th>labelOrg_y</th>\n",
       "      <th>orgMainType_y</th>\n",
       "      <th>labelPer</th>\n",
       "      <th>uriPer</th>\n",
       "      <th>number</th>\n",
       "    </tr>\n",
       "  </thead>\n",
       "  <tbody>\n",
       "    <tr>\n",
       "      <th>1271</th>\n",
       "      <td>1941-1960</td>\n",
       "      <td>education_education</td>\n",
       "      <td>http://www.wikidata.org/entity/Q49115</td>\n",
       "      <td>Cornell University</td>\n",
       "      <td>private university</td>\n",
       "      <td>http://www.wikidata.org/entity/Q5171564</td>\n",
       "      <td>Cornell University College of Engineering</td>\n",
       "      <td>university</td>\n",
       "      <td>Daniel T. Barry|Donald A. Thomas|Jay C. Buckey...</td>\n",
       "      <td>http://www.wikidata.org/entity/Q1162918|http:/...</td>\n",
       "      <td>4</td>\n",
       "    </tr>\n",
       "    <tr>\n",
       "      <th>1606</th>\n",
       "      <td>1961-1980</td>\n",
       "      <td>education_education</td>\n",
       "      <td>http://www.wikidata.org/entity/Q10873057</td>\n",
       "      <td>PLA Air Force Aviation University</td>\n",
       "      <td>university</td>\n",
       "      <td>http://www.wikidata.org/entity/Q16955</td>\n",
       "      <td>Tsinghua University</td>\n",
       "      <td>public university</td>\n",
       "      <td>Yang Liwei|Liu Yang|Jing Haipeng</td>\n",
       "      <td>http://www.wikidata.org/entity/Q147581|http://...</td>\n",
       "      <td>3</td>\n",
       "    </tr>\n",
       "  </tbody>\n",
       "</table>\n",
       "</div>"
      ],
      "text/plain": [
       "        periods      relaType_concat  \\\n",
       "1271  1941-1960  education_education   \n",
       "1606  1961-1980  education_education   \n",
       "\n",
       "                                      uriOrg_x  \\\n",
       "1271     http://www.wikidata.org/entity/Q49115   \n",
       "1606  http://www.wikidata.org/entity/Q10873057   \n",
       "\n",
       "                             labelOrg_x       orgMainType_x  \\\n",
       "1271                 Cornell University  private university   \n",
       "1606  PLA Air Force Aviation University          university   \n",
       "\n",
       "                                     uriOrg_y  \\\n",
       "1271  http://www.wikidata.org/entity/Q5171564   \n",
       "1606    http://www.wikidata.org/entity/Q16955   \n",
       "\n",
       "                                     labelOrg_y      orgMainType_y  \\\n",
       "1271  Cornell University College of Engineering         university   \n",
       "1606                        Tsinghua University  public university   \n",
       "\n",
       "                                               labelPer  \\\n",
       "1271  Daniel T. Barry|Donald A. Thomas|Jay C. Buckey...   \n",
       "1606                   Yang Liwei|Liu Yang|Jing Haipeng   \n",
       "\n",
       "                                                 uriPer  number  \n",
       "1271  http://www.wikidata.org/entity/Q1162918|http:/...       4  \n",
       "1606  http://www.wikidata.org/entity/Q147581|http://...       3  "
      ]
     },
     "execution_count": 86,
     "metadata": {},
     "output_type": "execute_result"
    }
   ],
   "source": [
    "df_edu_graph.sort_values(by='number',ascending=False).iloc[:2]"
   ]
  },
  {
   "cell_type": "code",
   "execution_count": 87,
   "metadata": {
    "execution": {
     "iopub.execute_input": "2025-05-25T08:55:01.232375Z",
     "iopub.status.busy": "2025-05-25T08:55:01.230524Z",
     "iopub.status.idle": "2025-05-25T08:55:01.247487Z",
     "shell.execute_reply": "2025-05-25T08:55:01.244972Z",
     "shell.execute_reply.started": "2025-05-25T08:55:01.232291Z"
    }
   },
   "outputs": [
    {
     "name": "stdout",
     "output_type": "stream",
     "text": [
      "periods\n",
      "1921-1940     69\n",
      "1941-1960    206\n",
      "1961-1980     92\n",
      "1981-2000     30\n",
      "dtype: int64\n"
     ]
    }
   ],
   "source": [
    "### Number of relationships by period\n",
    "print(df_edu_graph.groupby('periods').size())"
   ]
  },
  {
   "cell_type": "markdown",
   "metadata": {},
   "source": [
    "### Inspect a specific period"
   ]
  },
  {
   "cell_type": "code",
   "execution_count": 144,
   "metadata": {
    "execution": {
     "iopub.execute_input": "2025-05-25T09:03:35.513677Z",
     "iopub.status.busy": "2025-05-25T09:03:35.512653Z",
     "iopub.status.idle": "2025-05-25T09:03:35.525305Z",
     "shell.execute_reply": "2025-05-25T09:03:35.523001Z",
     "shell.execute_reply.started": "2025-05-25T09:03:35.513596Z"
    }
   },
   "outputs": [],
   "source": [
    "p = '1941-1960' #1941-1960"
   ]
  },
  {
   "cell_type": "code",
   "execution_count": 145,
   "metadata": {
    "execution": {
     "iopub.execute_input": "2025-05-25T09:03:35.991396Z",
     "iopub.status.busy": "2025-05-25T09:03:35.990422Z",
     "iopub.status.idle": "2025-05-25T09:03:36.026323Z",
     "shell.execute_reply": "2025-05-25T09:03:36.024428Z",
     "shell.execute_reply.started": "2025-05-25T09:03:35.991314Z"
    }
   },
   "outputs": [
    {
     "data": {
      "text/html": [
       "<div>\n",
       "<style scoped>\n",
       "    .dataframe tbody tr th:only-of-type {\n",
       "        vertical-align: middle;\n",
       "    }\n",
       "\n",
       "    .dataframe tbody tr th {\n",
       "        vertical-align: top;\n",
       "    }\n",
       "\n",
       "    .dataframe thead th {\n",
       "        text-align: right;\n",
       "    }\n",
       "</style>\n",
       "<table border=\"1\" class=\"dataframe\">\n",
       "  <thead>\n",
       "    <tr style=\"text-align: right;\">\n",
       "      <th></th>\n",
       "      <th>periods</th>\n",
       "      <th>relaType_concat</th>\n",
       "      <th>uriOrg_x</th>\n",
       "      <th>labelOrg_x</th>\n",
       "      <th>orgMainType_x</th>\n",
       "      <th>uriOrg_y</th>\n",
       "      <th>labelOrg_y</th>\n",
       "      <th>orgMainType_y</th>\n",
       "      <th>labelPer</th>\n",
       "      <th>uriPer</th>\n",
       "      <th>number</th>\n",
       "    </tr>\n",
       "  </thead>\n",
       "  <tbody>\n",
       "    <tr>\n",
       "      <th>1271</th>\n",
       "      <td>1941-1960</td>\n",
       "      <td>education_education</td>\n",
       "      <td>http://www.wikidata.org/entity/Q49115</td>\n",
       "      <td>Cornell University</td>\n",
       "      <td>private university</td>\n",
       "      <td>http://www.wikidata.org/entity/Q5171564</td>\n",
       "      <td>Cornell University College of Engineering</td>\n",
       "      <td>university</td>\n",
       "      <td>Daniel T. Barry|Donald A. Thomas|Jay C. Buckey...</td>\n",
       "      <td>http://www.wikidata.org/entity/Q1162918|http:/...</td>\n",
       "      <td>4</td>\n",
       "    </tr>\n",
       "    <tr>\n",
       "      <th>867</th>\n",
       "      <td>1941-1960</td>\n",
       "      <td>education_education</td>\n",
       "      <td>http://www.wikidata.org/entity/Q1515048</td>\n",
       "      <td>Naval Postgraduate School</td>\n",
       "      <td>university</td>\n",
       "      <td>http://www.wikidata.org/entity/Q4614</td>\n",
       "      <td>University of Southern California</td>\n",
       "      <td>private university</td>\n",
       "      <td>Kenneth S. Reightler, Jr.|Carlos I. Noriega</td>\n",
       "      <td>http://www.wikidata.org/entity/Q1323571|http:/...</td>\n",
       "      <td>2</td>\n",
       "    </tr>\n",
       "  </tbody>\n",
       "</table>\n",
       "</div>"
      ],
      "text/plain": [
       "        periods      relaType_concat                                 uriOrg_x  \\\n",
       "1271  1941-1960  education_education    http://www.wikidata.org/entity/Q49115   \n",
       "867   1941-1960  education_education  http://www.wikidata.org/entity/Q1515048   \n",
       "\n",
       "                     labelOrg_x       orgMainType_x  \\\n",
       "1271         Cornell University  private university   \n",
       "867   Naval Postgraduate School          university   \n",
       "\n",
       "                                     uriOrg_y  \\\n",
       "1271  http://www.wikidata.org/entity/Q5171564   \n",
       "867      http://www.wikidata.org/entity/Q4614   \n",
       "\n",
       "                                     labelOrg_y       orgMainType_y  \\\n",
       "1271  Cornell University College of Engineering          university   \n",
       "867           University of Southern California  private university   \n",
       "\n",
       "                                               labelPer  \\\n",
       "1271  Daniel T. Barry|Donald A. Thomas|Jay C. Buckey...   \n",
       "867         Kenneth S. Reightler, Jr.|Carlos I. Noriega   \n",
       "\n",
       "                                                 uriPer  number  \n",
       "1271  http://www.wikidata.org/entity/Q1162918|http:/...       4  \n",
       "867   http://www.wikidata.org/entity/Q1323571|http:/...       2  "
      ]
     },
     "execution_count": 145,
     "metadata": {},
     "output_type": "execute_result"
    }
   ],
   "source": [
    "df_edu_graph_p = df_edu_graph[(df_edu_graph.periods==p)]\n",
    "df_edu_graph_p.sort_values(by='number',ascending=False).head(2)"
   ]
  },
  {
   "cell_type": "code",
   "execution_count": 146,
   "metadata": {
    "execution": {
     "iopub.execute_input": "2025-05-25T09:03:37.380990Z",
     "iopub.status.busy": "2025-05-25T09:03:37.380035Z",
     "iopub.status.idle": "2025-05-25T09:03:37.405117Z",
     "shell.execute_reply": "2025-05-25T09:03:37.402933Z",
     "shell.execute_reply.started": "2025-05-25T09:03:37.380849Z"
    }
   },
   "outputs": [
    {
     "name": "stdout",
     "output_type": "stream",
     "text": [
      "206\n"
     ]
    }
   ],
   "source": [
    "## Provide the data in the format \n",
    "# required by Networkx\n",
    "\n",
    "l = [tuple(\n",
    "    (e['uriOrg_x'], e['uriOrg_y'],\n",
    "     {'uriPers':e['uriPer'], 'labelPers':e['labelPer'],\n",
    "      ## the weight ist the number of persons in this relationship\n",
    "      'weight':e['number']}\n",
    "     )) \n",
    "     for e in df_edu_graph_p.to_dict(orient='records')]\n",
    "print(len(l))"
   ]
  },
  {
   "cell_type": "code",
   "execution_count": 147,
   "metadata": {
    "execution": {
     "iopub.execute_input": "2025-05-25T09:03:37.906406Z",
     "iopub.status.busy": "2025-05-25T09:03:37.904380Z",
     "iopub.status.idle": "2025-05-25T09:03:37.934943Z",
     "shell.execute_reply": "2025-05-25T09:03:37.932724Z",
     "shell.execute_reply.started": "2025-05-25T09:03:37.906317Z"
    }
   },
   "outputs": [
    {
     "name": "stdout",
     "output_type": "stream",
     "text": [
      "{'is_multigraph': False,\n",
      " 'is_directed': False,\n",
      " 'number_of_nodes': 157,\n",
      " 'number_of_edges': 206,\n",
      " '------': '------',\n",
      " 'is connected': False,\n",
      " 'components': 24,\n",
      " 'density': 0.01682181936959007}\n",
      "[[0, 105], [2, 5], [1, 3], [3, 3], [7, 3]]\n"
     ]
    }
   ],
   "source": [
    "edu_graph_p=nx.Graph()\n",
    "\n",
    "## Add relationships to graph\n",
    "# Multiple rows between two edges are taken only once\n",
    "edu_graph_p.add_edges_from(l)\n",
    "\n",
    "naf.basic_graph_properties(edu_graph_p)\n",
    "\n",
    "### Create a list of graphs, one per component\n",
    "edu_graph_p_S = [edu_graph_p.subgraph(c).copy() for c in nx.connected_components(edu_graph_p)]\n",
    "\n",
    "### i is the component index in the list S of graphs , len(s.nodes) is the nomber of nodes\n",
    "ln = sorted([[i,len(s.nodes)] for i,s in enumerate(edu_graph_p_S)], key = lambda row: row[1], reverse=True)\n",
    "print(ln[:5])"
   ]
  },
  {
   "cell_type": "code",
   "execution_count": 148,
   "metadata": {
    "execution": {
     "iopub.execute_input": "2025-05-25T09:03:41.316139Z",
     "iopub.status.busy": "2025-05-25T09:03:41.313750Z",
     "iopub.status.idle": "2025-05-25T09:03:41.328775Z",
     "shell.execute_reply": "2025-05-25T09:03:41.325984Z",
     "shell.execute_reply.started": "2025-05-25T09:03:41.316053Z"
    }
   },
   "outputs": [
    {
     "name": "stdout",
     "output_type": "stream",
     "text": [
      "Just one big component\n"
     ]
    }
   ],
   "source": [
    "### test if second component is significantly smaller \n",
    "# than first\n",
    "if ln[1][1]*20 < ln[0][1]:\n",
    "    print('Just one big component')\n",
    "else :\n",
    "    print('Beware: more than one big component !')    "
   ]
  },
  {
   "cell_type": "code",
   "execution_count": 149,
   "metadata": {
    "execution": {
     "iopub.execute_input": "2025-05-25T09:03:44.149790Z",
     "iopub.status.busy": "2025-05-25T09:03:44.148796Z",
     "iopub.status.idle": "2025-05-25T09:03:44.164206Z",
     "shell.execute_reply": "2025-05-25T09:03:44.161974Z",
     "shell.execute_reply.started": "2025-05-25T09:03:44.149710Z"
    }
   },
   "outputs": [
    {
     "name": "stdout",
     "output_type": "stream",
     "text": [
      "{'is_multigraph': False,\n",
      " 'is_directed': False,\n",
      " 'number_of_nodes': 105,\n",
      " 'number_of_edges': 173,\n",
      " '------': '------',\n",
      " 'is connected': True,\n",
      " 'components': 1,\n",
      " 'density': 0.03168498168498168}\n"
     ]
    }
   ],
   "source": [
    "### Alternative way with just one graph\n",
    "pG = edu_graph_p_S[0]\n",
    "naf.basic_graph_properties(pG)"
   ]
  },
  {
   "cell_type": "code",
   "execution_count": 94,
   "metadata": {
    "execution": {
     "iopub.execute_input": "2025-05-25T08:55:36.496308Z",
     "iopub.status.busy": "2025-05-25T08:55:36.495378Z",
     "iopub.status.idle": "2025-05-25T08:55:36.524971Z",
     "shell.execute_reply": "2025-05-25T08:55:36.523240Z",
     "shell.execute_reply.started": "2025-05-25T08:55:36.496230Z"
    }
   },
   "outputs": [
    {
     "data": {
      "text/html": [
       "<div>\n",
       "<style scoped>\n",
       "    .dataframe tbody tr th:only-of-type {\n",
       "        vertical-align: middle;\n",
       "    }\n",
       "\n",
       "    .dataframe tbody tr th {\n",
       "        vertical-align: top;\n",
       "    }\n",
       "\n",
       "    .dataframe thead th {\n",
       "        text-align: right;\n",
       "    }\n",
       "</style>\n",
       "<table border=\"1\" class=\"dataframe\">\n",
       "  <thead>\n",
       "    <tr style=\"text-align: right;\">\n",
       "      <th></th>\n",
       "      <th>uriOrg</th>\n",
       "      <th>labelOrg</th>\n",
       "      <th>orgMainType</th>\n",
       "      <th>periods</th>\n",
       "      <th>period_members_number</th>\n",
       "    </tr>\n",
       "  </thead>\n",
       "  <tbody>\n",
       "    <tr>\n",
       "      <th>35</th>\n",
       "      <td>http://www.wikidata.org/entity/Q1128819</td>\n",
       "      <td>United States Naval Test Pilot School</td>\n",
       "      <td>educational institution</td>\n",
       "      <td>1941-1960</td>\n",
       "      <td>43</td>\n",
       "    </tr>\n",
       "    <tr>\n",
       "      <th>419</th>\n",
       "      <td>http://www.wikidata.org/entity/Q3428253</td>\n",
       "      <td>U.S. Air Force Test Pilot School</td>\n",
       "      <td>educational institution</td>\n",
       "      <td>1941-1960</td>\n",
       "      <td>41</td>\n",
       "    </tr>\n",
       "  </tbody>\n",
       "</table>\n",
       "</div>"
      ],
      "text/plain": [
       "                                      uriOrg  \\\n",
       "35   http://www.wikidata.org/entity/Q1128819   \n",
       "419  http://www.wikidata.org/entity/Q3428253   \n",
       "\n",
       "                                  labelOrg              orgMainType  \\\n",
       "35   United States Naval Test Pilot School  educational institution   \n",
       "419       U.S. Air Force Test Pilot School  educational institution   \n",
       "\n",
       "       periods  period_members_number  \n",
       "35   1941-1960                     43  \n",
       "419  1941-1960                     41  "
      ]
     },
     "execution_count": 94,
     "metadata": {},
     "output_type": "execute_result"
    }
   ],
   "source": [
    "df_orgPeriod.sort_values(by='period_members_number', ascending=False).head(2)"
   ]
  },
  {
   "cell_type": "code",
   "execution_count": 95,
   "metadata": {
    "execution": {
     "iopub.execute_input": "2025-05-25T08:55:39.913850Z",
     "iopub.status.busy": "2025-05-25T08:55:39.912843Z",
     "iopub.status.idle": "2025-05-25T08:55:39.945889Z",
     "shell.execute_reply": "2025-05-25T08:55:39.944346Z",
     "shell.execute_reply.started": "2025-05-25T08:55:39.913768Z"
    }
   },
   "outputs": [
    {
     "data": {
      "text/html": [
       "<div>\n",
       "<style scoped>\n",
       "    .dataframe tbody tr th:only-of-type {\n",
       "        vertical-align: middle;\n",
       "    }\n",
       "\n",
       "    .dataframe tbody tr th {\n",
       "        vertical-align: top;\n",
       "    }\n",
       "\n",
       "    .dataframe thead th {\n",
       "        text-align: right;\n",
       "    }\n",
       "</style>\n",
       "<table border=\"1\" class=\"dataframe\">\n",
       "  <thead>\n",
       "    <tr style=\"text-align: right;\">\n",
       "      <th></th>\n",
       "      <th>uri</th>\n",
       "      <th>label</th>\n",
       "      <th>mainType</th>\n",
       "      <th>membersNumber</th>\n",
       "    </tr>\n",
       "  </thead>\n",
       "  <tbody>\n",
       "    <tr>\n",
       "      <th>1</th>\n",
       "      <td>http://www.wikidata.org/entity/Q1026846</td>\n",
       "      <td>California Polytechnic State University</td>\n",
       "      <td>public university</td>\n",
       "      <td>1</td>\n",
       "    </tr>\n",
       "    <tr>\n",
       "      <th>3</th>\n",
       "      <td>http://www.wikidata.org/entity/Q1026919</td>\n",
       "      <td>California State University, Fresno</td>\n",
       "      <td>university</td>\n",
       "      <td>2</td>\n",
       "    </tr>\n",
       "    <tr>\n",
       "      <th>5</th>\n",
       "      <td>http://www.wikidata.org/entity/Q1026932</td>\n",
       "      <td>California State University, Los Angeles</td>\n",
       "      <td>university</td>\n",
       "      <td>1</td>\n",
       "    </tr>\n",
       "    <tr>\n",
       "      <th>6</th>\n",
       "      <td>http://www.wikidata.org/entity/Q1026939</td>\n",
       "      <td>California State University, Northridge</td>\n",
       "      <td>public university</td>\n",
       "      <td>1</td>\n",
       "    </tr>\n",
       "    <tr>\n",
       "      <th>9</th>\n",
       "      <td>http://www.wikidata.org/entity/Q1047060</td>\n",
       "      <td>Case Western Reserve University</td>\n",
       "      <td>private university</td>\n",
       "      <td>2</td>\n",
       "    </tr>\n",
       "  </tbody>\n",
       "</table>\n",
       "</div>"
      ],
      "text/plain": [
       "                                       uri  \\\n",
       "1  http://www.wikidata.org/entity/Q1026846   \n",
       "3  http://www.wikidata.org/entity/Q1026919   \n",
       "5  http://www.wikidata.org/entity/Q1026932   \n",
       "6  http://www.wikidata.org/entity/Q1026939   \n",
       "9  http://www.wikidata.org/entity/Q1047060   \n",
       "\n",
       "                                      label            mainType  membersNumber  \n",
       "1   California Polytechnic State University   public university              1  \n",
       "3       California State University, Fresno          university              2  \n",
       "5  California State University, Los Angeles          university              1  \n",
       "6   California State University, Northridge   public university              1  \n",
       "9           Case Western Reserve University  private university              2  "
      ]
     },
     "execution_count": 95,
     "metadata": {},
     "output_type": "execute_result"
    }
   ],
   "source": [
    "df_opl = df_orgPeriod[df_orgPeriod.periods==p][['uriOrg', 'labelOrg', 'orgMainType', 'period_members_number']]\n",
    "df_opl.columns=['uri', 'label', 'mainType', 'membersNumber']\n",
    "df_opl.head()\n"
   ]
  },
  {
   "cell_type": "code",
   "execution_count": 96,
   "metadata": {
    "execution": {
     "iopub.execute_input": "2025-05-25T08:55:43.000776Z",
     "iopub.status.busy": "2025-05-25T08:55:42.999902Z",
     "iopub.status.idle": "2025-05-25T08:55:43.025994Z",
     "shell.execute_reply": "2025-05-25T08:55:43.024156Z",
     "shell.execute_reply.started": "2025-05-25T08:55:43.000700Z"
    }
   },
   "outputs": [
    {
     "name": "stdout",
     "output_type": "stream",
     "text": [
      "[('http://www.wikidata.org/entity/Q1026919',\n",
      "  {'label': 'California State University, Fresno',\n",
      "   'mainType': 'university',\n",
      "   'membersNumber': 2}),\n",
      " ('http://www.wikidata.org/entity/Q1423756',\n",
      "  {'label': 'Texas Tech University',\n",
      "   'mainType': 'university',\n",
      "   'membersNumber': 4})]\n"
     ]
    }
   ],
   "source": [
    "### Prepare data to add to nodes\n",
    "ln = dict([(e['uri'],\n",
    "     {'label':e['label'], 'mainType':e['mainType'],\n",
    "                        'membersNumber':e['membersNumber']}\n",
    "     ) for e in df_opl.to_dict(orient='records')])\n",
    "## Add attributes\n",
    "nx.set_node_attributes(pG, ln)\n",
    "pprint.pprint(list(pG.nodes.data())[:2])\n"
   ]
  },
  {
   "cell_type": "code",
   "execution_count": 97,
   "metadata": {
    "execution": {
     "iopub.execute_input": "2025-05-25T08:55:43.656513Z",
     "iopub.status.busy": "2025-05-25T08:55:43.655595Z",
     "iopub.status.idle": "2025-05-25T08:55:43.675555Z",
     "shell.execute_reply": "2025-05-25T08:55:43.673195Z",
     "shell.execute_reply.started": "2025-05-25T08:55:43.656434Z"
    }
   },
   "outputs": [
    {
     "name": "stdout",
     "output_type": "stream",
     "text": [
      "university            72\n",
      "private university    22\n",
      "public university     11\n",
      "dtype: int64\n"
     ]
    }
   ],
   "source": [
    "mn_s = pd.Series([n[1]['mainType'] for n in pG.nodes.data()])\n",
    "print(mn_s.groupby(by=mn_s).size().sort_values(ascending=False))"
   ]
  },
  {
   "cell_type": "markdown",
   "metadata": {},
   "source": [
    "####  Create dataframe and inspect node properties"
   ]
  },
  {
   "cell_type": "code",
   "execution_count": 98,
   "metadata": {
    "execution": {
     "iopub.execute_input": "2025-05-25T08:55:47.292223Z",
     "iopub.status.busy": "2025-05-25T08:55:47.291276Z",
     "iopub.status.idle": "2025-05-25T08:55:47.330728Z",
     "shell.execute_reply": "2025-05-25T08:55:47.329192Z",
     "shell.execute_reply.started": "2025-05-25T08:55:47.292144Z"
    }
   },
   "outputs": [
    {
     "name": "stdout",
     "output_type": "stream",
     "text": [
      "[('http://www.wikidata.org/entity/Q1026919',\n",
      "  {'eigenvector': 0.002153739935111577,\n",
      "   'label': 'California State University, Fresno',\n",
      "   'mainType': 'university',\n",
      "   'membersNumber': 2})]\n"
     ]
    }
   ],
   "source": [
    "### Eigenvector\n",
    "le = list(nx.eigenvector_centrality(pG, \n",
    "                        max_iter=200, weight='weight').items())\n",
    "nx.set_node_attributes(pG, dict(le), 'eigenvector')\n",
    "pprint.pprint(list(pG.nodes.data())[:1])"
   ]
  },
  {
   "cell_type": "code",
   "execution_count": 99,
   "metadata": {
    "execution": {
     "iopub.execute_input": "2025-05-25T08:55:51.065399Z",
     "iopub.status.busy": "2025-05-25T08:55:51.064508Z",
     "iopub.status.idle": "2025-05-25T08:55:51.150973Z",
     "shell.execute_reply": "2025-05-25T08:55:51.149453Z",
     "shell.execute_reply.started": "2025-05-25T08:55:51.065322Z"
    }
   },
   "outputs": [
    {
     "name": "stdout",
     "output_type": "stream",
     "text": [
      "[('http://www.wikidata.org/entity/Q1026919',\n",
      "  {'betweenness': 0.0053417207636774515,\n",
      "   'eigenvector': 0.002153739935111577,\n",
      "   'label': 'California State University, Fresno',\n",
      "   'mainType': 'university',\n",
      "   'membersNumber': 2})]\n"
     ]
    }
   ],
   "source": [
    "### Betweenness\n",
    "lb = list(nx.betweenness_centrality(pG, weight='weight').items())\n",
    "nx.set_node_attributes(pG, dict(lb), 'betweenness')\n",
    "pprint.pprint(list(pG.nodes.data())[:1])\n"
   ]
  },
  {
   "cell_type": "code",
   "execution_count": 100,
   "metadata": {
    "execution": {
     "iopub.execute_input": "2025-05-25T08:55:53.727386Z",
     "iopub.status.busy": "2025-05-25T08:55:53.726372Z",
     "iopub.status.idle": "2025-05-25T08:55:53.762780Z",
     "shell.execute_reply": "2025-05-25T08:55:53.761381Z",
     "shell.execute_reply.started": "2025-05-25T08:55:53.727303Z"
    }
   },
   "outputs": [
    {
     "data": {
      "text/html": [
       "<div>\n",
       "<style scoped>\n",
       "    .dataframe tbody tr th:only-of-type {\n",
       "        vertical-align: middle;\n",
       "    }\n",
       "\n",
       "    .dataframe tbody tr th {\n",
       "        vertical-align: top;\n",
       "    }\n",
       "\n",
       "    .dataframe thead th {\n",
       "        text-align: right;\n",
       "    }\n",
       "</style>\n",
       "<table border=\"1\" class=\"dataframe\">\n",
       "  <thead>\n",
       "    <tr style=\"text-align: right;\">\n",
       "      <th></th>\n",
       "      <th>id</th>\n",
       "      <th>label</th>\n",
       "      <th>mainType</th>\n",
       "      <th>membersNumber</th>\n",
       "      <th>eigenvector</th>\n",
       "      <th>betweenness</th>\n",
       "    </tr>\n",
       "  </thead>\n",
       "  <tbody>\n",
       "    <tr>\n",
       "      <th>0</th>\n",
       "      <td>http://www.wikidata.org/entity/Q1026919</td>\n",
       "      <td>California State University, Fresno</td>\n",
       "      <td>university</td>\n",
       "      <td>2</td>\n",
       "      <td>0.002154</td>\n",
       "      <td>0.005342</td>\n",
       "    </tr>\n",
       "    <tr>\n",
       "      <th>1</th>\n",
       "      <td>http://www.wikidata.org/entity/Q1423756</td>\n",
       "      <td>Texas Tech University</td>\n",
       "      <td>university</td>\n",
       "      <td>4</td>\n",
       "      <td>0.010703</td>\n",
       "      <td>0.014957</td>\n",
       "    </tr>\n",
       "  </tbody>\n",
       "</table>\n",
       "</div>"
      ],
      "text/plain": [
       "                                        id  \\\n",
       "0  http://www.wikidata.org/entity/Q1026919   \n",
       "1  http://www.wikidata.org/entity/Q1423756   \n",
       "\n",
       "                                 label    mainType membersNumber eigenvector  \\\n",
       "0  California State University, Fresno  university             2    0.002154   \n",
       "1                Texas Tech University  university             4    0.010703   \n",
       "\n",
       "  betweenness  \n",
       "0    0.005342  \n",
       "1    0.014957  "
      ]
     },
     "execution_count": 100,
     "metadata": {},
     "output_type": "execute_result"
    }
   ],
   "source": [
    "### Export node attributes to dataframe\n",
    "nodes_data ={node: pG.nodes[node] for node in pG.nodes}\n",
    "nodes_df = pd.DataFrame(nodes_data).T\n",
    "nodes_df.reset_index(inplace=True, names='id')\n",
    "nodes_df.head(2)\n"
   ]
  },
  {
   "cell_type": "code",
   "execution_count": 101,
   "metadata": {
    "execution": {
     "iopub.execute_input": "2025-05-25T08:55:56.628035Z",
     "iopub.status.busy": "2025-05-25T08:55:56.627128Z",
     "iopub.status.idle": "2025-05-25T08:55:56.650323Z",
     "shell.execute_reply": "2025-05-25T08:55:56.648387Z",
     "shell.execute_reply.started": "2025-05-25T08:55:56.627957Z"
    }
   },
   "outputs": [
    {
     "data": {
      "text/html": [
       "<div>\n",
       "<style scoped>\n",
       "    .dataframe tbody tr th:only-of-type {\n",
       "        vertical-align: middle;\n",
       "    }\n",
       "\n",
       "    .dataframe tbody tr th {\n",
       "        vertical-align: top;\n",
       "    }\n",
       "\n",
       "    .dataframe thead th {\n",
       "        text-align: right;\n",
       "    }\n",
       "</style>\n",
       "<table border=\"1\" class=\"dataframe\">\n",
       "  <thead>\n",
       "    <tr style=\"text-align: right;\">\n",
       "      <th></th>\n",
       "      <th>mainType</th>\n",
       "      <th>number</th>\n",
       "    </tr>\n",
       "  </thead>\n",
       "  <tbody>\n",
       "    <tr>\n",
       "      <th>1</th>\n",
       "      <td>educational institution</td>\n",
       "      <td>837</td>\n",
       "    </tr>\n",
       "    <tr>\n",
       "      <th>10</th>\n",
       "      <td>university</td>\n",
       "      <td>626</td>\n",
       "    </tr>\n",
       "    <tr>\n",
       "      <th>6</th>\n",
       "      <td>public university</td>\n",
       "      <td>151</td>\n",
       "    </tr>\n",
       "    <tr>\n",
       "      <th>5</th>\n",
       "      <td>private university</td>\n",
       "      <td>151</td>\n",
       "    </tr>\n",
       "    <tr>\n",
       "      <th>2</th>\n",
       "      <td>institute of technology</td>\n",
       "      <td>103</td>\n",
       "    </tr>\n",
       "    <tr>\n",
       "      <th>0</th>\n",
       "      <td>astronomical observatory</td>\n",
       "      <td>62</td>\n",
       "    </tr>\n",
       "    <tr>\n",
       "      <th>3</th>\n",
       "      <td>learned society</td>\n",
       "      <td>47</td>\n",
       "    </tr>\n",
       "    <tr>\n",
       "      <th>4</th>\n",
       "      <td>not classified organisation</td>\n",
       "      <td>13</td>\n",
       "    </tr>\n",
       "    <tr>\n",
       "      <th>8</th>\n",
       "      <td>research organisation</td>\n",
       "      <td>5</td>\n",
       "    </tr>\n",
       "    <tr>\n",
       "      <th>7</th>\n",
       "      <td>research facility</td>\n",
       "      <td>4</td>\n",
       "    </tr>\n",
       "    <tr>\n",
       "      <th>9</th>\n",
       "      <td>scientific organisation</td>\n",
       "      <td>1</td>\n",
       "    </tr>\n",
       "  </tbody>\n",
       "</table>\n",
       "</div>"
      ],
      "text/plain": [
       "                       mainType  number\n",
       "1       educational institution     837\n",
       "10                   university     626\n",
       "6             public university     151\n",
       "5            private university     151\n",
       "2       institute of technology     103\n",
       "0      astronomical observatory      62\n",
       "3               learned society      47\n",
       "4   not classified organisation      13\n",
       "8         research organisation       5\n",
       "7             research facility       4\n",
       "9       scientific organisation       1"
      ]
     },
     "execution_count": 101,
     "metadata": {},
     "output_type": "execute_result"
    }
   ],
   "source": [
    "df_mainTypes"
   ]
  },
  {
   "cell_type": "code",
   "execution_count": 102,
   "metadata": {
    "execution": {
     "iopub.execute_input": "2025-05-25T08:55:59.666288Z",
     "iopub.status.busy": "2025-05-25T08:55:59.665416Z",
     "iopub.status.idle": "2025-05-25T08:55:59.682069Z",
     "shell.execute_reply": "2025-05-25T08:55:59.678776Z",
     "shell.execute_reply.started": "2025-05-25T08:55:59.666214Z"
    }
   },
   "outputs": [
    {
     "name": "stdout",
     "output_type": "stream",
     "text": [
      "['university',\n",
      " 'public university',\n",
      " 'private university',\n",
      " 'institute of technology',\n",
      " 'astronomical observatory',\n",
      " 'learned society',\n",
      " 'research organisation',\n",
      " 'research facility',\n",
      " 'scientific organisation']\n"
     ]
    }
   ],
   "source": [
    "### exclude less relevant or dirty classifications\n",
    "lt=[t for t in df_mainTypes.mainType.to_list()\n",
    "                if ('educat' not in t)  & ('classif' not in t)]\n",
    "pprint.pprint(lt)"
   ]
  },
  {
   "cell_type": "code",
   "execution_count": 103,
   "metadata": {
    "execution": {
     "iopub.execute_input": "2025-05-25T08:56:01.297405Z",
     "iopub.status.busy": "2025-05-25T08:56:01.296503Z",
     "iopub.status.idle": "2025-05-25T08:56:01.309959Z",
     "shell.execute_reply": "2025-05-25T08:56:01.307666Z",
     "shell.execute_reply.started": "2025-05-25T08:56:01.297326Z"
    }
   },
   "outputs": [
    {
     "name": "stdout",
     "output_type": "stream",
     "text": [
      "['#ff0066', '#0000ff', '#00aaff', '#beb6f2', '#b6e6f2', '#e6f2b6', '#f2b6b6', '#2d50b3', '#ccff00', '#8c005e', '#8c8300']\n"
     ]
    }
   ],
   "source": [
    "### source\n",
    "# https://phrogz.net/css/distinct-colors.html\n",
    "col_l = [c.strip() for c in '#ff0066, #0000ff, #00aaff,#beb6f2, #b6e6f2, #e6f2b6, #f2b6b6,#2d50b3, #ccff00, #8c005e, #8c8300'.split(',')]\n",
    "print(col_l)"
   ]
  },
  {
   "cell_type": "code",
   "execution_count": 104,
   "metadata": {
    "execution": {
     "iopub.execute_input": "2025-05-25T08:56:04.852925Z",
     "iopub.status.busy": "2025-05-25T08:56:04.850249Z",
     "iopub.status.idle": "2025-05-25T08:56:04.866481Z",
     "shell.execute_reply": "2025-05-25T08:56:04.863858Z",
     "shell.execute_reply.started": "2025-05-25T08:56:04.852736Z"
    }
   },
   "outputs": [
    {
     "name": "stdout",
     "output_type": "stream",
     "text": [
      "[('university', '#ff0066'), ('public university', '#0000ff'), ('private university', '#00aaff'), ('institute of technology', '#beb6f2'), ('astronomical observatory', '#b6e6f2'), ('learned society', '#e6f2b6'), ('research organisation', '#f2b6b6'), ('research facility', '#2d50b3'), ('scientific organisation', '#ccff00')]\n"
     ]
    }
   ],
   "source": [
    "col_list= [e for e in zip(lt, col_l)]\n",
    "print(col_list)"
   ]
  },
  {
   "cell_type": "code",
   "execution_count": 128,
   "metadata": {
    "execution": {
     "iopub.execute_input": "2025-05-25T09:00:54.101691Z",
     "iopub.status.busy": "2025-05-25T09:00:54.099790Z",
     "iopub.status.idle": "2025-05-25T09:00:54.114270Z",
     "shell.execute_reply": "2025-05-25T09:00:54.111626Z",
     "shell.execute_reply.started": "2025-05-25T09:00:54.101601Z"
    }
   },
   "outputs": [
    {
     "name": "stdout",
     "output_type": "stream",
     "text": [
      "{'astronomical observatory': '#b6e6f2',\n",
      " 'institute of technology': '#beb6f2',\n",
      " 'learned society': '#e6f2b6',\n",
      " 'private university': '#00aaff',\n",
      " 'public university': '#0000ff',\n",
      " 'research facility': '#2d50b3',\n",
      " 'research organisation': '#f2b6b6',\n",
      " 'scientific organisation': '#ccff00',\n",
      " 'university': '#ff0066'}\n"
     ]
    }
   ],
   "source": [
    "color_map=dict([(c[0], (c[1])) for c in col_list])\n",
    "pprint.pprint(color_map)"
   ]
  },
  {
   "cell_type": "code",
   "execution_count": 129,
   "metadata": {
    "execution": {
     "iopub.execute_input": "2025-05-25T09:00:55.106560Z",
     "iopub.status.busy": "2025-05-25T09:00:55.104231Z",
     "iopub.status.idle": "2025-05-25T09:00:55.117749Z",
     "shell.execute_reply": "2025-05-25T09:00:55.115271Z",
     "shell.execute_reply.started": "2025-05-25T09:00:55.106400Z"
    }
   },
   "outputs": [],
   "source": [
    "### Manually modified list\n",
    "color_map = {'astronomical observatory': '#b6e6f2',\n",
    " 'institute of technology': '#beb6f2',\n",
    " 'learned society': '#e6f2b6',\n",
    " 'private university': '#00aaff',\n",
    " 'public university': '#0000ff',\n",
    " 'research facility': '#2d50b3',\n",
    " 'research organisation': '#f2b6b6',\n",
    " 'scientific organisation': '#ccff00',\n",
    " 'university': '#ff0066'}"
   ]
  },
  {
   "cell_type": "code",
   "execution_count": 130,
   "metadata": {
    "execution": {
     "iopub.execute_input": "2025-05-25T09:00:55.635492Z",
     "iopub.status.busy": "2025-05-25T09:00:55.634509Z",
     "iopub.status.idle": "2025-05-25T09:00:55.927959Z",
     "shell.execute_reply": "2025-05-25T09:00:55.926290Z",
     "shell.execute_reply.started": "2025-05-25T09:00:55.635410Z"
    }
   },
   "outputs": [
    {
     "data": {
      "image/png": "[encoded data removed]",
      "text/plain": [
       "<Figure size 300x300 with 1 Axes>"
      ]
     },
     "metadata": {},
     "output_type": "display_data"
    }
   ],
   "source": [
    "\n",
    "fig = plt.figure(figsize=(3,3))\n",
    "\n",
    "\n",
    "### Create lists of colors and labels\n",
    "colors = [color_map.keys()]\n",
    " \n",
    "\n",
    "plt.legend(handles=[plt.Line2D([0], [0], marker='o', color='w', \n",
    "                            label=label, markerfacecolor=color, \n",
    "                            markersize=8, alpha=0.6\n",
    "                            ) for label, color in color_map.items() ],\n",
    "                            loc='upper left', fontsize=8)\n",
    "plt.tight_layout() # rect=[0,0,0.8,1]\n",
    "\n",
    "plt.title('Couleurs')\n",
    "\n",
    "plt.show()"
   ]
  },
  {
   "cell_type": "code",
   "execution_count": 131,
   "metadata": {
    "execution": {
     "iopub.execute_input": "2025-05-25T09:01:27.654174Z",
     "iopub.status.busy": "2025-05-25T09:01:27.652052Z",
     "iopub.status.idle": "2025-05-25T09:01:27.680991Z",
     "shell.execute_reply": "2025-05-25T09:01:27.679067Z",
     "shell.execute_reply.started": "2025-05-25T09:01:27.654044Z"
    }
   },
   "outputs": [],
   "source": [
    "### Create a function that plots the comparison between values and properties\n",
    "\n",
    "def compare_with_scatter_plot(dataframe, value_1, value_2, point_column,point_ratio=1, \n",
    "                              c_category='', color_map='', figsize=(12,12), \n",
    "                              legend_loc='upper right',title='', \n",
    "                              n_label ='', label_cut_value=''):\n",
    "\n",
    "    ### https://matplotlib.org/stable/api/_as_gen/matplotlib.pyplot.scatter.html\n",
    "    # Different colors per class : https://vitalflux.com/python-scatter-plot-different-classes/\n",
    "    # Legend : https://matplotlib.org/stable/api/_as_gen/matplotlib.pyplot.legend.html\n",
    "    # Labels : https://stackoverflow.com/questions/14432557/matplotlib-scatter-plot-with-different-text-at-each-data-point\n",
    "\n",
    "\n",
    "\n",
    "    df=dataframe\n",
    "    # df_extr=nodes_df[nodes_df.betweenness > 0].sort_values(by='betweenness', ascending=False)\n",
    "\n",
    "    alpha=0.7\n",
    "\n",
    "    ### Manage point colors:\n",
    "    # https://kanoki.org/2020/08/30/matplotlib-scatter-plot-color-by-category-in-python/\n",
    "\n",
    "    plt.figure(figsize=figsize)\n",
    "\n",
    "\n",
    "    ### Create lists of colors and labels\n",
    "    colors = [color_map[category] for category in df[c_category]]\n",
    " \n",
    "\n",
    "\n",
    "\n",
    "    ax = plt.scatter(df[value_1],\n",
    "                df[value_2],\n",
    "            marker='o',\n",
    "            s = [v*point_ratio for i,v in df[point_column].items()],\n",
    "            color=colors,        \n",
    "            alpha=alpha)\n",
    "    plt.xlabel(value_1.capitalize())\n",
    "    plt.ylabel(value_2.capitalize())\n",
    "\n",
    "\n",
    "\n",
    "\n",
    "\n",
    "\n",
    "    ### Labels\n",
    "    test_v1 = df[value_1].quantile([0.97]).item()\n",
    "    test_v2 = df[value_2].quantile([0.95]).item()\n",
    "    print(test_v1,test_v2)\n",
    "\n",
    "\n",
    "    if len(n_label)>0:\n",
    "        for i,row in list(df.loc[(df[value_1]>test_v1)|(df[value_2]>test_v2)]\\\n",
    "                          [[n_label,value_1,value_2]].iterrows()):\n",
    "            plt.annotate(row[n_label][:30],(row[value_1], row[value_2]), fontsize=6)\n",
    "\n",
    "    plt.legend(handles=[plt.Line2D([0], [0], marker='o', color='w', \n",
    "                            label=label, markerfacecolor=color, \n",
    "                            markersize=8, alpha=alpha\n",
    "                            ) for label, color in color_map.items() \n",
    "                                    if label in types_list ],\n",
    "                            loc=legend_loc, fontsize=8)\n",
    "    plt.tight_layout() # rect=[0,0,0.8,1]\n",
    "\n",
    "    plt.title(title)\n",
    "\n",
    "    # plt.savefig('plots/revenus_eigenvector_20210526.jpg')\n",
    "    plt.show()"
   ]
  },
  {
   "cell_type": "code",
   "execution_count": 132,
   "metadata": {
    "execution": {
     "iopub.execute_input": "2025-05-25T09:01:29.553339Z",
     "iopub.status.busy": "2025-05-25T09:01:29.552273Z",
     "iopub.status.idle": "2025-05-25T09:01:29.959735Z",
     "shell.execute_reply": "2025-05-25T09:01:29.958569Z",
     "shell.execute_reply.started": "2025-05-25T09:01:29.553252Z"
    }
   },
   "outputs": [
    {
     "name": "stdout",
     "output_type": "stream",
     "text": [
      "0.2556855269451861 0.14968903974831896\n"
     ]
    },
    {
     "data": {
      "image/png": "[encoded data removed]",
      "text/plain": [
       "<Figure size 800x800 with 1 Axes>"
      ]
     },
     "metadata": {},
     "output_type": "display_data"
    },
    {
     "name": "stdout",
     "output_type": "stream",
     "text": [
      "Spearman's rank correlation: 0.3486444138734985\n"
     ]
    }
   ],
   "source": [
    "compare_with_scatter_plot(nodes_df, 'eigenvector', 'betweenness', 'membersNumber', \n",
    "                          point_ratio=3, c_category='mainType',\n",
    "                          color_map=color_map, figsize=(8,8), \n",
    "                          legend_loc='lower right', \n",
    "                          title='Eigenvector vs betweenness, with number of persons', \n",
    "                          n_label='label', label_cut_value='membersNumber' )\n",
    "\n",
    "corr_spear = nodes_df[['eigenvector', 'betweenness']].corr(method=\"spearman\")\n",
    "print(\"Spearman's rank correlation: {}\".format(corr_spear.iloc[0,1]))"
   ]
  },
  {
   "cell_type": "code",
   "execution_count": 133,
   "metadata": {
    "execution": {
     "iopub.execute_input": "2025-05-25T09:01:39.929357Z",
     "iopub.status.busy": "2025-05-25T09:01:39.928454Z",
     "iopub.status.idle": "2025-05-25T09:01:39.944494Z",
     "shell.execute_reply": "2025-05-25T09:01:39.942220Z",
     "shell.execute_reply.started": "2025-05-25T09:01:39.929278Z"
    }
   },
   "outputs": [
    {
     "data": {
      "text/plain": [
       "['id', 'label', 'mainType', 'membersNumber', 'eigenvector', 'betweenness']"
      ]
     },
     "execution_count": 133,
     "metadata": {},
     "output_type": "execute_result"
    }
   ],
   "source": [
    "list(nodes_df.columns)"
   ]
  },
  {
   "cell_type": "code",
   "execution_count": 134,
   "metadata": {
    "execution": {
     "iopub.execute_input": "2025-05-25T09:01:40.429276Z",
     "iopub.status.busy": "2025-05-25T09:01:40.428202Z",
     "iopub.status.idle": "2025-05-25T09:01:40.458417Z",
     "shell.execute_reply": "2025-05-25T09:01:40.455976Z",
     "shell.execute_reply.started": "2025-05-25T09:01:40.429192Z"
    }
   },
   "outputs": [
    {
     "name": "stdout",
     "output_type": "stream",
     "text": [
      "Betweenness\n",
      "                               label            mainType membersNumber\n",
      "37               Stanford University  private university            14\n",
      "47             University of Houston          university             7\n",
      "33                   Rice University  private university             9\n",
      "40  University of Houston–Clear Lake          university             5\n",
      "14         Naval Postgraduate School          university            20\n",
      "4             University of Colorado          university            12\n",
      "81              Princeton University  private university             3\n",
      "\n",
      "-----\n",
      "Eigenvector\n",
      "                                        label            mainType  \\\n",
      "7                          Cornell University  private university   \n",
      "8   Cornell University College of Engineering          university   \n",
      "37                        Stanford University  private university   \n",
      "41                         Harvard University  private university   \n",
      "42              Washington and Lee University  private university   \n",
      "43                   Johns Hopkins University          university   \n",
      "81                       Princeton University  private university   \n",
      "\n",
      "   membersNumber  \n",
      "7              6  \n",
      "8              4  \n",
      "37            14  \n",
      "41             5  \n",
      "42             1  \n",
      "43             2  \n",
      "81             3  \n"
     ]
    }
   ],
   "source": [
    "print('Betweenness')\n",
    "pprint.pprint((nodes_df.sort_values(by='betweenness', ascending=False)[['label', 'mainType', 'membersNumber']].head(7)))\n",
    "print('\\n-----\\nEigenvector')\n",
    "pprint.pprint((nodes_df.sort_values(by='eigenvector', ascending=False)[['label', 'mainType', 'membersNumber']].head(7)))"
   ]
  },
  {
   "cell_type": "code",
   "execution_count": null,
   "metadata": {},
   "outputs": [],
   "source": []
  },
  {
   "cell_type": "markdown",
   "metadata": {},
   "source": [
    "#### Plot graph"
   ]
  },
  {
   "cell_type": "code",
   "execution_count": 152,
   "metadata": {
    "execution": {
     "iopub.execute_input": "2025-05-25T09:08:12.315455Z",
     "iopub.status.busy": "2025-05-25T09:08:12.314447Z",
     "iopub.status.idle": "2025-05-25T09:08:12.329181Z",
     "shell.execute_reply": "2025-05-25T09:08:12.326568Z",
     "shell.execute_reply.started": "2025-05-25T09:08:12.315373Z"
    }
   },
   "outputs": [
    {
     "name": "stdout",
     "output_type": "stream",
     "text": [
      "images/edu_edu_1941-1960.svg\n"
     ]
    }
   ],
   "source": [
    "pict_addr = 'images/edu_edu_' + p +'.svg'\n",
    "print(pict_addr)"
   ]
  },
  {
   "cell_type": "code",
   "execution_count": 153,
   "metadata": {
    "execution": {
     "iopub.execute_input": "2025-05-25T09:08:15.928148Z",
     "iopub.status.busy": "2025-05-25T09:08:15.926676Z",
     "iopub.status.idle": "2025-05-25T09:08:16.191015Z",
     "shell.execute_reply": "2025-05-25T09:08:16.188824Z",
     "shell.execute_reply.started": "2025-05-25T09:08:15.928059Z"
    }
   },
   "outputs": [
    {
     "ename": "KeyError",
     "evalue": "'membersNumber'",
     "output_type": "error",
     "traceback": [
      "\u001b[0;31m---------------------------------------------------------------------------\u001b[0m",
      "\u001b[0;31mKeyError\u001b[0m                                  Traceback (most recent call last)",
      "Cell \u001b[0;32mIn[153], line 25\u001b[0m\n\u001b[1;32m     22\u001b[0m \u001b[38;5;66;03m# https://networkx.org/documentation/stable/reference/drawing.html\u001b[39;00m\n\u001b[1;32m     23\u001b[0m plt\u001b[38;5;241m.\u001b[39mfigure(figsize \u001b[38;5;241m=\u001b[39m (n_size,n_size))\n\u001b[0;32m---> 25\u001b[0m node_size \u001b[38;5;241m=\u001b[39m [\u001b[43mn\u001b[49m\u001b[43m[\u001b[49m\u001b[38;5;241;43m1\u001b[39;49m\u001b[43m]\u001b[49m\u001b[43m[\u001b[49m\u001b[38;5;124;43m'\u001b[39;49m\u001b[38;5;124;43mmembersNumber\u001b[39;49m\u001b[38;5;124;43m'\u001b[39;49m\u001b[43m]\u001b[49m\u001b[38;5;241m*\u001b[39m\u001b[38;5;241m20\u001b[39m \u001b[38;5;28;01mfor\u001b[39;00m n \u001b[38;5;129;01min\u001b[39;00m g\u001b[38;5;241m.\u001b[39mnodes\u001b[38;5;241m.\u001b[39mdata()]\n\u001b[1;32m     26\u001b[0m \u001b[38;5;66;03m#node_size = [d[1]*100 for d in nx.degree(g)]\u001b[39;00m\n\u001b[1;32m     27\u001b[0m node_colors\u001b[38;5;241m=\u001b[39m [color_map[n[\u001b[38;5;241m1\u001b[39m][\u001b[38;5;124m'\u001b[39m\u001b[38;5;124mmainType\u001b[39m\u001b[38;5;124m'\u001b[39m]] \u001b[38;5;28;01mfor\u001b[39;00m n \u001b[38;5;129;01min\u001b[39;00m g\u001b[38;5;241m.\u001b[39mnodes\u001b[38;5;241m.\u001b[39mdata()]\n",
      "\u001b[0;31mKeyError\u001b[0m: 'membersNumber'"
     ]
    },
    {
     "data": {
      "text/plain": [
       "<Figure size 4653.96x4653.96 with 0 Axes>"
      ]
     },
     "metadata": {},
     "output_type": "display_data"
    }
   ],
   "source": [
    "### Plot the graph\n",
    "\n",
    "g = pG\n",
    "# n_size = np.log(np.sqrt(nx.number_of_nodes(g)))* 25 #*25\n",
    "n_size = np.log(nx.number_of_nodes(g))*10\n",
    "\n",
    "graph_layout = 'spring_layout'\n",
    "n_k = np.log(nx.number_of_nodes(g))/20 #2.5\n",
    "\n",
    "### Define the layout, i.e. the choice \n",
    "# of the algorithm for the representation of the graph.\n",
    "\n",
    "if graph_layout == 'fruchterman_reingold':\n",
    "    pos = nx.fruchterman_reingold_layout(g)\n",
    "elif graph_layout == 'kamada_kawai':\n",
    "    pos = nx.kamada_kawai_layout(g)\n",
    "elif graph_layout == 'spring_layout':\n",
    "    pos = nx.spring_layout(g, k = n_k)  \n",
    "else:\n",
    "    pos = nx.kamada_kawai_layout(g)\n",
    "\n",
    "# https://networkx.org/documentation/stable/reference/drawing.html\n",
    "plt.figure(figsize = (n_size,n_size))\n",
    "\n",
    "node_size = [n[1]['membersNumber']*20 for n in g.nodes.data()]\n",
    "#node_size = [d[1]*100 for d in nx.degree(g)]\n",
    "node_colors= [color_map[n[1]['mainType']] for n in g.nodes.data()]\n",
    "\n",
    "edge_size = [e[2]['weight'] for e in g.edges.data()]\n",
    "edge_labels = {e: g.get_edge_data(e[0], e[1])[\"weight\"] for e in g.edges()}\n",
    "\n",
    "node_labels = dict([tuple(( n[0] , n[1]['label'] )) for n in g.nodes.data()])\n",
    "\n",
    "\n",
    "nx.draw_networkx_nodes(g, pos, node_size=node_size, node_color=node_colors, alpha=0.6)\n",
    "nx.draw_networkx_edges(g, pos, width=edge_size, alpha=0.02) # edgelist=ln, edge_color=c, \n",
    "nx.draw_networkx_labels(g, pos, labels=node_labels, alpha=0.7, font_size=10)\n",
    "#nx.draw_networkx_edge_labels(g, pos, edge_labels=edge_labels, alpha=0.7, font_size=10)\n",
    "\n",
    "alpha_n=0.5\n",
    "\n",
    "plt.legend(handles=[plt.Line2D([0], [0], marker='o', color='w', \n",
    "                        label=label, markerfacecolor=color, \n",
    "                        markersize=12, alpha=alpha_n\n",
    "                        )\n",
    "                        for label, color in color_map.items()\n",
    "                        if label in types_list ],\n",
    "                        loc='lower right', fontsize=12)\n",
    "\n",
    "\n",
    "### On peut augmenter ou diminuer ce paramètre pour ajuster le graphe\n",
    "plt.tight_layout(pad=60)\n",
    "pict_addr = pict_addr\n",
    "plt.savefig(pict_addr)\n",
    "#plt.show()\n",
    "plt.close()\n"
   ]
  },
  {
   "cell_type": "markdown",
   "metadata": {},
   "source": [
    "### Communitites"
   ]
  },
  {
   "cell_type": "code",
   "execution_count": 137,
   "metadata": {
    "execution": {
     "iopub.execute_input": "2025-05-25T09:01:46.662700Z",
     "iopub.status.busy": "2025-05-25T09:01:46.662374Z",
     "iopub.status.idle": "2025-05-25T09:01:46.681041Z",
     "shell.execute_reply": "2025-05-25T09:01:46.679540Z",
     "shell.execute_reply.started": "2025-05-25T09:01:46.662669Z"
    }
   },
   "outputs": [
    {
     "name": "stdout",
     "output_type": "stream",
     "text": [
      "7\n",
      "[28, 19, 18, 13, 12, 8, 7]\n",
      "[({'http://www.wikidata.org/entity/Q6879708', 'http://www.wikidata.org/entity/Q1256981', 'http://www.wikidata.org/entity/Q2002085', 'http://www.wikidata.org/entity/Q770544', 'http://www.wikidata.org/entity/Q4380853', 'http://www.wikidata.org/entity/Q152838', 'http://www.wikidata.org/entity/Q219563'}, 7)]\n"
     ]
    }
   ],
   "source": [
    "l_communities = [(c, len(c)) for c in list(nx.community.louvain_communities(pG, resolution=0.7, weight='weight'))]\n",
    "print( len(l_communities))\n",
    "sl_communities = sorted(l_communities, key=lambda x: x[1], reverse=True)\n",
    "print([c[1] for c in sl_communities])\n",
    "print(sl_communities[-1:])\n"
   ]
  },
  {
   "cell_type": "code",
   "execution_count": 138,
   "metadata": {
    "execution": {
     "iopub.execute_input": "2025-05-25T09:01:46.682557Z",
     "iopub.status.busy": "2025-05-25T09:01:46.682284Z",
     "iopub.status.idle": "2025-05-25T09:01:46.770816Z",
     "shell.execute_reply": "2025-05-25T09:01:46.769349Z",
     "shell.execute_reply.started": "2025-05-25T09:01:46.682532Z"
    }
   },
   "outputs": [
    {
     "name": "stdout",
     "output_type": "stream",
     "text": [
      "\n",
      "\n",
      "Community 0 \n",
      "Betweenness\n",
      "                        label            mainType membersNumber\n",
      "37        Stanford University  private university            14\n",
      "81       Princeton University  private university             3\n",
      "7          Cornell University  private university             6\n",
      "10  Colorado State University          university             5\n",
      "\n",
      "-----\n",
      "Eigenvector\n",
      "                                        label            mainType  \\\n",
      "7                          Cornell University  private university   \n",
      "8   Cornell University College of Engineering          university   \n",
      "37                        Stanford University  private university   \n",
      "41                         Harvard University  private university   \n",
      "\n",
      "   membersNumber  \n",
      "7              6  \n",
      "8              4  \n",
      "37            14  \n",
      "41             5  \n",
      "\n",
      "\n",
      "Community 1 \n",
      "Betweenness\n",
      "                                label    mainType membersNumber\n",
      "40   University of Houston–Clear Lake  university             5\n",
      "39      Pennsylvania State University  university             4\n",
      "60        University of New Hampshire  university             2\n",
      "101                Rutgers University  university             3\n",
      "\n",
      "-----\n",
      "Eigenvector\n",
      "                               label            mainType membersNumber\n",
      "65      George Washington University  private university             4\n",
      "40  University of Houston–Clear Lake          university             5\n",
      "60       University of New Hampshire          university             2\n",
      "61               New York University  private university             2\n",
      "\n",
      "\n",
      "Community 2 \n",
      "Betweenness\n",
      "                                label            mainType membersNumber\n",
      "47              University of Houston          university             7\n",
      "14          Naval Postgraduate School          university            20\n",
      "57              Ohio State University          university             3\n",
      "44  University of Southern California  private university             7\n",
      "\n",
      "-----\n",
      "Eigenvector\n",
      "                                label            mainType membersNumber\n",
      "47              University of Houston          university             7\n",
      "44  University of Southern California  private university             7\n",
      "14          Naval Postgraduate School          university            20\n",
      "57              Ohio State University          university             3\n",
      "\n",
      "\n",
      "Community 3 \n",
      "Betweenness\n",
      "                     label            mainType membersNumber\n",
      "33         Rice University  private university             9\n",
      "4   University of Colorado          university            12\n",
      "50       Purdue University          university            17\n",
      "30    Texas A&M University          university             3\n",
      "\n",
      "-----\n",
      "Eigenvector\n",
      "                     label            mainType membersNumber\n",
      "33         Rice University  private university             9\n",
      "4   University of Colorado          university            12\n",
      "32     University of Tokyo          university             1\n",
      "50       Purdue University          university            17\n",
      "\n",
      "\n",
      "Community 4 \n",
      "Betweenness\n",
      "                       label           mainType membersNumber\n",
      "55     University of Florida  public university             6\n",
      "46    University of Virginia         university             7\n",
      "31         Auburn University         university             3\n",
      "67  Florida State University  public university             4\n",
      "\n",
      "-----\n",
      "Eigenvector\n",
      "                                   label            mainType membersNumber\n",
      "55                 University of Florida   public university             6\n",
      "46                University of Virginia          university             7\n",
      "79                       Yale University  private university             2\n",
      "80  University of Virginia School of Law          university             1\n"
     ]
    }
   ],
   "source": [
    "for i in range(0,5):\n",
    "   print('\\n\\nCommunity '+ str(i), '\\nBetweenness')\n",
    "   pprint.pprint((nodes_df[nodes_df.id.isin(list(sl_communities[i][0])) ].sort_values(by='betweenness', ascending=False)[['label', 'mainType', 'membersNumber']].head(4)))\n",
    "   print('\\n-----\\nEigenvector')\n",
    "   pprint.pprint((nodes_df[nodes_df.id.isin(list(sl_communities[i][0])) ].sort_values(by='eigenvector', ascending=False)[['label', 'mainType', 'membersNumber']].head(4)))\n"
   ]
  },
  {
   "cell_type": "markdown",
   "metadata": {},
   "source": [
    "#### Plot communitites graph"
   ]
  },
  {
   "cell_type": "code",
   "execution_count": 139,
   "metadata": {
    "execution": {
     "iopub.execute_input": "2025-05-25T09:01:47.597304Z",
     "iopub.status.busy": "2025-05-25T09:01:47.596144Z",
     "iopub.status.idle": "2025-05-25T09:01:47.610244Z",
     "shell.execute_reply": "2025-05-25T09:01:47.607736Z",
     "shell.execute_reply.started": "2025-05-25T09:01:47.597207Z"
    }
   },
   "outputs": [
    {
     "name": "stdout",
     "output_type": "stream",
     "text": [
      "images/edu_edu_communities_1941-1960.svg\n"
     ]
    }
   ],
   "source": [
    "pict_addr_comm = 'images/edu_edu_communities_' + p +'.svg'\n",
    "print(pict_addr_comm)"
   ]
  },
  {
   "cell_type": "code",
   "execution_count": 140,
   "metadata": {
    "execution": {
     "iopub.execute_input": "2025-05-25T09:01:48.053590Z",
     "iopub.status.busy": "2025-05-25T09:01:48.052672Z",
     "iopub.status.idle": "2025-05-25T09:01:49.285267Z",
     "shell.execute_reply": "2025-05-25T09:01:49.284382Z",
     "shell.execute_reply.started": "2025-05-25T09:01:48.053511Z"
    }
   },
   "outputs": [],
   "source": [
    "### Plot the graph\n",
    "\n",
    "g = pG\n",
    "# n_size = np.log(np.sqrt(nx.number_of_nodes(g)))* 25 #*25\n",
    "n_size = np.log(nx.number_of_nodes(g))*10\n",
    "\n",
    "graph_layout = 'spring_layout'\n",
    "n_k = np.log(nx.number_of_nodes(g))/20 #2.5\n",
    "\n",
    "### Define the layout, i.e. the choice \n",
    "# of the algorithm for the representation of the graph.\n",
    "\n",
    "if graph_layout == 'fruchterman_reingold':\n",
    "    pos = nx.fruchterman_reingold_layout(g)\n",
    "elif graph_layout == 'kamada_kawai':\n",
    "    pos = nx.kamada_kawai_layout(g)\n",
    "elif graph_layout == 'spring_layout':\n",
    "    pos = nx.spring_layout(g, k = n_k)  \n",
    "else:\n",
    "    pos = nx.kamada_kawai_layout(g)\n",
    "\n",
    "# https://networkx.org/documentation/stable/reference/drawing.html\n",
    "plt.figure(figsize = (n_size,n_size))\n",
    "\n",
    "node_size = [n[1]['membersNumber']*20 for n in g.nodes.data()]\n",
    "#node_size = [d[1]*100 for d in nx.degree(g)]\n",
    "\n",
    "node_colors = []\n",
    "for n in g.nodes.data():\n",
    "    if n[0] in list(sl_communities[0][0]):\n",
    "        node_colors.append('red')\n",
    "    elif n[0] in list(sl_communities[1][0]):\n",
    "        node_colors.append('blue')\n",
    "    elif n[0] in list(sl_communities[2][0]):\n",
    "        node_colors.append('green')\n",
    "    elif n[0] in list(sl_communities[3][0]):\n",
    "        node_colors.append('orange')\n",
    "    elif n[0] in list(sl_communities[4][0]):\n",
    "        node_colors.append('maroon')\n",
    "    else:\n",
    "        node_colors.append('lightGrey')        \n",
    "\n",
    "\n",
    "edge_size = [e[2]['weight'] for e in g.edges.data()]\n",
    "edge_labels = {e: g.get_edge_data(e[0], e[1])[\"weight\"] for e in g.edges()}\n",
    "\n",
    "node_labels = dict([tuple(( n[0] , n[1]['label'] )) for n in g.nodes.data()])\n",
    "\n",
    "\n",
    "nx.draw_networkx_nodes(g, pos, node_size=node_size, node_color=node_colors, alpha=0.6)\n",
    "nx.draw_networkx_edges(g, pos, width=edge_size, alpha=0.02) # edgelist=ln, edge_color=c, \n",
    "nx.draw_networkx_labels(g, pos, labels=node_labels, alpha=0.7, font_size=10)\n",
    "#nx.draw_networkx_edge_labels(g, pos, edge_labels=edge_labels, alpha=0.7, font_size=10)\n",
    "\n",
    "alpha_n=0.5\n",
    "\n",
    "\n",
    "\n",
    "### On peut augmenter ou diminuer ce paramètre pour ajuster le graphe\n",
    "plt.tight_layout(pad=60)\n",
    "pict_addr = pict_addr_comm\n",
    "plt.savefig(pict_addr)\n",
    "#plt.show()\n",
    "plt.close()\n"
   ]
  },
  {
   "cell_type": "code",
   "execution_count": null,
   "metadata": {},
   "outputs": [],
   "source": []
  },
  {
   "cell_type": "code",
   "execution_count": null,
   "metadata": {},
   "outputs": [],
   "source": []
  },
  {
   "cell_type": "markdown",
   "metadata": {},
   "source": [
    "## Create general function"
   ]
  },
  {
   "cell_type": "code",
   "execution_count": 141,
   "metadata": {
    "execution": {
     "iopub.execute_input": "2025-05-25T09:01:50.163536Z",
     "iopub.status.busy": "2025-05-25T09:01:50.162561Z",
     "iopub.status.idle": "2025-05-25T09:01:50.207609Z",
     "shell.execute_reply": "2025-05-25T09:01:50.206162Z",
     "shell.execute_reply.started": "2025-05-25T09:01:50.163456Z"
    }
   },
   "outputs": [],
   "source": [
    "def generate_report_and_plots(df, concatRelaType, type_list, doc_addr, df_orgPeriod):\n",
    "\n",
    "    with open(doc_addr, \"w\") as myfile:\n",
    "        myfile.write('# Report for relations: ' + concatRelaType + '\\n')\n",
    "\n",
    "\n",
    "    df_g = df[(df.relaType_concat == concatRelaType) \\\n",
    "                     & (df.orgMainType_x.isin(type_list)) \\\n",
    "                     & (df.orgMainType_y.isin(type_list))  ]\n",
    "\n",
    "    txt = str(df_g.groupby('periods').size())\n",
    "\n",
    "    with open(doc_addr, \"a\") as myfile:\n",
    "        myfile.write('\\n'+txt + '\\n')\n",
    "\n",
    "    for p in df_g['periods'].unique():\n",
    "        print(str(p))   \n",
    "\n",
    "        with open(doc_addr, \"a\") as myfile:\n",
    "            myfile.write('\\n\\n\\n## Values for ' + p + '\\n')\n",
    "\n",
    "        df_g_p = df_g[df_g.periods==p]\n",
    "        \n",
    "        with open(doc_addr, \"a\") as myfile:\n",
    "            myfile.write('\\nNumber of relationships for this period ' + str(len(df_g_p)) + '\\n')\n",
    "        \n",
    "        l = [tuple(\n",
    "            (e['uriOrg_x'], e['uriOrg_y'],\n",
    "            {'uriPers':e['uriPer'], 'labelPers':e['labelPer'],\n",
    "            ## the weight ist the number of persons in this relationship\n",
    "            'weight':e['number']}\n",
    "            )) \n",
    "            for e in df_g_p.to_dict(orient='records')]\n",
    "        \n",
    "        graph_p=nx.Graph()\n",
    "        graph_p.add_edges_from(l)\n",
    "\n",
    "        txt = 'Number of nodes: ' + str(graph_p.number_of_nodes())+\\\n",
    "                '\\nNumber of edges: ' + str(graph_p.number_of_edges())\n",
    "        with open(doc_addr, \"a\") as myfile:\n",
    "                    myfile.write('\\n'+ txt  + '\\n')\n",
    "\n",
    "        ### Components\n",
    "        graph_p_S = [graph_p.subgraph(c).copy() \n",
    "                     for c in nx.connected_components(graph_p)]\n",
    "\n",
    "        ln = sorted([[i,len(s.nodes)] for i,s in enumerate(graph_p_S)], key = lambda row: row[1], reverse=True)\n",
    "        try:\n",
    "            if ln[1][1]*20 < ln[0][1]:\n",
    "                with open(doc_addr, \"a\") as myfile:\n",
    "                    myfile.write('\\nJust one big component with ' + str(graph_p_S[0].number_of_nodes()) + ' nodes\\n')            \n",
    "            else :\n",
    "                with open(doc_addr, \"a\") as myfile:\n",
    "                    myfile.write('\\nBeware: more than one big component !'  + '\\n')\n",
    "        except Exception as e:\n",
    "             print(e)            \n",
    "            \n",
    "        ### Alternative way with just one graph\n",
    "        pG = graph_p_S[0]\n",
    "\n",
    "        txt = 'Number of nodes for first component: ' + str(pG.number_of_nodes())+\\\n",
    "                '\\nNumber of edges for first component: ' + str(pG.number_of_edges())\n",
    "        with open(doc_addr, \"a\") as myfile:\n",
    "                    myfile.write('\\n'+ txt  + '\\n')\n",
    "\n",
    "        ### No treatment for smaller graphs\n",
    "        if int(pG.number_of_nodes()) > 30:\n",
    "\n",
    "            ### Prepare data to add to nodes\n",
    "\n",
    "            df_opl = df_orgPeriod[df_orgPeriod.periods==p][['uriOrg', 'labelOrg', 'orgMainType', 'period_members_number']]\n",
    "            df_opl.columns=['uri', 'label', 'mainType', 'membersNumber']\n",
    "\n",
    "            ln = dict([(e['uri'],\n",
    "                {'label':e['label'], 'mainType':e['mainType'],\n",
    "                                    'membersNumber':e['membersNumber']}\n",
    "                ) for e in df_opl.to_dict(orient='records')])\n",
    "            ## Add attributes\n",
    "            nx.set_node_attributes(pG, ln)\n",
    "\n",
    "            mn_s = pd.Series([n[1]['mainType'] for n in pG.nodes.data()])\n",
    "            txt= str(list(mn_s.groupby(by=mn_s).size().sort_values(ascending=False).items()))\n",
    "            with open(doc_addr, \"a\") as myfile:\n",
    "                    myfile.write('\\n'+ txt  + '\\n')\n",
    "\n",
    "            ### Eigenvector\n",
    "            try:\n",
    "                le = list(nx.eigenvector_centrality(pG, \n",
    "                                        max_iter=1000, weight='weight').items())\n",
    "            except Exception as e:\n",
    "                print(e)    \n",
    "            nx.set_node_attributes(pG, dict(le), 'eigenvector')   \n",
    "\n",
    "            ### Betweenness\n",
    "            lb = list(nx.betweenness_centrality(pG, weight='weight').items())\n",
    "            nx.set_node_attributes(pG, dict(lb), 'betweenness')\n",
    "\n",
    "\n",
    "            ### Export node attributes to dataframe\n",
    "            nodes_data ={node: pG.nodes[node] for node in pG.nodes}\n",
    "            nodes_df = pd.DataFrame(nodes_data).T\n",
    "            nodes_df.reset_index(inplace=True, names='id')\n",
    "\n",
    "            corr_spear = nodes_df[['eigenvector', 'betweenness']].corr(method=\"spearman\")\n",
    "            txt = \"Spearman's rank correlation of eidenvector and betweenness: {}\".format(corr_spear.iloc[0,1])\n",
    "            with open(doc_addr, \"a\") as myfile:\n",
    "                    myfile.write('\\n'+ txt  + '\\n')\n",
    "\n",
    "            txt = 'Eigenvector\\n' + \\\n",
    "                str(nodes_df.sort_values(by='eigenvector', ascending=False)[['label', 'mainType', 'membersNumber']].head(7) )+\\\n",
    "                '\\n-----\\nBetweenness'+\\\n",
    "                str(nodes_df.sort_values(by='betweenness', ascending=False)[['label', 'mainType', 'membersNumber']].head(7))\n",
    "            with open(doc_addr, \"a\") as myfile:\n",
    "                    myfile.write('\\n'+ txt  + '\\n')\n",
    "\n",
    "\n",
    "            pict_addr = 'images/' + concatRelaType + '_' + p +'.svg'        \n",
    "\n",
    "\n",
    "            ### Plot the graph\n",
    "            g = pG\n",
    "            # n_size = np.log(np.sqrt(nx.number_of_nodes(g)))* 25 #*25\n",
    "            n_size = np.log(nx.number_of_nodes(g))*10\n",
    "\n",
    "            graph_layout = 'spring_layout'\n",
    "            n_k = np.log(nx.number_of_nodes(g))/20 #2.5\n",
    "\n",
    "            ### Define the layout, i.e. the choice \n",
    "            # of the algorithm for the representation of the graph.\n",
    "\n",
    "            if graph_layout == 'fruchterman_reingold':\n",
    "                pos = nx.fruchterman_reingold_layout(g)\n",
    "            elif graph_layout == 'kamada_kawai':\n",
    "                pos = nx.kamada_kawai_layout(g)\n",
    "            elif graph_layout == 'spring_layout':\n",
    "                pos = nx.spring_layout(g, k = n_k)  \n",
    "            else:\n",
    "                pos = nx.kamada_kawai_layout(g)\n",
    "\n",
    "            # https://networkx.org/documentation/stable/reference/drawing.html\n",
    "            plt.figure(figsize = (n_size,n_size))\n",
    "\n",
    "            node_size = [n[1]['membersNumber']*20 for n in g.nodes.data()]\n",
    "            #node_size = [d[1]*100 for d in nx.degree(g)]\n",
    "            #node_colors= [color_map[n[1]['mainType']] for n in g.nodes.data()]\n",
    "\n",
    "            edge_size = [e[2]['weight'] for e in g.edges.data()]\n",
    "            edge_labels = {e: g.get_edge_data(e[0], e[1])[\"weight\"] for e in g.edges()}\n",
    "\n",
    "            node_labels = dict([tuple(( n[0] , n[1]['label'] )) for n in g.nodes.data()])\n",
    "\n",
    "\n",
    "            nx.draw_networkx_nodes(g, pos, node_size=node_size, node_color='blue', alpha=0.6)\n",
    "            nx.draw_networkx_edges(g, pos, width=edge_size, alpha=0.02) # edgelist=ln, edge_color=c, \n",
    "            nx.draw_networkx_labels(g, pos, labels=node_labels, alpha=0.7, font_size=10)\n",
    "            #nx.draw_networkx_edge_labels(g, pos, edge_labels=edge_labels, alpha=0.7, font_size=10)\n",
    "\n",
    "            alpha_n=0.5\n",
    "\n",
    "            plt.legend(handles=[plt.Line2D([0], [0], marker='o', color='w', \n",
    "                                    label=label, markerfacecolor=color, \n",
    "                                    markersize=8, alpha=alpha_n\n",
    "                                    )\n",
    "                                    for label, color in color_map.items()],\n",
    "                                    loc='lower right', fontsize=8)\n",
    "\n",
    "\n",
    "            ### On peut augmenter ou diminuer ce paramètre pour ajuster le graphe\n",
    "            plt.tight_layout(pad=60)\n",
    "            pict_addr = pict_addr\n",
    "            plt.savefig(pict_addr)\n",
    "            #plt.show()\n",
    "            plt.close()\n",
    "\n",
    "\n",
    "            ### Identify communitites\n",
    "            l_communities = [(c, len(c)) for c in list(nx.community.louvain_communities(pG, resolution=0.7, weight='weight'))]\n",
    "            sl_communities = sorted(l_communities, key=lambda x: x[1], reverse=True)\n",
    "            txt= 'Number of communitites: ' + str(len(l_communities)) +\\\n",
    "                    '\\nNumber of nodes per community: ' + str([c[1] for c in sl_communities])\n",
    "            with open(doc_addr, \"a\") as myfile:\n",
    "                myfile.write('\\n'+ txt  + '\\n')\n",
    "\n",
    "            communities_print = 'Communities: \\n'\n",
    "            try:\n",
    "                for i in range(0,5):\n",
    "                    communities_print += '\\n\\nCommunity '+ str(i) + '\\nBetweenness'\n",
    "                    communities_print += str(nodes_df[nodes_df.id.isin(list(sl_communities[i][0])) ]\\\n",
    "                                                .sort_values(by='betweenness', ascending=False)[['label', 'mainType', 'membersNumber']].head(5).to_markdown())\n",
    "                    communities_print += '\\n-----\\nEigenvector'\n",
    "                    communities_print += str(nodes_df[nodes_df.id.isin(list(sl_communities[i][0])) ].sort_values(by='eigenvector', ascending=False)[['label', 'mainType', 'membersNumber']].head(5).to_markdown())\n",
    "                with open(doc_addr, \"a\") as myfile:\n",
    "                    myfile.write('\\n'+ communities_print  + '\\n')\n",
    "            except Exception as e:\n",
    "                 print(e)        \n",
    "\n",
    "        else:\n",
    "            print('Too small graph to be analyzed!')        \n"
   ]
  },
  {
   "cell_type": "code",
   "execution_count": 142,
   "metadata": {
    "execution": {
     "iopub.execute_input": "2025-05-25T09:01:51.177143Z",
     "iopub.status.busy": "2025-05-25T09:01:51.176199Z",
     "iopub.status.idle": "2025-05-25T09:01:51.190799Z",
     "shell.execute_reply": "2025-05-25T09:01:51.188319Z",
     "shell.execute_reply.started": "2025-05-25T09:01:51.177063Z"
    }
   },
   "outputs": [
    {
     "name": "stdout",
     "output_type": "stream",
     "text": [
      "['educational institution', 'university', 'public university', 'private university', 'institute of technology', 'astronomical observatory', 'learned society', 'not classified organisation', 'research organisation', 'research facility', 'scientific organisation']\n"
     ]
    }
   ],
   "source": [
    "print(df_mainTypes.mainType.to_list())"
   ]
  },
  {
   "cell_type": "code",
   "execution_count": 143,
   "metadata": {
    "execution": {
     "iopub.execute_input": "2025-05-25T09:01:52.112660Z",
     "iopub.status.busy": "2025-05-25T09:01:52.111621Z",
     "iopub.status.idle": "2025-05-25T09:01:52.206700Z",
     "shell.execute_reply": "2025-05-25T09:01:52.205184Z",
     "shell.execute_reply.started": "2025-05-25T09:01:52.112572Z"
    }
   },
   "outputs": [
    {
     "ename": "FileNotFoundError",
     "evalue": "[Errno 2] No such file or directory: 'analysis_doc/education_education.md'",
     "output_type": "error",
     "traceback": [
      "\u001b[0;31m---------------------------------------------------------------------------\u001b[0m",
      "\u001b[0;31mFileNotFoundError\u001b[0m                         Traceback (most recent call last)",
      "Cell \u001b[0;32mIn[143], line 2\u001b[0m\n\u001b[1;32m      1\u001b[0m relationship_type \u001b[38;5;241m=\u001b[39m \u001b[38;5;124m'\u001b[39m\u001b[38;5;124meducation_education\u001b[39m\u001b[38;5;124m'\u001b[39m\n\u001b[0;32m----> 2\u001b[0m \u001b[43mgenerate_report_and_plots\u001b[49m\u001b[43m(\u001b[49m\u001b[43mdf_graph\u001b[49m\u001b[43m,\u001b[49m\u001b[43m \u001b[49m\u001b[43mrelationship_type\u001b[49m\u001b[43m,\u001b[49m\n\u001b[1;32m      3\u001b[0m \u001b[43m                           \u001b[49m\u001b[43m[\u001b[49m\u001b[38;5;124;43m'\u001b[39;49m\u001b[38;5;124;43muniversity\u001b[39;49m\u001b[38;5;124;43m'\u001b[39;49m\u001b[43m,\u001b[49m\u001b[38;5;124;43m'\u001b[39;49m\u001b[38;5;124;43mpublic university\u001b[39;49m\u001b[38;5;124;43m'\u001b[39;49m\u001b[43m,\u001b[49m\u001b[38;5;124;43m'\u001b[39;49m\u001b[38;5;124;43mprivate university\u001b[39;49m\u001b[38;5;124;43m'\u001b[39;49m\u001b[43m]\u001b[49m\u001b[43m,\u001b[49m\n\u001b[1;32m      4\u001b[0m \u001b[43m                           \u001b[49m\u001b[38;5;124;43m'\u001b[39;49m\u001b[38;5;124;43manalysis_doc/\u001b[39;49m\u001b[38;5;124;43m'\u001b[39;49m\u001b[38;5;241;43m+\u001b[39;49m\u001b[43mrelationship_type\u001b[49m\u001b[38;5;241;43m+\u001b[39;49m\u001b[38;5;124;43m'\u001b[39;49m\u001b[38;5;124;43m.md\u001b[39;49m\u001b[38;5;124;43m'\u001b[39;49m\u001b[43m,\u001b[49m\n\u001b[1;32m      5\u001b[0m \u001b[43m                           \u001b[49m\u001b[43mdf_orgPeriod\u001b[49m\u001b[43m)\u001b[49m\n",
      "Cell \u001b[0;32mIn[141], line 3\u001b[0m, in \u001b[0;36mgenerate_report_and_plots\u001b[0;34m(df, concatRelaType, type_list, doc_addr, df_orgPeriod)\u001b[0m\n\u001b[1;32m      1\u001b[0m \u001b[38;5;28;01mdef\u001b[39;00m \u001b[38;5;21mgenerate_report_and_plots\u001b[39m(df, concatRelaType, type_list, doc_addr, df_orgPeriod):\n\u001b[0;32m----> 3\u001b[0m     \u001b[38;5;28;01mwith\u001b[39;00m \u001b[38;5;28;43mopen\u001b[39;49m\u001b[43m(\u001b[49m\u001b[43mdoc_addr\u001b[49m\u001b[43m,\u001b[49m\u001b[43m \u001b[49m\u001b[38;5;124;43m\"\u001b[39;49m\u001b[38;5;124;43mw\u001b[39;49m\u001b[38;5;124;43m\"\u001b[39;49m\u001b[43m)\u001b[49m \u001b[38;5;28;01mas\u001b[39;00m myfile:\n\u001b[1;32m      4\u001b[0m         myfile\u001b[38;5;241m.\u001b[39mwrite(\u001b[38;5;124m'\u001b[39m\u001b[38;5;124m# Report for relations: \u001b[39m\u001b[38;5;124m'\u001b[39m \u001b[38;5;241m+\u001b[39m concatRelaType \u001b[38;5;241m+\u001b[39m \u001b[38;5;124m'\u001b[39m\u001b[38;5;130;01m\\n\u001b[39;00m\u001b[38;5;124m'\u001b[39m)\n\u001b[1;32m      7\u001b[0m     df_g \u001b[38;5;241m=\u001b[39m df[(df\u001b[38;5;241m.\u001b[39mrelaType_concat \u001b[38;5;241m==\u001b[39m concatRelaType) \\\n\u001b[1;32m      8\u001b[0m                      \u001b[38;5;241m&\u001b[39m (df\u001b[38;5;241m.\u001b[39morgMainType_x\u001b[38;5;241m.\u001b[39misin(type_list)) \\\n\u001b[1;32m      9\u001b[0m                      \u001b[38;5;241m&\u001b[39m (df\u001b[38;5;241m.\u001b[39morgMainType_y\u001b[38;5;241m.\u001b[39misin(type_list))  ]\n",
      "File \u001b[0;32m/opt/jlab-env/lib/python3.12/site-packages/IPython/core/interactiveshell.py:324\u001b[0m, in \u001b[0;36m_modified_open\u001b[0;34m(file, *args, **kwargs)\u001b[0m\n\u001b[1;32m    317\u001b[0m \u001b[38;5;28;01mif\u001b[39;00m file \u001b[38;5;129;01min\u001b[39;00m {\u001b[38;5;241m0\u001b[39m, \u001b[38;5;241m1\u001b[39m, \u001b[38;5;241m2\u001b[39m}:\n\u001b[1;32m    318\u001b[0m     \u001b[38;5;28;01mraise\u001b[39;00m \u001b[38;5;167;01mValueError\u001b[39;00m(\n\u001b[1;32m    319\u001b[0m         \u001b[38;5;124mf\u001b[39m\u001b[38;5;124m\"\u001b[39m\u001b[38;5;124mIPython won\u001b[39m\u001b[38;5;124m'\u001b[39m\u001b[38;5;124mt let you open fd=\u001b[39m\u001b[38;5;132;01m{\u001b[39;00mfile\u001b[38;5;132;01m}\u001b[39;00m\u001b[38;5;124m by default \u001b[39m\u001b[38;5;124m\"\u001b[39m\n\u001b[1;32m    320\u001b[0m         \u001b[38;5;124m\"\u001b[39m\u001b[38;5;124mas it is likely to crash IPython. If you know what you are doing, \u001b[39m\u001b[38;5;124m\"\u001b[39m\n\u001b[1;32m    321\u001b[0m         \u001b[38;5;124m\"\u001b[39m\u001b[38;5;124myou can use builtins\u001b[39m\u001b[38;5;124m'\u001b[39m\u001b[38;5;124m open.\u001b[39m\u001b[38;5;124m\"\u001b[39m\n\u001b[1;32m    322\u001b[0m     )\n\u001b[0;32m--> 324\u001b[0m \u001b[38;5;28;01mreturn\u001b[39;00m \u001b[43mio_open\u001b[49m\u001b[43m(\u001b[49m\u001b[43mfile\u001b[49m\u001b[43m,\u001b[49m\u001b[43m \u001b[49m\u001b[38;5;241;43m*\u001b[39;49m\u001b[43margs\u001b[49m\u001b[43m,\u001b[49m\u001b[43m \u001b[49m\u001b[38;5;241;43m*\u001b[39;49m\u001b[38;5;241;43m*\u001b[39;49m\u001b[43mkwargs\u001b[49m\u001b[43m)\u001b[49m\n",
      "\u001b[0;31mFileNotFoundError\u001b[0m: [Errno 2] No such file or directory: 'analysis_doc/education_education.md'"
     ]
    }
   ],
   "source": [
    "relationship_type = 'education_education'\n",
    "generate_report_and_plots(df_graph, relationship_type,\n",
    "                           ['university','public university','private university'],\n",
    "                           'analysis_doc/'+relationship_type+'.md',\n",
    "                           df_orgPeriod)"
   ]
  },
  {
   "cell_type": "code",
   "execution_count": null,
   "metadata": {},
   "outputs": [],
   "source": [
    "relationship_type = 'membership_membership'\n",
    "generate_report_and_plots(df_graph, relationship_type,\n",
    "                           ['university',\n",
    "                            'public university',\n",
    "                            'academy of sciences',\n",
    "                            'learned society',\n",
    "                            'private university',\n",
    "                            'research organisation',\n",
    "                            'institute of technology',\n",
    "                            'scientific organisation',\n",
    "                            'astronomical observatory',\n",
    "                            'research facility',\n",
    "                            'company',\n",
    "                            'governmenmt agency',\n",
    "                            'publisher_edition'],\n",
    "                           'analysis_doc/'+ relationship_type+'.md',\n",
    "                           df_orgPeriod)"
   ]
  },
  {
   "cell_type": "code",
   "execution_count": null,
   "metadata": {},
   "outputs": [],
   "source": [
    "relationship_type = 'employment_employment'\n",
    "generate_report_and_plots(df_graph, relationship_type,\n",
    "                           ['university',\n",
    "                            'public university',\n",
    "                            'academy of sciences',\n",
    "                            'learned society',\n",
    "                            'private university',\n",
    "                            'research organisation',\n",
    "                            'institute of technology',\n",
    "                            'scientific organisation',\n",
    "                            'astronomical observatory',\n",
    "                            'research facility',\n",
    "                            'company',\n",
    "                            'governmenmt agency',\n",
    "                            'publisher_edition'],\n",
    "                           'analysis_doc/'+ relationship_type+'.md',\n",
    "                           df_orgPeriod)"
   ]
  },
  {
   "cell_type": "code",
   "execution_count": null,
   "metadata": {},
   "outputs": [],
   "source": []
  },
  {
   "cell_type": "code",
   "execution_count": null,
   "metadata": {},
   "outputs": [],
   "source": []
  }
 ],
 "metadata": {
  "kernelspec": {
   "display_name": "Python3",
   "language": "python",
   "name": "python3"
  },
  "language_info": {
   "codemirror_mode": {
    "name": "ipython",
    "version": 3
   },
   "file_extension": ".py",
   "mimetype": "text/x-python",
   "name": "python",
   "nbconvert_exporter": "python",
   "pygments_lexer": "ipython3",
   "version": "3.12.5"
  }
 },
 "nbformat": 4,
 "nbformat_minor": 4
}
