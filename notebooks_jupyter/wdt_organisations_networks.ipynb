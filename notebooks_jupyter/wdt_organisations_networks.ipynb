{
 "cells": [
  {
   "cell_type": "markdown",
   "metadata": {},
   "source": [
    "# Networks of organisations\n",
    "\n",
    "\n",
    "  \n",
    "* *Exploratory SNA* book's chapter 5 about 'Affiliations'\n",
    "* Cf. [this notebook](https://github.com/Sciences-historiques-numeriques/histoire_numerique_methodes/blob/main/analyse_reseaux/pajek_book/chapter5_affiliations.ipynb) \n",
    "\n"
   ]
  },
  {
   "cell_type": "code",
   "execution_count": 217,
   "metadata": {
    "execution": {
     "iopub.execute_input": "2025-05-24T14:24:51.055800Z",
     "iopub.status.busy": "2025-05-24T14:24:51.054667Z",
     "iopub.status.idle": "2025-05-24T14:24:51.075757Z",
     "shell.execute_reply": "2025-05-24T14:24:51.073457Z",
     "shell.execute_reply.started": "2025-05-24T14:24:51.055715Z"
    }
   },
   "outputs": [],
   "source": [
    "### Librairie à installer dans l'environnement conda (si on exécute en local)\n",
    "# qui sera choisi pour exécuter le carnet\n",
    "\n",
    "%matplotlib inline\n",
    "\n",
    "from SPARQLWrapper import SPARQLWrapper, JSON, TURTLE, XML, RDFXML\n",
    "import pandas as pd\n",
    "\n",
    "import scipy.stats as stats\n",
    "\n",
    "import networkx as nx\n",
    "from networkx.algorithms import bipartite\n",
    "\n",
    "import matplotlib.pyplot as plt\n",
    "import matplotlib.patches as patches\n",
    "\n",
    "import numpy as np\n",
    "import seaborn as sns\n",
    "import math\n",
    "import os"
   ]
  },
  {
   "cell_type": "code",
   "execution_count": 218,
   "metadata": {
    "execution": {
     "iopub.execute_input": "2025-05-24T14:24:51.237901Z",
     "iopub.status.busy": "2025-05-24T14:24:51.237015Z",
     "iopub.status.idle": "2025-05-24T14:24:51.250007Z",
     "shell.execute_reply": "2025-05-24T14:24:51.247485Z",
     "shell.execute_reply.started": "2025-05-24T14:24:51.237787Z"
    }
   },
   "outputs": [],
   "source": [
    "### Librairies déjà installées avec Python\n",
    "import pprint\n",
    "import csv\n",
    "\n",
    "import sqlite3 as sql\n",
    "\n",
    "import time\n",
    "import datetime\n",
    "from dateutil import parser\n",
    "\n",
    "\n",
    "from shutil import copyfile\n"
   ]
  },
  {
   "cell_type": "code",
   "execution_count": 219,
   "metadata": {
    "execution": {
     "iopub.execute_input": "2025-05-24T14:24:51.402406Z",
     "iopub.status.busy": "2025-05-24T14:24:51.401504Z",
     "iopub.status.idle": "2025-05-24T14:24:51.416821Z",
     "shell.execute_reply": "2025-05-24T14:24:51.414089Z",
     "shell.execute_reply.started": "2025-05-24T14:24:51.402292Z"
    }
   },
   "outputs": [],
   "source": [
    "### Importer un module de fonctions crées ad hoc\n",
    "##  ATTENTION : le fichier 'sparql_functions.py' doit se trouver \n",
    "#   dans un dossier qui se situe dans le chemin ('path') de recherche\n",
    "#   vu par le présent carnet Jupyter afin que\n",
    "#   l'importation fonctionne correctement\n",
    "\n",
    "import sys\n",
    "from importlib import reload\n",
    "\n",
    "# Add parent directory to the path\n",
    "sys.path.insert(0, '..')\n",
    "\n",
    "### If you want to add the parent-parent directory,\n",
    "sys.path.insert(0, '../..')\n",
    "\n",
    "\n",
    "import sparql_functions as spqf\n",
    "import network_analysis_functions as naf"
   ]
  },
  {
   "cell_type": "code",
   "execution_count": 220,
   "metadata": {
    "execution": {
     "iopub.execute_input": "2025-05-24T14:24:51.618413Z",
     "iopub.status.busy": "2025-05-24T14:24:51.616543Z",
     "iopub.status.idle": "2025-05-24T14:24:51.634178Z",
     "shell.execute_reply": "2025-05-24T14:24:51.631654Z",
     "shell.execute_reply.started": "2025-05-24T14:24:51.618289Z"
    }
   },
   "outputs": [
    {
     "name": "stdout",
     "output_type": "stream",
     "text": [
      "<module 'network_analysis_functions' from '/home/My_notebook_printemps/network_analysis_functions.py'>\n"
     ]
    }
   ],
   "source": [
    "print(reload(naf))  "
   ]
  },
  {
   "cell_type": "markdown",
   "metadata": {},
   "source": [
    "## Get the data from the triplestore\n",
    "\n",
    "This notebook is based on the same relationships (and therefore data) as [the one about persons' relationships](wdt_persons_organisations_networks.ipynb), namely the relationship between persons and organisations as original information.\n",
    "\n",
    "Here, however, we will focus on relationships between institutions, so the treatment is different.\n"
   ]
  },
  {
   "cell_type": "code",
   "execution_count": 221,
   "metadata": {
    "execution": {
     "iopub.execute_input": "2025-05-24T14:24:52.237990Z",
     "iopub.status.busy": "2025-05-24T14:24:52.237064Z",
     "iopub.status.idle": "2025-05-24T14:24:52.250132Z",
     "shell.execute_reply": "2025-05-24T14:24:52.246605Z",
     "shell.execute_reply.started": "2025-05-24T14:24:52.237910Z"
    }
   },
   "outputs": [],
   "source": [
    "## define SPARQL enpoint\n",
    "endpoint = \"https://ag1khc5dnlqgdc0c.allegrograph.cloud/repositories/Astronauts\""
   ]
  },
  {
   "cell_type": "code",
   "execution_count": 222,
   "metadata": {
    "execution": {
     "iopub.execute_input": "2025-05-24T14:24:52.481263Z",
     "iopub.status.busy": "2025-05-24T14:24:52.480639Z",
     "iopub.status.idle": "2025-05-24T14:24:52.494405Z",
     "shell.execute_reply": "2025-05-24T14:24:52.491939Z",
     "shell.execute_reply.started": "2025-05-24T14:24:52.481208Z"
    }
   },
   "outputs": [],
   "source": [
    "query = \"\"\"\n",
    "\n",
    "PREFIX franzOption_defaultDatasetBehavior: <franz:rdf>\n",
    "PREFIX wd: <http://www.wikidata.org/entity/>\n",
    "PREFIX wdt: <http://www.wikidata.org/prop/direct/>\n",
    "PREFIX rdf: <http://www.w3.org/1999/02/22-rdf-syntax-ns#>\n",
    "PREFIX rdfs: <http://www.w3.org/2000/01/rdf-schema#>\n",
    "PREFIX crm: <http://www.cidoc-crm.org/cidoc-crm/>\n",
    "PREFIX wikibase: <http://wikiba.se/ontology#>\n",
    "PREFIX bd: <http://www.bigdata.com/rdf#>\n",
    "\n",
    "\n",
    "SELECT ?person (MIN(?pLabel) AS ?personLabel)\n",
    "        (MIN(?birthYear) AS ?birthYear)\n",
    "        ?relationship \n",
    "        ?organisation (MIN(?oLabel) AS ?organisationLabel)\n",
    "        (COUNT(*) as ?n) \n",
    "        (GROUP_CONCAT(DISTINCT ?groupTypeLabel; separator=\" | \") AS ?groupTypes) \n",
    "        #(GROUP_CONCAT(DISTINCT ?countryLabel; separator=\" | \") AS ?countries) \n",
    "\n",
    "WHERE {\n",
    "        GRAPH <https://github.com/projhistoire/Projet-Histoire/blob/main/Wikidata/graph/imported-data.md>\n",
    "        {\n",
    "        {?person a wd:Q5;\n",
    "           rdfs:label ?pLabel;\n",
    "           wdt:P569 ?birthYear.\n",
    "        }\n",
    "\n",
    "\n",
    "        {?person wdt:P108 ?organisation.\n",
    "        BIND('employment' AS ?relationship)\n",
    "        }   \n",
    "        UNION\n",
    "        {?person wdt:P463 ?organisation.\n",
    "        BIND('membership' AS ?relationship)\n",
    "        }   \n",
    "        UNION\n",
    "        {?person wdt:P69 ?organisation.\n",
    "        BIND('education' AS ?relationship)\n",
    "        }  \n",
    "        ?organisation rdfs:label ?oLabel;\n",
    "                # instance of\n",
    "                wdt:P31 ?groupType.\n",
    "        ?groupType rdfs:label ?groupTypeLabel         \n",
    "        \n",
    "        # OPTIONAL {\n",
    "        #    ?organisation wdt:P17 ?country.\n",
    "        #    ?country rdfs:label ?countryLabel.\n",
    "        # }\n",
    "\n",
    "         }        \n",
    "\n",
    "\n",
    "\n",
    "    }\n",
    "\n",
    "GROUP BY ?person ?relationship ?organisation   \n",
    "ORDER by ?person \n",
    "\n",
    "\n",
    "\"\"\""
   ]
  },
  {
   "cell_type": "code",
   "execution_count": 223,
   "metadata": {
    "execution": {
     "iopub.execute_input": "2025-05-24T14:24:52.805198Z",
     "iopub.status.busy": "2025-05-24T14:24:52.802775Z",
     "iopub.status.idle": "2025-05-24T14:24:53.724976Z",
     "shell.execute_reply": "2025-05-24T14:24:53.723418Z",
     "shell.execute_reply.started": "2025-05-24T14:24:52.805110Z"
    }
   },
   "outputs": [
    {
     "name": "stdout",
     "output_type": "stream",
     "text": [
      "2000\n",
      "[['http://www.wikidata.org/entity/Q110916469',\n",
      "  'Scott Poteet',\n",
      "  '1973',\n",
      "  'education',\n",
      "  'http://www.wikidata.org/entity/Q4697817',\n",
      "  'Air Command and Staff College',\n",
      "  '1',\n",
      "  'staff college'],\n",
      " ['http://www.wikidata.org/entity/Q110916469',\n",
      "  'Scott Poteet',\n",
      "  '1973',\n",
      "  'education',\n",
      "  'http://www.wikidata.org/entity/Q7116352',\n",
      "  'Oyster River High School',\n",
      "  '1',\n",
      "  'high school'],\n",
      " ['http://www.wikidata.org/entity/Q110916469',\n",
      "  'Scott Poteet',\n",
      "  '1973',\n",
      "  'education',\n",
      "  'http://www.wikidata.org/entity/Q49207',\n",
      "  'University of New Hampshire',\n",
      "  '3',\n",
      "  'public research university | public educational institution of the United '\n",
      "  'States | land-grant university']]\n"
     ]
    }
   ],
   "source": [
    "### Executer la requête avec les fonctions de la librairie locale\n",
    "try:\n",
    "    qr = spqf.get_json_sparql_result(endpoint,query)\n",
    "    out = [l for l in spqf.sparql_result_to_list(qr)]\n",
    "    print(len(out))\n",
    "    pprint.pprint(out[100:103])\n",
    "except Exception as e:\n",
    "    print(e)    \n"
   ]
  },
  {
   "cell_type": "markdown",
   "metadata": {},
   "source": [
    "## Inspect the data\n"
   ]
  },
  {
   "cell_type": "code",
   "execution_count": 8,
   "metadata": {
    "execution": {
     "iopub.execute_input": "2025-05-24T13:55:05.855094Z",
     "iopub.status.busy": "2025-05-24T13:55:05.853551Z",
     "iopub.status.idle": "2025-05-24T13:55:05.901750Z",
     "shell.execute_reply": "2025-05-24T13:55:05.899732Z",
     "shell.execute_reply.started": "2025-05-24T13:55:05.854949Z"
    }
   },
   "outputs": [
    {
     "name": "stdout",
     "output_type": "stream",
     "text": [
      "Number:  2000\n"
     ]
    },
    {
     "data": {
      "text/html": [
       "<div>\n",
       "<style scoped>\n",
       "    .dataframe tbody tr th:only-of-type {\n",
       "        vertical-align: middle;\n",
       "    }\n",
       "\n",
       "    .dataframe tbody tr th {\n",
       "        vertical-align: top;\n",
       "    }\n",
       "\n",
       "    .dataframe thead th {\n",
       "        text-align: right;\n",
       "    }\n",
       "</style>\n",
       "<table border=\"1\" class=\"dataframe\">\n",
       "  <thead>\n",
       "    <tr style=\"text-align: right;\">\n",
       "      <th></th>\n",
       "      <th>uriPer</th>\n",
       "      <th>labelPer</th>\n",
       "      <th>birthYear</th>\n",
       "      <th>relaType</th>\n",
       "      <th>uriOrg</th>\n",
       "      <th>labelOrg</th>\n",
       "      <th>nTypes</th>\n",
       "      <th>typesOrg</th>\n",
       "    </tr>\n",
       "  </thead>\n",
       "  <tbody>\n",
       "    <tr>\n",
       "      <th>10</th>\n",
       "      <td>http://www.wikidata.org/entity/Q104865</td>\n",
       "      <td>Vladimir Komarov</td>\n",
       "      <td>1927</td>\n",
       "      <td>education</td>\n",
       "      <td>http://www.wikidata.org/entity/Q4238545</td>\n",
       "      <td>Krasnodar Higher Military Aviation School of P...</td>\n",
       "      <td>1</td>\n",
       "      <td>military school</td>\n",
       "    </tr>\n",
       "    <tr>\n",
       "      <th>11</th>\n",
       "      <td>http://www.wikidata.org/entity/Q104865</td>\n",
       "      <td>Vladimir Komarov</td>\n",
       "      <td>1927</td>\n",
       "      <td>education</td>\n",
       "      <td>http://www.wikidata.org/entity/Q4094046</td>\n",
       "      <td>Borisoglebsk Higher Aviators School</td>\n",
       "      <td>1</td>\n",
       "      <td>military school</td>\n",
       "    </tr>\n",
       "    <tr>\n",
       "      <th>12</th>\n",
       "      <td>http://www.wikidata.org/entity/Q106286882</td>\n",
       "      <td>Christopher Sembroski</td>\n",
       "      <td>1979</td>\n",
       "      <td>education</td>\n",
       "      <td>http://www.wikidata.org/entity/Q5370252</td>\n",
       "      <td>Embry–Riddle Aeronautical University, Daytona ...</td>\n",
       "      <td>1</td>\n",
       "      <td>private not-for-profit educational institution</td>\n",
       "    </tr>\n",
       "  </tbody>\n",
       "</table>\n",
       "</div>"
      ],
      "text/plain": [
       "                                       uriPer               labelPer  \\\n",
       "10     http://www.wikidata.org/entity/Q104865       Vladimir Komarov   \n",
       "11     http://www.wikidata.org/entity/Q104865       Vladimir Komarov   \n",
       "12  http://www.wikidata.org/entity/Q106286882  Christopher Sembroski   \n",
       "\n",
       "   birthYear   relaType                                   uriOrg  \\\n",
       "10      1927  education  http://www.wikidata.org/entity/Q4238545   \n",
       "11      1927  education  http://www.wikidata.org/entity/Q4094046   \n",
       "12      1979  education  http://www.wikidata.org/entity/Q5370252   \n",
       "\n",
       "                                             labelOrg nTypes  \\\n",
       "10  Krasnodar Higher Military Aviation School of P...      1   \n",
       "11                Borisoglebsk Higher Aviators School      1   \n",
       "12  Embry–Riddle Aeronautical University, Daytona ...      1   \n",
       "\n",
       "                                          typesOrg  \n",
       "10                                 military school  \n",
       "11                                 military school  \n",
       "12  private not-for-profit educational institution  "
      ]
     },
     "execution_count": 8,
     "metadata": {},
     "output_type": "execute_result"
    }
   ],
   "source": [
    "### Créer un DataFrame à partir du résultat\n",
    "df_p = pd.DataFrame(out)\n",
    "df_p.columns = ['uriPer', 'labelPer', 'birthYear', 'relaType', 'uriOrg', 'labelOrg', 'nTypes',\n",
    "                'typesOrg']\n",
    "print('Number: ',len(df_p))\n",
    "df_p.iloc[10:13,:]\n"
   ]
  },
  {
   "cell_type": "markdown",
   "metadata": {},
   "source": [
    "### Distribution of relationships in relation to birthYears of organisations members"
   ]
  },
  {
   "cell_type": "code",
   "execution_count": 9,
   "metadata": {
    "execution": {
     "iopub.execute_input": "2025-05-24T13:55:14.246078Z",
     "iopub.status.busy": "2025-05-24T13:55:14.240036Z",
     "iopub.status.idle": "2025-05-24T13:55:14.256512Z",
     "shell.execute_reply": "2025-05-24T13:55:14.254484Z",
     "shell.execute_reply.started": "2025-05-24T13:55:14.245985Z"
    }
   },
   "outputs": [
    {
     "name": "stdout",
     "output_type": "stream",
     "text": [
      "[1751, 1801, 1851, 1901, 1951, 2001]\n"
     ]
    }
   ],
   "source": [
    "l_50 = list(range(1751, 2051, 50))\n",
    "print(l_50)"
   ]
  },
  {
   "cell_type": "code",
   "execution_count": 10,
   "metadata": {
    "execution": {
     "iopub.execute_input": "2025-05-24T13:55:17.993720Z",
     "iopub.status.busy": "2025-05-24T13:55:17.991930Z",
     "iopub.status.idle": "2025-05-24T13:55:18.003593Z",
     "shell.execute_reply": "2025-05-24T13:55:18.001124Z",
     "shell.execute_reply.started": "2025-05-24T13:55:17.993636Z"
    }
   },
   "outputs": [],
   "source": [
    "### We adapt the periods manually,\n",
    "# we would like to have eight periods\n",
    "# making sense from an historical point of view \n",
    "lc = [1751, 1801, 1851, 1901, 1921, 1941, 1961, 1981, 2001]"
   ]
  },
  {
   "cell_type": "code",
   "execution_count": 11,
   "metadata": {
    "execution": {
     "iopub.execute_input": "2025-05-24T13:55:19.007931Z",
     "iopub.status.busy": "2025-05-24T13:55:19.005994Z",
     "iopub.status.idle": "2025-05-24T13:55:19.025446Z",
     "shell.execute_reply": "2025-05-24T13:55:19.023294Z",
     "shell.execute_reply.started": "2025-05-24T13:55:19.007803Z"
    }
   },
   "outputs": [],
   "source": [
    "### convert birthYear to integer\n",
    "df_p.birthYear = df_p.birthYear.apply(lambda x : int(x))"
   ]
  },
  {
   "cell_type": "code",
   "execution_count": 12,
   "metadata": {
    "execution": {
     "iopub.execute_input": "2025-05-24T13:55:19.872554Z",
     "iopub.status.busy": "2025-05-24T13:55:19.870436Z",
     "iopub.status.idle": "2025-05-24T13:55:19.917760Z",
     "shell.execute_reply": "2025-05-24T13:55:19.915808Z",
     "shell.execute_reply.started": "2025-05-24T13:55:19.872468Z"
    }
   },
   "outputs": [
    {
     "data": {
      "text/html": [
       "<div>\n",
       "<style scoped>\n",
       "    .dataframe tbody tr th:only-of-type {\n",
       "        vertical-align: middle;\n",
       "    }\n",
       "\n",
       "    .dataframe tbody tr th {\n",
       "        vertical-align: top;\n",
       "    }\n",
       "\n",
       "    .dataframe thead th {\n",
       "        text-align: right;\n",
       "    }\n",
       "</style>\n",
       "<table border=\"1\" class=\"dataframe\">\n",
       "  <thead>\n",
       "    <tr style=\"text-align: right;\">\n",
       "      <th></th>\n",
       "      <th>uriPer</th>\n",
       "      <th>labelPer</th>\n",
       "      <th>birthYear</th>\n",
       "      <th>relaType</th>\n",
       "      <th>uriOrg</th>\n",
       "      <th>labelOrg</th>\n",
       "      <th>nTypes</th>\n",
       "      <th>typesOrg</th>\n",
       "      <th>periods</th>\n",
       "    </tr>\n",
       "  </thead>\n",
       "  <tbody>\n",
       "    <tr>\n",
       "      <th>1</th>\n",
       "      <td>http://www.wikidata.org/entity/Q1018622</td>\n",
       "      <td>Byron K. Lichtenberg</td>\n",
       "      <td>1948</td>\n",
       "      <td>education</td>\n",
       "      <td>http://www.wikidata.org/entity/Q49108</td>\n",
       "      <td>Massachusetts Institute of Technology</td>\n",
       "      <td>6</td>\n",
       "      <td>university | space grant institution | institu...</td>\n",
       "      <td>1941-1960</td>\n",
       "    </tr>\n",
       "    <tr>\n",
       "      <th>5</th>\n",
       "      <td>http://www.wikidata.org/entity/Q104859</td>\n",
       "      <td>Michael Collins</td>\n",
       "      <td>1930</td>\n",
       "      <td>education</td>\n",
       "      <td>http://www.wikidata.org/entity/Q49126</td>\n",
       "      <td>Harvard Business School</td>\n",
       "      <td>2</td>\n",
       "      <td>business school | organization</td>\n",
       "      <td>1921-1940</td>\n",
       "    </tr>\n",
       "    <tr>\n",
       "      <th>10</th>\n",
       "      <td>http://www.wikidata.org/entity/Q104865</td>\n",
       "      <td>Vladimir Komarov</td>\n",
       "      <td>1927</td>\n",
       "      <td>education</td>\n",
       "      <td>http://www.wikidata.org/entity/Q4238545</td>\n",
       "      <td>Krasnodar Higher Military Aviation School of P...</td>\n",
       "      <td>1</td>\n",
       "      <td>military school</td>\n",
       "      <td>1921-1940</td>\n",
       "    </tr>\n",
       "  </tbody>\n",
       "</table>\n",
       "</div>"
      ],
      "text/plain": [
       "                                     uriPer              labelPer  birthYear  \\\n",
       "1   http://www.wikidata.org/entity/Q1018622  Byron K. Lichtenberg       1948   \n",
       "5    http://www.wikidata.org/entity/Q104859       Michael Collins       1930   \n",
       "10   http://www.wikidata.org/entity/Q104865      Vladimir Komarov       1927   \n",
       "\n",
       "     relaType                                   uriOrg  \\\n",
       "1   education    http://www.wikidata.org/entity/Q49108   \n",
       "5   education    http://www.wikidata.org/entity/Q49126   \n",
       "10  education  http://www.wikidata.org/entity/Q4238545   \n",
       "\n",
       "                                             labelOrg nTypes  \\\n",
       "1               Massachusetts Institute of Technology      6   \n",
       "5                             Harvard Business School      2   \n",
       "10  Krasnodar Higher Military Aviation School of P...      1   \n",
       "\n",
       "                                             typesOrg    periods  \n",
       "1   university | space grant institution | institu...  1941-1960  \n",
       "5                      business school | organization  1921-1940  \n",
       "10                                    military school  1921-1940  "
      ]
     },
     "execution_count": 12,
     "metadata": {},
     "output_type": "execute_result"
    }
   ],
   "source": [
    "### fonction pd.cut : https://pandas.pydata.org/pandas-docs/stable/reference/api/pandas.cut.html\n",
    "# On ajoute une nouvelle colonne qui contient la période sur la base de la liste précédente\n",
    "# et de la valeur de l'année\n",
    "df_p['periods'] = pd.cut(df_p['birthYear'], lc, right=False)\n",
    "\n",
    "### Transformer le code ajouté pour qu'il soit plus lisible\n",
    "# noter qu'on a arrondi les valeurs\n",
    "df_p['periods'] = df_p['periods'].apply(lambda x : str(int(x.left))+'-'+ str(int(x.right)-1))\n",
    "\n",
    "# Inspection\n",
    "df_p.iloc[[1,5,10]]"
   ]
  },
  {
   "cell_type": "code",
   "execution_count": 13,
   "metadata": {
    "execution": {
     "iopub.execute_input": "2025-05-24T13:55:20.773031Z",
     "iopub.status.busy": "2025-05-24T13:55:20.772112Z",
     "iopub.status.idle": "2025-05-24T13:55:20.791554Z",
     "shell.execute_reply": "2025-05-24T13:55:20.789039Z",
     "shell.execute_reply.started": "2025-05-24T13:55:20.772955Z"
    }
   },
   "outputs": [
    {
     "name": "stdout",
     "output_type": "stream",
     "text": [
      "periods\n",
      "1901-1920      4\n",
      "1921-1940    434\n",
      "1941-1960    944\n",
      "1961-1980    487\n",
      "1981-2000    131\n",
      "dtype: int64\n"
     ]
    }
   ],
   "source": [
    "### Group by periods\n",
    "df_period = df_p.groupby(by='periods', observed=True).size()\n",
    "print(df_period)"
   ]
  },
  {
   "cell_type": "code",
   "execution_count": 14,
   "metadata": {
    "execution": {
     "iopub.execute_input": "2025-05-24T13:55:22.989080Z",
     "iopub.status.busy": "2025-05-24T13:55:22.988179Z",
     "iopub.status.idle": "2025-05-24T13:55:23.222143Z",
     "shell.execute_reply": "2025-05-24T13:55:23.220037Z",
     "shell.execute_reply.started": "2025-05-24T13:55:22.989002Z"
    }
   },
   "outputs": [
    {
     "data": {
      "image/png": "[encoded data removed]",
      "text/plain": [
       "<Figure size 800x600 with 1 Axes>"
      ]
     },
     "metadata": {},
     "output_type": "display_data"
    }
   ],
   "source": [
    "ax = df_period.plot(kind='bar',rot=50, fontsize=10, figsize=(8,6))\n",
    "ax.bar_label(ax.containers[-1], size=10)\n",
    "plt.ylabel('Number')\n",
    "plt.xlabel('Periods')\n",
    "plt.title('Distribution of relationships in relation to generations')\n",
    "plt.show()"
   ]
  },
  {
   "cell_type": "markdown",
   "metadata": {},
   "source": [
    "### Inspect available relationships"
   ]
  },
  {
   "cell_type": "code",
   "execution_count": 15,
   "metadata": {
    "execution": {
     "iopub.execute_input": "2025-05-24T13:55:27.872766Z",
     "iopub.status.busy": "2025-05-24T13:55:27.871849Z",
     "iopub.status.idle": "2025-05-24T13:55:27.891389Z",
     "shell.execute_reply": "2025-05-24T13:55:27.888756Z",
     "shell.execute_reply.started": "2025-05-24T13:55:27.872686Z"
    }
   },
   "outputs": [
    {
     "name": "stdout",
     "output_type": "stream",
     "text": [
      "relaType\n",
      "education     1894\n",
      "employment     106\n",
      "dtype: int64\n"
     ]
    }
   ],
   "source": [
    "### Available relationships\n",
    "print(df_p.groupby(by='relaType').size())"
   ]
  },
  {
   "cell_type": "code",
   "execution_count": 16,
   "metadata": {
    "execution": {
     "iopub.execute_input": "2025-05-24T13:55:30.970260Z",
     "iopub.status.busy": "2025-05-24T13:55:30.969327Z",
     "iopub.status.idle": "2025-05-24T13:55:30.992054Z",
     "shell.execute_reply": "2025-05-24T13:55:30.990820Z",
     "shell.execute_reply.started": "2025-05-24T13:55:30.970182Z"
    }
   },
   "outputs": [
    {
     "name": "stdout",
     "output_type": "stream",
     "text": [
      "     periods    relaType  size\n",
      "0  1901-1920   education     4\n",
      "1  1921-1940   education   419\n",
      "2  1921-1940  employment    15\n",
      "3  1941-1960   education   875\n",
      "4  1941-1960  employment    69\n",
      "5  1961-1980   education   474\n",
      "6  1961-1980  employment    13\n",
      "7  1981-2000   education   122\n",
      "8  1981-2000  employment     9\n"
     ]
    }
   ],
   "source": [
    "dfg_pr=df_p.groupby(by=['periods','relaType'], observed=True, as_index=False).size()\n",
    "print(dfg_pr)"
   ]
  },
  {
   "cell_type": "code",
   "execution_count": 17,
   "metadata": {
    "execution": {
     "iopub.execute_input": "2025-05-24T13:55:34.461765Z",
     "iopub.status.busy": "2025-05-24T13:55:34.460858Z",
     "iopub.status.idle": "2025-05-24T13:55:34.832871Z",
     "shell.execute_reply": "2025-05-24T13:55:34.831406Z",
     "shell.execute_reply.started": "2025-05-24T13:55:34.461687Z"
    }
   },
   "outputs": [
    {
     "data": {
      "image/png": "[encoded data removed]",
      "text/plain": [
       "<Figure size 800x600 with 1 Axes>"
      ]
     },
     "metadata": {},
     "output_type": "display_data"
    }
   ],
   "source": [
    "%matplotlib inline\n",
    "plt.figure(figsize=(8, 6)) \n",
    "ax = sns.barplot(data=dfg_pr, x='periods', y='size', hue='relaType', palette='Blues')\n",
    "ax.tick_params(axis='x', labelrotation=45)\n"
   ]
  },
  {
   "cell_type": "markdown",
   "metadata": {},
   "source": [
    "### Clean up organisations type"
   ]
  },
  {
   "cell_type": "code",
   "execution_count": 18,
   "metadata": {
    "execution": {
     "iopub.execute_input": "2025-05-24T13:55:38.702625Z",
     "iopub.status.busy": "2025-05-24T13:55:38.701687Z",
     "iopub.status.idle": "2025-05-24T13:55:38.827485Z",
     "shell.execute_reply": "2025-05-24T13:55:38.826087Z",
     "shell.execute_reply.started": "2025-05-24T13:55:38.702547Z"
    }
   },
   "outputs": [
    {
     "name": "stdout",
     "output_type": "stream",
     "text": [
      "2000\n",
      "[['academic publisher',\n",
      "  'colonial colleges',\n",
      "  'private not-for-profit educational institution',\n",
      "  'private university',\n",
      "  'research university'],\n",
      " ['academic publisher',\n",
      "  'institute of technology',\n",
      "  'institute of technology',\n",
      "  'private not-for-profit educational institution',\n",
      "  'space grant institution',\n",
      "  'university'],\n",
      " ['national research university',\n",
      "  'open-access publisher',\n",
      "  'publishing company']]\n"
     ]
    }
   ],
   "source": [
    "### Transform types' strings to alphabetically sorted lists and delete additional white spaces\n",
    "df_p['listTypesOrg'] = df_p.typesOrg.apply(lambda x : sorted([e.strip().lower() for e in x.split('|')]))\n",
    "\n",
    "ll = df_p.listTypesOrg.to_list()\n",
    "print(len(ll))\n",
    "pprint.pprint(ll[:3])\n"
   ]
  },
  {
   "cell_type": "code",
   "execution_count": 19,
   "metadata": {
    "execution": {
     "iopub.execute_input": "2025-05-24T13:55:39.141151Z",
     "iopub.status.busy": "2025-05-24T13:55:39.140261Z",
     "iopub.status.idle": "2025-05-24T13:55:39.177240Z",
     "shell.execute_reply": "2025-05-24T13:55:39.176012Z",
     "shell.execute_reply.started": "2025-05-24T13:55:39.141075Z"
    }
   },
   "outputs": [
    {
     "data": {
      "text/html": [
       "<div>\n",
       "<style scoped>\n",
       "    .dataframe tbody tr th:only-of-type {\n",
       "        vertical-align: middle;\n",
       "    }\n",
       "\n",
       "    .dataframe tbody tr th {\n",
       "        vertical-align: top;\n",
       "    }\n",
       "\n",
       "    .dataframe thead th {\n",
       "        text-align: right;\n",
       "    }\n",
       "</style>\n",
       "<table border=\"1\" class=\"dataframe\">\n",
       "  <thead>\n",
       "    <tr style=\"text-align: right;\">\n",
       "      <th></th>\n",
       "      <th>uriPer</th>\n",
       "      <th>labelPer</th>\n",
       "      <th>birthYear</th>\n",
       "      <th>relaType</th>\n",
       "      <th>uriOrg</th>\n",
       "      <th>labelOrg</th>\n",
       "      <th>nTypes</th>\n",
       "      <th>typesOrg</th>\n",
       "      <th>periods</th>\n",
       "      <th>listTypesOrg</th>\n",
       "    </tr>\n",
       "  </thead>\n",
       "  <tbody>\n",
       "    <tr>\n",
       "      <th>1</th>\n",
       "      <td>http://www.wikidata.org/entity/Q1018622</td>\n",
       "      <td>Byron K. Lichtenberg</td>\n",
       "      <td>1948</td>\n",
       "      <td>education</td>\n",
       "      <td>http://www.wikidata.org/entity/Q49108</td>\n",
       "      <td>Massachusetts Institute of Technology</td>\n",
       "      <td>6</td>\n",
       "      <td>academic publisher | institute of technology |...</td>\n",
       "      <td>1941-1960</td>\n",
       "      <td>[academic publisher, institute of technology, ...</td>\n",
       "    </tr>\n",
       "    <tr>\n",
       "      <th>5</th>\n",
       "      <td>http://www.wikidata.org/entity/Q104859</td>\n",
       "      <td>Michael Collins</td>\n",
       "      <td>1930</td>\n",
       "      <td>education</td>\n",
       "      <td>http://www.wikidata.org/entity/Q49126</td>\n",
       "      <td>Harvard Business School</td>\n",
       "      <td>2</td>\n",
       "      <td>business school | organization</td>\n",
       "      <td>1921-1940</td>\n",
       "      <td>[business school, organization]</td>\n",
       "    </tr>\n",
       "    <tr>\n",
       "      <th>10</th>\n",
       "      <td>http://www.wikidata.org/entity/Q104865</td>\n",
       "      <td>Vladimir Komarov</td>\n",
       "      <td>1927</td>\n",
       "      <td>education</td>\n",
       "      <td>http://www.wikidata.org/entity/Q4238545</td>\n",
       "      <td>Krasnodar Higher Military Aviation School of P...</td>\n",
       "      <td>1</td>\n",
       "      <td>military school</td>\n",
       "      <td>1921-1940</td>\n",
       "      <td>[military school]</td>\n",
       "    </tr>\n",
       "  </tbody>\n",
       "</table>\n",
       "</div>"
      ],
      "text/plain": [
       "                                     uriPer              labelPer  birthYear  \\\n",
       "1   http://www.wikidata.org/entity/Q1018622  Byron K. Lichtenberg       1948   \n",
       "5    http://www.wikidata.org/entity/Q104859       Michael Collins       1930   \n",
       "10   http://www.wikidata.org/entity/Q104865      Vladimir Komarov       1927   \n",
       "\n",
       "     relaType                                   uriOrg  \\\n",
       "1   education    http://www.wikidata.org/entity/Q49108   \n",
       "5   education    http://www.wikidata.org/entity/Q49126   \n",
       "10  education  http://www.wikidata.org/entity/Q4238545   \n",
       "\n",
       "                                             labelOrg nTypes  \\\n",
       "1               Massachusetts Institute of Technology      6   \n",
       "5                             Harvard Business School      2   \n",
       "10  Krasnodar Higher Military Aviation School of P...      1   \n",
       "\n",
       "                                             typesOrg    periods  \\\n",
       "1   academic publisher | institute of technology |...  1941-1960   \n",
       "5                      business school | organization  1921-1940   \n",
       "10                                    military school  1921-1940   \n",
       "\n",
       "                                         listTypesOrg  \n",
       "1   [academic publisher, institute of technology, ...  \n",
       "5                     [business school, organization]  \n",
       "10                                  [military school]  "
      ]
     },
     "execution_count": 19,
     "metadata": {},
     "output_type": "execute_result"
    }
   ],
   "source": [
    "## Rebuild the sorted original texts after sorting\n",
    "df_p['typesOrg'] = df_p.listTypesOrg.apply(lambda x : ' | '.join(x))\n",
    "df_p.iloc[[1,5,10]]\n"
   ]
  },
  {
   "cell_type": "markdown",
   "metadata": {},
   "source": [
    "#### Organisations' types distribution"
   ]
  },
  {
   "cell_type": "code",
   "execution_count": 20,
   "metadata": {
    "execution": {
     "iopub.execute_input": "2025-05-24T13:55:40.348546Z",
     "iopub.status.busy": "2025-05-24T13:55:40.347586Z",
     "iopub.status.idle": "2025-05-24T13:55:40.368828Z",
     "shell.execute_reply": "2025-05-24T13:55:40.366612Z",
     "shell.execute_reply.started": "2025-05-24T13:55:40.348467Z"
    }
   },
   "outputs": [
    {
     "name": "stdout",
     "output_type": "stream",
     "text": [
      "typesOrg\n",
      "high school                                                                                                                         214\n",
      "military school                                                                                                                     101\n",
      "flight school                                                                                                                        97\n",
      "census-designated place in the united states | naval academy | observatory | public educational institution of the united states     62\n",
      "land-grant university | public educational institution of the united states | public research university                             57\n",
      "high school | public school                                                                                                          56\n",
      "university                                                                                                                           55\n",
      "open-access publisher | private not-for-profit educational institution | private university | research university                    54\n",
      "public educational institution of the united states | public research university                                                     51\n",
      "public educational institution of the united states | university                                                                     51\n",
      "dtype: int64\n"
     ]
    }
   ],
   "source": [
    "print(df_p.groupby('typesOrg').size().sort_values(ascending=False).iloc[:10])"
   ]
  },
  {
   "cell_type": "markdown",
   "metadata": {},
   "source": [
    "#### Save dataframe to CSV"
   ]
  },
  {
   "cell_type": "code",
   "execution_count": 109,
   "metadata": {
    "execution": {
     "iopub.execute_input": "2025-05-24T14:01:56.321663Z",
     "iopub.status.busy": "2025-05-24T14:01:56.320711Z",
     "iopub.status.idle": "2025-05-24T14:01:56.397341Z",
     "shell.execute_reply": "2025-05-24T14:01:56.396232Z",
     "shell.execute_reply.started": "2025-05-24T14:01:56.321586Z"
    }
   },
   "outputs": [],
   "source": [
    "file_add = 'data/persons_organisations_from_organisations.csv'\n",
    "df_p.to_csv(file_add, index=False, sep=',', quotechar='\"')"
   ]
  },
  {
   "cell_type": "markdown",
   "metadata": {},
   "source": [
    "#### Reload from CSV"
   ]
  },
  {
   "cell_type": "code",
   "execution_count": 22,
   "metadata": {
    "execution": {
     "iopub.execute_input": "2025-05-24T13:55:43.395086Z",
     "iopub.status.busy": "2025-05-24T13:55:43.394129Z",
     "iopub.status.idle": "2025-05-24T13:55:43.446536Z",
     "shell.execute_reply": "2025-05-24T13:55:43.445564Z",
     "shell.execute_reply.started": "2025-05-24T13:55:43.395007Z"
    }
   },
   "outputs": [
    {
     "name": "stdout",
     "output_type": "stream",
     "text": [
      "2000\n"
     ]
    },
    {
     "data": {
      "text/html": [
       "<div>\n",
       "<style scoped>\n",
       "    .dataframe tbody tr th:only-of-type {\n",
       "        vertical-align: middle;\n",
       "    }\n",
       "\n",
       "    .dataframe tbody tr th {\n",
       "        vertical-align: top;\n",
       "    }\n",
       "\n",
       "    .dataframe thead th {\n",
       "        text-align: right;\n",
       "    }\n",
       "</style>\n",
       "<table border=\"1\" class=\"dataframe\">\n",
       "  <thead>\n",
       "    <tr style=\"text-align: right;\">\n",
       "      <th></th>\n",
       "      <th>uriPer</th>\n",
       "      <th>labelPer</th>\n",
       "      <th>birthYear</th>\n",
       "      <th>relaType</th>\n",
       "      <th>uriOrg</th>\n",
       "      <th>labelOrg</th>\n",
       "      <th>nTypes</th>\n",
       "      <th>typesOrg</th>\n",
       "      <th>periods</th>\n",
       "      <th>listTypesOrg</th>\n",
       "    </tr>\n",
       "  </thead>\n",
       "  <tbody>\n",
       "    <tr>\n",
       "      <th>0</th>\n",
       "      <td>http://www.wikidata.org/entity/Q1018622</td>\n",
       "      <td>Byron K. Lichtenberg</td>\n",
       "      <td>1948</td>\n",
       "      <td>education</td>\n",
       "      <td>http://www.wikidata.org/entity/Q49114</td>\n",
       "      <td>Brown University</td>\n",
       "      <td>5</td>\n",
       "      <td>academic publisher | colonial colleges | priva...</td>\n",
       "      <td>1941-1960</td>\n",
       "      <td>['academic publisher', 'colonial colleges', 'p...</td>\n",
       "    </tr>\n",
       "    <tr>\n",
       "      <th>1</th>\n",
       "      <td>http://www.wikidata.org/entity/Q1018622</td>\n",
       "      <td>Byron K. Lichtenberg</td>\n",
       "      <td>1948</td>\n",
       "      <td>education</td>\n",
       "      <td>http://www.wikidata.org/entity/Q49108</td>\n",
       "      <td>Massachusetts Institute of Technology</td>\n",
       "      <td>6</td>\n",
       "      <td>academic publisher | institute of technology |...</td>\n",
       "      <td>1941-1960</td>\n",
       "      <td>['academic publisher', 'institute of technolog...</td>\n",
       "    </tr>\n",
       "  </tbody>\n",
       "</table>\n",
       "</div>"
      ],
      "text/plain": [
       "                                    uriPer              labelPer  birthYear  \\\n",
       "0  http://www.wikidata.org/entity/Q1018622  Byron K. Lichtenberg       1948   \n",
       "1  http://www.wikidata.org/entity/Q1018622  Byron K. Lichtenberg       1948   \n",
       "\n",
       "    relaType                                 uriOrg  \\\n",
       "0  education  http://www.wikidata.org/entity/Q49114   \n",
       "1  education  http://www.wikidata.org/entity/Q49108   \n",
       "\n",
       "                                labelOrg  nTypes  \\\n",
       "0                       Brown University       5   \n",
       "1  Massachusetts Institute of Technology       6   \n",
       "\n",
       "                                            typesOrg    periods  \\\n",
       "0  academic publisher | colonial colleges | priva...  1941-1960   \n",
       "1  academic publisher | institute of technology |...  1941-1960   \n",
       "\n",
       "                                        listTypesOrg  \n",
       "0  ['academic publisher', 'colonial colleges', 'p...  \n",
       "1  ['academic publisher', 'institute of technolog...  "
      ]
     },
     "execution_count": 22,
     "metadata": {},
     "output_type": "execute_result"
    }
   ],
   "source": [
    "### load from CSV\n",
    "\n",
    "file_add = 'data/persons_organisations_from_organisations.csv'\n",
    "df_p=pd.read_csv(file_add)\n",
    "print(len(df_p))\n",
    "df_p.head(2)"
   ]
  },
  {
   "cell_type": "markdown",
   "metadata": {},
   "source": [
    "## Types of organisations\n",
    "\n",
    "Property **wdt:P31 instance of**\n",
    "\n",
    "\n",
    "We are trying to figure out if we can use these types to distinguish and categorise organisations. We will introduce high-level, research-driven classes that primarily serve a heuristic function and express no objective point of view."
   ]
  },
  {
   "cell_type": "code",
   "execution_count": 23,
   "metadata": {
    "execution": {
     "iopub.execute_input": "2025-05-24T13:55:44.667109Z",
     "iopub.status.busy": "2025-05-24T13:55:44.666105Z",
     "iopub.status.idle": "2025-05-24T13:55:44.700431Z",
     "shell.execute_reply": "2025-05-24T13:55:44.698640Z",
     "shell.execute_reply.started": "2025-05-24T13:55:44.667027Z"
    }
   },
   "outputs": [
    {
     "data": {
      "text/html": [
       "<div>\n",
       "<style scoped>\n",
       "    .dataframe tbody tr th:only-of-type {\n",
       "        vertical-align: middle;\n",
       "    }\n",
       "\n",
       "    .dataframe tbody tr th {\n",
       "        vertical-align: top;\n",
       "    }\n",
       "\n",
       "    .dataframe thead th {\n",
       "        text-align: right;\n",
       "    }\n",
       "</style>\n",
       "<table border=\"1\" class=\"dataframe\">\n",
       "  <thead>\n",
       "    <tr style=\"text-align: right;\">\n",
       "      <th></th>\n",
       "      <th>typesOrg</th>\n",
       "      <th>number</th>\n",
       "      <th>numberOrg</th>\n",
       "    </tr>\n",
       "  </thead>\n",
       "  <tbody>\n",
       "    <tr>\n",
       "      <th>0</th>\n",
       "      <td>high school</td>\n",
       "      <td>214</td>\n",
       "      <td>1</td>\n",
       "    </tr>\n",
       "    <tr>\n",
       "      <th>1</th>\n",
       "      <td>military school</td>\n",
       "      <td>101</td>\n",
       "      <td>1</td>\n",
       "    </tr>\n",
       "    <tr>\n",
       "      <th>2</th>\n",
       "      <td>flight school</td>\n",
       "      <td>97</td>\n",
       "      <td>1</td>\n",
       "    </tr>\n",
       "    <tr>\n",
       "      <th>3</th>\n",
       "      <td>census-designated place in the united states |...</td>\n",
       "      <td>62</td>\n",
       "      <td>4</td>\n",
       "    </tr>\n",
       "    <tr>\n",
       "      <th>4</th>\n",
       "      <td>land-grant university | public educational ins...</td>\n",
       "      <td>57</td>\n",
       "      <td>3</td>\n",
       "    </tr>\n",
       "    <tr>\n",
       "      <th>5</th>\n",
       "      <td>high school | public school</td>\n",
       "      <td>56</td>\n",
       "      <td>2</td>\n",
       "    </tr>\n",
       "    <tr>\n",
       "      <th>6</th>\n",
       "      <td>university</td>\n",
       "      <td>55</td>\n",
       "      <td>1</td>\n",
       "    </tr>\n",
       "    <tr>\n",
       "      <th>7</th>\n",
       "      <td>open-access publisher | private not-for-profit...</td>\n",
       "      <td>54</td>\n",
       "      <td>4</td>\n",
       "    </tr>\n",
       "    <tr>\n",
       "      <th>8</th>\n",
       "      <td>public educational institution of the united s...</td>\n",
       "      <td>51</td>\n",
       "      <td>2</td>\n",
       "    </tr>\n",
       "    <tr>\n",
       "      <th>9</th>\n",
       "      <td>public educational institution of the united s...</td>\n",
       "      <td>51</td>\n",
       "      <td>2</td>\n",
       "    </tr>\n",
       "  </tbody>\n",
       "</table>\n",
       "</div>"
      ],
      "text/plain": [
       "                                            typesOrg  number  numberOrg\n",
       "0                                        high school     214          1\n",
       "1                                    military school     101          1\n",
       "2                                      flight school      97          1\n",
       "3  census-designated place in the united states |...      62          4\n",
       "4  land-grant university | public educational ins...      57          3\n",
       "5                        high school | public school      56          2\n",
       "6                                         university      55          1\n",
       "7  open-access publisher | private not-for-profit...      54          4\n",
       "8  public educational institution of the united s...      51          2\n",
       "9  public educational institution of the united s...      51          2"
      ]
     },
     "execution_count": 23,
     "metadata": {},
     "output_type": "execute_result"
    }
   ],
   "source": [
    "### Inspect the available composed types\n",
    "df_types = pd.DataFrame(df_p.groupby('typesOrg').size().sort_values(ascending=False))\n",
    "df_types.reset_index(inplace=True)\n",
    "df_types.columns=['typesOrg', 'number']\n",
    "df_types['numberOrg'] = df_types.typesOrg.apply( lambda x: len(x.split('|')))\n",
    "df_types.iloc[:10]"
   ]
  },
  {
   "cell_type": "code",
   "execution_count": 110,
   "metadata": {
    "execution": {
     "iopub.execute_input": "2025-05-24T14:02:24.086603Z",
     "iopub.status.busy": "2025-05-24T14:02:24.085630Z",
     "iopub.status.idle": "2025-05-24T14:02:24.132151Z",
     "shell.execute_reply": "2025-05-24T14:02:24.129889Z",
     "shell.execute_reply.started": "2025-05-24T14:02:24.086521Z"
    }
   },
   "outputs": [],
   "source": [
    "### Print to CSV in order to inspect the data\n",
    "csv_file='data/network_organisations_types_groups.csv'\n",
    "df_types.to_csv(csv_file)"
   ]
  },
  {
   "cell_type": "markdown",
   "metadata": {},
   "source": [
    "### Add organisation main type"
   ]
  },
  {
   "cell_type": "code",
   "execution_count": 111,
   "metadata": {
    "execution": {
     "iopub.execute_input": "2025-05-24T14:02:27.555074Z",
     "iopub.status.busy": "2025-05-24T14:02:27.554070Z",
     "iopub.status.idle": "2025-05-24T14:02:27.582465Z",
     "shell.execute_reply": "2025-05-24T14:02:27.581133Z",
     "shell.execute_reply.started": "2025-05-24T14:02:27.554995Z"
    }
   },
   "outputs": [
    {
     "data": {
      "text/html": [
       "<div>\n",
       "<style scoped>\n",
       "    .dataframe tbody tr th:only-of-type {\n",
       "        vertical-align: middle;\n",
       "    }\n",
       "\n",
       "    .dataframe tbody tr th {\n",
       "        vertical-align: top;\n",
       "    }\n",
       "\n",
       "    .dataframe thead th {\n",
       "        text-align: right;\n",
       "    }\n",
       "</style>\n",
       "<table border=\"1\" class=\"dataframe\">\n",
       "  <thead>\n",
       "    <tr style=\"text-align: right;\">\n",
       "      <th></th>\n",
       "      <th>uriPer</th>\n",
       "      <th>labelPer</th>\n",
       "      <th>birthYear</th>\n",
       "      <th>relaType</th>\n",
       "      <th>uriOrg</th>\n",
       "      <th>labelOrg</th>\n",
       "      <th>nTypes</th>\n",
       "      <th>typesOrg</th>\n",
       "      <th>periods</th>\n",
       "      <th>listTypesOrg</th>\n",
       "      <th>orgMainType</th>\n",
       "    </tr>\n",
       "  </thead>\n",
       "  <tbody>\n",
       "    <tr>\n",
       "      <th>0</th>\n",
       "      <td>http://www.wikidata.org/entity/Q1018622</td>\n",
       "      <td>Byron K. Lichtenberg</td>\n",
       "      <td>1948</td>\n",
       "      <td>education</td>\n",
       "      <td>http://www.wikidata.org/entity/Q49114</td>\n",
       "      <td>Brown University</td>\n",
       "      <td>5</td>\n",
       "      <td>academic publisher | colonial colleges | priva...</td>\n",
       "      <td>1941-1960</td>\n",
       "      <td>['academic publisher', 'colonial colleges', 'p...</td>\n",
       "      <td>private university</td>\n",
       "    </tr>\n",
       "  </tbody>\n",
       "</table>\n",
       "</div>"
      ],
      "text/plain": [
       "                                    uriPer              labelPer  birthYear  \\\n",
       "0  http://www.wikidata.org/entity/Q1018622  Byron K. Lichtenberg       1948   \n",
       "\n",
       "    relaType                                 uriOrg          labelOrg  nTypes  \\\n",
       "0  education  http://www.wikidata.org/entity/Q49114  Brown University       5   \n",
       "\n",
       "                                            typesOrg    periods  \\\n",
       "0  academic publisher | colonial colleges | priva...  1941-1960   \n",
       "\n",
       "                                        listTypesOrg         orgMainType  \n",
       "0  ['academic publisher', 'colonial colleges', 'p...  private university  "
      ]
     },
     "execution_count": 111,
     "metadata": {},
     "output_type": "execute_result"
    }
   ],
   "source": [
    "### Inspect the data\n",
    "df_p.head(1)"
   ]
  },
  {
   "cell_type": "code",
   "execution_count": 112,
   "metadata": {
    "execution": {
     "iopub.execute_input": "2025-05-24T14:02:28.361471Z",
     "iopub.status.busy": "2025-05-24T14:02:28.360553Z",
     "iopub.status.idle": "2025-05-24T14:02:28.387946Z",
     "shell.execute_reply": "2025-05-24T14:02:28.386239Z",
     "shell.execute_reply.started": "2025-05-24T14:02:28.361392Z"
    }
   },
   "outputs": [],
   "source": [
    "def code_organisation_main_type(x):\n",
    "    val = ''\n",
    "    if 'institute of technol' in x:\n",
    "        val = 'institute of technology'\n",
    "    elif 'polyt' in x:\n",
    "        val = 'institute of technology'    \n",
    "    elif 'public university' in x:\n",
    "        val = 'public university'\n",
    "    elif 'école normale sup' in x:\n",
    "        val = 'public university'    \n",
    "    elif 'grande école' in x:\n",
    "        val = 'public university'\n",
    "    elif 'grand établissement' in x:\n",
    "        val = 'public university'\n",
    "    elif 'private university' in x:\n",
    "        val = 'private university'\n",
    "    elif 'university' in x:\n",
    "        val = 'university'   \n",
    "    elif 'educational inst' in x:\n",
    "        val = 'educational institution'    \n",
    "    elif 'military academy' in x:\n",
    "        val = 'educational institution' \n",
    "    elif 'naval academy' in x:\n",
    "        val = 'educational institution'        \n",
    "    elif 'art academy' in x:\n",
    "        val = 'educational institution' \n",
    "    elif 'faculty' in x:\n",
    "        val = 'university'  # could also be 'faculty'\n",
    "    elif 'academic dep' in x:\n",
    "        val =  'university'  # could also be 'faculty'    \n",
    "    elif 'college' in x:\n",
    "        val = 'educational institution'   # could also be 'college'             \n",
    "    elif 'gymnas' in x:\n",
    "        val = 'educational institution'   # could also be 'college'\n",
    "    elif 'learned society' in x:\n",
    "        val = 'learned society'     \n",
    "    elif 'academy of sciences' in x:\n",
    "        val = 'academy of sciences'\n",
    "    elif 'research institute' in x:\n",
    "        val = 'research organisation'\n",
    "    elif 'max planck' in x:\n",
    "        val = 'research organisation'\n",
    "    elif 'institute' in x:\n",
    "        val = 'research organisation' \n",
    "    elif 'research' in x:\n",
    "        val = 'research organisation'\n",
    "    elif 'laboratory' in x:\n",
    "        val = 'research facility'  \n",
    "    elif 'facility' in x:\n",
    "        val = 'research facility'   \n",
    "    elif 'scientific society' in x:\n",
    "        val = 'scientific organisation'\n",
    "    elif 'scientific society' in x:\n",
    "        val = 'scientific organisation'\n",
    "    elif 'museum' in x:\n",
    "        val = 'scientific organisation'\n",
    "    elif 'nonprofit organization' in x:\n",
    "        val = 'scientific organisation'    \n",
    "    elif 'national academy' in x:\n",
    "        val = 'scientific organisation'\n",
    "    elif 'scientific organization' in x:\n",
    "        val = 'scientific organisation'\n",
    "    elif 'observatory' in x:\n",
    "        val = 'astronomical observatory'  \n",
    "    elif 'higher education' in x:\n",
    "        val = 'educational institution'\n",
    "    elif 'school' in x:\n",
    "        val = 'educational institution'   # could also be 'high school or similar'\n",
    "    elif 'academic institution' in x:\n",
    "        val = 'educational institution'   # could also be 'high school or similar'\n",
    "    elif 'academy' in x:\n",
    "        val = 'learned society'\n",
    "    elif 'society' in x:\n",
    "        val = 'learned society'      \n",
    "    elif 'company' in x \\\n",
    "                or 'business'  in x \\\n",
    "                or 'entrepr' in x:\n",
    "        val = 'company'\n",
    "    elif 'government' in x :\n",
    "        val = 'governmenmt agency'         \n",
    "    elif 'publish' in x :\n",
    "        val = 'publisher_edition'     \n",
    "    elif 'journal' in x :\n",
    "        val = 'publisher_edition'\n",
    "    elif 'periodical' in x :\n",
    "        val = 'publisher_edition'    \n",
    "    else:\n",
    "        val = 'not classified organisation'\n",
    "\n",
    "    return val        "
   ]
  },
  {
   "cell_type": "code",
   "execution_count": 113,
   "metadata": {
    "execution": {
     "iopub.execute_input": "2025-05-24T14:02:29.062167Z",
     "iopub.status.busy": "2025-05-24T14:02:29.061248Z",
     "iopub.status.idle": "2025-05-24T14:02:29.097523Z",
     "shell.execute_reply": "2025-05-24T14:02:29.096070Z",
     "shell.execute_reply.started": "2025-05-24T14:02:29.062088Z"
    }
   },
   "outputs": [
    {
     "data": {
      "text/html": [
       "<div>\n",
       "<style scoped>\n",
       "    .dataframe tbody tr th:only-of-type {\n",
       "        vertical-align: middle;\n",
       "    }\n",
       "\n",
       "    .dataframe tbody tr th {\n",
       "        vertical-align: top;\n",
       "    }\n",
       "\n",
       "    .dataframe thead th {\n",
       "        text-align: right;\n",
       "    }\n",
       "</style>\n",
       "<table border=\"1\" class=\"dataframe\">\n",
       "  <thead>\n",
       "    <tr style=\"text-align: right;\">\n",
       "      <th></th>\n",
       "      <th>uriPer</th>\n",
       "      <th>labelPer</th>\n",
       "      <th>birthYear</th>\n",
       "      <th>relaType</th>\n",
       "      <th>uriOrg</th>\n",
       "      <th>labelOrg</th>\n",
       "      <th>nTypes</th>\n",
       "      <th>typesOrg</th>\n",
       "      <th>periods</th>\n",
       "      <th>listTypesOrg</th>\n",
       "      <th>orgMainType</th>\n",
       "    </tr>\n",
       "  </thead>\n",
       "  <tbody>\n",
       "    <tr>\n",
       "      <th>7</th>\n",
       "      <td>http://www.wikidata.org/entity/Q104859</td>\n",
       "      <td>Michael Collins</td>\n",
       "      <td>1930</td>\n",
       "      <td>education</td>\n",
       "      <td>http://www.wikidata.org/entity/Q4671107</td>\n",
       "      <td>Academia del Perpetuo Socorro</td>\n",
       "      <td>1</td>\n",
       "      <td>school</td>\n",
       "      <td>1921-1940</td>\n",
       "      <td>['school']</td>\n",
       "      <td>educational institution</td>\n",
       "    </tr>\n",
       "    <tr>\n",
       "      <th>8</th>\n",
       "      <td>http://www.wikidata.org/entity/Q104859</td>\n",
       "      <td>Michael Collins</td>\n",
       "      <td>1930</td>\n",
       "      <td>education</td>\n",
       "      <td>http://www.wikidata.org/entity/Q3428253</td>\n",
       "      <td>U.S. Air Force Test Pilot School</td>\n",
       "      <td>1</td>\n",
       "      <td>flight school</td>\n",
       "      <td>1921-1940</td>\n",
       "      <td>['flight school']</td>\n",
       "      <td>educational institution</td>\n",
       "    </tr>\n",
       "    <tr>\n",
       "      <th>9</th>\n",
       "      <td>http://www.wikidata.org/entity/Q104865</td>\n",
       "      <td>Vladimir Komarov</td>\n",
       "      <td>1927</td>\n",
       "      <td>education</td>\n",
       "      <td>http://www.wikidata.org/entity/Q1934904</td>\n",
       "      <td>Zhukovsky Air Force Engineering Academy</td>\n",
       "      <td>3</td>\n",
       "      <td>educational institution | military academy | m...</td>\n",
       "      <td>1921-1940</td>\n",
       "      <td>['educational institution', 'military academy'...</td>\n",
       "      <td>educational institution</td>\n",
       "    </tr>\n",
       "  </tbody>\n",
       "</table>\n",
       "</div>"
      ],
      "text/plain": [
       "                                   uriPer          labelPer  birthYear  \\\n",
       "7  http://www.wikidata.org/entity/Q104859   Michael Collins       1930   \n",
       "8  http://www.wikidata.org/entity/Q104859   Michael Collins       1930   \n",
       "9  http://www.wikidata.org/entity/Q104865  Vladimir Komarov       1927   \n",
       "\n",
       "    relaType                                   uriOrg  \\\n",
       "7  education  http://www.wikidata.org/entity/Q4671107   \n",
       "8  education  http://www.wikidata.org/entity/Q3428253   \n",
       "9  education  http://www.wikidata.org/entity/Q1934904   \n",
       "\n",
       "                                  labelOrg  nTypes  \\\n",
       "7            Academia del Perpetuo Socorro       1   \n",
       "8         U.S. Air Force Test Pilot School       1   \n",
       "9  Zhukovsky Air Force Engineering Academy       3   \n",
       "\n",
       "                                            typesOrg    periods  \\\n",
       "7                                             school  1921-1940   \n",
       "8                                      flight school  1921-1940   \n",
       "9  educational institution | military academy | m...  1921-1940   \n",
       "\n",
       "                                        listTypesOrg              orgMainType  \n",
       "7                                         ['school']  educational institution  \n",
       "8                                  ['flight school']  educational institution  \n",
       "9  ['educational institution', 'military academy'...  educational institution  "
      ]
     },
     "execution_count": 113,
     "metadata": {},
     "output_type": "execute_result"
    }
   ],
   "source": [
    "df_p['orgMainType'] = df_p['typesOrg'].apply(lambda x : code_organisation_main_type(x))\n",
    "df_p.iloc[7:10]"
   ]
  },
  {
   "cell_type": "code",
   "execution_count": 114,
   "metadata": {
    "execution": {
     "iopub.execute_input": "2025-05-24T14:02:29.560297Z",
     "iopub.status.busy": "2025-05-24T14:02:29.558412Z",
     "iopub.status.idle": "2025-05-24T14:02:29.585084Z",
     "shell.execute_reply": "2025-05-24T14:02:29.583498Z",
     "shell.execute_reply.started": "2025-05-24T14:02:29.560211Z"
    }
   },
   "outputs": [
    {
     "data": {
      "text/html": [
       "<div>\n",
       "<style scoped>\n",
       "    .dataframe tbody tr th:only-of-type {\n",
       "        vertical-align: middle;\n",
       "    }\n",
       "\n",
       "    .dataframe tbody tr th {\n",
       "        vertical-align: top;\n",
       "    }\n",
       "\n",
       "    .dataframe thead th {\n",
       "        text-align: right;\n",
       "    }\n",
       "</style>\n",
       "<table border=\"1\" class=\"dataframe\">\n",
       "  <thead>\n",
       "    <tr style=\"text-align: right;\">\n",
       "      <th></th>\n",
       "      <th>mainType</th>\n",
       "      <th>number</th>\n",
       "    </tr>\n",
       "  </thead>\n",
       "  <tbody>\n",
       "    <tr>\n",
       "      <th>0</th>\n",
       "      <td>educational institution</td>\n",
       "      <td>899</td>\n",
       "    </tr>\n",
       "    <tr>\n",
       "      <th>9</th>\n",
       "      <td>university</td>\n",
       "      <td>626</td>\n",
       "    </tr>\n",
       "    <tr>\n",
       "      <th>4</th>\n",
       "      <td>private university</td>\n",
       "      <td>151</td>\n",
       "    </tr>\n",
       "    <tr>\n",
       "      <th>5</th>\n",
       "      <td>public university</td>\n",
       "      <td>151</td>\n",
       "    </tr>\n",
       "    <tr>\n",
       "      <th>1</th>\n",
       "      <td>institute of technology</td>\n",
       "      <td>103</td>\n",
       "    </tr>\n",
       "    <tr>\n",
       "      <th>2</th>\n",
       "      <td>learned society</td>\n",
       "      <td>47</td>\n",
       "    </tr>\n",
       "    <tr>\n",
       "      <th>3</th>\n",
       "      <td>not classified organisation</td>\n",
       "      <td>13</td>\n",
       "    </tr>\n",
       "    <tr>\n",
       "      <th>7</th>\n",
       "      <td>research organisation</td>\n",
       "      <td>5</td>\n",
       "    </tr>\n",
       "    <tr>\n",
       "      <th>6</th>\n",
       "      <td>research facility</td>\n",
       "      <td>4</td>\n",
       "    </tr>\n",
       "    <tr>\n",
       "      <th>8</th>\n",
       "      <td>scientific organisation</td>\n",
       "      <td>1</td>\n",
       "    </tr>\n",
       "  </tbody>\n",
       "</table>\n",
       "</div>"
      ],
      "text/plain": [
       "                      mainType  number\n",
       "0      educational institution     899\n",
       "9                   university     626\n",
       "4           private university     151\n",
       "5            public university     151\n",
       "1      institute of technology     103\n",
       "2              learned society      47\n",
       "3  not classified organisation      13\n",
       "7        research organisation       5\n",
       "6            research facility       4\n",
       "8      scientific organisation       1"
      ]
     },
     "execution_count": 114,
     "metadata": {},
     "output_type": "execute_result"
    }
   ],
   "source": [
    "df_mainTypes = pd.DataFrame(df_p.groupby(by='orgMainType', as_index=False).size().sort_values(by='size',ascending=False))\n",
    "df_mainTypes.columns=['mainType', 'number']\n",
    "df_mainTypes"
   ]
  },
  {
   "cell_type": "code",
   "execution_count": 115,
   "metadata": {
    "execution": {
     "iopub.execute_input": "2025-05-24T14:02:41.282655Z",
     "iopub.status.busy": "2025-05-24T14:02:41.281699Z",
     "iopub.status.idle": "2025-05-24T14:02:41.339788Z",
     "shell.execute_reply": "2025-05-24T14:02:41.338115Z",
     "shell.execute_reply.started": "2025-05-24T14:02:41.282577Z"
    }
   },
   "outputs": [
    {
     "data": {
      "text/html": [
       "<div>\n",
       "<style scoped>\n",
       "    .dataframe tbody tr th:only-of-type {\n",
       "        vertical-align: middle;\n",
       "    }\n",
       "\n",
       "    .dataframe tbody tr th {\n",
       "        vertical-align: top;\n",
       "    }\n",
       "\n",
       "    .dataframe thead th {\n",
       "        text-align: right;\n",
       "    }\n",
       "</style>\n",
       "<table border=\"1\" class=\"dataframe\">\n",
       "  <thead>\n",
       "    <tr style=\"text-align: right;\">\n",
       "      <th></th>\n",
       "      <th>typesOrg</th>\n",
       "      <th>orgMainType</th>\n",
       "      <th>number</th>\n",
       "      <th>numberOrg</th>\n",
       "    </tr>\n",
       "  </thead>\n",
       "  <tbody>\n",
       "    <tr>\n",
       "      <th>243</th>\n",
       "      <td>open-access publisher | private not-for-profit...</td>\n",
       "      <td>private university</td>\n",
       "      <td>54</td>\n",
       "      <td>4</td>\n",
       "    </tr>\n",
       "    <tr>\n",
       "      <th>283</th>\n",
       "      <td>public educational institution of the united s...</td>\n",
       "      <td>university</td>\n",
       "      <td>51</td>\n",
       "      <td>2</td>\n",
       "    </tr>\n",
       "    <tr>\n",
       "      <th>289</th>\n",
       "      <td>public educational institution of the united s...</td>\n",
       "      <td>university</td>\n",
       "      <td>51</td>\n",
       "      <td>2</td>\n",
       "    </tr>\n",
       "  </tbody>\n",
       "</table>\n",
       "</div>"
      ],
      "text/plain": [
       "                                              typesOrg         orgMainType  \\\n",
       "243  open-access publisher | private not-for-profit...  private university   \n",
       "283  public educational institution of the united s...          university   \n",
       "289  public educational institution of the united s...          university   \n",
       "\n",
       "     number  numberOrg  \n",
       "243      54          4  \n",
       "283      51          2  \n",
       "289      51          2  "
      ]
     },
     "execution_count": 115,
     "metadata": {},
     "output_type": "execute_result"
    }
   ],
   "source": [
    "### Inspect the available composed types\n",
    "df_types = pd.DataFrame(df_p.groupby(['typesOrg', 'orgMainType'], as_index=False).\\\n",
    "                        size().sort_values(by='size',ascending=False))\n",
    "df_types.columns=['typesOrg', 'orgMainType', 'number']\n",
    "df_types['numberOrg'] = df_types.typesOrg.apply( lambda x: len(x.split('|')))\n",
    "### Print to CSV in order to inspect the data\n",
    "csv_file='data/network_organisations_with_main_types_groups.csv'\n",
    "df_types.to_csv(csv_file)\n",
    "\n",
    "df_types.iloc[7:10]"
   ]
  },
  {
   "cell_type": "markdown",
   "metadata": {},
   "source": [
    "#### 'Manual' corrections and classification improvements\n",
    "\n",
    "In some cases, instpecting the organisations shows that the provided classification is not suitable and should be replaced:\n",
    "\n",
    "Academia Europaea, ...\n",
    "\n",
    "We provide this example merely to illustrate the point; further work would be required, but this is beyond the scope of this exercise."
   ]
  },
  {
   "cell_type": "code",
   "execution_count": 116,
   "metadata": {
    "execution": {
     "iopub.execute_input": "2025-05-24T14:02:55.713383Z",
     "iopub.status.busy": "2025-05-24T14:02:55.712477Z",
     "iopub.status.idle": "2025-05-24T14:02:55.745238Z",
     "shell.execute_reply": "2025-05-24T14:02:55.742996Z",
     "shell.execute_reply.started": "2025-05-24T14:02:55.713305Z"
    }
   },
   "outputs": [
    {
     "data": {
      "text/html": [
       "<div>\n",
       "<style scoped>\n",
       "    .dataframe tbody tr th:only-of-type {\n",
       "        vertical-align: middle;\n",
       "    }\n",
       "\n",
       "    .dataframe tbody tr th {\n",
       "        vertical-align: top;\n",
       "    }\n",
       "\n",
       "    .dataframe thead th {\n",
       "        text-align: right;\n",
       "    }\n",
       "</style>\n",
       "<table border=\"1\" class=\"dataframe\">\n",
       "  <thead>\n",
       "    <tr style=\"text-align: right;\">\n",
       "      <th></th>\n",
       "      <th>uriPer</th>\n",
       "      <th>labelPer</th>\n",
       "      <th>birthYear</th>\n",
       "      <th>relaType</th>\n",
       "      <th>uriOrg</th>\n",
       "      <th>labelOrg</th>\n",
       "      <th>nTypes</th>\n",
       "      <th>typesOrg</th>\n",
       "      <th>periods</th>\n",
       "      <th>listTypesOrg</th>\n",
       "      <th>orgMainType</th>\n",
       "    </tr>\n",
       "  </thead>\n",
       "  <tbody>\n",
       "  </tbody>\n",
       "</table>\n",
       "</div>"
      ],
      "text/plain": [
       "Empty DataFrame\n",
       "Columns: [uriPer, labelPer, birthYear, relaType, uriOrg, labelOrg, nTypes, typesOrg, periods, listTypesOrg, orgMainType]\n",
       "Index: []"
      ]
     },
     "execution_count": 116,
     "metadata": {},
     "output_type": "execute_result"
    }
   ],
   "source": [
    "### Please note the warning and the orders fo the filter, after (!) the column \n",
    "\"\"\"\n",
    "Do not use:\n",
    "df[\"col\"][row_indexer] = value\n",
    "\n",
    "Use `df.loc[row_indexer, \"col\"] = values` instead, to perform the assignment in a single step and ensure this keeps updating the original `df`.\n",
    "See the caveats in the documentation: https://pandas.pydata.org/pandas-docs/stable/user_guide/indexing.html#returning-a-view-versus-a-copy\n",
    "\"\"\"\n",
    "\n",
    "df_p.loc[df_p.uriOrg == 'http://www.wikidata.org/entity/Q337234', 'orgMainType'] = 'research organisation'\n",
    "df_p[df_p.labelOrg.str.contains('Europaea')].head(2)\n",
    "\n"
   ]
  },
  {
   "cell_type": "markdown",
   "metadata": {},
   "source": [
    "# Create graphs"
   ]
  },
  {
   "cell_type": "code",
   "execution_count": 117,
   "metadata": {
    "execution": {
     "iopub.execute_input": "2025-05-24T14:03:15.671354Z",
     "iopub.status.busy": "2025-05-24T14:03:15.670143Z",
     "iopub.status.idle": "2025-05-24T14:03:15.686726Z",
     "shell.execute_reply": "2025-05-24T14:03:15.684477Z",
     "shell.execute_reply.started": "2025-05-24T14:03:15.671272Z"
    }
   },
   "outputs": [
    {
     "name": "stdout",
     "output_type": "stream",
     "text": [
      "relaType\n",
      "education     1894\n",
      "employment     106\n",
      "dtype: int64\n"
     ]
    }
   ],
   "source": [
    "### Available relationships\n",
    "print(df_p.groupby(by='relaType').size())"
   ]
  },
  {
   "cell_type": "markdown",
   "metadata": {},
   "source": [
    "### Prepare the dataframe"
   ]
  },
  {
   "cell_type": "code",
   "execution_count": 118,
   "metadata": {
    "execution": {
     "iopub.execute_input": "2025-05-24T14:03:18.878687Z",
     "iopub.status.busy": "2025-05-24T14:03:18.877744Z",
     "iopub.status.idle": "2025-05-24T14:03:18.904413Z",
     "shell.execute_reply": "2025-05-24T14:03:18.898784Z",
     "shell.execute_reply.started": "2025-05-24T14:03:18.878610Z"
    }
   },
   "outputs": [
    {
     "name": "stdout",
     "output_type": "stream",
     "text": [
      "2000\n"
     ]
    }
   ],
   "source": [
    "### Select the columns that will be used\n",
    "df_prep = df_p[['uriPer','labelPer','birthYear','uriOrg', 'labelOrg', 'typesOrg', 'orgMainType', 'relaType', 'periods']].copy(deep=True)\n",
    "print(len(df_prep))"
   ]
  },
  {
   "cell_type": "markdown",
   "metadata": {},
   "source": [
    "### Features of organisations"
   ]
  },
  {
   "cell_type": "markdown",
   "metadata": {},
   "source": [
    "#### General grouping\n",
    "\n",
    "\n",
    "We first group by organisations, counting all relationships of persons which provides the total degree or number of members over the whole time "
   ]
  },
  {
   "cell_type": "code",
   "execution_count": 119,
   "metadata": {
    "execution": {
     "iopub.execute_input": "2025-05-24T14:03:20.393315Z",
     "iopub.status.busy": "2025-05-24T14:03:20.392273Z",
     "iopub.status.idle": "2025-05-24T14:03:20.423156Z",
     "shell.execute_reply": "2025-05-24T14:03:20.421958Z",
     "shell.execute_reply.started": "2025-05-24T14:03:20.393235Z"
    }
   },
   "outputs": [
    {
     "data": {
      "text/html": [
       "<div>\n",
       "<style scoped>\n",
       "    .dataframe tbody tr th:only-of-type {\n",
       "        vertical-align: middle;\n",
       "    }\n",
       "\n",
       "    .dataframe tbody tr th {\n",
       "        vertical-align: top;\n",
       "    }\n",
       "\n",
       "    .dataframe thead th {\n",
       "        text-align: right;\n",
       "    }\n",
       "</style>\n",
       "<table border=\"1\" class=\"dataframe\">\n",
       "  <thead>\n",
       "    <tr style=\"text-align: right;\">\n",
       "      <th></th>\n",
       "      <th>uriOrg</th>\n",
       "      <th>labelOrg</th>\n",
       "      <th>typesOrg</th>\n",
       "      <th>orgMainType</th>\n",
       "      <th>tot_members_number</th>\n",
       "    </tr>\n",
       "  </thead>\n",
       "  <tbody>\n",
       "    <tr>\n",
       "      <th>312</th>\n",
       "      <td>http://www.wikidata.org/entity/Q3428253</td>\n",
       "      <td>U.S. Air Force Test Pilot School</td>\n",
       "      <td>flight school</td>\n",
       "      <td>educational institution</td>\n",
       "      <td>95</td>\n",
       "    </tr>\n",
       "    <tr>\n",
       "      <th>30</th>\n",
       "      <td>http://www.wikidata.org/entity/Q1128819</td>\n",
       "      <td>United States Naval Test Pilot School</td>\n",
       "      <td>military school</td>\n",
       "      <td>educational institution</td>\n",
       "      <td>81</td>\n",
       "    </tr>\n",
       "    <tr>\n",
       "      <th>569</th>\n",
       "      <td>http://www.wikidata.org/entity/Q559549</td>\n",
       "      <td>United States Naval Academy</td>\n",
       "      <td>census-designated place in the united states |...</td>\n",
       "      <td>educational institution</td>\n",
       "      <td>62</td>\n",
       "    </tr>\n",
       "    <tr>\n",
       "      <th>432</th>\n",
       "      <td>http://www.wikidata.org/entity/Q49108</td>\n",
       "      <td>Massachusetts Institute of Technology</td>\n",
       "      <td>academic publisher | institute of technology |...</td>\n",
       "      <td>institute of technology</td>\n",
       "      <td>50</td>\n",
       "    </tr>\n",
       "    <tr>\n",
       "      <th>82</th>\n",
       "      <td>http://www.wikidata.org/entity/Q1331280</td>\n",
       "      <td>United States Air Force Academy</td>\n",
       "      <td>air force academy | field operating agency</td>\n",
       "      <td>learned society</td>\n",
       "      <td>44</td>\n",
       "    </tr>\n",
       "    <tr>\n",
       "      <th>141</th>\n",
       "      <td>http://www.wikidata.org/entity/Q1515048</td>\n",
       "      <td>Naval Postgraduate School</td>\n",
       "      <td>military university | open-access publisher | ...</td>\n",
       "      <td>university</td>\n",
       "      <td>43</td>\n",
       "    </tr>\n",
       "    <tr>\n",
       "      <th>355</th>\n",
       "      <td>http://www.wikidata.org/entity/Q41506</td>\n",
       "      <td>Stanford University</td>\n",
       "      <td>open-access publisher | private not-for-profit...</td>\n",
       "      <td>private university</td>\n",
       "      <td>29</td>\n",
       "    </tr>\n",
       "    <tr>\n",
       "      <th>186</th>\n",
       "      <td>http://www.wikidata.org/entity/Q1719898</td>\n",
       "      <td>Moscow Aviation Institute</td>\n",
       "      <td>national research university | open-access pub...</td>\n",
       "      <td>university</td>\n",
       "      <td>28</td>\n",
       "    </tr>\n",
       "    <tr>\n",
       "      <th>861</th>\n",
       "      <td>http://www.wikidata.org/entity/Q9219</td>\n",
       "      <td>United States Military Academy</td>\n",
       "      <td>direct reporting unit | military academy | mil...</td>\n",
       "      <td>educational institution</td>\n",
       "      <td>28</td>\n",
       "    </tr>\n",
       "    <tr>\n",
       "      <th>240</th>\n",
       "      <td>http://www.wikidata.org/entity/Q217741</td>\n",
       "      <td>Purdue University</td>\n",
       "      <td>land-grant university | public educational ins...</td>\n",
       "      <td>university</td>\n",
       "      <td>25</td>\n",
       "    </tr>\n",
       "  </tbody>\n",
       "</table>\n",
       "</div>"
      ],
      "text/plain": [
       "                                      uriOrg  \\\n",
       "312  http://www.wikidata.org/entity/Q3428253   \n",
       "30   http://www.wikidata.org/entity/Q1128819   \n",
       "569   http://www.wikidata.org/entity/Q559549   \n",
       "432    http://www.wikidata.org/entity/Q49108   \n",
       "82   http://www.wikidata.org/entity/Q1331280   \n",
       "141  http://www.wikidata.org/entity/Q1515048   \n",
       "355    http://www.wikidata.org/entity/Q41506   \n",
       "186  http://www.wikidata.org/entity/Q1719898   \n",
       "861     http://www.wikidata.org/entity/Q9219   \n",
       "240   http://www.wikidata.org/entity/Q217741   \n",
       "\n",
       "                                  labelOrg  \\\n",
       "312       U.S. Air Force Test Pilot School   \n",
       "30   United States Naval Test Pilot School   \n",
       "569            United States Naval Academy   \n",
       "432  Massachusetts Institute of Technology   \n",
       "82         United States Air Force Academy   \n",
       "141              Naval Postgraduate School   \n",
       "355                    Stanford University   \n",
       "186              Moscow Aviation Institute   \n",
       "861         United States Military Academy   \n",
       "240                      Purdue University   \n",
       "\n",
       "                                              typesOrg  \\\n",
       "312                                      flight school   \n",
       "30                                     military school   \n",
       "569  census-designated place in the united states |...   \n",
       "432  academic publisher | institute of technology |...   \n",
       "82          air force academy | field operating agency   \n",
       "141  military university | open-access publisher | ...   \n",
       "355  open-access publisher | private not-for-profit...   \n",
       "186  national research university | open-access pub...   \n",
       "861  direct reporting unit | military academy | mil...   \n",
       "240  land-grant university | public educational ins...   \n",
       "\n",
       "                 orgMainType  tot_members_number  \n",
       "312  educational institution                  95  \n",
       "30   educational institution                  81  \n",
       "569  educational institution                  62  \n",
       "432  institute of technology                  50  \n",
       "82           learned society                  44  \n",
       "141               university                  43  \n",
       "355       private university                  29  \n",
       "186               university                  28  \n",
       "861  educational institution                  28  \n",
       "240               university                  25  "
      ]
     },
     "execution_count": 119,
     "metadata": {},
     "output_type": "execute_result"
    }
   ],
   "source": [
    "### Memberships by organisations\n",
    "df_org = pd.DataFrame(df_prep.groupby(['uriOrg', 'labelOrg', 'typesOrg','orgMainType'],as_index=False).size())\n",
    "df_org.columns=['uriOrg', 'labelOrg', 'typesOrg', 'orgMainType','tot_members_number']\n",
    "df_org.sort_values('tot_members_number',ascending=False).iloc[:10]"
   ]
  },
  {
   "cell_type": "code",
   "execution_count": 120,
   "metadata": {
    "execution": {
     "iopub.execute_input": "2025-05-24T14:03:26.671359Z",
     "iopub.status.busy": "2025-05-24T14:03:26.670383Z",
     "iopub.status.idle": "2025-05-24T14:03:26.750998Z",
     "shell.execute_reply": "2025-05-24T14:03:26.748585Z",
     "shell.execute_reply.started": "2025-05-24T14:03:26.671281Z"
    }
   },
   "outputs": [],
   "source": [
    "### Save list of organisations as CSV\n",
    "csv_file='data/network_organisations_with_main_type_and_number.csv'\n",
    "df_org.sort_values('tot_members_number',ascending=False).to_csv(csv_file)"
   ]
  },
  {
   "cell_type": "markdown",
   "metadata": {},
   "source": [
    "#### Group by period\n",
    "\n",
    "We then group by heuristic period (or generation)"
   ]
  },
  {
   "cell_type": "code",
   "execution_count": 121,
   "metadata": {
    "execution": {
     "iopub.execute_input": "2025-05-24T14:03:27.884198Z",
     "iopub.status.busy": "2025-05-24T14:03:27.882346Z",
     "iopub.status.idle": "2025-05-24T14:03:27.917807Z",
     "shell.execute_reply": "2025-05-24T14:03:27.916422Z",
     "shell.execute_reply.started": "2025-05-24T14:03:27.884112Z"
    }
   },
   "outputs": [
    {
     "data": {
      "text/html": [
       "<div>\n",
       "<style scoped>\n",
       "    .dataframe tbody tr th:only-of-type {\n",
       "        vertical-align: middle;\n",
       "    }\n",
       "\n",
       "    .dataframe tbody tr th {\n",
       "        vertical-align: top;\n",
       "    }\n",
       "\n",
       "    .dataframe thead th {\n",
       "        text-align: right;\n",
       "    }\n",
       "</style>\n",
       "<table border=\"1\" class=\"dataframe\">\n",
       "  <thead>\n",
       "    <tr style=\"text-align: right;\">\n",
       "      <th></th>\n",
       "      <th>uriOrg</th>\n",
       "      <th>labelOrg</th>\n",
       "      <th>orgMainType</th>\n",
       "      <th>periods</th>\n",
       "      <th>period_members_number</th>\n",
       "    </tr>\n",
       "  </thead>\n",
       "  <tbody>\n",
       "    <tr>\n",
       "      <th>0</th>\n",
       "      <td>http://www.wikidata.org/entity/Q102398197</td>\n",
       "      <td>Faculty of Law, German University in Prague</td>\n",
       "      <td>university</td>\n",
       "      <td>1901-1920</td>\n",
       "      <td>1</td>\n",
       "    </tr>\n",
       "    <tr>\n",
       "      <th>344</th>\n",
       "      <td>http://www.wikidata.org/entity/Q238101</td>\n",
       "      <td>University of Minnesota</td>\n",
       "      <td>university</td>\n",
       "      <td>1901-1920</td>\n",
       "      <td>1</td>\n",
       "    </tr>\n",
       "    <tr>\n",
       "      <th>465</th>\n",
       "      <td>http://www.wikidata.org/entity/Q4129735</td>\n",
       "      <td>Higher school of glider flying</td>\n",
       "      <td>educational institution</td>\n",
       "      <td>1901-1920</td>\n",
       "      <td>1</td>\n",
       "    </tr>\n",
       "    <tr>\n",
       "      <th>650</th>\n",
       "      <td>http://www.wikidata.org/entity/Q5061177</td>\n",
       "      <td>Central High School</td>\n",
       "      <td>educational institution</td>\n",
       "      <td>1901-1920</td>\n",
       "      <td>1</td>\n",
       "    </tr>\n",
       "    <tr>\n",
       "      <th>629</th>\n",
       "      <td>http://www.wikidata.org/entity/Q5006618</td>\n",
       "      <td>C. K. McClatchy High School</td>\n",
       "      <td>educational institution</td>\n",
       "      <td>1921-1940</td>\n",
       "      <td>1</td>\n",
       "    </tr>\n",
       "  </tbody>\n",
       "</table>\n",
       "</div>"
      ],
      "text/plain": [
       "                                        uriOrg  \\\n",
       "0    http://www.wikidata.org/entity/Q102398197   \n",
       "344     http://www.wikidata.org/entity/Q238101   \n",
       "465    http://www.wikidata.org/entity/Q4129735   \n",
       "650    http://www.wikidata.org/entity/Q5061177   \n",
       "629    http://www.wikidata.org/entity/Q5006618   \n",
       "\n",
       "                                        labelOrg              orgMainType  \\\n",
       "0    Faculty of Law, German University in Prague               university   \n",
       "344                      University of Minnesota               university   \n",
       "465               Higher school of glider flying  educational institution   \n",
       "650                          Central High School  educational institution   \n",
       "629                  C. K. McClatchy High School  educational institution   \n",
       "\n",
       "       periods  period_members_number  \n",
       "0    1901-1920                      1  \n",
       "344  1901-1920                      1  \n",
       "465  1901-1920                      1  \n",
       "650  1901-1920                      1  \n",
       "629  1921-1940                      1  "
      ]
     },
     "execution_count": 121,
     "metadata": {},
     "output_type": "execute_result"
    }
   ],
   "source": [
    "df_orgPeriod = pd.DataFrame(df_prep.groupby(['uriOrg', 'labelOrg', 'orgMainType', 'periods']).size(), columns=['period_members_number'])\n",
    "df_orgPeriod.reset_index(inplace=True)\n",
    "df_orgPeriod.sort_values(by='periods', ascending=True).head()"
   ]
  },
  {
   "cell_type": "code",
   "execution_count": 122,
   "metadata": {
    "execution": {
     "iopub.execute_input": "2025-05-24T14:03:28.360817Z",
     "iopub.status.busy": "2025-05-24T14:03:28.356181Z",
     "iopub.status.idle": "2025-05-24T14:03:28.382687Z",
     "shell.execute_reply": "2025-05-24T14:03:28.381548Z",
     "shell.execute_reply.started": "2025-05-24T14:03:28.360730Z"
    }
   },
   "outputs": [
    {
     "data": {
      "text/html": [
       "<div>\n",
       "<style scoped>\n",
       "    .dataframe tbody tr th:only-of-type {\n",
       "        vertical-align: middle;\n",
       "    }\n",
       "\n",
       "    .dataframe tbody tr th {\n",
       "        vertical-align: top;\n",
       "    }\n",
       "\n",
       "    .dataframe thead th {\n",
       "        text-align: right;\n",
       "    }\n",
       "</style>\n",
       "<table border=\"1\" class=\"dataframe\">\n",
       "  <thead>\n",
       "    <tr style=\"text-align: right;\">\n",
       "      <th></th>\n",
       "      <th>uriOrg</th>\n",
       "      <th>labelOrg</th>\n",
       "      <th>orgMainType</th>\n",
       "      <th>periods</th>\n",
       "      <th>period_members_number</th>\n",
       "    </tr>\n",
       "  </thead>\n",
       "  <tbody>\n",
       "  </tbody>\n",
       "</table>\n",
       "</div>"
      ],
      "text/plain": [
       "Empty DataFrame\n",
       "Columns: [uriOrg, labelOrg, orgMainType, periods, period_members_number]\n",
       "Index: []"
      ]
     },
     "execution_count": 122,
     "metadata": {},
     "output_type": "execute_result"
    }
   ],
   "source": [
    "df_orgPeriod[df_orgPeriod.labelOrg=='AMOLF']"
   ]
  },
  {
   "cell_type": "markdown",
   "metadata": {},
   "source": [
    "#### Group by period and relationshiptype\n",
    "\n",
    "We then group by heuristic period (or generation) AND relationship type, i.e. which kind of relationship associates a person to an organisation in the bipartite network"
   ]
  },
  {
   "cell_type": "code",
   "execution_count": 123,
   "metadata": {
    "execution": {
     "iopub.execute_input": "2025-05-24T14:03:29.201931Z",
     "iopub.status.busy": "2025-05-24T14:03:29.200077Z",
     "iopub.status.idle": "2025-05-24T14:03:29.238596Z",
     "shell.execute_reply": "2025-05-24T14:03:29.237262Z",
     "shell.execute_reply.started": "2025-05-24T14:03:29.201805Z"
    }
   },
   "outputs": [
    {
     "data": {
      "text/html": [
       "<div>\n",
       "<style scoped>\n",
       "    .dataframe tbody tr th:only-of-type {\n",
       "        vertical-align: middle;\n",
       "    }\n",
       "\n",
       "    .dataframe tbody tr th {\n",
       "        vertical-align: top;\n",
       "    }\n",
       "\n",
       "    .dataframe thead th {\n",
       "        text-align: right;\n",
       "    }\n",
       "</style>\n",
       "<table border=\"1\" class=\"dataframe\">\n",
       "  <thead>\n",
       "    <tr style=\"text-align: right;\">\n",
       "      <th></th>\n",
       "      <th>uriOrg</th>\n",
       "      <th>labelOrg</th>\n",
       "      <th>orgMainType</th>\n",
       "      <th>relaType</th>\n",
       "      <th>periods</th>\n",
       "      <th>period_members_number</th>\n",
       "    </tr>\n",
       "  </thead>\n",
       "  <tbody>\n",
       "    <tr>\n",
       "      <th>37</th>\n",
       "      <td>http://www.wikidata.org/entity/Q1128819</td>\n",
       "      <td>United States Naval Test Pilot School</td>\n",
       "      <td>educational institution</td>\n",
       "      <td>education</td>\n",
       "      <td>1941-1960</td>\n",
       "      <td>43</td>\n",
       "    </tr>\n",
       "    <tr>\n",
       "      <th>455</th>\n",
       "      <td>http://www.wikidata.org/entity/Q3428253</td>\n",
       "      <td>U.S. Air Force Test Pilot School</td>\n",
       "      <td>educational institution</td>\n",
       "      <td>education</td>\n",
       "      <td>1941-1960</td>\n",
       "      <td>41</td>\n",
       "    </tr>\n",
       "    <tr>\n",
       "      <th>454</th>\n",
       "      <td>http://www.wikidata.org/entity/Q3428253</td>\n",
       "      <td>U.S. Air Force Test Pilot School</td>\n",
       "      <td>educational institution</td>\n",
       "      <td>education</td>\n",
       "      <td>1921-1940</td>\n",
       "      <td>37</td>\n",
       "    </tr>\n",
       "    <tr>\n",
       "      <th>106</th>\n",
       "      <td>http://www.wikidata.org/entity/Q1331280</td>\n",
       "      <td>United States Air Force Academy</td>\n",
       "      <td>learned society</td>\n",
       "      <td>education</td>\n",
       "      <td>1941-1960</td>\n",
       "      <td>32</td>\n",
       "    </tr>\n",
       "    <tr>\n",
       "      <th>795</th>\n",
       "      <td>http://www.wikidata.org/entity/Q559549</td>\n",
       "      <td>United States Naval Academy</td>\n",
       "      <td>educational institution</td>\n",
       "      <td>education</td>\n",
       "      <td>1941-1960</td>\n",
       "      <td>30</td>\n",
       "    </tr>\n",
       "  </tbody>\n",
       "</table>\n",
       "</div>"
      ],
      "text/plain": [
       "                                      uriOrg  \\\n",
       "37   http://www.wikidata.org/entity/Q1128819   \n",
       "455  http://www.wikidata.org/entity/Q3428253   \n",
       "454  http://www.wikidata.org/entity/Q3428253   \n",
       "106  http://www.wikidata.org/entity/Q1331280   \n",
       "795   http://www.wikidata.org/entity/Q559549   \n",
       "\n",
       "                                  labelOrg              orgMainType  \\\n",
       "37   United States Naval Test Pilot School  educational institution   \n",
       "455       U.S. Air Force Test Pilot School  educational institution   \n",
       "454       U.S. Air Force Test Pilot School  educational institution   \n",
       "106        United States Air Force Academy          learned society   \n",
       "795            United States Naval Academy  educational institution   \n",
       "\n",
       "      relaType    periods  period_members_number  \n",
       "37   education  1941-1960                     43  \n",
       "455  education  1941-1960                     41  \n",
       "454  education  1921-1940                     37  \n",
       "106  education  1941-1960                     32  \n",
       "795  education  1941-1960                     30  "
      ]
     },
     "execution_count": 123,
     "metadata": {},
     "output_type": "execute_result"
    }
   ],
   "source": [
    "df_orgPeriodRelType = pd.DataFrame(df_prep.groupby(['uriOrg', 'labelOrg', 'orgMainType', 'relaType', 'periods']).size(), columns=['period_members_number'])\n",
    "df_orgPeriodRelType.reset_index(inplace=True)\n",
    "df_orgPeriodRelType.sort_values(by='period_members_number', ascending=False).head()"
   ]
  },
  {
   "cell_type": "code",
   "execution_count": 124,
   "metadata": {
    "execution": {
     "iopub.execute_input": "2025-05-24T14:03:37.703397Z",
     "iopub.status.busy": "2025-05-24T14:03:37.702357Z",
     "iopub.status.idle": "2025-05-24T14:03:37.758274Z",
     "shell.execute_reply": "2025-05-24T14:03:37.756005Z",
     "shell.execute_reply.started": "2025-05-24T14:03:37.703314Z"
    }
   },
   "outputs": [
    {
     "name": "stdout",
     "output_type": "stream",
     "text": [
      "58\n"
     ]
    },
    {
     "data": {
      "text/html": [
       "<div>\n",
       "<style scoped>\n",
       "    .dataframe tbody tr th:only-of-type {\n",
       "        vertical-align: middle;\n",
       "    }\n",
       "\n",
       "    .dataframe tbody tr th {\n",
       "        vertical-align: top;\n",
       "    }\n",
       "\n",
       "    .dataframe thead th {\n",
       "        text-align: right;\n",
       "    }\n",
       "</style>\n",
       "<table border=\"1\" class=\"dataframe\">\n",
       "  <thead>\n",
       "    <tr style=\"text-align: right;\">\n",
       "      <th></th>\n",
       "      <th>periods</th>\n",
       "      <th>relaType</th>\n",
       "      <th>orgMainType</th>\n",
       "      <th>period_members_number</th>\n",
       "    </tr>\n",
       "  </thead>\n",
       "  <tbody>\n",
       "    <tr>\n",
       "      <th>0</th>\n",
       "      <td>1901-1920</td>\n",
       "      <td>education</td>\n",
       "      <td>educational institution</td>\n",
       "      <td>2</td>\n",
       "    </tr>\n",
       "    <tr>\n",
       "      <th>1</th>\n",
       "      <td>1901-1920</td>\n",
       "      <td>education</td>\n",
       "      <td>university</td>\n",
       "      <td>2</td>\n",
       "    </tr>\n",
       "    <tr>\n",
       "      <th>2</th>\n",
       "      <td>1921-1940</td>\n",
       "      <td>education</td>\n",
       "      <td>educational institution</td>\n",
       "      <td>239</td>\n",
       "    </tr>\n",
       "    <tr>\n",
       "      <th>3</th>\n",
       "      <td>1921-1940</td>\n",
       "      <td>education</td>\n",
       "      <td>institute of technology</td>\n",
       "      <td>18</td>\n",
       "    </tr>\n",
       "    <tr>\n",
       "      <th>4</th>\n",
       "      <td>1921-1940</td>\n",
       "      <td>education</td>\n",
       "      <td>learned society</td>\n",
       "      <td>1</td>\n",
       "    </tr>\n",
       "    <tr>\n",
       "      <th>5</th>\n",
       "      <td>1921-1940</td>\n",
       "      <td>education</td>\n",
       "      <td>not classified organisation</td>\n",
       "      <td>2</td>\n",
       "    </tr>\n",
       "    <tr>\n",
       "      <th>6</th>\n",
       "      <td>1921-1940</td>\n",
       "      <td>education</td>\n",
       "      <td>private university</td>\n",
       "      <td>27</td>\n",
       "    </tr>\n",
       "    <tr>\n",
       "      <th>7</th>\n",
       "      <td>1921-1940</td>\n",
       "      <td>education</td>\n",
       "      <td>public university</td>\n",
       "      <td>15</td>\n",
       "    </tr>\n",
       "    <tr>\n",
       "      <th>8</th>\n",
       "      <td>1921-1940</td>\n",
       "      <td>education</td>\n",
       "      <td>research organisation</td>\n",
       "      <td>1</td>\n",
       "    </tr>\n",
       "    <tr>\n",
       "      <th>9</th>\n",
       "      <td>1921-1940</td>\n",
       "      <td>education</td>\n",
       "      <td>university</td>\n",
       "      <td>116</td>\n",
       "    </tr>\n",
       "  </tbody>\n",
       "</table>\n",
       "</div>"
      ],
      "text/plain": [
       "     periods   relaType                  orgMainType  period_members_number\n",
       "0  1901-1920  education      educational institution                      2\n",
       "1  1901-1920  education                   university                      2\n",
       "2  1921-1940  education      educational institution                    239\n",
       "3  1921-1940  education      institute of technology                     18\n",
       "4  1921-1940  education              learned society                      1\n",
       "5  1921-1940  education  not classified organisation                      2\n",
       "6  1921-1940  education           private university                     27\n",
       "7  1921-1940  education            public university                     15\n",
       "8  1921-1940  education        research organisation                      1\n",
       "9  1921-1940  education                   university                    116"
      ]
     },
     "execution_count": 124,
     "metadata": {},
     "output_type": "execute_result"
    }
   ],
   "source": [
    "### Number of relationships by period with type\n",
    "dfgt = df_orgPeriodRelType.groupby(['periods', 'relaType', 'orgMainType'], as_index=False)\\\n",
    "    .sum('members').sort_values(['relaType', 'periods'])\n",
    "file_addr='data/organisations_types_periods_distribution.csv'\n",
    "dfgt.sort_values(['relaType', 'periods']).to_csv(file_addr)\n",
    "print(len(dfgt))\n",
    "dfgt.iloc[:10]"
   ]
  },
  {
   "cell_type": "code",
   "execution_count": 125,
   "metadata": {
    "execution": {
     "iopub.execute_input": "2025-05-24T14:03:39.356563Z",
     "iopub.status.busy": "2025-05-24T14:03:39.354659Z",
     "iopub.status.idle": "2025-05-24T14:03:39.384329Z",
     "shell.execute_reply": "2025-05-24T14:03:39.381611Z",
     "shell.execute_reply.started": "2025-05-24T14:03:39.356476Z"
    }
   },
   "outputs": [
    {
     "name": "stdout",
     "output_type": "stream",
     "text": [
      "17\n"
     ]
    }
   ],
   "source": [
    "### Number of relationships without period\n",
    "dfgw = df_orgPeriodRelType.groupby(['relaType', 'orgMainType'], as_index=False)\\\n",
    "    .sum('members').sort_values([ 'relaType', 'orgMainType'])\n",
    "print(len(dfgw))"
   ]
  },
  {
   "cell_type": "markdown",
   "metadata": {},
   "source": [
    "## Bivariate analysis: relationship, organisation type"
   ]
  },
  {
   "cell_type": "markdown",
   "metadata": {},
   "source": [
    "### Create the needed functions"
   ]
  },
  {
   "cell_type": "code",
   "execution_count": 126,
   "metadata": {
    "execution": {
     "iopub.execute_input": "2025-05-24T14:03:40.990634Z",
     "iopub.status.busy": "2025-05-24T14:03:40.989628Z",
     "iopub.status.idle": "2025-05-24T14:03:41.006464Z",
     "shell.execute_reply": "2025-05-24T14:03:41.004133Z",
     "shell.execute_reply.started": "2025-05-24T14:03:40.990551Z"
    }
   },
   "outputs": [],
   "source": [
    "### ct_m : contingency table without totals in margins\n",
    "def bivariee_stats(ct_wm):\n",
    "    \n",
    "    \n",
    "    n = ct_wm.sum().sum()\n",
    "\n",
    "    ### Valeurs produites par la fonction de la librairie 'stats'\n",
    "    statistic, p, dof, expected = stats.chi2_contingency(ct_wm)\n",
    "\n",
    "    print('Chi2 :', statistic.round(2), ', dof :',dof)\n",
    "    print('p-value :', p)\n",
    "\n",
    "    \n",
    "\n",
    "    print('phi2 = inertie (variance totale) :', statistic/n)\n",
    "\n",
    "\n",
    "    ### Tableau à l'indépendance\n",
    "    dfe = round(pd.DataFrame(expected),4)\n",
    "\n",
    "    ### Coéfficient de Cramer\n",
    "    # https://docs.scipy.org/doc/scipy/reference/generated/scipy.stats.contingency.association.html\n",
    "\n",
    "    vc = stats.contingency.association(ct_wm, method='cramer')\n",
    "    print('Cramer: ', vc)\n",
    "\n",
    "    return None\n",
    "\n",
    "\n",
    "\n"
   ]
  },
  {
   "cell_type": "code",
   "execution_count": 127,
   "metadata": {
    "execution": {
     "iopub.execute_input": "2025-05-24T14:03:41.500346Z",
     "iopub.status.busy": "2025-05-24T14:03:41.499436Z",
     "iopub.status.idle": "2025-05-24T14:03:41.519370Z",
     "shell.execute_reply": "2025-05-24T14:03:41.517006Z",
     "shell.execute_reply.started": "2025-05-24T14:03:41.500268Z"
    }
   },
   "outputs": [],
   "source": [
    "### ct_m : contingency tables with totals in margins\n",
    "def plot_chi2_residuals(ct_wm, figsize=(9,3)):\n",
    "    \n",
    "    D = ct_wm\n",
    "\n",
    "    \n",
    "    ### Valeurs produites par la fonction de la librairie 'stats'\n",
    "    statistic, p, dof, expected = stats.chi2_contingency(D)\n",
    "\n",
    "    ### Situation à l'indépendance\n",
    "    indep = pd.DataFrame(expected)\n",
    "    indep.columns = D.columns\n",
    "    indep.index = D.index\n",
    "\n",
    "    ### Résidus pondérés (avec le signe)\n",
    "    ### Doc. :\n",
    "    #   Rakotomalala, p.240\n",
    "    residus_ponderes = (round((D-indep)/np.sqrt(indep),2))\n",
    "    ### Résidus pondérés\n",
    "    tableau = residus_ponderes\n",
    "   \n",
    "\n",
    "    fig, ax = plt.subplots(figsize=figsize)         \n",
    "    # Sample figsize in inches\n",
    "    g = sns.heatmap(tableau, annot=tableau, cmap=\"coolwarm\", linewidths=.5, ax=ax)\n",
    "    xlabels = tableau.columns\n",
    "    px = g.set_xticklabels(xlabels, rotation=60, size=8, \n",
    "                           ha='right', rotation_mode='anchor')\n",
    "    ylabels = tableau.index\n",
    "    py = g.set_yticklabels(ylabels, rotation=20, size=8)\n",
    "    \n",
    "    plt.show()\n",
    "\n",
    "    return residus_ponderes"
   ]
  },
  {
   "cell_type": "markdown",
   "metadata": {},
   "source": [
    "### Explore contingency table : types of relationships, types of organisations"
   ]
  },
  {
   "cell_type": "code",
   "execution_count": 128,
   "metadata": {
    "execution": {
     "iopub.execute_input": "2025-05-24T14:03:44.490412Z",
     "iopub.status.busy": "2025-05-24T14:03:44.489963Z",
     "iopub.status.idle": "2025-05-24T14:03:44.528434Z",
     "shell.execute_reply": "2025-05-24T14:03:44.527037Z",
     "shell.execute_reply.started": "2025-05-24T14:03:44.490373Z"
    }
   },
   "outputs": [
    {
     "data": {
      "text/html": [
       "<div>\n",
       "<style scoped>\n",
       "    .dataframe tbody tr th:only-of-type {\n",
       "        vertical-align: middle;\n",
       "    }\n",
       "\n",
       "    .dataframe tbody tr th {\n",
       "        vertical-align: top;\n",
       "    }\n",
       "\n",
       "    .dataframe thead th {\n",
       "        text-align: right;\n",
       "    }\n",
       "</style>\n",
       "<table border=\"1\" class=\"dataframe\">\n",
       "  <thead>\n",
       "    <tr style=\"text-align: right;\">\n",
       "      <th>relaType</th>\n",
       "      <th>education</th>\n",
       "      <th>employment</th>\n",
       "      <th>Total</th>\n",
       "    </tr>\n",
       "    <tr>\n",
       "      <th>orgMainType</th>\n",
       "      <th></th>\n",
       "      <th></th>\n",
       "      <th></th>\n",
       "    </tr>\n",
       "  </thead>\n",
       "  <tbody>\n",
       "    <tr>\n",
       "      <th>educational institution</th>\n",
       "      <td>884</td>\n",
       "      <td>15</td>\n",
       "      <td>899</td>\n",
       "    </tr>\n",
       "    <tr>\n",
       "      <th>institute of technology</th>\n",
       "      <td>92</td>\n",
       "      <td>11</td>\n",
       "      <td>103</td>\n",
       "    </tr>\n",
       "    <tr>\n",
       "      <th>learned society</th>\n",
       "      <td>47</td>\n",
       "      <td>0</td>\n",
       "      <td>47</td>\n",
       "    </tr>\n",
       "    <tr>\n",
       "      <th>not classified organisation</th>\n",
       "      <td>11</td>\n",
       "      <td>2</td>\n",
       "      <td>13</td>\n",
       "    </tr>\n",
       "    <tr>\n",
       "      <th>private university</th>\n",
       "      <td>135</td>\n",
       "      <td>16</td>\n",
       "      <td>151</td>\n",
       "    </tr>\n",
       "    <tr>\n",
       "      <th>public university</th>\n",
       "      <td>136</td>\n",
       "      <td>15</td>\n",
       "      <td>151</td>\n",
       "    </tr>\n",
       "    <tr>\n",
       "      <th>research facility</th>\n",
       "      <td>4</td>\n",
       "      <td>0</td>\n",
       "      <td>4</td>\n",
       "    </tr>\n",
       "    <tr>\n",
       "      <th>research organisation</th>\n",
       "      <td>3</td>\n",
       "      <td>2</td>\n",
       "      <td>5</td>\n",
       "    </tr>\n",
       "    <tr>\n",
       "      <th>scientific organisation</th>\n",
       "      <td>1</td>\n",
       "      <td>0</td>\n",
       "      <td>1</td>\n",
       "    </tr>\n",
       "    <tr>\n",
       "      <th>university</th>\n",
       "      <td>581</td>\n",
       "      <td>45</td>\n",
       "      <td>626</td>\n",
       "    </tr>\n",
       "    <tr>\n",
       "      <th>Total</th>\n",
       "      <td>1894</td>\n",
       "      <td>106</td>\n",
       "      <td>2000</td>\n",
       "    </tr>\n",
       "  </tbody>\n",
       "</table>\n",
       "</div>"
      ],
      "text/plain": [
       "relaType                     education  employment  Total\n",
       "orgMainType                                              \n",
       "educational institution            884          15    899\n",
       "institute of technology             92          11    103\n",
       "learned society                     47           0     47\n",
       "not classified organisation         11           2     13\n",
       "private university                 135          16    151\n",
       "public university                  136          15    151\n",
       "research facility                    4           0      4\n",
       "research organisation                3           2      5\n",
       "scientific organisation              1           0      1\n",
       "university                         581          45    626\n",
       "Total                             1894         106   2000"
      ]
     },
     "execution_count": 128,
     "metadata": {},
     "output_type": "execute_result"
    }
   ],
   "source": [
    "\n",
    "\n",
    "### Contingency table\n",
    "X = 'relaType'\n",
    "Y = 'orgMainType'  \n",
    "\n",
    "ddf = df_prep[[X,Y]].pivot_table(index=Y,columns=X,observed=True, aggfunc=len,margins=True,margins_name=\"Total\").fillna(0).astype(int)\n",
    "ddf\n",
    "\n"
   ]
  },
  {
   "cell_type": "code",
   "execution_count": 129,
   "metadata": {
    "execution": {
     "iopub.execute_input": "2025-05-24T14:03:46.803964Z",
     "iopub.status.busy": "2025-05-24T14:03:46.802002Z",
     "iopub.status.idle": "2025-05-24T14:03:46.826379Z",
     "shell.execute_reply": "2025-05-24T14:03:46.824831Z",
     "shell.execute_reply.started": "2025-05-24T14:03:46.803828Z"
    }
   },
   "outputs": [
    {
     "data": {
      "text/html": [
       "<div>\n",
       "<style scoped>\n",
       "    .dataframe tbody tr th:only-of-type {\n",
       "        vertical-align: middle;\n",
       "    }\n",
       "\n",
       "    .dataframe tbody tr th {\n",
       "        vertical-align: top;\n",
       "    }\n",
       "\n",
       "    .dataframe thead th {\n",
       "        text-align: right;\n",
       "    }\n",
       "</style>\n",
       "<table border=\"1\" class=\"dataframe\">\n",
       "  <thead>\n",
       "    <tr style=\"text-align: right;\">\n",
       "      <th>relaType</th>\n",
       "      <th>education</th>\n",
       "      <th>employment</th>\n",
       "    </tr>\n",
       "    <tr>\n",
       "      <th>orgMainType</th>\n",
       "      <th></th>\n",
       "      <th></th>\n",
       "    </tr>\n",
       "  </thead>\n",
       "  <tbody>\n",
       "    <tr>\n",
       "      <th>educational institution</th>\n",
       "      <td>884</td>\n",
       "      <td>15</td>\n",
       "    </tr>\n",
       "    <tr>\n",
       "      <th>institute of technology</th>\n",
       "      <td>92</td>\n",
       "      <td>11</td>\n",
       "    </tr>\n",
       "    <tr>\n",
       "      <th>learned society</th>\n",
       "      <td>47</td>\n",
       "      <td>0</td>\n",
       "    </tr>\n",
       "    <tr>\n",
       "      <th>not classified organisation</th>\n",
       "      <td>11</td>\n",
       "      <td>2</td>\n",
       "    </tr>\n",
       "    <tr>\n",
       "      <th>private university</th>\n",
       "      <td>135</td>\n",
       "      <td>16</td>\n",
       "    </tr>\n",
       "    <tr>\n",
       "      <th>public university</th>\n",
       "      <td>136</td>\n",
       "      <td>15</td>\n",
       "    </tr>\n",
       "    <tr>\n",
       "      <th>research facility</th>\n",
       "      <td>4</td>\n",
       "      <td>0</td>\n",
       "    </tr>\n",
       "    <tr>\n",
       "      <th>research organisation</th>\n",
       "      <td>3</td>\n",
       "      <td>2</td>\n",
       "    </tr>\n",
       "    <tr>\n",
       "      <th>scientific organisation</th>\n",
       "      <td>1</td>\n",
       "      <td>0</td>\n",
       "    </tr>\n",
       "    <tr>\n",
       "      <th>university</th>\n",
       "      <td>581</td>\n",
       "      <td>45</td>\n",
       "    </tr>\n",
       "  </tbody>\n",
       "</table>\n",
       "</div>"
      ],
      "text/plain": [
       "relaType                     education  employment\n",
       "orgMainType                                       \n",
       "educational institution            884          15\n",
       "institute of technology             92          11\n",
       "learned society                     47           0\n",
       "not classified organisation         11           2\n",
       "private university                 135          16\n",
       "public university                  136          15\n",
       "research facility                    4           0\n",
       "research organisation                3           2\n",
       "scientific organisation              1           0\n",
       "university                         581          45"
      ]
     },
     "execution_count": 129,
     "metadata": {},
     "output_type": "execute_result"
    }
   ],
   "source": [
    "ct_wm = ddf.iloc[:-1,:-1].copy(deep=True)\n",
    "ct_wm"
   ]
  },
  {
   "cell_type": "code",
   "execution_count": 130,
   "metadata": {
    "execution": {
     "iopub.execute_input": "2025-05-24T14:03:47.406386Z",
     "iopub.status.busy": "2025-05-24T14:03:47.405266Z",
     "iopub.status.idle": "2025-05-24T14:03:47.424705Z",
     "shell.execute_reply": "2025-05-24T14:03:47.422427Z",
     "shell.execute_reply.started": "2025-05-24T14:03:47.406299Z"
    }
   },
   "outputs": [
    {
     "name": "stdout",
     "output_type": "stream",
     "text": [
      "Chi2 : 66.45 , dof : 9\n",
      "p-value : 7.544053276861225e-11\n",
      "phi2 = inertie (variance totale) : 0.03322291268090987\n",
      "Cramer:  0.18227153557511352\n"
     ]
    }
   ],
   "source": [
    "### We observe a strong relationship between these two variables\n",
    "\n",
    "bivariee_stats(ct_wm)"
   ]
  },
  {
   "cell_type": "code",
   "execution_count": 131,
   "metadata": {
    "execution": {
     "iopub.execute_input": "2025-05-24T14:03:47.957548Z",
     "iopub.status.busy": "2025-05-24T14:03:47.954428Z",
     "iopub.status.idle": "2025-05-24T14:03:48.361838Z",
     "shell.execute_reply": "2025-05-24T14:03:48.360782Z",
     "shell.execute_reply.started": "2025-05-24T14:03:47.957457Z"
    }
   },
   "outputs": [
    {
     "data": {
      "image/png": "[encoded data removed]",
      "text/plain": [
       "<Figure size 500x800 with 2 Axes>"
      ]
     },
     "metadata": {},
     "output_type": "display_data"
    }
   ],
   "source": [
    "pp = plot_chi2_residuals(ct_wm, figsize=(5, 8))"
   ]
  },
  {
   "cell_type": "markdown",
   "metadata": {},
   "source": [
    "#### Comment\n",
    "\n",
    "As said, we observe a strong relationship between these two variables which is explained by the fact that not all organisations types are concerned by the same relationship types\n",
    "\n",
    "We also observe that some values should be corrected, like memberships in technical organisations that should be employments.\n",
    "\n",
    "See the following example"
   ]
  },
  {
   "cell_type": "code",
   "execution_count": 132,
   "metadata": {
    "execution": {
     "iopub.execute_input": "2025-05-24T14:03:49.649826Z",
     "iopub.status.busy": "2025-05-24T14:03:49.648956Z",
     "iopub.status.idle": "2025-05-24T14:03:49.674987Z",
     "shell.execute_reply": "2025-05-24T14:03:49.672697Z",
     "shell.execute_reply.started": "2025-05-24T14:03:49.649749Z"
    }
   },
   "outputs": [
    {
     "name": "stdout",
     "output_type": "stream",
     "text": [
      "[('uriPer', Series([], Name: uriPer, dtype: object)),\n",
      " ('labelPer', Series([], Name: labelPer, dtype: object)),\n",
      " ('birthYear', Series([], Name: birthYear, dtype: int64)),\n",
      " ('relaType', Series([], Name: relaType, dtype: object)),\n",
      " ('uriOrg', Series([], Name: uriOrg, dtype: object)),\n",
      " ('labelOrg', Series([], Name: labelOrg, dtype: object))]\n"
     ]
    }
   ],
   "source": [
    "pprint.pprint(list(df_p.loc[df_p.orgMainType.str.contains('techno') & df_p.relaType.str.contains('memb') ].items())[:6])"
   ]
  },
  {
   "cell_type": "markdown",
   "metadata": {},
   "source": [
    "### Explore contingency table of relationships to organisations : periods, types of organisations"
   ]
  },
  {
   "cell_type": "code",
   "execution_count": 133,
   "metadata": {
    "execution": {
     "iopub.execute_input": "2025-05-24T14:03:52.366118Z",
     "iopub.status.busy": "2025-05-24T14:03:52.363646Z",
     "iopub.status.idle": "2025-05-24T14:03:52.423192Z",
     "shell.execute_reply": "2025-05-24T14:03:52.421935Z",
     "shell.execute_reply.started": "2025-05-24T14:03:52.366034Z"
    }
   },
   "outputs": [
    {
     "data": {
      "text/html": [
       "<div>\n",
       "<style scoped>\n",
       "    .dataframe tbody tr th:only-of-type {\n",
       "        vertical-align: middle;\n",
       "    }\n",
       "\n",
       "    .dataframe tbody tr th {\n",
       "        vertical-align: top;\n",
       "    }\n",
       "\n",
       "    .dataframe thead th {\n",
       "        text-align: right;\n",
       "    }\n",
       "</style>\n",
       "<table border=\"1\" class=\"dataframe\">\n",
       "  <thead>\n",
       "    <tr style=\"text-align: right;\">\n",
       "      <th>periods</th>\n",
       "      <th>1901-1920</th>\n",
       "      <th>1921-1940</th>\n",
       "      <th>1941-1960</th>\n",
       "      <th>1961-1980</th>\n",
       "      <th>1981-2000</th>\n",
       "      <th>Total</th>\n",
       "    </tr>\n",
       "    <tr>\n",
       "      <th>orgMainType</th>\n",
       "      <th></th>\n",
       "      <th></th>\n",
       "      <th></th>\n",
       "      <th></th>\n",
       "      <th></th>\n",
       "      <th></th>\n",
       "    </tr>\n",
       "  </thead>\n",
       "  <tbody>\n",
       "    <tr>\n",
       "      <th>educational institution</th>\n",
       "      <td>2</td>\n",
       "      <td>240</td>\n",
       "      <td>397</td>\n",
       "      <td>223</td>\n",
       "      <td>37</td>\n",
       "      <td>899</td>\n",
       "    </tr>\n",
       "    <tr>\n",
       "      <th>institute of technology</th>\n",
       "      <td>0</td>\n",
       "      <td>20</td>\n",
       "      <td>42</td>\n",
       "      <td>29</td>\n",
       "      <td>12</td>\n",
       "      <td>103</td>\n",
       "    </tr>\n",
       "    <tr>\n",
       "      <th>learned society</th>\n",
       "      <td>0</td>\n",
       "      <td>1</td>\n",
       "      <td>34</td>\n",
       "      <td>10</td>\n",
       "      <td>2</td>\n",
       "      <td>47</td>\n",
       "    </tr>\n",
       "    <tr>\n",
       "      <th>not classified organisation</th>\n",
       "      <td>0</td>\n",
       "      <td>3</td>\n",
       "      <td>5</td>\n",
       "      <td>4</td>\n",
       "      <td>1</td>\n",
       "      <td>13</td>\n",
       "    </tr>\n",
       "    <tr>\n",
       "      <th>private university</th>\n",
       "      <td>0</td>\n",
       "      <td>30</td>\n",
       "      <td>79</td>\n",
       "      <td>31</td>\n",
       "      <td>11</td>\n",
       "      <td>151</td>\n",
       "    </tr>\n",
       "    <tr>\n",
       "      <th>public university</th>\n",
       "      <td>0</td>\n",
       "      <td>16</td>\n",
       "      <td>76</td>\n",
       "      <td>43</td>\n",
       "      <td>16</td>\n",
       "      <td>151</td>\n",
       "    </tr>\n",
       "    <tr>\n",
       "      <th>research facility</th>\n",
       "      <td>0</td>\n",
       "      <td>0</td>\n",
       "      <td>2</td>\n",
       "      <td>1</td>\n",
       "      <td>1</td>\n",
       "      <td>4</td>\n",
       "    </tr>\n",
       "    <tr>\n",
       "      <th>research organisation</th>\n",
       "      <td>0</td>\n",
       "      <td>1</td>\n",
       "      <td>1</td>\n",
       "      <td>1</td>\n",
       "      <td>2</td>\n",
       "      <td>5</td>\n",
       "    </tr>\n",
       "    <tr>\n",
       "      <th>scientific organisation</th>\n",
       "      <td>0</td>\n",
       "      <td>0</td>\n",
       "      <td>1</td>\n",
       "      <td>0</td>\n",
       "      <td>0</td>\n",
       "      <td>1</td>\n",
       "    </tr>\n",
       "    <tr>\n",
       "      <th>university</th>\n",
       "      <td>2</td>\n",
       "      <td>123</td>\n",
       "      <td>307</td>\n",
       "      <td>145</td>\n",
       "      <td>49</td>\n",
       "      <td>626</td>\n",
       "    </tr>\n",
       "    <tr>\n",
       "      <th>Total</th>\n",
       "      <td>4</td>\n",
       "      <td>434</td>\n",
       "      <td>944</td>\n",
       "      <td>487</td>\n",
       "      <td>131</td>\n",
       "      <td>2000</td>\n",
       "    </tr>\n",
       "  </tbody>\n",
       "</table>\n",
       "</div>"
      ],
      "text/plain": [
       "periods                      1901-1920  1921-1940  1941-1960  1961-1980  \\\n",
       "orgMainType                                                               \n",
       "educational institution              2        240        397        223   \n",
       "institute of technology              0         20         42         29   \n",
       "learned society                      0          1         34         10   \n",
       "not classified organisation          0          3          5          4   \n",
       "private university                   0         30         79         31   \n",
       "public university                    0         16         76         43   \n",
       "research facility                    0          0          2          1   \n",
       "research organisation                0          1          1          1   \n",
       "scientific organisation              0          0          1          0   \n",
       "university                           2        123        307        145   \n",
       "Total                                4        434        944        487   \n",
       "\n",
       "periods                      1981-2000  Total  \n",
       "orgMainType                                    \n",
       "educational institution             37    899  \n",
       "institute of technology             12    103  \n",
       "learned society                      2     47  \n",
       "not classified organisation          1     13  \n",
       "private university                  11    151  \n",
       "public university                   16    151  \n",
       "research facility                    1      4  \n",
       "research organisation                2      5  \n",
       "scientific organisation              0      1  \n",
       "university                          49    626  \n",
       "Total                              131   2000  "
      ]
     },
     "execution_count": 133,
     "metadata": {},
     "output_type": "execute_result"
    }
   ],
   "source": [
    "\n",
    "\n",
    "### Contingency table\n",
    "X = 'periods'\n",
    "Y = 'orgMainType'  \n",
    "\n",
    "ddf = df_prep[[X,Y]].pivot_table(index=Y,columns=X,observed=True, aggfunc=len,margins=True,margins_name=\"Total\").fillna(0).astype(int)\n",
    "ddf\n",
    "\n"
   ]
  },
  {
   "cell_type": "code",
   "execution_count": 134,
   "metadata": {
    "execution": {
     "iopub.execute_input": "2025-05-24T14:03:53.045949Z",
     "iopub.status.busy": "2025-05-24T14:03:53.045047Z",
     "iopub.status.idle": "2025-05-24T14:03:53.057762Z",
     "shell.execute_reply": "2025-05-24T14:03:53.055292Z",
     "shell.execute_reply.started": "2025-05-24T14:03:53.045835Z"
    }
   },
   "outputs": [],
   "source": [
    "ct_wm = ddf.iloc[:-1,:-1].copy(deep=True)"
   ]
  },
  {
   "cell_type": "code",
   "execution_count": 135,
   "metadata": {
    "execution": {
     "iopub.execute_input": "2025-05-24T14:03:53.614668Z",
     "iopub.status.busy": "2025-05-24T14:03:53.613618Z",
     "iopub.status.idle": "2025-05-24T14:03:53.631381Z",
     "shell.execute_reply": "2025-05-24T14:03:53.629439Z",
     "shell.execute_reply.started": "2025-05-24T14:03:53.614587Z"
    }
   },
   "outputs": [
    {
     "name": "stdout",
     "output_type": "stream",
     "text": [
      "Chi2 : 76.05 , dof : 36\n",
      "p-value : 0.00010935367803198431\n",
      "phi2 = inertie (variance totale) : 0.038026223796657314\n",
      "Cramer:  0.09750156895744976\n"
     ]
    }
   ],
   "source": [
    "### We observe some not so strong relationship between these two variables\n",
    "bivariee_stats(ct_wm)"
   ]
  },
  {
   "cell_type": "code",
   "execution_count": 136,
   "metadata": {
    "execution": {
     "iopub.execute_input": "2025-05-24T14:03:54.088631Z",
     "iopub.status.busy": "2025-05-24T14:03:54.086746Z",
     "iopub.status.idle": "2025-05-24T14:03:54.537475Z",
     "shell.execute_reply": "2025-05-24T14:03:54.536297Z",
     "shell.execute_reply.started": "2025-05-24T14:03:54.088550Z"
    }
   },
   "outputs": [
    {
     "data": {
      "image/png": "[encoded data removed]",
      "text/plain": [
       "<Figure size 800x800 with 2 Axes>"
      ]
     },
     "metadata": {},
     "output_type": "display_data"
    }
   ],
   "source": [
    "pp = plot_chi2_residuals(ct_wm, figsize=(8, 8))"
   ]
  },
  {
   "cell_type": "markdown",
   "metadata": {},
   "source": [
    "### Explore contingency table of relationships to organisations : periods, types of relationships"
   ]
  },
  {
   "cell_type": "code",
   "execution_count": 137,
   "metadata": {
    "execution": {
     "iopub.execute_input": "2025-05-24T14:03:55.650852Z",
     "iopub.status.busy": "2025-05-24T14:03:55.649916Z",
     "iopub.status.idle": "2025-05-24T14:03:55.697498Z",
     "shell.execute_reply": "2025-05-24T14:03:55.695986Z",
     "shell.execute_reply.started": "2025-05-24T14:03:55.650772Z"
    }
   },
   "outputs": [
    {
     "data": {
      "text/html": [
       "<div>\n",
       "<style scoped>\n",
       "    .dataframe tbody tr th:only-of-type {\n",
       "        vertical-align: middle;\n",
       "    }\n",
       "\n",
       "    .dataframe tbody tr th {\n",
       "        vertical-align: top;\n",
       "    }\n",
       "\n",
       "    .dataframe thead th {\n",
       "        text-align: right;\n",
       "    }\n",
       "</style>\n",
       "<table border=\"1\" class=\"dataframe\">\n",
       "  <thead>\n",
       "    <tr style=\"text-align: right;\">\n",
       "      <th>periods</th>\n",
       "      <th>1901-1920</th>\n",
       "      <th>1921-1940</th>\n",
       "      <th>1941-1960</th>\n",
       "      <th>1961-1980</th>\n",
       "      <th>1981-2000</th>\n",
       "      <th>Total</th>\n",
       "    </tr>\n",
       "    <tr>\n",
       "      <th>relaType</th>\n",
       "      <th></th>\n",
       "      <th></th>\n",
       "      <th></th>\n",
       "      <th></th>\n",
       "      <th></th>\n",
       "      <th></th>\n",
       "    </tr>\n",
       "  </thead>\n",
       "  <tbody>\n",
       "    <tr>\n",
       "      <th>education</th>\n",
       "      <td>4</td>\n",
       "      <td>419</td>\n",
       "      <td>875</td>\n",
       "      <td>474</td>\n",
       "      <td>122</td>\n",
       "      <td>1894</td>\n",
       "    </tr>\n",
       "    <tr>\n",
       "      <th>employment</th>\n",
       "      <td>0</td>\n",
       "      <td>15</td>\n",
       "      <td>69</td>\n",
       "      <td>13</td>\n",
       "      <td>9</td>\n",
       "      <td>106</td>\n",
       "    </tr>\n",
       "    <tr>\n",
       "      <th>Total</th>\n",
       "      <td>4</td>\n",
       "      <td>434</td>\n",
       "      <td>944</td>\n",
       "      <td>487</td>\n",
       "      <td>131</td>\n",
       "      <td>2000</td>\n",
       "    </tr>\n",
       "  </tbody>\n",
       "</table>\n",
       "</div>"
      ],
      "text/plain": [
       "periods     1901-1920  1921-1940  1941-1960  1961-1980  1981-2000  Total\n",
       "relaType                                                                \n",
       "education           4        419        875        474        122   1894\n",
       "employment          0         15         69         13          9    106\n",
       "Total               4        434        944        487        131   2000"
      ]
     },
     "execution_count": 137,
     "metadata": {},
     "output_type": "execute_result"
    }
   ],
   "source": [
    "\n",
    "\n",
    "### Contingency table\n",
    "X = 'periods'\n",
    "Y = 'relaType'  \n",
    "\n",
    "ddf = df_prep[[X,Y]].pivot_table(index=Y,columns=X,observed=True, aggfunc=len,margins=True,margins_name=\"Total\").fillna(0).astype(int)\n",
    "ddf\n",
    "\n"
   ]
  },
  {
   "cell_type": "code",
   "execution_count": 138,
   "metadata": {
    "execution": {
     "iopub.execute_input": "2025-05-24T14:03:56.849014Z",
     "iopub.status.busy": "2025-05-24T14:03:56.848177Z",
     "iopub.status.idle": "2025-05-24T14:03:56.867668Z",
     "shell.execute_reply": "2025-05-24T14:03:56.861815Z",
     "shell.execute_reply.started": "2025-05-24T14:03:56.848949Z"
    }
   },
   "outputs": [],
   "source": [
    "ct_wm = ddf.iloc[:-1,:-1].copy(deep=True)"
   ]
  },
  {
   "cell_type": "code",
   "execution_count": 139,
   "metadata": {
    "execution": {
     "iopub.execute_input": "2025-05-24T14:03:57.592355Z",
     "iopub.status.busy": "2025-05-24T14:03:57.591370Z",
     "iopub.status.idle": "2025-05-24T14:03:57.609776Z",
     "shell.execute_reply": "2025-05-24T14:03:57.607668Z",
     "shell.execute_reply.started": "2025-05-24T14:03:57.592274Z"
    }
   },
   "outputs": [
    {
     "name": "stdout",
     "output_type": "stream",
     "text": [
      "Chi2 : 18.11 , dof : 4\n",
      "p-value : 0.0011718530738446663\n",
      "phi2 = inertie (variance totale) : 0.009057486213358468\n",
      "Cramer:  0.09517082648248079\n"
     ]
    }
   ],
   "source": [
    "### We observe a relationship between these two variables, \n",
    "# not so strong \n",
    "bivariee_stats(ct_wm)"
   ]
  },
  {
   "cell_type": "code",
   "execution_count": 140,
   "metadata": {
    "execution": {
     "iopub.execute_input": "2025-05-24T14:03:58.138013Z",
     "iopub.status.busy": "2025-05-24T14:03:58.135268Z",
     "iopub.status.idle": "2025-05-24T14:03:58.446629Z",
     "shell.execute_reply": "2025-05-24T14:03:58.444007Z",
     "shell.execute_reply.started": "2025-05-24T14:03:58.137819Z"
    }
   },
   "outputs": [
    {
     "data": {
      "image/png": "[encoded data removed]",
      "text/plain": [
       "<Figure size 800x400 with 2 Axes>"
      ]
     },
     "metadata": {},
     "output_type": "display_data"
    }
   ],
   "source": [
    "pp = plot_chi2_residuals(ct_wm, figsize=(8, 4))"
   ]
  },
  {
   "cell_type": "markdown",
   "metadata": {},
   "source": [
    "## Prepare graph\n",
    "\n",
    "\n",
    "In a heuristic perspective we take the persons as representing relationships among organisations.\n",
    "\n",
    "Of course these relations are limited in time and with different meaning but in this general inspection of the field, we consider all the relationship. Filters are introduced later on.\n",
    "\n",
    "We will create a projection of the graph on organisations and keep in a first stage all relationships, with types and periods, one per relationship, where the joining elements are those concerning uniquely the person"
   ]
  },
  {
   "cell_type": "code",
   "execution_count": 141,
   "metadata": {
    "execution": {
     "iopub.execute_input": "2025-05-24T14:04:00.091897Z",
     "iopub.status.busy": "2025-05-24T14:04:00.090317Z",
     "iopub.status.idle": "2025-05-24T14:04:00.120708Z",
     "shell.execute_reply": "2025-05-24T14:04:00.118228Z",
     "shell.execute_reply.started": "2025-05-24T14:04:00.091778Z"
    }
   },
   "outputs": [
    {
     "name": "stdout",
     "output_type": "stream",
     "text": [
      "7236\n"
     ]
    }
   ],
   "source": [
    "### Join on common organisation -> produces a lot of rows !\n",
    "merged = pd.merge(df_prep, df_prep, on=['uriPer','labelPer','birthYear', 'periods'])\n",
    "print(len(merged))\n"
   ]
  },
  {
   "cell_type": "code",
   "execution_count": 142,
   "metadata": {
    "execution": {
     "iopub.execute_input": "2025-05-24T14:04:00.668490Z",
     "iopub.status.busy": "2025-05-24T14:04:00.667573Z",
     "iopub.status.idle": "2025-05-24T14:04:00.686270Z",
     "shell.execute_reply": "2025-05-24T14:04:00.684059Z",
     "shell.execute_reply.started": "2025-05-24T14:04:00.668414Z"
    }
   },
   "outputs": [],
   "source": [
    "### Eliminate double rows :relationship A-B but relationship B-A\n",
    "merged = merged[merged['uriOrg_x'] < (merged['uriOrg_y'])]\n"
   ]
  },
  {
   "cell_type": "code",
   "execution_count": 143,
   "metadata": {
    "execution": {
     "iopub.execute_input": "2025-05-24T14:04:01.173236Z",
     "iopub.status.busy": "2025-05-24T14:04:01.171057Z",
     "iopub.status.idle": "2025-05-24T14:04:01.205477Z",
     "shell.execute_reply": "2025-05-24T14:04:01.204210Z",
     "shell.execute_reply.started": "2025-05-24T14:04:01.173152Z"
    }
   },
   "outputs": [
    {
     "name": "stdout",
     "output_type": "stream",
     "text": [
      "2571\n",
      "['uriPer', 'labelPer', 'birthYear', 'uriOrg_x', 'labelOrg_x', 'typesOrg_x', 'orgMainType_x', 'relaType_x', 'periods', 'uriOrg_y', 'labelOrg_y', 'typesOrg_y', 'orgMainType_y', 'relaType_y']\n"
     ]
    },
    {
     "data": {
      "text/html": [
       "<div>\n",
       "<style scoped>\n",
       "    .dataframe tbody tr th:only-of-type {\n",
       "        vertical-align: middle;\n",
       "    }\n",
       "\n",
       "    .dataframe tbody tr th {\n",
       "        vertical-align: top;\n",
       "    }\n",
       "\n",
       "    .dataframe thead th {\n",
       "        text-align: right;\n",
       "    }\n",
       "</style>\n",
       "<table border=\"1\" class=\"dataframe\">\n",
       "  <thead>\n",
       "    <tr style=\"text-align: right;\">\n",
       "      <th></th>\n",
       "      <th>uriPer</th>\n",
       "      <th>labelPer</th>\n",
       "      <th>birthYear</th>\n",
       "      <th>uriOrg_x</th>\n",
       "      <th>labelOrg_x</th>\n",
       "      <th>typesOrg_x</th>\n",
       "      <th>orgMainType_x</th>\n",
       "      <th>relaType_x</th>\n",
       "      <th>periods</th>\n",
       "      <th>uriOrg_y</th>\n",
       "      <th>labelOrg_y</th>\n",
       "      <th>typesOrg_y</th>\n",
       "      <th>orgMainType_y</th>\n",
       "      <th>relaType_y</th>\n",
       "    </tr>\n",
       "  </thead>\n",
       "  <tbody>\n",
       "    <tr>\n",
       "      <th>299</th>\n",
       "      <td>http://www.wikidata.org/entity/Q109968497</td>\n",
       "      <td>Luke Delaney</td>\n",
       "      <td>1979</td>\n",
       "      <td>http://www.wikidata.org/entity/Q1515048</td>\n",
       "      <td>Naval Postgraduate School</td>\n",
       "      <td>military university | open-access publisher | ...</td>\n",
       "      <td>university</td>\n",
       "      <td>education</td>\n",
       "      <td>1961-1980</td>\n",
       "      <td>http://www.wikidata.org/entity/Q7715757</td>\n",
       "      <td>The Basic School</td>\n",
       "      <td>census-designated place in the united states |...</td>\n",
       "      <td>educational institution</td>\n",
       "      <td>education</td>\n",
       "    </tr>\n",
       "    <tr>\n",
       "      <th>301</th>\n",
       "      <td>http://www.wikidata.org/entity/Q109968497</td>\n",
       "      <td>Luke Delaney</td>\n",
       "      <td>1979</td>\n",
       "      <td>http://www.wikidata.org/entity/Q1515048</td>\n",
       "      <td>Naval Postgraduate School</td>\n",
       "      <td>military university | open-access publisher | ...</td>\n",
       "      <td>university</td>\n",
       "      <td>education</td>\n",
       "      <td>1961-1980</td>\n",
       "      <td>http://www.wikidata.org/entity/Q6764126</td>\n",
       "      <td>Marine Corps University</td>\n",
       "      <td>staff college | university</td>\n",
       "      <td>university</td>\n",
       "      <td>education</td>\n",
       "    </tr>\n",
       "    <tr>\n",
       "      <th>305</th>\n",
       "      <td>http://www.wikidata.org/entity/Q109968900</td>\n",
       "      <td>Jack Hathaway</td>\n",
       "      <td>1982</td>\n",
       "      <td>http://www.wikidata.org/entity/Q3428915</td>\n",
       "      <td>Empire Test Pilots' School</td>\n",
       "      <td>educational institution | flight school</td>\n",
       "      <td>educational institution</td>\n",
       "      <td>education</td>\n",
       "      <td>1981-2000</td>\n",
       "      <td>http://www.wikidata.org/entity/Q7568951</td>\n",
       "      <td>South Windsor High School</td>\n",
       "      <td>high school</td>\n",
       "      <td>educational institution</td>\n",
       "      <td>education</td>\n",
       "    </tr>\n",
       "    <tr>\n",
       "      <th>306</th>\n",
       "      <td>http://www.wikidata.org/entity/Q109968900</td>\n",
       "      <td>Jack Hathaway</td>\n",
       "      <td>1982</td>\n",
       "      <td>http://www.wikidata.org/entity/Q3428915</td>\n",
       "      <td>Empire Test Pilots' School</td>\n",
       "      <td>educational institution | flight school</td>\n",
       "      <td>educational institution</td>\n",
       "      <td>education</td>\n",
       "      <td>1981-2000</td>\n",
       "      <td>http://www.wikidata.org/entity/Q559549</td>\n",
       "      <td>United States Naval Academy</td>\n",
       "      <td>census-designated place in the united states |...</td>\n",
       "      <td>educational institution</td>\n",
       "      <td>education</td>\n",
       "    </tr>\n",
       "  </tbody>\n",
       "</table>\n",
       "</div>"
      ],
      "text/plain": [
       "                                        uriPer       labelPer  birthYear  \\\n",
       "299  http://www.wikidata.org/entity/Q109968497   Luke Delaney       1979   \n",
       "301  http://www.wikidata.org/entity/Q109968497   Luke Delaney       1979   \n",
       "305  http://www.wikidata.org/entity/Q109968900  Jack Hathaway       1982   \n",
       "306  http://www.wikidata.org/entity/Q109968900  Jack Hathaway       1982   \n",
       "\n",
       "                                    uriOrg_x                  labelOrg_x  \\\n",
       "299  http://www.wikidata.org/entity/Q1515048   Naval Postgraduate School   \n",
       "301  http://www.wikidata.org/entity/Q1515048   Naval Postgraduate School   \n",
       "305  http://www.wikidata.org/entity/Q3428915  Empire Test Pilots' School   \n",
       "306  http://www.wikidata.org/entity/Q3428915  Empire Test Pilots' School   \n",
       "\n",
       "                                            typesOrg_x  \\\n",
       "299  military university | open-access publisher | ...   \n",
       "301  military university | open-access publisher | ...   \n",
       "305            educational institution | flight school   \n",
       "306            educational institution | flight school   \n",
       "\n",
       "               orgMainType_x relaType_x    periods  \\\n",
       "299               university  education  1961-1980   \n",
       "301               university  education  1961-1980   \n",
       "305  educational institution  education  1981-2000   \n",
       "306  educational institution  education  1981-2000   \n",
       "\n",
       "                                    uriOrg_y                   labelOrg_y  \\\n",
       "299  http://www.wikidata.org/entity/Q7715757             The Basic School   \n",
       "301  http://www.wikidata.org/entity/Q6764126      Marine Corps University   \n",
       "305  http://www.wikidata.org/entity/Q7568951    South Windsor High School   \n",
       "306   http://www.wikidata.org/entity/Q559549  United States Naval Academy   \n",
       "\n",
       "                                            typesOrg_y  \\\n",
       "299  census-designated place in the united states |...   \n",
       "301                         staff college | university   \n",
       "305                                        high school   \n",
       "306  census-designated place in the united states |...   \n",
       "\n",
       "               orgMainType_y relaType_y  \n",
       "299  educational institution  education  \n",
       "301               university  education  \n",
       "305  educational institution  education  \n",
       "306  educational institution  education  "
      ]
     },
     "execution_count": 143,
     "metadata": {},
     "output_type": "execute_result"
    }
   ],
   "source": [
    "### Inspect\n",
    "print(len(merged))\n",
    "print(list(merged.columns))\n",
    "merged.iloc[110:114]"
   ]
  },
  {
   "cell_type": "code",
   "execution_count": 144,
   "metadata": {
    "execution": {
     "iopub.execute_input": "2025-05-24T14:04:01.797420Z",
     "iopub.status.busy": "2025-05-24T14:04:01.795100Z",
     "iopub.status.idle": "2025-05-24T14:04:01.812011Z",
     "shell.execute_reply": "2025-05-24T14:04:01.809746Z",
     "shell.execute_reply.started": "2025-05-24T14:04:01.797334Z"
    }
   },
   "outputs": [
    {
     "name": "stdout",
     "output_type": "stream",
     "text": [
      "relaType\n",
      "education     1894\n",
      "employment     106\n",
      "dtype: int64\n"
     ]
    }
   ],
   "source": [
    "### Available ORIGINAL relationships\n",
    "print(df_p.groupby(by='relaType').size())"
   ]
  },
  {
   "cell_type": "code",
   "execution_count": 145,
   "metadata": {
    "execution": {
     "iopub.execute_input": "2025-05-24T14:04:02.276449Z",
     "iopub.status.busy": "2025-05-24T14:04:02.275614Z",
     "iopub.status.idle": "2025-05-24T14:04:02.303894Z",
     "shell.execute_reply": "2025-05-24T14:04:02.302528Z",
     "shell.execute_reply.started": "2025-05-24T14:04:02.276380Z"
    }
   },
   "outputs": [
    {
     "data": {
      "text/html": [
       "<div>\n",
       "<style scoped>\n",
       "    .dataframe tbody tr th:only-of-type {\n",
       "        vertical-align: middle;\n",
       "    }\n",
       "\n",
       "    .dataframe tbody tr th {\n",
       "        vertical-align: top;\n",
       "    }\n",
       "\n",
       "    .dataframe thead th {\n",
       "        text-align: right;\n",
       "    }\n",
       "</style>\n",
       "<table border=\"1\" class=\"dataframe\">\n",
       "  <thead>\n",
       "    <tr style=\"text-align: right;\">\n",
       "      <th></th>\n",
       "      <th>relaType_x</th>\n",
       "      <th>relaType_y</th>\n",
       "      <th>size</th>\n",
       "    </tr>\n",
       "  </thead>\n",
       "  <tbody>\n",
       "    <tr>\n",
       "      <th>0</th>\n",
       "      <td>education</td>\n",
       "      <td>education</td>\n",
       "      <td>2303</td>\n",
       "    </tr>\n",
       "    <tr>\n",
       "      <th>1</th>\n",
       "      <td>education</td>\n",
       "      <td>employment</td>\n",
       "      <td>124</td>\n",
       "    </tr>\n",
       "    <tr>\n",
       "      <th>2</th>\n",
       "      <td>employment</td>\n",
       "      <td>education</td>\n",
       "      <td>123</td>\n",
       "    </tr>\n",
       "    <tr>\n",
       "      <th>3</th>\n",
       "      <td>employment</td>\n",
       "      <td>employment</td>\n",
       "      <td>21</td>\n",
       "    </tr>\n",
       "  </tbody>\n",
       "</table>\n",
       "</div>"
      ],
      "text/plain": [
       "   relaType_x  relaType_y  size\n",
       "0   education   education  2303\n",
       "1   education  employment   124\n",
       "2  employment   education   123\n",
       "3  employment  employment    21"
      ]
     },
     "execution_count": 145,
     "metadata": {},
     "output_type": "execute_result"
    }
   ],
   "source": [
    "### Number of relationships per type prepared for graph\n",
    "gl_relaType = merged.groupby(['relaType_x', 'relaType_y'], as_index=False).size().sort_values(by='size', ascending=False)\n",
    "\n",
    "gl_relaType\n"
   ]
  },
  {
   "cell_type": "markdown",
   "metadata": {},
   "source": [
    "### Swap values in order to have the same orientation for all relationships"
   ]
  },
  {
   "cell_type": "code",
   "execution_count": 146,
   "metadata": {
    "execution": {
     "iopub.execute_input": "2025-05-24T14:04:03.586060Z",
     "iopub.status.busy": "2025-05-24T14:04:03.585047Z",
     "iopub.status.idle": "2025-05-24T14:04:03.610334Z",
     "shell.execute_reply": "2025-05-24T14:04:03.608055Z",
     "shell.execute_reply.started": "2025-05-24T14:04:03.585978Z"
    }
   },
   "outputs": [
    {
     "name": "stdout",
     "output_type": "stream",
     "text": [
      "  column1 column2\n",
      "0       X       A\n",
      "1       Y       B\n",
      "2       Z       C\n",
      "3       W       D\n"
     ]
    }
   ],
   "source": [
    "### Example\n",
    "df = pd.DataFrame({\n",
    "    'column1': ['A', 'B', 'C', 'D'],\n",
    "    'column2': ['X', 'Y', 'Z', 'W']\n",
    "})\n",
    "\n",
    "condition = df['column1'] < df['column2']\n",
    "df.loc[condition, ['column1', 'column2']] = df.loc[condition, ['column2', 'column1']].values\n",
    "\n",
    "print(df)"
   ]
  },
  {
   "cell_type": "code",
   "execution_count": 147,
   "metadata": {
    "execution": {
     "iopub.execute_input": "2025-05-24T14:04:04.202466Z",
     "iopub.status.busy": "2025-05-24T14:04:04.200170Z",
     "iopub.status.idle": "2025-05-24T14:04:04.218312Z",
     "shell.execute_reply": "2025-05-24T14:04:04.215478Z",
     "shell.execute_reply.started": "2025-05-24T14:04:04.202348Z"
    }
   },
   "outputs": [],
   "source": [
    "condition = merged.relaType_x > merged.relaType_y"
   ]
  },
  {
   "cell_type": "code",
   "execution_count": 148,
   "metadata": {
    "execution": {
     "iopub.execute_input": "2025-05-24T14:04:04.705745Z",
     "iopub.status.busy": "2025-05-24T14:04:04.704642Z",
     "iopub.status.idle": "2025-05-24T14:04:04.731253Z",
     "shell.execute_reply": "2025-05-24T14:04:04.729230Z",
     "shell.execute_reply.started": "2025-05-24T14:04:04.705631Z"
    }
   },
   "outputs": [],
   "source": [
    "### Transpose under condition\n",
    "\n",
    "merged.loc[condition, \n",
    "    ['uriOrg_x','labelOrg_x','orgMainType_x','relaType_x', 'uriOrg_y','labelOrg_y','orgMainType_y','relaType_y']] = \\\n",
    "        merged.loc[condition,\n",
    "    ['uriOrg_y','labelOrg_y','orgMainType_y','relaType_y','uriOrg_x','labelOrg_x','orgMainType_x','relaType_x']].values"
   ]
  },
  {
   "cell_type": "code",
   "execution_count": 149,
   "metadata": {
    "execution": {
     "iopub.execute_input": "2025-05-24T14:04:05.266136Z",
     "iopub.status.busy": "2025-05-24T14:04:05.264096Z",
     "iopub.status.idle": "2025-05-24T14:04:05.303624Z",
     "shell.execute_reply": "2025-05-24T14:04:05.301728Z",
     "shell.execute_reply.started": "2025-05-24T14:04:05.266046Z"
    }
   },
   "outputs": [
    {
     "data": {
      "text/html": [
       "<div>\n",
       "<style scoped>\n",
       "    .dataframe tbody tr th:only-of-type {\n",
       "        vertical-align: middle;\n",
       "    }\n",
       "\n",
       "    .dataframe tbody tr th {\n",
       "        vertical-align: top;\n",
       "    }\n",
       "\n",
       "    .dataframe thead th {\n",
       "        text-align: right;\n",
       "    }\n",
       "</style>\n",
       "<table border=\"1\" class=\"dataframe\">\n",
       "  <thead>\n",
       "    <tr style=\"text-align: right;\">\n",
       "      <th></th>\n",
       "      <th>uriPer</th>\n",
       "      <th>labelPer</th>\n",
       "      <th>birthYear</th>\n",
       "      <th>uriOrg_x</th>\n",
       "      <th>labelOrg_x</th>\n",
       "      <th>typesOrg_x</th>\n",
       "      <th>orgMainType_x</th>\n",
       "      <th>relaType_x</th>\n",
       "      <th>periods</th>\n",
       "      <th>uriOrg_y</th>\n",
       "      <th>labelOrg_y</th>\n",
       "      <th>typesOrg_y</th>\n",
       "      <th>orgMainType_y</th>\n",
       "      <th>relaType_y</th>\n",
       "    </tr>\n",
       "  </thead>\n",
       "  <tbody>\n",
       "    <tr>\n",
       "      <th>299</th>\n",
       "      <td>http://www.wikidata.org/entity/Q109968497</td>\n",
       "      <td>Luke Delaney</td>\n",
       "      <td>1979</td>\n",
       "      <td>http://www.wikidata.org/entity/Q1515048</td>\n",
       "      <td>Naval Postgraduate School</td>\n",
       "      <td>military university | open-access publisher | ...</td>\n",
       "      <td>university</td>\n",
       "      <td>education</td>\n",
       "      <td>1961-1980</td>\n",
       "      <td>http://www.wikidata.org/entity/Q7715757</td>\n",
       "      <td>The Basic School</td>\n",
       "      <td>census-designated place in the united states |...</td>\n",
       "      <td>educational institution</td>\n",
       "      <td>education</td>\n",
       "    </tr>\n",
       "    <tr>\n",
       "      <th>301</th>\n",
       "      <td>http://www.wikidata.org/entity/Q109968497</td>\n",
       "      <td>Luke Delaney</td>\n",
       "      <td>1979</td>\n",
       "      <td>http://www.wikidata.org/entity/Q1515048</td>\n",
       "      <td>Naval Postgraduate School</td>\n",
       "      <td>military university | open-access publisher | ...</td>\n",
       "      <td>university</td>\n",
       "      <td>education</td>\n",
       "      <td>1961-1980</td>\n",
       "      <td>http://www.wikidata.org/entity/Q6764126</td>\n",
       "      <td>Marine Corps University</td>\n",
       "      <td>staff college | university</td>\n",
       "      <td>university</td>\n",
       "      <td>education</td>\n",
       "    </tr>\n",
       "    <tr>\n",
       "      <th>305</th>\n",
       "      <td>http://www.wikidata.org/entity/Q109968900</td>\n",
       "      <td>Jack Hathaway</td>\n",
       "      <td>1982</td>\n",
       "      <td>http://www.wikidata.org/entity/Q3428915</td>\n",
       "      <td>Empire Test Pilots' School</td>\n",
       "      <td>educational institution | flight school</td>\n",
       "      <td>educational institution</td>\n",
       "      <td>education</td>\n",
       "      <td>1981-2000</td>\n",
       "      <td>http://www.wikidata.org/entity/Q7568951</td>\n",
       "      <td>South Windsor High School</td>\n",
       "      <td>high school</td>\n",
       "      <td>educational institution</td>\n",
       "      <td>education</td>\n",
       "    </tr>\n",
       "    <tr>\n",
       "      <th>306</th>\n",
       "      <td>http://www.wikidata.org/entity/Q109968900</td>\n",
       "      <td>Jack Hathaway</td>\n",
       "      <td>1982</td>\n",
       "      <td>http://www.wikidata.org/entity/Q3428915</td>\n",
       "      <td>Empire Test Pilots' School</td>\n",
       "      <td>educational institution | flight school</td>\n",
       "      <td>educational institution</td>\n",
       "      <td>education</td>\n",
       "      <td>1981-2000</td>\n",
       "      <td>http://www.wikidata.org/entity/Q559549</td>\n",
       "      <td>United States Naval Academy</td>\n",
       "      <td>census-designated place in the united states |...</td>\n",
       "      <td>educational institution</td>\n",
       "      <td>education</td>\n",
       "    </tr>\n",
       "    <tr>\n",
       "      <th>307</th>\n",
       "      <td>http://www.wikidata.org/entity/Q109968900</td>\n",
       "      <td>Jack Hathaway</td>\n",
       "      <td>1982</td>\n",
       "      <td>http://www.wikidata.org/entity/Q3428915</td>\n",
       "      <td>Empire Test Pilots' School</td>\n",
       "      <td>educational institution | flight school</td>\n",
       "      <td>educational institution</td>\n",
       "      <td>education</td>\n",
       "      <td>1981-2000</td>\n",
       "      <td>http://www.wikidata.org/entity/Q575662</td>\n",
       "      <td>Naval War College</td>\n",
       "      <td>naval academy | staff college | university campus</td>\n",
       "      <td>university</td>\n",
       "      <td>education</td>\n",
       "    </tr>\n",
       "    <tr>\n",
       "      <th>308</th>\n",
       "      <td>http://www.wikidata.org/entity/Q109968900</td>\n",
       "      <td>Jack Hathaway</td>\n",
       "      <td>1982</td>\n",
       "      <td>http://www.wikidata.org/entity/Q181177</td>\n",
       "      <td>Cranfield University</td>\n",
       "      <td>educational organization | higher education in...</td>\n",
       "      <td>university</td>\n",
       "      <td>education</td>\n",
       "      <td>1981-2000</td>\n",
       "      <td>http://www.wikidata.org/entity/Q3428915</td>\n",
       "      <td>Empire Test Pilots' School</td>\n",
       "      <td>educational institution | flight school</td>\n",
       "      <td>educational institution</td>\n",
       "      <td>education</td>\n",
       "    </tr>\n",
       "    <tr>\n",
       "      <th>310</th>\n",
       "      <td>http://www.wikidata.org/entity/Q109968900</td>\n",
       "      <td>Jack Hathaway</td>\n",
       "      <td>1982</td>\n",
       "      <td>http://www.wikidata.org/entity/Q181177</td>\n",
       "      <td>Cranfield University</td>\n",
       "      <td>educational organization | higher education in...</td>\n",
       "      <td>university</td>\n",
       "      <td>education</td>\n",
       "      <td>1981-2000</td>\n",
       "      <td>http://www.wikidata.org/entity/Q7568951</td>\n",
       "      <td>South Windsor High School</td>\n",
       "      <td>high school</td>\n",
       "      <td>educational institution</td>\n",
       "      <td>education</td>\n",
       "    </tr>\n",
       "  </tbody>\n",
       "</table>\n",
       "</div>"
      ],
      "text/plain": [
       "                                        uriPer       labelPer  birthYear  \\\n",
       "299  http://www.wikidata.org/entity/Q109968497   Luke Delaney       1979   \n",
       "301  http://www.wikidata.org/entity/Q109968497   Luke Delaney       1979   \n",
       "305  http://www.wikidata.org/entity/Q109968900  Jack Hathaway       1982   \n",
       "306  http://www.wikidata.org/entity/Q109968900  Jack Hathaway       1982   \n",
       "307  http://www.wikidata.org/entity/Q109968900  Jack Hathaway       1982   \n",
       "308  http://www.wikidata.org/entity/Q109968900  Jack Hathaway       1982   \n",
       "310  http://www.wikidata.org/entity/Q109968900  Jack Hathaway       1982   \n",
       "\n",
       "                                    uriOrg_x                  labelOrg_x  \\\n",
       "299  http://www.wikidata.org/entity/Q1515048   Naval Postgraduate School   \n",
       "301  http://www.wikidata.org/entity/Q1515048   Naval Postgraduate School   \n",
       "305  http://www.wikidata.org/entity/Q3428915  Empire Test Pilots' School   \n",
       "306  http://www.wikidata.org/entity/Q3428915  Empire Test Pilots' School   \n",
       "307  http://www.wikidata.org/entity/Q3428915  Empire Test Pilots' School   \n",
       "308   http://www.wikidata.org/entity/Q181177        Cranfield University   \n",
       "310   http://www.wikidata.org/entity/Q181177        Cranfield University   \n",
       "\n",
       "                                            typesOrg_x  \\\n",
       "299  military university | open-access publisher | ...   \n",
       "301  military university | open-access publisher | ...   \n",
       "305            educational institution | flight school   \n",
       "306            educational institution | flight school   \n",
       "307            educational institution | flight school   \n",
       "308  educational organization | higher education in...   \n",
       "310  educational organization | higher education in...   \n",
       "\n",
       "               orgMainType_x relaType_x    periods  \\\n",
       "299               university  education  1961-1980   \n",
       "301               university  education  1961-1980   \n",
       "305  educational institution  education  1981-2000   \n",
       "306  educational institution  education  1981-2000   \n",
       "307  educational institution  education  1981-2000   \n",
       "308               university  education  1981-2000   \n",
       "310               university  education  1981-2000   \n",
       "\n",
       "                                    uriOrg_y                   labelOrg_y  \\\n",
       "299  http://www.wikidata.org/entity/Q7715757             The Basic School   \n",
       "301  http://www.wikidata.org/entity/Q6764126      Marine Corps University   \n",
       "305  http://www.wikidata.org/entity/Q7568951    South Windsor High School   \n",
       "306   http://www.wikidata.org/entity/Q559549  United States Naval Academy   \n",
       "307   http://www.wikidata.org/entity/Q575662            Naval War College   \n",
       "308  http://www.wikidata.org/entity/Q3428915   Empire Test Pilots' School   \n",
       "310  http://www.wikidata.org/entity/Q7568951    South Windsor High School   \n",
       "\n",
       "                                            typesOrg_y  \\\n",
       "299  census-designated place in the united states |...   \n",
       "301                         staff college | university   \n",
       "305                                        high school   \n",
       "306  census-designated place in the united states |...   \n",
       "307  naval academy | staff college | university campus   \n",
       "308            educational institution | flight school   \n",
       "310                                        high school   \n",
       "\n",
       "               orgMainType_y relaType_y  \n",
       "299  educational institution  education  \n",
       "301               university  education  \n",
       "305  educational institution  education  \n",
       "306  educational institution  education  \n",
       "307               university  education  \n",
       "308  educational institution  education  \n",
       "310  educational institution  education  "
      ]
     },
     "execution_count": 149,
     "metadata": {},
     "output_type": "execute_result"
    }
   ],
   "source": [
    "### Inspect\n",
    "\n",
    "merged.iloc[110:117]"
   ]
  },
  {
   "cell_type": "code",
   "execution_count": 150,
   "metadata": {
    "execution": {
     "iopub.execute_input": "2025-05-24T14:04:08.061025Z",
     "iopub.status.busy": "2025-05-24T14:04:08.059984Z",
     "iopub.status.idle": "2025-05-24T14:04:08.301363Z",
     "shell.execute_reply": "2025-05-24T14:04:08.299924Z",
     "shell.execute_reply.started": "2025-05-24T14:04:08.060939Z"
    }
   },
   "outputs": [
    {
     "data": {
      "text/html": [
       "<div>\n",
       "<style scoped>\n",
       "    .dataframe tbody tr th:only-of-type {\n",
       "        vertical-align: middle;\n",
       "    }\n",
       "\n",
       "    .dataframe tbody tr th {\n",
       "        vertical-align: top;\n",
       "    }\n",
       "\n",
       "    .dataframe thead th {\n",
       "        text-align: right;\n",
       "    }\n",
       "</style>\n",
       "<table border=\"1\" class=\"dataframe\">\n",
       "  <thead>\n",
       "    <tr style=\"text-align: right;\">\n",
       "      <th></th>\n",
       "      <th>relaType_x</th>\n",
       "      <th>relaType_y</th>\n",
       "      <th>size</th>\n",
       "    </tr>\n",
       "  </thead>\n",
       "  <tbody>\n",
       "    <tr>\n",
       "      <th>0</th>\n",
       "      <td>education</td>\n",
       "      <td>education</td>\n",
       "      <td>2303</td>\n",
       "    </tr>\n",
       "    <tr>\n",
       "      <th>1</th>\n",
       "      <td>education</td>\n",
       "      <td>employment</td>\n",
       "      <td>247</td>\n",
       "    </tr>\n",
       "    <tr>\n",
       "      <th>2</th>\n",
       "      <td>employment</td>\n",
       "      <td>employment</td>\n",
       "      <td>21</td>\n",
       "    </tr>\n",
       "  </tbody>\n",
       "</table>\n",
       "</div>"
      ],
      "text/plain": [
       "   relaType_x  relaType_y  size\n",
       "0   education   education  2303\n",
       "1   education  employment   247\n",
       "2  employment  employment    21"
      ]
     },
     "execution_count": 150,
     "metadata": {},
     "output_type": "execute_result"
    }
   ],
   "source": [
    "### Number of relationships per type prepared for graph\n",
    "gl_relaType = merged.groupby(['relaType_x', 'relaType_y'], as_index=False).size().sort_values(by='size', ascending=False)\n",
    "\n",
    "gl_relaType\n"
   ]
  },
  {
   "cell_type": "code",
   "execution_count": 151,
   "metadata": {
    "execution": {
     "iopub.execute_input": "2025-05-24T14:04:08.676383Z",
     "iopub.status.busy": "2025-05-24T14:04:08.674464Z",
     "iopub.status.idle": "2025-05-24T14:04:08.748495Z",
     "shell.execute_reply": "2025-05-24T14:04:08.747244Z",
     "shell.execute_reply.started": "2025-05-24T14:04:08.676300Z"
    }
   },
   "outputs": [],
   "source": [
    "### Concat relationships\n",
    "merged['relaType_concat'] = merged.apply(lambda x: x.relaType_x + '_' +x.relaType_y, axis=1)"
   ]
  },
  {
   "cell_type": "code",
   "execution_count": 152,
   "metadata": {
    "execution": {
     "iopub.execute_input": "2025-05-24T14:04:09.052063Z",
     "iopub.status.busy": "2025-05-24T14:04:09.050247Z",
     "iopub.status.idle": "2025-05-24T14:04:09.084469Z",
     "shell.execute_reply": "2025-05-24T14:04:09.083162Z",
     "shell.execute_reply.started": "2025-05-24T14:04:09.051984Z"
    }
   },
   "outputs": [
    {
     "name": "stdout",
     "output_type": "stream",
     "text": [
      "['uriPer', 'labelPer', 'birthYear', 'uriOrg_x', 'labelOrg_x', 'typesOrg_x', 'orgMainType_x', 'relaType_x', 'periods', 'uriOrg_y', 'labelOrg_y', 'typesOrg_y', 'orgMainType_y', 'relaType_y', 'relaType_concat']\n"
     ]
    },
    {
     "data": {
      "text/html": [
       "<div>\n",
       "<style scoped>\n",
       "    .dataframe tbody tr th:only-of-type {\n",
       "        vertical-align: middle;\n",
       "    }\n",
       "\n",
       "    .dataframe tbody tr th {\n",
       "        vertical-align: top;\n",
       "    }\n",
       "\n",
       "    .dataframe thead th {\n",
       "        text-align: right;\n",
       "    }\n",
       "</style>\n",
       "<table border=\"1\" class=\"dataframe\">\n",
       "  <thead>\n",
       "    <tr style=\"text-align: right;\">\n",
       "      <th></th>\n",
       "      <th>uriPer</th>\n",
       "      <th>labelPer</th>\n",
       "      <th>birthYear</th>\n",
       "      <th>uriOrg_x</th>\n",
       "      <th>labelOrg_x</th>\n",
       "      <th>typesOrg_x</th>\n",
       "      <th>orgMainType_x</th>\n",
       "      <th>relaType_x</th>\n",
       "      <th>periods</th>\n",
       "      <th>uriOrg_y</th>\n",
       "      <th>labelOrg_y</th>\n",
       "      <th>typesOrg_y</th>\n",
       "      <th>orgMainType_y</th>\n",
       "      <th>relaType_y</th>\n",
       "      <th>relaType_concat</th>\n",
       "    </tr>\n",
       "  </thead>\n",
       "  <tbody>\n",
       "    <tr>\n",
       "      <th>299</th>\n",
       "      <td>http://www.wikidata.org/entity/Q109968497</td>\n",
       "      <td>Luke Delaney</td>\n",
       "      <td>1979</td>\n",
       "      <td>http://www.wikidata.org/entity/Q1515048</td>\n",
       "      <td>Naval Postgraduate School</td>\n",
       "      <td>military university | open-access publisher | ...</td>\n",
       "      <td>university</td>\n",
       "      <td>education</td>\n",
       "      <td>1961-1980</td>\n",
       "      <td>http://www.wikidata.org/entity/Q7715757</td>\n",
       "      <td>The Basic School</td>\n",
       "      <td>census-designated place in the united states |...</td>\n",
       "      <td>educational institution</td>\n",
       "      <td>education</td>\n",
       "      <td>education_education</td>\n",
       "    </tr>\n",
       "    <tr>\n",
       "      <th>301</th>\n",
       "      <td>http://www.wikidata.org/entity/Q109968497</td>\n",
       "      <td>Luke Delaney</td>\n",
       "      <td>1979</td>\n",
       "      <td>http://www.wikidata.org/entity/Q1515048</td>\n",
       "      <td>Naval Postgraduate School</td>\n",
       "      <td>military university | open-access publisher | ...</td>\n",
       "      <td>university</td>\n",
       "      <td>education</td>\n",
       "      <td>1961-1980</td>\n",
       "      <td>http://www.wikidata.org/entity/Q6764126</td>\n",
       "      <td>Marine Corps University</td>\n",
       "      <td>staff college | university</td>\n",
       "      <td>university</td>\n",
       "      <td>education</td>\n",
       "      <td>education_education</td>\n",
       "    </tr>\n",
       "  </tbody>\n",
       "</table>\n",
       "</div>"
      ],
      "text/plain": [
       "                                        uriPer      labelPer  birthYear  \\\n",
       "299  http://www.wikidata.org/entity/Q109968497  Luke Delaney       1979   \n",
       "301  http://www.wikidata.org/entity/Q109968497  Luke Delaney       1979   \n",
       "\n",
       "                                    uriOrg_x                 labelOrg_x  \\\n",
       "299  http://www.wikidata.org/entity/Q1515048  Naval Postgraduate School   \n",
       "301  http://www.wikidata.org/entity/Q1515048  Naval Postgraduate School   \n",
       "\n",
       "                                            typesOrg_x orgMainType_x  \\\n",
       "299  military university | open-access publisher | ...    university   \n",
       "301  military university | open-access publisher | ...    university   \n",
       "\n",
       "    relaType_x    periods                                 uriOrg_y  \\\n",
       "299  education  1961-1980  http://www.wikidata.org/entity/Q7715757   \n",
       "301  education  1961-1980  http://www.wikidata.org/entity/Q6764126   \n",
       "\n",
       "                  labelOrg_y  \\\n",
       "299         The Basic School   \n",
       "301  Marine Corps University   \n",
       "\n",
       "                                            typesOrg_y  \\\n",
       "299  census-designated place in the united states |...   \n",
       "301                         staff college | university   \n",
       "\n",
       "               orgMainType_y relaType_y      relaType_concat  \n",
       "299  educational institution  education  education_education  \n",
       "301               university  education  education_education  "
      ]
     },
     "execution_count": 152,
     "metadata": {},
     "output_type": "execute_result"
    }
   ],
   "source": [
    "print(list(merged.columns))\n",
    "merged.iloc[110:112]\n"
   ]
  },
  {
   "cell_type": "code",
   "execution_count": 153,
   "metadata": {
    "execution": {
     "iopub.execute_input": "2025-05-24T14:04:09.526682Z",
     "iopub.status.busy": "2025-05-24T14:04:09.525688Z",
     "iopub.status.idle": "2025-05-24T14:04:09.652786Z",
     "shell.execute_reply": "2025-05-24T14:04:09.651186Z",
     "shell.execute_reply.started": "2025-05-24T14:04:09.526591Z"
    }
   },
   "outputs": [],
   "source": [
    "df_graph=merged.groupby(['periods', 'relaType_concat', 'uriOrg_x', 'labelOrg_x', 'orgMainType_x',  \n",
    "                         'uriOrg_y', 'labelOrg_y', 'orgMainType_y'],\n",
    "               as_index=False)\\\n",
    "    .agg({'labelPer': '|'.join, 'uriPer': '|'.join})\n",
    "\n",
    "df_graph['number'] = df_graph.labelPer.apply(lambda x : len(x.split('|')))\n"
   ]
  },
  {
   "cell_type": "code",
   "execution_count": 154,
   "metadata": {
    "execution": {
     "iopub.execute_input": "2025-05-24T14:04:09.984966Z",
     "iopub.status.busy": "2025-05-24T14:04:09.984061Z",
     "iopub.status.idle": "2025-05-24T14:04:10.020422Z",
     "shell.execute_reply": "2025-05-24T14:04:10.019205Z",
     "shell.execute_reply.started": "2025-05-24T14:04:09.984851Z"
    }
   },
   "outputs": [
    {
     "name": "stdout",
     "output_type": "stream",
     "text": [
      "2325\n"
     ]
    },
    {
     "data": {
      "text/html": [
       "<div>\n",
       "<style scoped>\n",
       "    .dataframe tbody tr th:only-of-type {\n",
       "        vertical-align: middle;\n",
       "    }\n",
       "\n",
       "    .dataframe tbody tr th {\n",
       "        vertical-align: top;\n",
       "    }\n",
       "\n",
       "    .dataframe thead th {\n",
       "        text-align: right;\n",
       "    }\n",
       "</style>\n",
       "<table border=\"1\" class=\"dataframe\">\n",
       "  <thead>\n",
       "    <tr style=\"text-align: right;\">\n",
       "      <th></th>\n",
       "      <th>periods</th>\n",
       "      <th>relaType_concat</th>\n",
       "      <th>uriOrg_x</th>\n",
       "      <th>labelOrg_x</th>\n",
       "      <th>orgMainType_x</th>\n",
       "      <th>uriOrg_y</th>\n",
       "      <th>labelOrg_y</th>\n",
       "      <th>orgMainType_y</th>\n",
       "      <th>labelPer</th>\n",
       "      <th>uriPer</th>\n",
       "      <th>number</th>\n",
       "    </tr>\n",
       "  </thead>\n",
       "  <tbody>\n",
       "    <tr>\n",
       "      <th>724</th>\n",
       "      <td>1941-1960</td>\n",
       "      <td>education_education</td>\n",
       "      <td>http://www.wikidata.org/entity/Q1331280</td>\n",
       "      <td>United States Air Force Academy</td>\n",
       "      <td>learned society</td>\n",
       "      <td>http://www.wikidata.org/entity/Q3428253</td>\n",
       "      <td>U.S. Air Force Test Pilot School</td>\n",
       "      <td>educational institution</td>\n",
       "      <td>Charles J. Precourt|Donald R. McMonagle|John C...</td>\n",
       "      <td>http://www.wikidata.org/entity/Q1065133|http:/...</td>\n",
       "      <td>19</td>\n",
       "    </tr>\n",
       "    <tr>\n",
       "      <th>620</th>\n",
       "      <td>1941-1960</td>\n",
       "      <td>education_education</td>\n",
       "      <td>http://www.wikidata.org/entity/Q1128819</td>\n",
       "      <td>United States Naval Test Pilot School</td>\n",
       "      <td>educational institution</td>\n",
       "      <td>http://www.wikidata.org/entity/Q559549</td>\n",
       "      <td>United States Naval Academy</td>\n",
       "      <td>educational institution</td>\n",
       "      <td>Kenneth S. Reightler, Jr.|Robert D. Cabana|Ste...</td>\n",
       "      <td>http://www.wikidata.org/entity/Q1323571|http:/...</td>\n",
       "      <td>18</td>\n",
       "    </tr>\n",
       "    <tr>\n",
       "      <th>590</th>\n",
       "      <td>1941-1960</td>\n",
       "      <td>education_education</td>\n",
       "      <td>http://www.wikidata.org/entity/Q1128819</td>\n",
       "      <td>United States Naval Test Pilot School</td>\n",
       "      <td>educational institution</td>\n",
       "      <td>http://www.wikidata.org/entity/Q1515048</td>\n",
       "      <td>Naval Postgraduate School</td>\n",
       "      <td>university</td>\n",
       "      <td>Kenneth S. Reightler, Jr.|Kent Rominger|Robert...</td>\n",
       "      <td>http://www.wikidata.org/entity/Q1323571|http:/...</td>\n",
       "      <td>11</td>\n",
       "    </tr>\n",
       "    <tr>\n",
       "      <th>875</th>\n",
       "      <td>1941-1960</td>\n",
       "      <td>education_education</td>\n",
       "      <td>http://www.wikidata.org/entity/Q1515048</td>\n",
       "      <td>Naval Postgraduate School</td>\n",
       "      <td>university</td>\n",
       "      <td>http://www.wikidata.org/entity/Q559549</td>\n",
       "      <td>United States Naval Academy</td>\n",
       "      <td>educational institution</td>\n",
       "      <td>David Leestma|Kenneth S. Reightler, Jr.|Robert...</td>\n",
       "      <td>http://www.wikidata.org/entity/Q1174077|http:/...</td>\n",
       "      <td>10</td>\n",
       "    </tr>\n",
       "    <tr>\n",
       "      <th>1631</th>\n",
       "      <td>1961-1980</td>\n",
       "      <td>education_education</td>\n",
       "      <td>http://www.wikidata.org/entity/Q1128819</td>\n",
       "      <td>United States Naval Test Pilot School</td>\n",
       "      <td>educational institution</td>\n",
       "      <td>http://www.wikidata.org/entity/Q1515048</td>\n",
       "      <td>Naval Postgraduate School</td>\n",
       "      <td>university</td>\n",
       "      <td>Luke Delaney|Kenneth Ham|Stephen Frick|William...</td>\n",
       "      <td>http://www.wikidata.org/entity/Q109968497|http...</td>\n",
       "      <td>9</td>\n",
       "    </tr>\n",
       "  </tbody>\n",
       "</table>\n",
       "</div>"
      ],
      "text/plain": [
       "        periods      relaType_concat                                 uriOrg_x  \\\n",
       "724   1941-1960  education_education  http://www.wikidata.org/entity/Q1331280   \n",
       "620   1941-1960  education_education  http://www.wikidata.org/entity/Q1128819   \n",
       "590   1941-1960  education_education  http://www.wikidata.org/entity/Q1128819   \n",
       "875   1941-1960  education_education  http://www.wikidata.org/entity/Q1515048   \n",
       "1631  1961-1980  education_education  http://www.wikidata.org/entity/Q1128819   \n",
       "\n",
       "                                 labelOrg_x            orgMainType_x  \\\n",
       "724         United States Air Force Academy          learned society   \n",
       "620   United States Naval Test Pilot School  educational institution   \n",
       "590   United States Naval Test Pilot School  educational institution   \n",
       "875               Naval Postgraduate School               university   \n",
       "1631  United States Naval Test Pilot School  educational institution   \n",
       "\n",
       "                                     uriOrg_y  \\\n",
       "724   http://www.wikidata.org/entity/Q3428253   \n",
       "620    http://www.wikidata.org/entity/Q559549   \n",
       "590   http://www.wikidata.org/entity/Q1515048   \n",
       "875    http://www.wikidata.org/entity/Q559549   \n",
       "1631  http://www.wikidata.org/entity/Q1515048   \n",
       "\n",
       "                            labelOrg_y            orgMainType_y  \\\n",
       "724   U.S. Air Force Test Pilot School  educational institution   \n",
       "620        United States Naval Academy  educational institution   \n",
       "590          Naval Postgraduate School               university   \n",
       "875        United States Naval Academy  educational institution   \n",
       "1631         Naval Postgraduate School               university   \n",
       "\n",
       "                                               labelPer  \\\n",
       "724   Charles J. Precourt|Donald R. McMonagle|John C...   \n",
       "620   Kenneth S. Reightler, Jr.|Robert D. Cabana|Ste...   \n",
       "590   Kenneth S. Reightler, Jr.|Kent Rominger|Robert...   \n",
       "875   David Leestma|Kenneth S. Reightler, Jr.|Robert...   \n",
       "1631  Luke Delaney|Kenneth Ham|Stephen Frick|William...   \n",
       "\n",
       "                                                 uriPer  number  \n",
       "724   http://www.wikidata.org/entity/Q1065133|http:/...      19  \n",
       "620   http://www.wikidata.org/entity/Q1323571|http:/...      18  \n",
       "590   http://www.wikidata.org/entity/Q1323571|http:/...      11  \n",
       "875   http://www.wikidata.org/entity/Q1174077|http:/...      10  \n",
       "1631  http://www.wikidata.org/entity/Q109968497|http...       9  "
      ]
     },
     "execution_count": 154,
     "metadata": {},
     "output_type": "execute_result"
    }
   ],
   "source": [
    "print(len(df_graph))\n",
    "df_graph.sort_values('number',ascending=False).head()\n"
   ]
  },
  {
   "cell_type": "markdown",
   "metadata": {},
   "source": [
    "### Explore contingency table of relationship pairs to periods"
   ]
  },
  {
   "cell_type": "code",
   "execution_count": 155,
   "metadata": {
    "execution": {
     "iopub.execute_input": "2025-05-24T14:04:10.968348Z",
     "iopub.status.busy": "2025-05-24T14:04:10.966559Z",
     "iopub.status.idle": "2025-05-24T14:04:11.011595Z",
     "shell.execute_reply": "2025-05-24T14:04:11.010330Z",
     "shell.execute_reply.started": "2025-05-24T14:04:10.968267Z"
    }
   },
   "outputs": [
    {
     "data": {
      "text/html": [
       "<div>\n",
       "<style scoped>\n",
       "    .dataframe tbody tr th:only-of-type {\n",
       "        vertical-align: middle;\n",
       "    }\n",
       "\n",
       "    .dataframe tbody tr th {\n",
       "        vertical-align: top;\n",
       "    }\n",
       "\n",
       "    .dataframe thead th {\n",
       "        text-align: right;\n",
       "    }\n",
       "</style>\n",
       "<table border=\"1\" class=\"dataframe\">\n",
       "  <thead>\n",
       "    <tr style=\"text-align: right;\">\n",
       "      <th>periods</th>\n",
       "      <th>1901-1920</th>\n",
       "      <th>1921-1940</th>\n",
       "      <th>1941-1960</th>\n",
       "      <th>1961-1980</th>\n",
       "      <th>1981-2000</th>\n",
       "      <th>Total</th>\n",
       "    </tr>\n",
       "    <tr>\n",
       "      <th>relaType_concat</th>\n",
       "      <th></th>\n",
       "      <th></th>\n",
       "      <th></th>\n",
       "      <th></th>\n",
       "      <th></th>\n",
       "      <th></th>\n",
       "    </tr>\n",
       "  </thead>\n",
       "  <tbody>\n",
       "    <tr>\n",
       "      <th>education_education</th>\n",
       "      <td>1</td>\n",
       "      <td>497</td>\n",
       "      <td>894</td>\n",
       "      <td>533</td>\n",
       "      <td>138</td>\n",
       "      <td>2063</td>\n",
       "    </tr>\n",
       "    <tr>\n",
       "      <th>education_employment</th>\n",
       "      <td>0</td>\n",
       "      <td>27</td>\n",
       "      <td>162</td>\n",
       "      <td>32</td>\n",
       "      <td>20</td>\n",
       "      <td>241</td>\n",
       "    </tr>\n",
       "    <tr>\n",
       "      <th>employment_employment</th>\n",
       "      <td>0</td>\n",
       "      <td>1</td>\n",
       "      <td>8</td>\n",
       "      <td>10</td>\n",
       "      <td>2</td>\n",
       "      <td>21</td>\n",
       "    </tr>\n",
       "    <tr>\n",
       "      <th>Total</th>\n",
       "      <td>1</td>\n",
       "      <td>525</td>\n",
       "      <td>1064</td>\n",
       "      <td>575</td>\n",
       "      <td>160</td>\n",
       "      <td>2325</td>\n",
       "    </tr>\n",
       "  </tbody>\n",
       "</table>\n",
       "</div>"
      ],
      "text/plain": [
       "periods                1901-1920  1921-1940  1941-1960  1961-1980  1981-2000  \\\n",
       "relaType_concat                                                                \n",
       "education_education            1        497        894        533        138   \n",
       "education_employment           0         27        162         32         20   \n",
       "employment_employment          0          1          8         10          2   \n",
       "Total                          1        525       1064        575        160   \n",
       "\n",
       "periods                Total  \n",
       "relaType_concat               \n",
       "education_education     2063  \n",
       "education_employment     241  \n",
       "employment_employment     21  \n",
       "Total                   2325  "
      ]
     },
     "execution_count": 155,
     "metadata": {},
     "output_type": "execute_result"
    }
   ],
   "source": [
    "\n",
    "\n",
    "### Contingency table\n",
    "X = 'periods'\n",
    "Y = 'relaType_concat'  \n",
    "\n",
    "ddf = df_graph[[X,Y]].pivot_table(index=Y,columns=X,observed=True, aggfunc=len,margins=True,margins_name=\"Total\").fillna(0).astype(int)\n",
    "ddf\n",
    "\n"
   ]
  },
  {
   "cell_type": "code",
   "execution_count": 156,
   "metadata": {
    "execution": {
     "iopub.execute_input": "2025-05-24T14:04:11.886223Z",
     "iopub.status.busy": "2025-05-24T14:04:11.884363Z",
     "iopub.status.idle": "2025-05-24T14:04:11.896958Z",
     "shell.execute_reply": "2025-05-24T14:04:11.894831Z",
     "shell.execute_reply.started": "2025-05-24T14:04:11.886141Z"
    }
   },
   "outputs": [],
   "source": [
    "ct_wm = ddf.iloc[:-1,:-1].copy(deep=True)"
   ]
  },
  {
   "cell_type": "code",
   "execution_count": 157,
   "metadata": {
    "execution": {
     "iopub.execute_input": "2025-05-24T14:04:12.626155Z",
     "iopub.status.busy": "2025-05-24T14:04:12.625251Z",
     "iopub.status.idle": "2025-05-24T14:04:12.648127Z",
     "shell.execute_reply": "2025-05-24T14:04:12.645816Z",
     "shell.execute_reply.started": "2025-05-24T14:04:12.626080Z"
    }
   },
   "outputs": [
    {
     "name": "stdout",
     "output_type": "stream",
     "text": [
      "Chi2 : 65.43 , dof : 8\n",
      "p-value : 3.968932607547399e-11\n",
      "phi2 = inertie (variance totale) : 0.028141648179166465\n",
      "Cramer:  0.11862050450737104\n"
     ]
    }
   ],
   "source": [
    "### We observe a relationship between these two variables, \n",
    "# not so strong \n",
    "bivariee_stats(ct_wm)"
   ]
  },
  {
   "cell_type": "code",
   "execution_count": 158,
   "metadata": {
    "execution": {
     "iopub.execute_input": "2025-05-24T14:04:14.656364Z",
     "iopub.status.busy": "2025-05-24T14:04:14.654729Z",
     "iopub.status.idle": "2025-05-24T14:04:14.955306Z",
     "shell.execute_reply": "2025-05-24T14:04:14.953732Z",
     "shell.execute_reply.started": "2025-05-24T14:04:14.656280Z"
    }
   },
   "outputs": [
    {
     "data": {
      "image/png": "[encoded data removed]",
      "text/plain": [
       "<Figure size 800x400 with 2 Axes>"
      ]
     },
     "metadata": {},
     "output_type": "display_data"
    }
   ],
   "source": [
    "pp = plot_chi2_residuals(ct_wm, figsize=(8, 4))"
   ]
  },
  {
   "cell_type": "code",
   "execution_count": null,
   "metadata": {},
   "outputs": [],
   "source": []
  },
  {
   "cell_type": "markdown",
   "metadata": {},
   "source": [
    "## Graph analysis\n",
    "\n",
    "\n",
    "We will explore some aspects the relationships:\n",
    "\n",
    "* which organisations are connected though education, but this will be only at the level of universities, not earlier education stage\n",
    "* the same we will explore for memberships and employments, keeping them separated\n",
    "* we will then ask what the relationship is between employment and membership\n",
    "* and finally inspect if some kind of educational institutions (at unversity level, lead to specific employments or memberships)\n",
    "\n",
    "\n",
    "\n",
    "\n"
   ]
  },
  {
   "cell_type": "markdown",
   "metadata": {},
   "source": [
    "### Organisations connected through higher education"
   ]
  },
  {
   "cell_type": "code",
   "execution_count": 159,
   "metadata": {
    "execution": {
     "iopub.execute_input": "2025-05-24T14:04:21.194578Z",
     "iopub.status.busy": "2025-05-24T14:04:21.193594Z",
     "iopub.status.idle": "2025-05-24T14:04:21.206704Z",
     "shell.execute_reply": "2025-05-24T14:04:21.204591Z",
     "shell.execute_reply.started": "2025-05-24T14:04:21.194431Z"
    }
   },
   "outputs": [
    {
     "name": "stdout",
     "output_type": "stream",
     "text": [
      "['educational institution', 'university', 'private university', 'public university', 'institute of technology', 'learned society', 'not classified organisation', 'research organisation', 'research facility', 'scientific organisation']\n"
     ]
    }
   ],
   "source": [
    "print(df_mainTypes.mainType.to_list())"
   ]
  },
  {
   "cell_type": "code",
   "execution_count": 160,
   "metadata": {
    "execution": {
     "iopub.execute_input": "2025-05-24T14:04:22.906286Z",
     "iopub.status.busy": "2025-05-24T14:04:22.905381Z",
     "iopub.status.idle": "2025-05-24T14:04:22.921046Z",
     "shell.execute_reply": "2025-05-24T14:04:22.918521Z",
     "shell.execute_reply.started": "2025-05-24T14:04:22.906211Z"
    }
   },
   "outputs": [],
   "source": [
    "types_list=['university', 'public university', 'private university']"
   ]
  },
  {
   "cell_type": "code",
   "execution_count": 161,
   "metadata": {
    "execution": {
     "iopub.execute_input": "2025-05-24T14:04:23.521151Z",
     "iopub.status.busy": "2025-05-24T14:04:23.520251Z",
     "iopub.status.idle": "2025-05-24T14:04:23.556879Z",
     "shell.execute_reply": "2025-05-24T14:04:23.555575Z",
     "shell.execute_reply.started": "2025-05-24T14:04:23.521076Z"
    }
   },
   "outputs": [
    {
     "name": "stdout",
     "output_type": "stream",
     "text": [
      "397\n"
     ]
    },
    {
     "data": {
      "text/html": [
       "<div>\n",
       "<style scoped>\n",
       "    .dataframe tbody tr th:only-of-type {\n",
       "        vertical-align: middle;\n",
       "    }\n",
       "\n",
       "    .dataframe tbody tr th {\n",
       "        vertical-align: top;\n",
       "    }\n",
       "\n",
       "    .dataframe thead th {\n",
       "        text-align: right;\n",
       "    }\n",
       "</style>\n",
       "<table border=\"1\" class=\"dataframe\">\n",
       "  <thead>\n",
       "    <tr style=\"text-align: right;\">\n",
       "      <th></th>\n",
       "      <th>periods</th>\n",
       "      <th>relaType_concat</th>\n",
       "      <th>uriOrg_x</th>\n",
       "      <th>labelOrg_x</th>\n",
       "      <th>orgMainType_x</th>\n",
       "      <th>uriOrg_y</th>\n",
       "      <th>labelOrg_y</th>\n",
       "      <th>orgMainType_y</th>\n",
       "      <th>labelPer</th>\n",
       "      <th>uriPer</th>\n",
       "      <th>number</th>\n",
       "    </tr>\n",
       "  </thead>\n",
       "  <tbody>\n",
       "    <tr>\n",
       "      <th>5</th>\n",
       "      <td>1921-1940</td>\n",
       "      <td>education_education</td>\n",
       "      <td>http://www.wikidata.org/entity/Q1048898</td>\n",
       "      <td>University of Vermont</td>\n",
       "      <td>university</td>\n",
       "      <td>http://www.wikidata.org/entity/Q193727</td>\n",
       "      <td>Johns Hopkins University</td>\n",
       "      <td>university</td>\n",
       "      <td>Duane Graveline</td>\n",
       "      <td>http://www.wikidata.org/entity/Q3499300</td>\n",
       "      <td>1</td>\n",
       "    </tr>\n",
       "    <tr>\n",
       "      <th>6</th>\n",
       "      <td>1921-1940</td>\n",
       "      <td>education_education</td>\n",
       "      <td>http://www.wikidata.org/entity/Q1068072</td>\n",
       "      <td>University of Delaware</td>\n",
       "      <td>public university</td>\n",
       "      <td>http://www.wikidata.org/entity/Q230492</td>\n",
       "      <td>University of Michigan</td>\n",
       "      <td>university</td>\n",
       "      <td>Theodore Freeman</td>\n",
       "      <td>http://www.wikidata.org/entity/Q634141</td>\n",
       "      <td>1</td>\n",
       "    </tr>\n",
       "  </tbody>\n",
       "</table>\n",
       "</div>"
      ],
      "text/plain": [
       "     periods      relaType_concat                                 uriOrg_x  \\\n",
       "5  1921-1940  education_education  http://www.wikidata.org/entity/Q1048898   \n",
       "6  1921-1940  education_education  http://www.wikidata.org/entity/Q1068072   \n",
       "\n",
       "               labelOrg_x      orgMainType_x  \\\n",
       "5   University of Vermont         university   \n",
       "6  University of Delaware  public university   \n",
       "\n",
       "                                 uriOrg_y                labelOrg_y  \\\n",
       "5  http://www.wikidata.org/entity/Q193727  Johns Hopkins University   \n",
       "6  http://www.wikidata.org/entity/Q230492    University of Michigan   \n",
       "\n",
       "  orgMainType_y          labelPer                                   uriPer  \\\n",
       "5    university   Duane Graveline  http://www.wikidata.org/entity/Q3499300   \n",
       "6    university  Theodore Freeman   http://www.wikidata.org/entity/Q634141   \n",
       "\n",
       "   number  \n",
       "5       1  \n",
       "6       1  "
      ]
     },
     "execution_count": 161,
     "metadata": {},
     "output_type": "execute_result"
    }
   ],
   "source": [
    "df_edu_graph = df_graph[(df_graph.relaType_concat == 'education_education') \\\n",
    "                     & (df_graph.orgMainType_x.isin(types_list)) \\\n",
    "                     & (df_graph.orgMainType_y.isin(types_list))  ]\n",
    "\n",
    "print(len(df_edu_graph))\n",
    "df_edu_graph.iloc[:2]"
   ]
  },
  {
   "cell_type": "code",
   "execution_count": 162,
   "metadata": {
    "execution": {
     "iopub.execute_input": "2025-05-24T14:04:24.063100Z",
     "iopub.status.busy": "2025-05-24T14:04:24.062072Z",
     "iopub.status.idle": "2025-05-24T14:04:24.099114Z",
     "shell.execute_reply": "2025-05-24T14:04:24.097419Z",
     "shell.execute_reply.started": "2025-05-24T14:04:24.063015Z"
    }
   },
   "outputs": [
    {
     "data": {
      "text/html": [
       "<div>\n",
       "<style scoped>\n",
       "    .dataframe tbody tr th:only-of-type {\n",
       "        vertical-align: middle;\n",
       "    }\n",
       "\n",
       "    .dataframe tbody tr th {\n",
       "        vertical-align: top;\n",
       "    }\n",
       "\n",
       "    .dataframe thead th {\n",
       "        text-align: right;\n",
       "    }\n",
       "</style>\n",
       "<table border=\"1\" class=\"dataframe\">\n",
       "  <thead>\n",
       "    <tr style=\"text-align: right;\">\n",
       "      <th></th>\n",
       "      <th>periods</th>\n",
       "      <th>relaType_concat</th>\n",
       "      <th>uriOrg_x</th>\n",
       "      <th>labelOrg_x</th>\n",
       "      <th>orgMainType_x</th>\n",
       "      <th>uriOrg_y</th>\n",
       "      <th>labelOrg_y</th>\n",
       "      <th>orgMainType_y</th>\n",
       "      <th>labelPer</th>\n",
       "      <th>uriPer</th>\n",
       "      <th>number</th>\n",
       "    </tr>\n",
       "  </thead>\n",
       "  <tbody>\n",
       "    <tr>\n",
       "      <th>1271</th>\n",
       "      <td>1941-1960</td>\n",
       "      <td>education_education</td>\n",
       "      <td>http://www.wikidata.org/entity/Q49115</td>\n",
       "      <td>Cornell University</td>\n",
       "      <td>private university</td>\n",
       "      <td>http://www.wikidata.org/entity/Q5171564</td>\n",
       "      <td>Cornell University College of Engineering</td>\n",
       "      <td>university</td>\n",
       "      <td>Daniel T. Barry|Donald A. Thomas|Jay C. Buckey...</td>\n",
       "      <td>http://www.wikidata.org/entity/Q1162918|http:/...</td>\n",
       "      <td>4</td>\n",
       "    </tr>\n",
       "    <tr>\n",
       "      <th>1606</th>\n",
       "      <td>1961-1980</td>\n",
       "      <td>education_education</td>\n",
       "      <td>http://www.wikidata.org/entity/Q10873057</td>\n",
       "      <td>PLA Air Force Aviation University</td>\n",
       "      <td>university</td>\n",
       "      <td>http://www.wikidata.org/entity/Q16955</td>\n",
       "      <td>Tsinghua University</td>\n",
       "      <td>public university</td>\n",
       "      <td>Yang Liwei|Liu Yang|Jing Haipeng</td>\n",
       "      <td>http://www.wikidata.org/entity/Q147581|http://...</td>\n",
       "      <td>3</td>\n",
       "    </tr>\n",
       "  </tbody>\n",
       "</table>\n",
       "</div>"
      ],
      "text/plain": [
       "        periods      relaType_concat  \\\n",
       "1271  1941-1960  education_education   \n",
       "1606  1961-1980  education_education   \n",
       "\n",
       "                                      uriOrg_x  \\\n",
       "1271     http://www.wikidata.org/entity/Q49115   \n",
       "1606  http://www.wikidata.org/entity/Q10873057   \n",
       "\n",
       "                             labelOrg_x       orgMainType_x  \\\n",
       "1271                 Cornell University  private university   \n",
       "1606  PLA Air Force Aviation University          university   \n",
       "\n",
       "                                     uriOrg_y  \\\n",
       "1271  http://www.wikidata.org/entity/Q5171564   \n",
       "1606    http://www.wikidata.org/entity/Q16955   \n",
       "\n",
       "                                     labelOrg_y      orgMainType_y  \\\n",
       "1271  Cornell University College of Engineering         university   \n",
       "1606                        Tsinghua University  public university   \n",
       "\n",
       "                                               labelPer  \\\n",
       "1271  Daniel T. Barry|Donald A. Thomas|Jay C. Buckey...   \n",
       "1606                   Yang Liwei|Liu Yang|Jing Haipeng   \n",
       "\n",
       "                                                 uriPer  number  \n",
       "1271  http://www.wikidata.org/entity/Q1162918|http:/...       4  \n",
       "1606  http://www.wikidata.org/entity/Q147581|http://...       3  "
      ]
     },
     "execution_count": 162,
     "metadata": {},
     "output_type": "execute_result"
    }
   ],
   "source": [
    "df_edu_graph.sort_values(by='number',ascending=False).iloc[:2]"
   ]
  },
  {
   "cell_type": "code",
   "execution_count": 163,
   "metadata": {
    "execution": {
     "iopub.execute_input": "2025-05-24T14:04:24.792385Z",
     "iopub.status.busy": "2025-05-24T14:04:24.791971Z",
     "iopub.status.idle": "2025-05-24T14:04:24.809229Z",
     "shell.execute_reply": "2025-05-24T14:04:24.807910Z",
     "shell.execute_reply.started": "2025-05-24T14:04:24.792348Z"
    }
   },
   "outputs": [
    {
     "name": "stdout",
     "output_type": "stream",
     "text": [
      "periods\n",
      "1921-1940     69\n",
      "1941-1960    206\n",
      "1961-1980     92\n",
      "1981-2000     30\n",
      "dtype: int64\n"
     ]
    }
   ],
   "source": [
    "### Number of relationships by period\n",
    "print(df_edu_graph.groupby('periods').size())"
   ]
  },
  {
   "cell_type": "markdown",
   "metadata": {},
   "source": [
    "### Inspect a specific period"
   ]
  },
  {
   "cell_type": "code",
   "execution_count": 204,
   "metadata": {
    "execution": {
     "iopub.execute_input": "2025-05-24T14:13:57.386433Z",
     "iopub.status.busy": "2025-05-24T14:13:57.384201Z",
     "iopub.status.idle": "2025-05-24T14:13:57.396332Z",
     "shell.execute_reply": "2025-05-24T14:13:57.393847Z",
     "shell.execute_reply.started": "2025-05-24T14:13:57.386317Z"
    }
   },
   "outputs": [],
   "source": [
    "p = '1901-1920' #'1851-1900' #'1921-1940'"
   ]
  },
  {
   "cell_type": "code",
   "execution_count": 205,
   "metadata": {
    "execution": {
     "iopub.execute_input": "2025-05-24T14:13:57.975784Z",
     "iopub.status.busy": "2025-05-24T14:13:57.974740Z",
     "iopub.status.idle": "2025-05-24T14:13:58.004045Z",
     "shell.execute_reply": "2025-05-24T14:13:58.002545Z",
     "shell.execute_reply.started": "2025-05-24T14:13:57.975700Z"
    }
   },
   "outputs": [
    {
     "data": {
      "text/html": [
       "<div>\n",
       "<style scoped>\n",
       "    .dataframe tbody tr th:only-of-type {\n",
       "        vertical-align: middle;\n",
       "    }\n",
       "\n",
       "    .dataframe tbody tr th {\n",
       "        vertical-align: top;\n",
       "    }\n",
       "\n",
       "    .dataframe thead th {\n",
       "        text-align: right;\n",
       "    }\n",
       "</style>\n",
       "<table border=\"1\" class=\"dataframe\">\n",
       "  <thead>\n",
       "    <tr style=\"text-align: right;\">\n",
       "      <th></th>\n",
       "      <th>periods</th>\n",
       "      <th>relaType_concat</th>\n",
       "      <th>uriOrg_x</th>\n",
       "      <th>labelOrg_x</th>\n",
       "      <th>orgMainType_x</th>\n",
       "      <th>uriOrg_y</th>\n",
       "      <th>labelOrg_y</th>\n",
       "      <th>orgMainType_y</th>\n",
       "      <th>labelPer</th>\n",
       "      <th>uriPer</th>\n",
       "      <th>number</th>\n",
       "    </tr>\n",
       "  </thead>\n",
       "  <tbody>\n",
       "  </tbody>\n",
       "</table>\n",
       "</div>"
      ],
      "text/plain": [
       "Empty DataFrame\n",
       "Columns: [periods, relaType_concat, uriOrg_x, labelOrg_x, orgMainType_x, uriOrg_y, labelOrg_y, orgMainType_y, labelPer, uriPer, number]\n",
       "Index: []"
      ]
     },
     "execution_count": 205,
     "metadata": {},
     "output_type": "execute_result"
    }
   ],
   "source": [
    "df_edu_graph_p = df_edu_graph[(df_edu_graph.periods==p)]\n",
    "df_edu_graph_p.sort_values(by='number',ascending=False).head(2)"
   ]
  },
  {
   "cell_type": "code",
   "execution_count": 206,
   "metadata": {
    "execution": {
     "iopub.execute_input": "2025-05-24T14:13:58.597075Z",
     "iopub.status.busy": "2025-05-24T14:13:58.596140Z",
     "iopub.status.idle": "2025-05-24T14:13:58.616183Z",
     "shell.execute_reply": "2025-05-24T14:13:58.613734Z",
     "shell.execute_reply.started": "2025-05-24T14:13:58.596996Z"
    }
   },
   "outputs": [
    {
     "name": "stdout",
     "output_type": "stream",
     "text": [
      "0\n"
     ]
    }
   ],
   "source": [
    "## Provide the data in the format \n",
    "# required by Networkx\n",
    "\n",
    "l = [tuple(\n",
    "    (e['uriOrg_x'], e['uriOrg_y'],\n",
    "     {'uriPers':e['uriPer'], 'labelPers':e['labelPer'],\n",
    "      ## the weight ist the number of persons in this relationship\n",
    "      'weight':e['number']}\n",
    "     )) \n",
    "     for e in df_edu_graph_p.to_dict(orient='records')]\n",
    "print(len(l))"
   ]
  },
  {
   "cell_type": "code",
   "execution_count": 210,
   "metadata": {
    "execution": {
     "iopub.execute_input": "2025-05-24T14:14:21.273984Z",
     "iopub.status.busy": "2025-05-24T14:14:21.273044Z",
     "iopub.status.idle": "2025-05-24T14:14:21.286915Z",
     "shell.execute_reply": "2025-05-24T14:14:21.284368Z",
     "shell.execute_reply.started": "2025-05-24T14:14:21.273901Z"
    }
   },
   "outputs": [
    {
     "name": "stdout",
     "output_type": "stream",
     "text": [
      "Liste d'arêtes vide, graphe nul\n"
     ]
    }
   ],
   "source": [
    "#control liste d'arrêtes\n",
    "if not l:\n",
    "    print(\"Liste d'arêtes vide, graphe nul\")\n",
    "else:\n",
    "    edu_graph_p.add_edges_from(l)\n"
   ]
  },
  {
   "cell_type": "code",
   "execution_count": 211,
   "metadata": {
    "execution": {
     "iopub.execute_input": "2025-05-24T14:14:22.001068Z",
     "iopub.status.busy": "2025-05-24T14:14:22.000143Z",
     "iopub.status.idle": "2025-05-24T14:14:22.133973Z",
     "shell.execute_reply": "2025-05-24T14:14:22.132442Z",
     "shell.execute_reply.started": "2025-05-24T14:14:22.000991Z"
    }
   },
   "outputs": [
    {
     "ename": "NetworkXPointlessConcept",
     "evalue": "Connectivity is undefined for the null graph.",
     "output_type": "error",
     "traceback": [
      "\u001b[0;31m---------------------------------------------------------------------------\u001b[0m",
      "\u001b[0;31mNetworkXPointlessConcept\u001b[0m                  Traceback (most recent call last)",
      "Cell \u001b[0;32mIn[211], line 7\u001b[0m\n\u001b[1;32m      3\u001b[0m \u001b[38;5;66;03m## Add relationships to graph\u001b[39;00m\n\u001b[1;32m      4\u001b[0m \u001b[38;5;66;03m# Multiple rows between two edges are taken only once\u001b[39;00m\n\u001b[1;32m      5\u001b[0m edu_graph_p\u001b[38;5;241m.\u001b[39madd_edges_from(l)\n\u001b[0;32m----> 7\u001b[0m \u001b[43mnaf\u001b[49m\u001b[38;5;241;43m.\u001b[39;49m\u001b[43mbasic_graph_properties\u001b[49m\u001b[43m(\u001b[49m\u001b[43medu_graph_p\u001b[49m\u001b[43m)\u001b[49m\n\u001b[1;32m      9\u001b[0m \u001b[38;5;66;03m### Create a list of graphs, one per component\u001b[39;00m\n\u001b[1;32m     10\u001b[0m edu_graph_p_S \u001b[38;5;241m=\u001b[39m [edu_graph_p\u001b[38;5;241m.\u001b[39msubgraph(c)\u001b[38;5;241m.\u001b[39mcopy() \u001b[38;5;28;01mfor\u001b[39;00m c \u001b[38;5;129;01min\u001b[39;00m nx\u001b[38;5;241m.\u001b[39mconnected_components(edu_graph_p)]\n",
      "File \u001b[0;32m~/My_notebook_printemps/network_analysis_functions.py:27\u001b[0m, in \u001b[0;36mbasic_graph_properties\u001b[0;34m(G)\u001b[0m\n\u001b[1;32m     20\u001b[0m \u001b[38;5;28;01mdef\u001b[39;00m \u001b[38;5;21mbasic_graph_properties\u001b[39m(G):\n\u001b[1;32m     22\u001b[0m     pprint\u001b[38;5;241m.\u001b[39mpprint({\u001b[38;5;124m'\u001b[39m\u001b[38;5;124mis_multigraph\u001b[39m\u001b[38;5;124m'\u001b[39m:G\u001b[38;5;241m.\u001b[39mis_multigraph(), \n\u001b[1;32m     23\u001b[0m         \u001b[38;5;124m'\u001b[39m\u001b[38;5;124mis_directed\u001b[39m\u001b[38;5;124m'\u001b[39m:G\u001b[38;5;241m.\u001b[39mis_directed(), \n\u001b[1;32m     24\u001b[0m         \u001b[38;5;124m'\u001b[39m\u001b[38;5;124mnumber_of_nodes\u001b[39m\u001b[38;5;124m'\u001b[39m: G\u001b[38;5;241m.\u001b[39mnumber_of_nodes(), \n\u001b[1;32m     25\u001b[0m         \u001b[38;5;124m'\u001b[39m\u001b[38;5;124mnumber_of_edges\u001b[39m\u001b[38;5;124m'\u001b[39m:G\u001b[38;5;241m.\u001b[39mnumber_of_edges(),\n\u001b[1;32m     26\u001b[0m          \u001b[38;5;124m'\u001b[39m\u001b[38;5;124m------\u001b[39m\u001b[38;5;124m'\u001b[39m : \u001b[38;5;124m'\u001b[39m\u001b[38;5;124m------\u001b[39m\u001b[38;5;124m'\u001b[39m,\n\u001b[0;32m---> 27\u001b[0m         \u001b[38;5;124m'\u001b[39m\u001b[38;5;124mis connected\u001b[39m\u001b[38;5;124m'\u001b[39m: \u001b[43mnx\u001b[49m\u001b[38;5;241;43m.\u001b[39;49m\u001b[43mis_connected\u001b[49m\u001b[43m(\u001b[49m\u001b[43mnx\u001b[49m\u001b[38;5;241;43m.\u001b[39;49m\u001b[43mto_undirected\u001b[49m\u001b[43m(\u001b[49m\u001b[43mG\u001b[49m\u001b[43m)\u001b[49m\u001b[43m)\u001b[49m, \n\u001b[1;32m     28\u001b[0m         \u001b[38;5;124m'\u001b[39m\u001b[38;5;124mcomponents\u001b[39m\u001b[38;5;124m'\u001b[39m: \u001b[38;5;28mlen\u001b[39m(\u001b[38;5;28mlist\u001b[39m(nx\u001b[38;5;241m.\u001b[39mconnected_components(nx\u001b[38;5;241m.\u001b[39mto_undirected(G)))),\n\u001b[1;32m     29\u001b[0m         \u001b[38;5;124m'\u001b[39m\u001b[38;5;124mdensity\u001b[39m\u001b[38;5;124m'\u001b[39m: nx\u001b[38;5;241m.\u001b[39mdensity(G)}, sort_dicts\u001b[38;5;241m=\u001b[39m\u001b[38;5;28;01mFalse\u001b[39;00m)\n",
      "File \u001b[0;32m<class 'networkx.utils.decorators.argmap'> compilation 13:4\u001b[0m, in \u001b[0;36margmap_is_connected_9\u001b[0;34m(G, backend, **backend_kwargs)\u001b[0m\n\u001b[1;32m      2\u001b[0m \u001b[38;5;28;01mimport\u001b[39;00m \u001b[38;5;21;01mcollections\u001b[39;00m\n\u001b[1;32m      3\u001b[0m \u001b[38;5;28;01mimport\u001b[39;00m \u001b[38;5;21;01mgzip\u001b[39;00m\n\u001b[0;32m----> 4\u001b[0m \u001b[38;5;28;01mimport\u001b[39;00m \u001b[38;5;21;01minspect\u001b[39;00m\n\u001b[1;32m      5\u001b[0m \u001b[38;5;28;01mimport\u001b[39;00m \u001b[38;5;21;01mitertools\u001b[39;00m\n\u001b[1;32m      6\u001b[0m \u001b[38;5;28;01mimport\u001b[39;00m \u001b[38;5;21;01mre\u001b[39;00m\n",
      "File \u001b[0;32m/opt/jlab-env/lib/python3.12/site-packages/networkx/utils/backends.py:633\u001b[0m, in \u001b[0;36m_dispatchable.__call__\u001b[0;34m(self, backend, *args, **kwargs)\u001b[0m\n\u001b[1;32m    628\u001b[0m \u001b[38;5;250m\u001b[39m\u001b[38;5;124;03m\"\"\"Returns the result of the original function, or the backend function if\u001b[39;00m\n\u001b[1;32m    629\u001b[0m \u001b[38;5;124;03mthe backend is specified and that backend implements `func`.\"\"\"\u001b[39;00m\n\u001b[1;32m    631\u001b[0m \u001b[38;5;28;01mif\u001b[39;00m \u001b[38;5;129;01mnot\u001b[39;00m backends:\n\u001b[1;32m    632\u001b[0m     \u001b[38;5;66;03m# Fast path if no backends are installed\u001b[39;00m\n\u001b[0;32m--> 633\u001b[0m     \u001b[38;5;28;01mreturn\u001b[39;00m \u001b[38;5;28;43mself\u001b[39;49m\u001b[38;5;241;43m.\u001b[39;49m\u001b[43morig_func\u001b[49m\u001b[43m(\u001b[49m\u001b[38;5;241;43m*\u001b[39;49m\u001b[43margs\u001b[49m\u001b[43m,\u001b[49m\u001b[43m \u001b[49m\u001b[38;5;241;43m*\u001b[39;49m\u001b[38;5;241;43m*\u001b[39;49m\u001b[43mkwargs\u001b[49m\u001b[43m)\u001b[49m\n\u001b[1;32m    635\u001b[0m \u001b[38;5;66;03m# Use `backend_name` in this function instead of `backend`\u001b[39;00m\n\u001b[1;32m    636\u001b[0m backend_name \u001b[38;5;241m=\u001b[39m backend\n",
      "File \u001b[0;32m/opt/jlab-env/lib/python3.12/site-packages/networkx/algorithms/components/connected.py:151\u001b[0m, in \u001b[0;36mis_connected\u001b[0;34m(G)\u001b[0m\n\u001b[1;32m    114\u001b[0m \u001b[38;5;250m\u001b[39m\u001b[38;5;124;03m\"\"\"Returns True if the graph is connected, False otherwise.\u001b[39;00m\n\u001b[1;32m    115\u001b[0m \n\u001b[1;32m    116\u001b[0m \u001b[38;5;124;03mParameters\u001b[39;00m\n\u001b[0;32m   (...)\u001b[0m\n\u001b[1;32m    148\u001b[0m \n\u001b[1;32m    149\u001b[0m \u001b[38;5;124;03m\"\"\"\u001b[39;00m\n\u001b[1;32m    150\u001b[0m \u001b[38;5;28;01mif\u001b[39;00m \u001b[38;5;28mlen\u001b[39m(G) \u001b[38;5;241m==\u001b[39m \u001b[38;5;241m0\u001b[39m:\n\u001b[0;32m--> 151\u001b[0m     \u001b[38;5;28;01mraise\u001b[39;00m nx\u001b[38;5;241m.\u001b[39mNetworkXPointlessConcept(\n\u001b[1;32m    152\u001b[0m         \u001b[38;5;124m\"\u001b[39m\u001b[38;5;124mConnectivity is undefined for the null graph.\u001b[39m\u001b[38;5;124m\"\u001b[39m\n\u001b[1;32m    153\u001b[0m     )\n\u001b[1;32m    154\u001b[0m \u001b[38;5;28;01mreturn\u001b[39;00m \u001b[38;5;28msum\u001b[39m(\u001b[38;5;241m1\u001b[39m \u001b[38;5;28;01mfor\u001b[39;00m node \u001b[38;5;129;01min\u001b[39;00m _plain_bfs(G, arbitrary_element(G))) \u001b[38;5;241m==\u001b[39m \u001b[38;5;28mlen\u001b[39m(G)\n",
      "\u001b[0;31mNetworkXPointlessConcept\u001b[0m: Connectivity is undefined for the null graph."
     ]
    }
   ],
   "source": [
    "edu_graph_p=nx.Graph()\n",
    "\n",
    "## Add relationships to graph\n",
    "# Multiple rows between two edges are taken only once\n",
    "edu_graph_p.add_edges_from(l)\n",
    "\n",
    "naf.basic_graph_properties(edu_graph_p)\n",
    "\n",
    "### Create a list of graphs, one per component\n",
    "edu_graph_p_S = [edu_graph_p.subgraph(c).copy() for c in nx.connected_components(edu_graph_p)]\n",
    "\n",
    "### i is the component index in the list S of graphs , len(s.nodes) is the nomber of nodes\n",
    "ln = sorted([[i,len(s.nodes)] for i,s in enumerate(edu_graph_p_S)], key = lambda row: row[1], reverse=True)\n",
    "print(ln[:5])"
   ]
  },
  {
   "cell_type": "code",
   "execution_count": 170,
   "metadata": {
    "execution": {
     "iopub.execute_input": "2025-05-24T14:05:04.081573Z",
     "iopub.status.busy": "2025-05-24T14:05:04.080632Z",
     "iopub.status.idle": "2025-05-24T14:05:04.119790Z",
     "shell.execute_reply": "2025-05-24T14:05:04.117917Z",
     "shell.execute_reply.started": "2025-05-24T14:05:04.081495Z"
    }
   },
   "outputs": [
    {
     "ename": "KeyError",
     "evalue": "1",
     "output_type": "error",
     "traceback": [
      "\u001b[0;31m---------------------------------------------------------------------------\u001b[0m",
      "\u001b[0;31mKeyError\u001b[0m                                  Traceback (most recent call last)",
      "Cell \u001b[0;32mIn[170], line 3\u001b[0m\n\u001b[1;32m      1\u001b[0m \u001b[38;5;66;03m### test if second component is significantly smaller \u001b[39;00m\n\u001b[1;32m      2\u001b[0m \u001b[38;5;66;03m# than first\u001b[39;00m\n\u001b[0;32m----> 3\u001b[0m \u001b[38;5;28;01mif\u001b[39;00m \u001b[43mln\u001b[49m\u001b[43m[\u001b[49m\u001b[38;5;241;43m1\u001b[39;49m\u001b[43m]\u001b[49m[\u001b[38;5;241m1\u001b[39m]\u001b[38;5;241m*\u001b[39m\u001b[38;5;241m20\u001b[39m \u001b[38;5;241m<\u001b[39m ln[\u001b[38;5;241m0\u001b[39m][\u001b[38;5;241m1\u001b[39m]:\n\u001b[1;32m      4\u001b[0m     \u001b[38;5;28mprint\u001b[39m(\u001b[38;5;124m'\u001b[39m\u001b[38;5;124mJust one big component\u001b[39m\u001b[38;5;124m'\u001b[39m)\n\u001b[1;32m      5\u001b[0m \u001b[38;5;28;01melse\u001b[39;00m :\n",
      "\u001b[0;31mKeyError\u001b[0m: 1"
     ]
    }
   ],
   "source": [
    "### test if second component is significantly smaller \n",
    "# than first\n",
    "if ln[1][1]*20 < ln[0][1]:\n",
    "    print('Just one big component')\n",
    "else :\n",
    "    print('Beware: more than one big component !')    "
   ]
  },
  {
   "cell_type": "code",
   "execution_count": 171,
   "metadata": {
    "execution": {
     "iopub.execute_input": "2025-05-24T14:05:05.962439Z",
     "iopub.status.busy": "2025-05-24T14:05:05.961097Z",
     "iopub.status.idle": "2025-05-24T14:05:06.001372Z",
     "shell.execute_reply": "2025-05-24T14:05:05.999251Z",
     "shell.execute_reply.started": "2025-05-24T14:05:05.962316Z"
    }
   },
   "outputs": [
    {
     "ename": "NameError",
     "evalue": "name 'edu_graph_p_S' is not defined",
     "output_type": "error",
     "traceback": [
      "\u001b[0;31m---------------------------------------------------------------------------\u001b[0m",
      "\u001b[0;31mNameError\u001b[0m                                 Traceback (most recent call last)",
      "Cell \u001b[0;32mIn[171], line 2\u001b[0m\n\u001b[1;32m      1\u001b[0m \u001b[38;5;66;03m### Alternative way with just one graph\u001b[39;00m\n\u001b[0;32m----> 2\u001b[0m pG \u001b[38;5;241m=\u001b[39m \u001b[43medu_graph_p_S\u001b[49m[\u001b[38;5;241m0\u001b[39m]\n\u001b[1;32m      3\u001b[0m naf\u001b[38;5;241m.\u001b[39mbasic_graph_properties(pG)\n",
      "\u001b[0;31mNameError\u001b[0m: name 'edu_graph_p_S' is not defined"
     ]
    }
   ],
   "source": [
    "### Alternative way with just one graph\n",
    "pG = edu_graph_p_S[0]\n",
    "naf.basic_graph_properties(pG)"
   ]
  },
  {
   "cell_type": "code",
   "execution_count": null,
   "metadata": {},
   "outputs": [],
   "source": []
  },
  {
   "cell_type": "code",
   "execution_count": 172,
   "metadata": {
    "execution": {
     "iopub.execute_input": "2025-05-24T14:05:09.041107Z",
     "iopub.status.busy": "2025-05-24T14:05:09.040203Z",
     "iopub.status.idle": "2025-05-24T14:05:09.067921Z",
     "shell.execute_reply": "2025-05-24T14:05:09.066144Z",
     "shell.execute_reply.started": "2025-05-24T14:05:09.041030Z"
    }
   },
   "outputs": [
    {
     "data": {
      "text/html": [
       "<div>\n",
       "<style scoped>\n",
       "    .dataframe tbody tr th:only-of-type {\n",
       "        vertical-align: middle;\n",
       "    }\n",
       "\n",
       "    .dataframe tbody tr th {\n",
       "        vertical-align: top;\n",
       "    }\n",
       "\n",
       "    .dataframe thead th {\n",
       "        text-align: right;\n",
       "    }\n",
       "</style>\n",
       "<table border=\"1\" class=\"dataframe\">\n",
       "  <thead>\n",
       "    <tr style=\"text-align: right;\">\n",
       "      <th></th>\n",
       "      <th>uriOrg</th>\n",
       "      <th>labelOrg</th>\n",
       "      <th>orgMainType</th>\n",
       "      <th>periods</th>\n",
       "      <th>period_members_number</th>\n",
       "    </tr>\n",
       "  </thead>\n",
       "  <tbody>\n",
       "    <tr>\n",
       "      <th>35</th>\n",
       "      <td>http://www.wikidata.org/entity/Q1128819</td>\n",
       "      <td>United States Naval Test Pilot School</td>\n",
       "      <td>educational institution</td>\n",
       "      <td>1941-1960</td>\n",
       "      <td>43</td>\n",
       "    </tr>\n",
       "    <tr>\n",
       "      <th>419</th>\n",
       "      <td>http://www.wikidata.org/entity/Q3428253</td>\n",
       "      <td>U.S. Air Force Test Pilot School</td>\n",
       "      <td>educational institution</td>\n",
       "      <td>1941-1960</td>\n",
       "      <td>41</td>\n",
       "    </tr>\n",
       "  </tbody>\n",
       "</table>\n",
       "</div>"
      ],
      "text/plain": [
       "                                      uriOrg  \\\n",
       "35   http://www.wikidata.org/entity/Q1128819   \n",
       "419  http://www.wikidata.org/entity/Q3428253   \n",
       "\n",
       "                                  labelOrg              orgMainType  \\\n",
       "35   United States Naval Test Pilot School  educational institution   \n",
       "419       U.S. Air Force Test Pilot School  educational institution   \n",
       "\n",
       "       periods  period_members_number  \n",
       "35   1941-1960                     43  \n",
       "419  1941-1960                     41  "
      ]
     },
     "execution_count": 172,
     "metadata": {},
     "output_type": "execute_result"
    }
   ],
   "source": [
    "df_orgPeriod.sort_values(by='period_members_number', ascending=False).head(2)"
   ]
  },
  {
   "cell_type": "code",
   "execution_count": 173,
   "metadata": {
    "execution": {
     "iopub.execute_input": "2025-05-24T14:05:09.468741Z",
     "iopub.status.busy": "2025-05-24T14:05:09.467856Z",
     "iopub.status.idle": "2025-05-24T14:05:09.496745Z",
     "shell.execute_reply": "2025-05-24T14:05:09.495218Z",
     "shell.execute_reply.started": "2025-05-24T14:05:09.468665Z"
    }
   },
   "outputs": [
    {
     "data": {
      "text/html": [
       "<div>\n",
       "<style scoped>\n",
       "    .dataframe tbody tr th:only-of-type {\n",
       "        vertical-align: middle;\n",
       "    }\n",
       "\n",
       "    .dataframe tbody tr th {\n",
       "        vertical-align: top;\n",
       "    }\n",
       "\n",
       "    .dataframe thead th {\n",
       "        text-align: right;\n",
       "    }\n",
       "</style>\n",
       "<table border=\"1\" class=\"dataframe\">\n",
       "  <thead>\n",
       "    <tr style=\"text-align: right;\">\n",
       "      <th></th>\n",
       "      <th>uri</th>\n",
       "      <th>label</th>\n",
       "      <th>mainType</th>\n",
       "      <th>membersNumber</th>\n",
       "    </tr>\n",
       "  </thead>\n",
       "  <tbody>\n",
       "    <tr>\n",
       "      <th>0</th>\n",
       "      <td>http://www.wikidata.org/entity/Q102398197</td>\n",
       "      <td>Faculty of Law, German University in Prague</td>\n",
       "      <td>university</td>\n",
       "      <td>1</td>\n",
       "    </tr>\n",
       "    <tr>\n",
       "      <th>344</th>\n",
       "      <td>http://www.wikidata.org/entity/Q238101</td>\n",
       "      <td>University of Minnesota</td>\n",
       "      <td>university</td>\n",
       "      <td>1</td>\n",
       "    </tr>\n",
       "    <tr>\n",
       "      <th>465</th>\n",
       "      <td>http://www.wikidata.org/entity/Q4129735</td>\n",
       "      <td>Higher school of glider flying</td>\n",
       "      <td>educational institution</td>\n",
       "      <td>1</td>\n",
       "    </tr>\n",
       "    <tr>\n",
       "      <th>650</th>\n",
       "      <td>http://www.wikidata.org/entity/Q5061177</td>\n",
       "      <td>Central High School</td>\n",
       "      <td>educational institution</td>\n",
       "      <td>1</td>\n",
       "    </tr>\n",
       "  </tbody>\n",
       "</table>\n",
       "</div>"
      ],
      "text/plain": [
       "                                           uri  \\\n",
       "0    http://www.wikidata.org/entity/Q102398197   \n",
       "344     http://www.wikidata.org/entity/Q238101   \n",
       "465    http://www.wikidata.org/entity/Q4129735   \n",
       "650    http://www.wikidata.org/entity/Q5061177   \n",
       "\n",
       "                                           label                 mainType  \\\n",
       "0    Faculty of Law, German University in Prague               university   \n",
       "344                      University of Minnesota               university   \n",
       "465               Higher school of glider flying  educational institution   \n",
       "650                          Central High School  educational institution   \n",
       "\n",
       "     membersNumber  \n",
       "0                1  \n",
       "344              1  \n",
       "465              1  \n",
       "650              1  "
      ]
     },
     "execution_count": 173,
     "metadata": {},
     "output_type": "execute_result"
    }
   ],
   "source": [
    "df_opl = df_orgPeriod[df_orgPeriod.periods==p][['uriOrg', 'labelOrg', 'orgMainType', 'period_members_number']]\n",
    "df_opl.columns=['uri', 'label', 'mainType', 'membersNumber']\n",
    "df_opl.head()\n"
   ]
  },
  {
   "cell_type": "code",
   "execution_count": 174,
   "metadata": {
    "execution": {
     "iopub.execute_input": "2025-05-24T14:05:10.200140Z",
     "iopub.status.busy": "2025-05-24T14:05:10.199236Z",
     "iopub.status.idle": "2025-05-24T14:05:10.242150Z",
     "shell.execute_reply": "2025-05-24T14:05:10.240398Z",
     "shell.execute_reply.started": "2025-05-24T14:05:10.200062Z"
    }
   },
   "outputs": [
    {
     "ename": "NameError",
     "evalue": "name 'pG' is not defined",
     "output_type": "error",
     "traceback": [
      "\u001b[0;31m---------------------------------------------------------------------------\u001b[0m",
      "\u001b[0;31mNameError\u001b[0m                                 Traceback (most recent call last)",
      "Cell \u001b[0;32mIn[174], line 7\u001b[0m\n\u001b[1;32m      2\u001b[0m ln \u001b[38;5;241m=\u001b[39m \u001b[38;5;28mdict\u001b[39m([(e[\u001b[38;5;124m'\u001b[39m\u001b[38;5;124muri\u001b[39m\u001b[38;5;124m'\u001b[39m],\n\u001b[1;32m      3\u001b[0m      {\u001b[38;5;124m'\u001b[39m\u001b[38;5;124mlabel\u001b[39m\u001b[38;5;124m'\u001b[39m:e[\u001b[38;5;124m'\u001b[39m\u001b[38;5;124mlabel\u001b[39m\u001b[38;5;124m'\u001b[39m], \u001b[38;5;124m'\u001b[39m\u001b[38;5;124mmainType\u001b[39m\u001b[38;5;124m'\u001b[39m:e[\u001b[38;5;124m'\u001b[39m\u001b[38;5;124mmainType\u001b[39m\u001b[38;5;124m'\u001b[39m],\n\u001b[1;32m      4\u001b[0m                         \u001b[38;5;124m'\u001b[39m\u001b[38;5;124mmembersNumber\u001b[39m\u001b[38;5;124m'\u001b[39m:e[\u001b[38;5;124m'\u001b[39m\u001b[38;5;124mmembersNumber\u001b[39m\u001b[38;5;124m'\u001b[39m]}\n\u001b[1;32m      5\u001b[0m      ) \u001b[38;5;28;01mfor\u001b[39;00m e \u001b[38;5;129;01min\u001b[39;00m df_opl\u001b[38;5;241m.\u001b[39mto_dict(orient\u001b[38;5;241m=\u001b[39m\u001b[38;5;124m'\u001b[39m\u001b[38;5;124mrecords\u001b[39m\u001b[38;5;124m'\u001b[39m)])\n\u001b[1;32m      6\u001b[0m \u001b[38;5;66;03m## Add attributes\u001b[39;00m\n\u001b[0;32m----> 7\u001b[0m nx\u001b[38;5;241m.\u001b[39mset_node_attributes(\u001b[43mpG\u001b[49m, ln)\n\u001b[1;32m      8\u001b[0m pprint\u001b[38;5;241m.\u001b[39mpprint(\u001b[38;5;28mlist\u001b[39m(pG\u001b[38;5;241m.\u001b[39mnodes\u001b[38;5;241m.\u001b[39mdata())[:\u001b[38;5;241m2\u001b[39m])\n",
      "\u001b[0;31mNameError\u001b[0m: name 'pG' is not defined"
     ]
    }
   ],
   "source": [
    "### Prepare data to add to nodes\n",
    "ln = dict([(e['uri'],\n",
    "     {'label':e['label'], 'mainType':e['mainType'],\n",
    "                        'membersNumber':e['membersNumber']}\n",
    "     ) for e in df_opl.to_dict(orient='records')])\n",
    "## Add attributes\n",
    "nx.set_node_attributes(pG, ln)\n",
    "pprint.pprint(list(pG.nodes.data())[:2])\n"
   ]
  },
  {
   "cell_type": "code",
   "execution_count": 175,
   "metadata": {
    "execution": {
     "iopub.execute_input": "2025-05-24T14:05:11.840520Z",
     "iopub.status.busy": "2025-05-24T14:05:11.838457Z",
     "iopub.status.idle": "2025-05-24T14:05:11.879090Z",
     "shell.execute_reply": "2025-05-24T14:05:11.877250Z",
     "shell.execute_reply.started": "2025-05-24T14:05:11.840435Z"
    }
   },
   "outputs": [
    {
     "ename": "NameError",
     "evalue": "name 'pG' is not defined",
     "output_type": "error",
     "traceback": [
      "\u001b[0;31m---------------------------------------------------------------------------\u001b[0m",
      "\u001b[0;31mNameError\u001b[0m                                 Traceback (most recent call last)",
      "Cell \u001b[0;32mIn[175], line 1\u001b[0m\n\u001b[0;32m----> 1\u001b[0m mn_s \u001b[38;5;241m=\u001b[39m pd\u001b[38;5;241m.\u001b[39mSeries([n[\u001b[38;5;241m1\u001b[39m][\u001b[38;5;124m'\u001b[39m\u001b[38;5;124mmainType\u001b[39m\u001b[38;5;124m'\u001b[39m] \u001b[38;5;28;01mfor\u001b[39;00m n \u001b[38;5;129;01min\u001b[39;00m \u001b[43mpG\u001b[49m\u001b[38;5;241m.\u001b[39mnodes\u001b[38;5;241m.\u001b[39mdata()])\n\u001b[1;32m      2\u001b[0m mn_s\u001b[38;5;241m.\u001b[39mgroupby(by\u001b[38;5;241m=\u001b[39mmn_s)\u001b[38;5;241m.\u001b[39msize()\u001b[38;5;241m.\u001b[39msort_values(ascending\u001b[38;5;241m=\u001b[39m\u001b[38;5;28;01mFalse\u001b[39;00m)\n",
      "\u001b[0;31mNameError\u001b[0m: name 'pG' is not defined"
     ]
    }
   ],
   "source": [
    "mn_s = pd.Series([n[1]['mainType'] for n in pG.nodes.data()])\n",
    "mn_s.groupby(by=mn_s).size().sort_values(ascending=False)\n"
   ]
  },
  {
   "cell_type": "markdown",
   "metadata": {},
   "source": [
    "####  Create dataframe and inspect node properties"
   ]
  },
  {
   "cell_type": "code",
   "execution_count": 176,
   "metadata": {
    "execution": {
     "iopub.execute_input": "2025-05-24T14:05:14.124234Z",
     "iopub.status.busy": "2025-05-24T14:05:14.122385Z",
     "iopub.status.idle": "2025-05-24T14:05:14.162966Z",
     "shell.execute_reply": "2025-05-24T14:05:14.161009Z",
     "shell.execute_reply.started": "2025-05-24T14:05:14.124151Z"
    }
   },
   "outputs": [
    {
     "ename": "NameError",
     "evalue": "name 'pG' is not defined",
     "output_type": "error",
     "traceback": [
      "\u001b[0;31m---------------------------------------------------------------------------\u001b[0m",
      "\u001b[0;31mNameError\u001b[0m                                 Traceback (most recent call last)",
      "Cell \u001b[0;32mIn[176], line 2\u001b[0m\n\u001b[1;32m      1\u001b[0m \u001b[38;5;66;03m### Eigenvector\u001b[39;00m\n\u001b[0;32m----> 2\u001b[0m le \u001b[38;5;241m=\u001b[39m \u001b[38;5;28mlist\u001b[39m(nx\u001b[38;5;241m.\u001b[39meigenvector_centrality(\u001b[43mpG\u001b[49m, \n\u001b[1;32m      3\u001b[0m                         max_iter\u001b[38;5;241m=\u001b[39m\u001b[38;5;241m200\u001b[39m, weight\u001b[38;5;241m=\u001b[39m\u001b[38;5;124m'\u001b[39m\u001b[38;5;124mweight\u001b[39m\u001b[38;5;124m'\u001b[39m)\u001b[38;5;241m.\u001b[39mitems())\n\u001b[1;32m      4\u001b[0m nx\u001b[38;5;241m.\u001b[39mset_node_attributes(pG, \u001b[38;5;28mdict\u001b[39m(le), \u001b[38;5;124m'\u001b[39m\u001b[38;5;124meigenvector\u001b[39m\u001b[38;5;124m'\u001b[39m)\n\u001b[1;32m      5\u001b[0m pprint\u001b[38;5;241m.\u001b[39mpprint(\u001b[38;5;28mlist\u001b[39m(pG\u001b[38;5;241m.\u001b[39mnodes\u001b[38;5;241m.\u001b[39mdata())[:\u001b[38;5;241m1\u001b[39m])\n",
      "\u001b[0;31mNameError\u001b[0m: name 'pG' is not defined"
     ]
    }
   ],
   "source": [
    "### Eigenvector\n",
    "le = list(nx.eigenvector_centrality(pG, \n",
    "                        max_iter=200, weight='weight').items())\n",
    "nx.set_node_attributes(pG, dict(le), 'eigenvector')\n",
    "pprint.pprint(list(pG.nodes.data())[:1])"
   ]
  },
  {
   "cell_type": "code",
   "execution_count": 177,
   "metadata": {
    "execution": {
     "iopub.execute_input": "2025-05-24T14:05:15.416042Z",
     "iopub.status.busy": "2025-05-24T14:05:15.414520Z",
     "iopub.status.idle": "2025-05-24T14:05:15.455464Z",
     "shell.execute_reply": "2025-05-24T14:05:15.453574Z",
     "shell.execute_reply.started": "2025-05-24T14:05:15.415960Z"
    }
   },
   "outputs": [
    {
     "ename": "NameError",
     "evalue": "name 'pG' is not defined",
     "output_type": "error",
     "traceback": [
      "\u001b[0;31m---------------------------------------------------------------------------\u001b[0m",
      "\u001b[0;31mNameError\u001b[0m                                 Traceback (most recent call last)",
      "Cell \u001b[0;32mIn[177], line 2\u001b[0m\n\u001b[1;32m      1\u001b[0m \u001b[38;5;66;03m### Betweenness\u001b[39;00m\n\u001b[0;32m----> 2\u001b[0m lb \u001b[38;5;241m=\u001b[39m \u001b[38;5;28mlist\u001b[39m(nx\u001b[38;5;241m.\u001b[39mbetweenness_centrality(\u001b[43mpG\u001b[49m, weight\u001b[38;5;241m=\u001b[39m\u001b[38;5;124m'\u001b[39m\u001b[38;5;124mweight\u001b[39m\u001b[38;5;124m'\u001b[39m)\u001b[38;5;241m.\u001b[39mitems())\n\u001b[1;32m      3\u001b[0m nx\u001b[38;5;241m.\u001b[39mset_node_attributes(pG, \u001b[38;5;28mdict\u001b[39m(lb), \u001b[38;5;124m'\u001b[39m\u001b[38;5;124mbetweenness\u001b[39m\u001b[38;5;124m'\u001b[39m)\n\u001b[1;32m      4\u001b[0m pprint\u001b[38;5;241m.\u001b[39mpprint(\u001b[38;5;28mlist\u001b[39m(pG\u001b[38;5;241m.\u001b[39mnodes\u001b[38;5;241m.\u001b[39mdata())[:\u001b[38;5;241m1\u001b[39m])\n",
      "\u001b[0;31mNameError\u001b[0m: name 'pG' is not defined"
     ]
    }
   ],
   "source": [
    "### Betweenness\n",
    "lb = list(nx.betweenness_centrality(pG, weight='weight').items())\n",
    "nx.set_node_attributes(pG, dict(lb), 'betweenness')\n",
    "pprint.pprint(list(pG.nodes.data())[:1])\n"
   ]
  },
  {
   "cell_type": "code",
   "execution_count": 178,
   "metadata": {
    "execution": {
     "iopub.execute_input": "2025-05-24T14:05:16.236336Z",
     "iopub.status.busy": "2025-05-24T14:05:16.233467Z",
     "iopub.status.idle": "2025-05-24T14:05:16.275035Z",
     "shell.execute_reply": "2025-05-24T14:05:16.273182Z",
     "shell.execute_reply.started": "2025-05-24T14:05:16.236248Z"
    }
   },
   "outputs": [
    {
     "ename": "NameError",
     "evalue": "name 'pG' is not defined",
     "output_type": "error",
     "traceback": [
      "\u001b[0;31m---------------------------------------------------------------------------\u001b[0m",
      "\u001b[0;31mNameError\u001b[0m                                 Traceback (most recent call last)",
      "Cell \u001b[0;32mIn[178], line 2\u001b[0m\n\u001b[1;32m      1\u001b[0m \u001b[38;5;66;03m### Export node attributes to dataframe\u001b[39;00m\n\u001b[0;32m----> 2\u001b[0m nodes_data \u001b[38;5;241m=\u001b[39m{node: pG\u001b[38;5;241m.\u001b[39mnodes[node] \u001b[38;5;28;01mfor\u001b[39;00m node \u001b[38;5;129;01min\u001b[39;00m \u001b[43mpG\u001b[49m\u001b[38;5;241m.\u001b[39mnodes}\n\u001b[1;32m      3\u001b[0m nodes_df \u001b[38;5;241m=\u001b[39m pd\u001b[38;5;241m.\u001b[39mDataFrame(nodes_data)\u001b[38;5;241m.\u001b[39mT\n\u001b[1;32m      4\u001b[0m nodes_df\u001b[38;5;241m.\u001b[39mreset_index(inplace\u001b[38;5;241m=\u001b[39m\u001b[38;5;28;01mTrue\u001b[39;00m, names\u001b[38;5;241m=\u001b[39m\u001b[38;5;124m'\u001b[39m\u001b[38;5;124mid\u001b[39m\u001b[38;5;124m'\u001b[39m)\n",
      "\u001b[0;31mNameError\u001b[0m: name 'pG' is not defined"
     ]
    }
   ],
   "source": [
    "### Export node attributes to dataframe\n",
    "nodes_data ={node: pG.nodes[node] for node in pG.nodes}\n",
    "nodes_df = pd.DataFrame(nodes_data).T\n",
    "nodes_df.reset_index(inplace=True, names='id')\n",
    "nodes_df.head(2)\n"
   ]
  },
  {
   "cell_type": "code",
   "execution_count": 179,
   "metadata": {
    "execution": {
     "iopub.execute_input": "2025-05-24T14:05:16.930913Z",
     "iopub.status.busy": "2025-05-24T14:05:16.929078Z",
     "iopub.status.idle": "2025-05-24T14:05:16.943955Z",
     "shell.execute_reply": "2025-05-24T14:05:16.942157Z",
     "shell.execute_reply.started": "2025-05-24T14:05:16.930788Z"
    }
   },
   "outputs": [
    {
     "name": "stdout",
     "output_type": "stream",
     "text": [
      "{'private university': 'DeepSkyBlue',\n",
      " 'public university': 'red',\n",
      " 'university': 'DarkSeaGreen'}\n"
     ]
    }
   ],
   "source": [
    "### List found on p. 121, some colors added\n",
    "col_list = [\n",
    "('university', 'DarkSeaGreen'), \n",
    "('public university', 'red'), \n",
    "('private university', 'DeepSkyBlue')\n",
    "]\n",
    "color_map=dict([(c[0], (c[1])) for c in col_list])\n",
    "pprint.pprint(color_map)"
   ]
  },
  {
   "cell_type": "code",
   "execution_count": 180,
   "metadata": {
    "execution": {
     "iopub.execute_input": "2025-05-24T14:05:17.836647Z",
     "iopub.status.busy": "2025-05-24T14:05:17.836041Z",
     "iopub.status.idle": "2025-05-24T14:05:17.849791Z",
     "shell.execute_reply": "2025-05-24T14:05:17.847908Z",
     "shell.execute_reply.started": "2025-05-24T14:05:17.836615Z"
    }
   },
   "outputs": [],
   "source": [
    "### Create a function that plots the comparison between values and properties\n",
    "\n",
    "def compare_with_scatter_plot(dataframe, value_1, value_2, point_column,point_ratio=1, \n",
    "                              c_category='', color_map='', figsize=(12,12), \n",
    "                              legend_loc='upper right',title='', \n",
    "                              n_label ='', label_cut_value=''):\n",
    "\n",
    "    ### https://matplotlib.org/stable/api/_as_gen/matplotlib.pyplot.scatter.html\n",
    "    # Different colors per class : https://vitalflux.com/python-scatter-plot-different-classes/\n",
    "    # Legend : https://matplotlib.org/stable/api/_as_gen/matplotlib.pyplot.legend.html\n",
    "    # Labels : https://stackoverflow.com/questions/14432557/matplotlib-scatter-plot-with-different-text-at-each-data-point\n",
    "\n",
    "\n",
    "\n",
    "    df=dataframe\n",
    "    # df_extr=nodes_df[nodes_df.betweenness > 0].sort_values(by='betweenness', ascending=False)\n",
    "\n",
    "    alpha=0.7\n",
    "\n",
    "    ### Manage point colors:\n",
    "    # https://kanoki.org/2020/08/30/matplotlib-scatter-plot-color-by-category-in-python/\n",
    "\n",
    "    plt.figure(figsize=figsize)\n",
    "\n",
    "\n",
    "    ### Create lists of colors and labels\n",
    "    colors = [color_map[category] for category in df[c_category]]\n",
    " \n",
    "\n",
    "\n",
    "\n",
    "    ax = plt.scatter(df[value_1],\n",
    "                df[value_2],\n",
    "            marker='o',\n",
    "            s = [v*point_ratio for i,v in df[point_column].items()],\n",
    "            color=colors,        \n",
    "            alpha=alpha)\n",
    "    plt.xlabel(value_1.capitalize())\n",
    "    plt.ylabel(value_2.capitalize())\n",
    "\n",
    "\n",
    "\n",
    "\n",
    "\n",
    "\n",
    "    ### Labels\n",
    "    test_v1 = df[value_1].quantile([0.98]).item()\n",
    "    test_v2 = df[value_2].quantile([0.98]).item()\n",
    "    print(test_v1,test_v2)\n",
    "\n",
    "\n",
    "    if len(n_label)>0:\n",
    "        for i,row in list(df.loc[(df[value_1]>test_v1)|(df[value_2]>test_v2)]\\\n",
    "                          [[n_label,value_1,value_2]].iterrows()):\n",
    "            plt.annotate(row[n_label][:30],(row[value_1], row[value_2]), fontsize=6)\n",
    "\n",
    "    plt.legend(handles=[plt.Line2D([0], [0], marker='o', color='w', \n",
    "                            label=label, markerfacecolor=color, \n",
    "                            markersize=8, alpha=alpha\n",
    "                            ) for label, color in color_map.items()],\n",
    "                            loc=legend_loc, fontsize=8)\n",
    "    plt.tight_layout() # rect=[0,0,0.8,1]\n",
    "\n",
    "    plt.title(title)\n",
    "\n",
    "    # plt.savefig('plots/revenus_eigenvector_20210526.jpg')\n",
    "    plt.show()"
   ]
  },
  {
   "cell_type": "code",
   "execution_count": 181,
   "metadata": {
    "execution": {
     "iopub.execute_input": "2025-05-24T14:05:18.413014Z",
     "iopub.status.busy": "2025-05-24T14:05:18.412071Z",
     "iopub.status.idle": "2025-05-24T14:05:18.455668Z",
     "shell.execute_reply": "2025-05-24T14:05:18.453774Z",
     "shell.execute_reply.started": "2025-05-24T14:05:18.412835Z"
    }
   },
   "outputs": [
    {
     "ename": "NameError",
     "evalue": "name 'nodes_df' is not defined",
     "output_type": "error",
     "traceback": [
      "\u001b[0;31m---------------------------------------------------------------------------\u001b[0m",
      "\u001b[0;31mNameError\u001b[0m                                 Traceback (most recent call last)",
      "Cell \u001b[0;32mIn[181], line 1\u001b[0m\n\u001b[0;32m----> 1\u001b[0m compare_with_scatter_plot(\u001b[43mnodes_df\u001b[49m, \u001b[38;5;124m'\u001b[39m\u001b[38;5;124meigenvector\u001b[39m\u001b[38;5;124m'\u001b[39m, \u001b[38;5;124m'\u001b[39m\u001b[38;5;124mbetweenness\u001b[39m\u001b[38;5;124m'\u001b[39m, \u001b[38;5;124m'\u001b[39m\u001b[38;5;124mmembersNumber\u001b[39m\u001b[38;5;124m'\u001b[39m, \n\u001b[1;32m      2\u001b[0m                           point_ratio\u001b[38;5;241m=\u001b[39m\u001b[38;5;241m3\u001b[39m, c_category\u001b[38;5;241m=\u001b[39m\u001b[38;5;124m'\u001b[39m\u001b[38;5;124mmainType\u001b[39m\u001b[38;5;124m'\u001b[39m,\n\u001b[1;32m      3\u001b[0m                           color_map\u001b[38;5;241m=\u001b[39mcolor_map, figsize\u001b[38;5;241m=\u001b[39m(\u001b[38;5;241m5\u001b[39m,\u001b[38;5;241m4\u001b[39m), \n\u001b[1;32m      4\u001b[0m                           legend_loc\u001b[38;5;241m=\u001b[39m\u001b[38;5;124m'\u001b[39m\u001b[38;5;124mupper right\u001b[39m\u001b[38;5;124m'\u001b[39m, \n\u001b[1;32m      5\u001b[0m                           title\u001b[38;5;241m=\u001b[39m\u001b[38;5;124m'\u001b[39m\u001b[38;5;124mEigenvector vs betweenness, with number of persons\u001b[39m\u001b[38;5;124m'\u001b[39m, \n\u001b[1;32m      6\u001b[0m                           n_label\u001b[38;5;241m=\u001b[39m\u001b[38;5;124m'\u001b[39m\u001b[38;5;124mlabel\u001b[39m\u001b[38;5;124m'\u001b[39m, label_cut_value\u001b[38;5;241m=\u001b[39m\u001b[38;5;124m'\u001b[39m\u001b[38;5;124mmembersNumber\u001b[39m\u001b[38;5;124m'\u001b[39m )\n\u001b[1;32m      8\u001b[0m corr_spear \u001b[38;5;241m=\u001b[39m nodes_df[[\u001b[38;5;124m'\u001b[39m\u001b[38;5;124meigenvector\u001b[39m\u001b[38;5;124m'\u001b[39m, \u001b[38;5;124m'\u001b[39m\u001b[38;5;124mbetweenness\u001b[39m\u001b[38;5;124m'\u001b[39m]]\u001b[38;5;241m.\u001b[39mcorr(method\u001b[38;5;241m=\u001b[39m\u001b[38;5;124m\"\u001b[39m\u001b[38;5;124mspearman\u001b[39m\u001b[38;5;124m\"\u001b[39m)\n\u001b[1;32m      9\u001b[0m \u001b[38;5;28mprint\u001b[39m(\u001b[38;5;124m\"\u001b[39m\u001b[38;5;124mSpearman\u001b[39m\u001b[38;5;124m'\u001b[39m\u001b[38;5;124ms rank correlation: \u001b[39m\u001b[38;5;132;01m{}\u001b[39;00m\u001b[38;5;124m\"\u001b[39m\u001b[38;5;241m.\u001b[39mformat(corr_spear\u001b[38;5;241m.\u001b[39miloc[\u001b[38;5;241m0\u001b[39m,\u001b[38;5;241m1\u001b[39m]))\n",
      "\u001b[0;31mNameError\u001b[0m: name 'nodes_df' is not defined"
     ]
    }
   ],
   "source": [
    "compare_with_scatter_plot(nodes_df, 'eigenvector', 'betweenness', 'membersNumber', \n",
    "                          point_ratio=3, c_category='mainType',\n",
    "                          color_map=color_map, figsize=(5,4), \n",
    "                          legend_loc='upper right', \n",
    "                          title='Eigenvector vs betweenness, with number of persons', \n",
    "                          n_label='label', label_cut_value='membersNumber' )\n",
    "\n",
    "corr_spear = nodes_df[['eigenvector', 'betweenness']].corr(method=\"spearman\")\n",
    "print(\"Spearman's rank correlation: {}\".format(corr_spear.iloc[0,1]))"
   ]
  },
  {
   "cell_type": "code",
   "execution_count": 182,
   "metadata": {
    "execution": {
     "iopub.execute_input": "2025-05-24T14:05:19.236058Z",
     "iopub.status.busy": "2025-05-24T14:05:19.234551Z",
     "iopub.status.idle": "2025-05-24T14:05:19.269763Z",
     "shell.execute_reply": "2025-05-24T14:05:19.268528Z",
     "shell.execute_reply.started": "2025-05-24T14:05:19.235973Z"
    }
   },
   "outputs": [
    {
     "ename": "NameError",
     "evalue": "name 'nodes_df' is not defined",
     "output_type": "error",
     "traceback": [
      "\u001b[0;31m---------------------------------------------------------------------------\u001b[0m",
      "\u001b[0;31mNameError\u001b[0m                                 Traceback (most recent call last)",
      "Cell \u001b[0;32mIn[182], line 1\u001b[0m\n\u001b[0;32m----> 1\u001b[0m \u001b[38;5;28mlist\u001b[39m(\u001b[43mnodes_df\u001b[49m\u001b[38;5;241m.\u001b[39mcolumns)\n",
      "\u001b[0;31mNameError\u001b[0m: name 'nodes_df' is not defined"
     ]
    }
   ],
   "source": [
    "list(nodes_df.columns)"
   ]
  },
  {
   "cell_type": "code",
   "execution_count": 183,
   "metadata": {
    "execution": {
     "iopub.execute_input": "2025-05-24T14:05:23.411776Z",
     "iopub.status.busy": "2025-05-24T14:05:23.410714Z",
     "iopub.status.idle": "2025-05-24T14:05:23.453059Z",
     "shell.execute_reply": "2025-05-24T14:05:23.451617Z",
     "shell.execute_reply.started": "2025-05-24T14:05:23.411694Z"
    }
   },
   "outputs": [
    {
     "name": "stdout",
     "output_type": "stream",
     "text": [
      "Betweenness\n"
     ]
    },
    {
     "ename": "NameError",
     "evalue": "name 'nodes_df' is not defined",
     "output_type": "error",
     "traceback": [
      "\u001b[0;31m---------------------------------------------------------------------------\u001b[0m",
      "\u001b[0;31mNameError\u001b[0m                                 Traceback (most recent call last)",
      "Cell \u001b[0;32mIn[183], line 2\u001b[0m\n\u001b[1;32m      1\u001b[0m \u001b[38;5;28mprint\u001b[39m(\u001b[38;5;124m'\u001b[39m\u001b[38;5;124mBetweenness\u001b[39m\u001b[38;5;124m'\u001b[39m)\n\u001b[0;32m----> 2\u001b[0m pprint\u001b[38;5;241m.\u001b[39mpprint((\u001b[43mnodes_df\u001b[49m\u001b[38;5;241m.\u001b[39msort_values(by\u001b[38;5;241m=\u001b[39m\u001b[38;5;124m'\u001b[39m\u001b[38;5;124mbetweenness\u001b[39m\u001b[38;5;124m'\u001b[39m, ascending\u001b[38;5;241m=\u001b[39m\u001b[38;5;28;01mFalse\u001b[39;00m)[[\u001b[38;5;124m'\u001b[39m\u001b[38;5;124mlabel\u001b[39m\u001b[38;5;124m'\u001b[39m, \u001b[38;5;124m'\u001b[39m\u001b[38;5;124mmainType\u001b[39m\u001b[38;5;124m'\u001b[39m, \u001b[38;5;124m'\u001b[39m\u001b[38;5;124mmembersNumber\u001b[39m\u001b[38;5;124m'\u001b[39m]]\u001b[38;5;241m.\u001b[39mhead(\u001b[38;5;241m7\u001b[39m)))\n\u001b[1;32m      3\u001b[0m \u001b[38;5;28mprint\u001b[39m(\u001b[38;5;124m'\u001b[39m\u001b[38;5;130;01m\\n\u001b[39;00m\u001b[38;5;124m-----\u001b[39m\u001b[38;5;130;01m\\n\u001b[39;00m\u001b[38;5;124mEigenvector\u001b[39m\u001b[38;5;124m'\u001b[39m)\n\u001b[1;32m      4\u001b[0m pprint\u001b[38;5;241m.\u001b[39mpprint((nodes_df\u001b[38;5;241m.\u001b[39msort_values(by\u001b[38;5;241m=\u001b[39m\u001b[38;5;124m'\u001b[39m\u001b[38;5;124meigenvector\u001b[39m\u001b[38;5;124m'\u001b[39m, ascending\u001b[38;5;241m=\u001b[39m\u001b[38;5;28;01mFalse\u001b[39;00m)[[\u001b[38;5;124m'\u001b[39m\u001b[38;5;124mlabel\u001b[39m\u001b[38;5;124m'\u001b[39m, \u001b[38;5;124m'\u001b[39m\u001b[38;5;124mmainType\u001b[39m\u001b[38;5;124m'\u001b[39m, \u001b[38;5;124m'\u001b[39m\u001b[38;5;124mmembersNumber\u001b[39m\u001b[38;5;124m'\u001b[39m]]\u001b[38;5;241m.\u001b[39mhead(\u001b[38;5;241m7\u001b[39m)))\n",
      "\u001b[0;31mNameError\u001b[0m: name 'nodes_df' is not defined"
     ]
    }
   ],
   "source": [
    "print('Betweenness')\n",
    "pprint.pprint((nodes_df.sort_values(by='betweenness', ascending=False)[['label', 'mainType', 'membersNumber']].head(7)))\n",
    "print('\\n-----\\nEigenvector')\n",
    "pprint.pprint((nodes_df.sort_values(by='eigenvector', ascending=False)[['label', 'mainType', 'membersNumber']].head(7)))"
   ]
  },
  {
   "cell_type": "code",
   "execution_count": null,
   "metadata": {},
   "outputs": [],
   "source": []
  },
  {
   "cell_type": "markdown",
   "metadata": {},
   "source": [
    "#### Plot graph"
   ]
  },
  {
   "cell_type": "code",
   "execution_count": 213,
   "metadata": {
    "execution": {
     "iopub.execute_input": "2025-05-24T14:17:27.743757Z",
     "iopub.status.busy": "2025-05-24T14:17:27.741898Z",
     "iopub.status.idle": "2025-05-24T14:17:27.755004Z",
     "shell.execute_reply": "2025-05-24T14:17:27.752751Z",
     "shell.execute_reply.started": "2025-05-24T14:17:27.743672Z"
    }
   },
   "outputs": [
    {
     "name": "stdout",
     "output_type": "stream",
     "text": [
      "images/organisations/edu_edu_1901-1920.svg\n"
     ]
    }
   ],
   "source": [
    "pict_addr = 'images/organisations/edu_edu_' + p +'.svg'\n",
    "print(pict_addr)"
   ]
  },
  {
   "cell_type": "code",
   "execution_count": 214,
   "metadata": {
    "execution": {
     "iopub.execute_input": "2025-05-24T14:17:28.103423Z",
     "iopub.status.busy": "2025-05-24T14:17:28.102521Z",
     "iopub.status.idle": "2025-05-24T14:17:28.153953Z",
     "shell.execute_reply": "2025-05-24T14:17:28.152499Z",
     "shell.execute_reply.started": "2025-05-24T14:17:28.103347Z"
    }
   },
   "outputs": [
    {
     "ename": "NameError",
     "evalue": "name 'pG' is not defined",
     "output_type": "error",
     "traceback": [
      "\u001b[0;31m---------------------------------------------------------------------------\u001b[0m",
      "\u001b[0;31mNameError\u001b[0m                                 Traceback (most recent call last)",
      "Cell \u001b[0;32mIn[214], line 3\u001b[0m\n\u001b[1;32m      1\u001b[0m \u001b[38;5;66;03m### Plot the graph\u001b[39;00m\n\u001b[0;32m----> 3\u001b[0m g \u001b[38;5;241m=\u001b[39m \u001b[43mpG\u001b[49m\n\u001b[1;32m      4\u001b[0m \u001b[38;5;66;03m# n_size = np.log(np.sqrt(nx.number_of_nodes(g)))* 25 #*25\u001b[39;00m\n\u001b[1;32m      5\u001b[0m n_size \u001b[38;5;241m=\u001b[39m np\u001b[38;5;241m.\u001b[39mlog(nx\u001b[38;5;241m.\u001b[39mnumber_of_nodes(g))\u001b[38;5;241m*\u001b[39m\u001b[38;5;241m10\u001b[39m\n",
      "\u001b[0;31mNameError\u001b[0m: name 'pG' is not defined"
     ]
    }
   ],
   "source": [
    "### Plot the graph\n",
    "\n",
    "g = pG\n",
    "# n_size = np.log(np.sqrt(nx.number_of_nodes(g)))* 25 #*25\n",
    "n_size = np.log(nx.number_of_nodes(g))*10\n",
    "\n",
    "graph_layout = 'spring_layout'\n",
    "n_k = np.log(nx.number_of_nodes(g))/20 #2.5\n",
    "\n",
    "### Define the layout, i.e. the choice \n",
    "# of the algorithm for the representation of the graph.\n",
    "\n",
    "if graph_layout == 'fruchterman_reingold':\n",
    "    pos = nx.fruchterman_reingold_layout(g)\n",
    "elif graph_layout == 'kamada_kawai':\n",
    "    pos = nx.kamada_kawai_layout(g)\n",
    "elif graph_layout == 'spring_layout':\n",
    "    pos = nx.spring_layout(g, k = n_k)  \n",
    "else:\n",
    "    pos = nx.kamada_kawai_layout(g)\n",
    "\n",
    "# https://networkx.org/documentation/stable/reference/drawing.html\n",
    "plt.figure(figsize = (n_size,n_size))\n",
    "\n",
    "node_size = [n[1]['membersNumber']*20 for n in g.nodes.data()]\n",
    "#node_size = [d[1]*100 for d in nx.degree(g)]\n",
    "node_colors= [color_map[n[1]['mainType']] for n in g.nodes.data()]\n",
    "\n",
    "edge_size = [e[2]['weight'] for e in g.edges.data()]\n",
    "edge_labels = {e: g.get_edge_data(e[0], e[1])[\"weight\"] for e in g.edges()}\n",
    "\n",
    "node_labels = dict([tuple(( n[0] , n[1]['label'] )) for n in g.nodes.data()])\n",
    "\n",
    "\n",
    "nx.draw_networkx_nodes(g, pos, node_size=node_size, node_color=node_colors, alpha=0.6)\n",
    "nx.draw_networkx_edges(g, pos, width=edge_size, alpha=0.02) # edgelist=ln, edge_color=c, \n",
    "nx.draw_networkx_labels(g, pos, labels=node_labels, alpha=0.7, font_size=10)\n",
    "#nx.draw_networkx_edge_labels(g, pos, edge_labels=edge_labels, alpha=0.7, font_size=10)\n",
    "\n",
    "alpha_n=0.5\n",
    "\n",
    "plt.legend(handles=[plt.Line2D([0], [0], marker='o', color='w', \n",
    "                        label=label, markerfacecolor=color, \n",
    "                        markersize=8, alpha=alpha_n\n",
    "                        )\n",
    "                        for label, color in color_map.items()],\n",
    "                        loc='lower right', fontsize=8)\n",
    "\n",
    "\n",
    "### On peut augmenter ou diminuer ce paramètre pour ajuster le graphe\n",
    "plt.tight_layout(pad=60)\n",
    "pict_addr = pict_addr\n",
    "plt.savefig(pict_addr)\n",
    "#plt.show()\n",
    "plt.close()\n"
   ]
  },
  {
   "cell_type": "markdown",
   "metadata": {},
   "source": [
    "### Communitites"
   ]
  },
  {
   "cell_type": "code",
   "execution_count": 215,
   "metadata": {
    "execution": {
     "iopub.execute_input": "2025-05-24T14:17:57.992316Z",
     "iopub.status.busy": "2025-05-24T14:17:57.990423Z",
     "iopub.status.idle": "2025-05-24T14:17:58.033467Z",
     "shell.execute_reply": "2025-05-24T14:17:58.031367Z",
     "shell.execute_reply.started": "2025-05-24T14:17:57.992230Z"
    }
   },
   "outputs": [
    {
     "ename": "NameError",
     "evalue": "name 'pG' is not defined",
     "output_type": "error",
     "traceback": [
      "\u001b[0;31m---------------------------------------------------------------------------\u001b[0m",
      "\u001b[0;31mNameError\u001b[0m                                 Traceback (most recent call last)",
      "Cell \u001b[0;32mIn[215], line 1\u001b[0m\n\u001b[0;32m----> 1\u001b[0m l_communities \u001b[38;5;241m=\u001b[39m [(c, \u001b[38;5;28mlen\u001b[39m(c)) \u001b[38;5;28;01mfor\u001b[39;00m c \u001b[38;5;129;01min\u001b[39;00m \u001b[38;5;28mlist\u001b[39m(nx\u001b[38;5;241m.\u001b[39mcommunity\u001b[38;5;241m.\u001b[39mlouvain_communities(\u001b[43mpG\u001b[49m, resolution\u001b[38;5;241m=\u001b[39m\u001b[38;5;241m0.7\u001b[39m, weight\u001b[38;5;241m=\u001b[39m\u001b[38;5;124m'\u001b[39m\u001b[38;5;124mweight\u001b[39m\u001b[38;5;124m'\u001b[39m))]\n\u001b[1;32m      2\u001b[0m \u001b[38;5;28mprint\u001b[39m( \u001b[38;5;28mlen\u001b[39m(l_communities))\n\u001b[1;32m      3\u001b[0m sl_communities \u001b[38;5;241m=\u001b[39m \u001b[38;5;28msorted\u001b[39m(l_communities, key\u001b[38;5;241m=\u001b[39m\u001b[38;5;28;01mlambda\u001b[39;00m x: x[\u001b[38;5;241m1\u001b[39m], reverse\u001b[38;5;241m=\u001b[39m\u001b[38;5;28;01mTrue\u001b[39;00m)\n",
      "\u001b[0;31mNameError\u001b[0m: name 'pG' is not defined"
     ]
    }
   ],
   "source": [
    "l_communities = [(c, len(c)) for c in list(nx.community.louvain_communities(pG, resolution=0.7, weight='weight'))]\n",
    "print( len(l_communities))\n",
    "sl_communities = sorted(l_communities, key=lambda x: x[1], reverse=True)\n",
    "print([c[1] for c in sl_communities])\n",
    "print(sl_communities[-1:])\n"
   ]
  },
  {
   "cell_type": "code",
   "execution_count": 187,
   "metadata": {
    "execution": {
     "iopub.execute_input": "2025-05-24T14:05:44.956047Z",
     "iopub.status.busy": "2025-05-24T14:05:44.955170Z",
     "iopub.status.idle": "2025-05-24T14:05:45.000338Z",
     "shell.execute_reply": "2025-05-24T14:05:44.997931Z",
     "shell.execute_reply.started": "2025-05-24T14:05:44.955972Z"
    }
   },
   "outputs": [
    {
     "name": "stdout",
     "output_type": "stream",
     "text": [
      "\n",
      "\n",
      "Community 0 \n",
      "Betweenness\n"
     ]
    },
    {
     "ename": "NameError",
     "evalue": "name 'nodes_df' is not defined",
     "output_type": "error",
     "traceback": [
      "\u001b[0;31m---------------------------------------------------------------------------\u001b[0m",
      "\u001b[0;31mNameError\u001b[0m                                 Traceback (most recent call last)",
      "Cell \u001b[0;32mIn[187], line 3\u001b[0m\n\u001b[1;32m      1\u001b[0m \u001b[38;5;28;01mfor\u001b[39;00m i \u001b[38;5;129;01min\u001b[39;00m \u001b[38;5;28mrange\u001b[39m(\u001b[38;5;241m0\u001b[39m,\u001b[38;5;241m5\u001b[39m):\n\u001b[1;32m      2\u001b[0m    \u001b[38;5;28mprint\u001b[39m(\u001b[38;5;124m'\u001b[39m\u001b[38;5;130;01m\\n\u001b[39;00m\u001b[38;5;130;01m\\n\u001b[39;00m\u001b[38;5;124mCommunity \u001b[39m\u001b[38;5;124m'\u001b[39m\u001b[38;5;241m+\u001b[39m \u001b[38;5;28mstr\u001b[39m(i), \u001b[38;5;124m'\u001b[39m\u001b[38;5;130;01m\\n\u001b[39;00m\u001b[38;5;124mBetweenness\u001b[39m\u001b[38;5;124m'\u001b[39m)\n\u001b[0;32m----> 3\u001b[0m    pprint\u001b[38;5;241m.\u001b[39mpprint((\u001b[43mnodes_df\u001b[49m[nodes_df\u001b[38;5;241m.\u001b[39mid\u001b[38;5;241m.\u001b[39misin(\u001b[38;5;28mlist\u001b[39m(sl_communities[i][\u001b[38;5;241m0\u001b[39m])) ]\u001b[38;5;241m.\u001b[39msort_values(by\u001b[38;5;241m=\u001b[39m\u001b[38;5;124m'\u001b[39m\u001b[38;5;124mbetweenness\u001b[39m\u001b[38;5;124m'\u001b[39m, ascending\u001b[38;5;241m=\u001b[39m\u001b[38;5;28;01mFalse\u001b[39;00m)[[\u001b[38;5;124m'\u001b[39m\u001b[38;5;124mlabel\u001b[39m\u001b[38;5;124m'\u001b[39m, \u001b[38;5;124m'\u001b[39m\u001b[38;5;124mmainType\u001b[39m\u001b[38;5;124m'\u001b[39m, \u001b[38;5;124m'\u001b[39m\u001b[38;5;124mmembersNumber\u001b[39m\u001b[38;5;124m'\u001b[39m]]\u001b[38;5;241m.\u001b[39mhead(\u001b[38;5;241m4\u001b[39m)))\n\u001b[1;32m      4\u001b[0m    \u001b[38;5;28mprint\u001b[39m(\u001b[38;5;124m'\u001b[39m\u001b[38;5;130;01m\\n\u001b[39;00m\u001b[38;5;124m-----\u001b[39m\u001b[38;5;130;01m\\n\u001b[39;00m\u001b[38;5;124mEigenvector\u001b[39m\u001b[38;5;124m'\u001b[39m)\n\u001b[1;32m      5\u001b[0m    pprint\u001b[38;5;241m.\u001b[39mpprint((nodes_df[nodes_df\u001b[38;5;241m.\u001b[39mid\u001b[38;5;241m.\u001b[39misin(\u001b[38;5;28mlist\u001b[39m(sl_communities[i][\u001b[38;5;241m0\u001b[39m])) ]\u001b[38;5;241m.\u001b[39msort_values(by\u001b[38;5;241m=\u001b[39m\u001b[38;5;124m'\u001b[39m\u001b[38;5;124meigenvector\u001b[39m\u001b[38;5;124m'\u001b[39m, ascending\u001b[38;5;241m=\u001b[39m\u001b[38;5;28;01mFalse\u001b[39;00m)[[\u001b[38;5;124m'\u001b[39m\u001b[38;5;124mlabel\u001b[39m\u001b[38;5;124m'\u001b[39m, \u001b[38;5;124m'\u001b[39m\u001b[38;5;124mmainType\u001b[39m\u001b[38;5;124m'\u001b[39m, \u001b[38;5;124m'\u001b[39m\u001b[38;5;124mmembersNumber\u001b[39m\u001b[38;5;124m'\u001b[39m]]\u001b[38;5;241m.\u001b[39mhead(\u001b[38;5;241m4\u001b[39m)))\n",
      "\u001b[0;31mNameError\u001b[0m: name 'nodes_df' is not defined"
     ]
    }
   ],
   "source": [
    "for i in range(0,5):\n",
    "   print('\\n\\nCommunity '+ str(i), '\\nBetweenness')\n",
    "   pprint.pprint((nodes_df[nodes_df.id.isin(list(sl_communities[i][0])) ].sort_values(by='betweenness', ascending=False)[['label', 'mainType', 'membersNumber']].head(4)))\n",
    "   print('\\n-----\\nEigenvector')\n",
    "   pprint.pprint((nodes_df[nodes_df.id.isin(list(sl_communities[i][0])) ].sort_values(by='eigenvector', ascending=False)[['label', 'mainType', 'membersNumber']].head(4)))\n"
   ]
  },
  {
   "cell_type": "markdown",
   "metadata": {},
   "source": [
    "#### Plot communitites graph"
   ]
  },
  {
   "cell_type": "code",
   "execution_count": 188,
   "metadata": {
    "execution": {
     "iopub.execute_input": "2025-05-24T14:05:45.876522Z",
     "iopub.status.busy": "2025-05-24T14:05:45.874235Z",
     "iopub.status.idle": "2025-05-24T14:05:45.889391Z",
     "shell.execute_reply": "2025-05-24T14:05:45.887039Z",
     "shell.execute_reply.started": "2025-05-24T14:05:45.876392Z"
    }
   },
   "outputs": [
    {
     "name": "stdout",
     "output_type": "stream",
     "text": [
      "images/organisations/edu_edu_communities_1901-1920.svg\n"
     ]
    }
   ],
   "source": [
    "pict_addr_comm = 'images/organisations/edu_edu_communities_' + p +'.svg'\n",
    "print(pict_addr_comm)"
   ]
  },
  {
   "cell_type": "code",
   "execution_count": 189,
   "metadata": {
    "execution": {
     "iopub.execute_input": "2025-05-24T14:05:46.270599Z",
     "iopub.status.busy": "2025-05-24T14:05:46.269703Z",
     "iopub.status.idle": "2025-05-24T14:05:46.323249Z",
     "shell.execute_reply": "2025-05-24T14:05:46.321205Z",
     "shell.execute_reply.started": "2025-05-24T14:05:46.270478Z"
    }
   },
   "outputs": [
    {
     "ename": "NameError",
     "evalue": "name 'pG' is not defined",
     "output_type": "error",
     "traceback": [
      "\u001b[0;31m---------------------------------------------------------------------------\u001b[0m",
      "\u001b[0;31mNameError\u001b[0m                                 Traceback (most recent call last)",
      "Cell \u001b[0;32mIn[189], line 3\u001b[0m\n\u001b[1;32m      1\u001b[0m \u001b[38;5;66;03m### Plot the graph\u001b[39;00m\n\u001b[0;32m----> 3\u001b[0m g \u001b[38;5;241m=\u001b[39m \u001b[43mpG\u001b[49m\n\u001b[1;32m      4\u001b[0m \u001b[38;5;66;03m# n_size = np.log(np.sqrt(nx.number_of_nodes(g)))* 25 #*25\u001b[39;00m\n\u001b[1;32m      5\u001b[0m n_size \u001b[38;5;241m=\u001b[39m np\u001b[38;5;241m.\u001b[39mlog(nx\u001b[38;5;241m.\u001b[39mnumber_of_nodes(g))\u001b[38;5;241m*\u001b[39m\u001b[38;5;241m10\u001b[39m\n",
      "\u001b[0;31mNameError\u001b[0m: name 'pG' is not defined"
     ]
    }
   ],
   "source": [
    "### Plot the graph\n",
    "\n",
    "g = pG\n",
    "# n_size = np.log(np.sqrt(nx.number_of_nodes(g)))* 25 #*25\n",
    "n_size = np.log(nx.number_of_nodes(g))*10\n",
    "\n",
    "graph_layout = 'spring_layout'\n",
    "n_k = np.log(nx.number_of_nodes(g))/20 #2.5\n",
    "\n",
    "### Define the layout, i.e. the choice \n",
    "# of the algorithm for the representation of the graph.\n",
    "\n",
    "if graph_layout == 'fruchterman_reingold':\n",
    "    pos = nx.fruchterman_reingold_layout(g)\n",
    "elif graph_layout == 'kamada_kawai':\n",
    "    pos = nx.kamada_kawai_layout(g)\n",
    "elif graph_layout == 'spring_layout':\n",
    "    pos = nx.spring_layout(g, k = n_k)  \n",
    "else:\n",
    "    pos = nx.kamada_kawai_layout(g)\n",
    "\n",
    "# https://networkx.org/documentation/stable/reference/drawing.html\n",
    "plt.figure(figsize = (n_size,n_size))\n",
    "\n",
    "node_size = [n[1]['membersNumber']*20 for n in g.nodes.data()]\n",
    "#node_size = [d[1]*100 for d in nx.degree(g)]\n",
    "\n",
    "node_colors = []\n",
    "for n in g.nodes.data():\n",
    "    if n[0] in list(sl_communities[0][0]):\n",
    "        node_colors.append('red')\n",
    "    elif n[0] in list(sl_communities[1][0]):\n",
    "        node_colors.append('blue')\n",
    "    elif n[0] in list(sl_communities[2][0]):\n",
    "        node_colors.append('green')\n",
    "    elif n[0] in list(sl_communities[3][0]):\n",
    "        node_colors.append('orange')\n",
    "    elif n[0] in list(sl_communities[4][0]):\n",
    "        node_colors.append('maroon')\n",
    "    else:\n",
    "        node_colors.append('lightGrey')        \n",
    "\n",
    "\n",
    "edge_size = [e[2]['weight'] for e in g.edges.data()]\n",
    "edge_labels = {e: g.get_edge_data(e[0], e[1])[\"weight\"] for e in g.edges()}\n",
    "\n",
    "node_labels = dict([tuple(( n[0] , n[1]['label'] )) for n in g.nodes.data()])\n",
    "\n",
    "\n",
    "nx.draw_networkx_nodes(g, pos, node_size=node_size, node_color=node_colors, alpha=0.6)\n",
    "nx.draw_networkx_edges(g, pos, width=edge_size, alpha=0.02) # edgelist=ln, edge_color=c, \n",
    "nx.draw_networkx_labels(g, pos, labels=node_labels, alpha=0.7, font_size=10)\n",
    "#nx.draw_networkx_edge_labels(g, pos, edge_labels=edge_labels, alpha=0.7, font_size=10)\n",
    "\n",
    "alpha_n=0.5\n",
    "\n",
    "\n",
    "\n",
    "### On peut augmenter ou diminuer ce paramètre pour ajuster le graphe\n",
    "plt.tight_layout(pad=60)\n",
    "pict_addr = pict_addr_comm\n",
    "plt.savefig(pict_addr)\n",
    "#plt.show()\n",
    "plt.close()\n"
   ]
  },
  {
   "cell_type": "code",
   "execution_count": null,
   "metadata": {},
   "outputs": [],
   "source": []
  },
  {
   "cell_type": "code",
   "execution_count": null,
   "metadata": {},
   "outputs": [],
   "source": []
  },
  {
   "cell_type": "markdown",
   "metadata": {},
   "source": [
    "## Create general function"
   ]
  },
  {
   "cell_type": "code",
   "execution_count": 190,
   "metadata": {
    "execution": {
     "iopub.execute_input": "2025-05-24T14:05:47.978831Z",
     "iopub.status.busy": "2025-05-24T14:05:47.977929Z",
     "iopub.status.idle": "2025-05-24T14:05:48.023595Z",
     "shell.execute_reply": "2025-05-24T14:05:48.022025Z",
     "shell.execute_reply.started": "2025-05-24T14:05:47.978754Z"
    }
   },
   "outputs": [],
   "source": [
    "def generate_report_and_plots(df, concatRelaType, type_list, doc_addr, df_orgPeriod):\n",
    "\n",
    "    with open(doc_addr, \"w\") as myfile:\n",
    "        myfile.write('# Report for relations: ' + concatRelaType + '\\n')\n",
    "\n",
    "\n",
    "    df_g = df[(df.relaType_concat == concatRelaType) \\\n",
    "                     & (df.orgMainType_x.isin(type_list)) \\\n",
    "                     & (df.orgMainType_y.isin(type_list))  ]\n",
    "\n",
    "    txt = str(df_g.groupby('periods').size())\n",
    "\n",
    "    with open(doc_addr, \"a\") as myfile:\n",
    "        myfile.write('\\n'+txt + '\\n')\n",
    "\n",
    "    for p in df_g['periods'].unique():\n",
    "        print(str(p))   \n",
    "\n",
    "        with open(doc_addr, \"a\") as myfile:\n",
    "            myfile.write('\\n\\n\\n## Values for ' + p + '\\n')\n",
    "\n",
    "        df_g_p = df_g[df_g.periods==p]\n",
    "        \n",
    "        with open(doc_addr, \"a\") as myfile:\n",
    "            myfile.write('\\nNumber of relationships for this period ' + str(len(df_g_p)) + '\\n')\n",
    "        \n",
    "        l = [tuple(\n",
    "            (e['uriOrg_x'], e['uriOrg_y'],\n",
    "            {'uriPers':e['uriPer'], 'labelPers':e['labelPer'],\n",
    "            ## the weight ist the number of persons in this relationship\n",
    "            'weight':e['number']}\n",
    "            )) \n",
    "            for e in df_g_p.to_dict(orient='records')]\n",
    "        \n",
    "        graph_p=nx.Graph()\n",
    "        graph_p.add_edges_from(l)\n",
    "\n",
    "        txt = 'Number of nodes: ' + str(graph_p.number_of_nodes())+\\\n",
    "                '\\nNumber of edges: ' + str(graph_p.number_of_edges())\n",
    "        with open(doc_addr, \"a\") as myfile:\n",
    "                    myfile.write('\\n'+ txt  + '\\n')\n",
    "\n",
    "        ### Components\n",
    "        graph_p_S = [graph_p.subgraph(c).copy() \n",
    "                     for c in nx.connected_components(graph_p)]\n",
    "\n",
    "        ln = sorted([[i,len(s.nodes)] for i,s in enumerate(graph_p_S)], key = lambda row: row[1], reverse=True)\n",
    "        try:\n",
    "            if ln[1][1]*20 < ln[0][1]:\n",
    "                with open(doc_addr, \"a\") as myfile:\n",
    "                    myfile.write('\\nJust one big component with ' + str(graph_p_S[0].number_of_nodes()) + ' nodes\\n')            \n",
    "            else :\n",
    "                with open(doc_addr, \"a\") as myfile:\n",
    "                    myfile.write('\\nBeware: more than one big component !'  + '\\n')\n",
    "        except Exception as e:\n",
    "             print(e)            \n",
    "            \n",
    "        ### Alternative way with just one graph\n",
    "        pG = graph_p_S[0]\n",
    "\n",
    "        txt = 'Number of nodes for first component: ' + str(pG.number_of_nodes())+\\\n",
    "                '\\nNumber of edges for first component: ' + str(pG.number_of_edges())\n",
    "        with open(doc_addr, \"a\") as myfile:\n",
    "                    myfile.write('\\n'+ txt  + '\\n')\n",
    "\n",
    "        ### No treatment for smaller graphs\n",
    "        if int(pG.number_of_nodes()) > 30:\n",
    "\n",
    "            ### Prepare data to add to nodes\n",
    "\n",
    "            df_opl = df_orgPeriod[df_orgPeriod.periods==p][['uriOrg', 'labelOrg', 'orgMainType', 'period_members_number']]\n",
    "            df_opl.columns=['uri', 'label', 'mainType', 'membersNumber']\n",
    "\n",
    "            ln = dict([(e['uri'],\n",
    "                {'label':e['label'], 'mainType':e['mainType'],\n",
    "                                    'membersNumber':e['membersNumber']}\n",
    "                ) for e in df_opl.to_dict(orient='records')])\n",
    "            ## Add attributes\n",
    "            nx.set_node_attributes(pG, ln)\n",
    "\n",
    "            mn_s = pd.Series([n[1]['mainType'] for n in pG.nodes.data()])\n",
    "            txt= str(list(mn_s.groupby(by=mn_s).size().sort_values(ascending=False).items()))\n",
    "            with open(doc_addr, \"a\") as myfile:\n",
    "                    myfile.write('\\n'+ txt  + '\\n')\n",
    "\n",
    "            ### Eigenvector\n",
    "            try:\n",
    "                le = list(nx.eigenvector_centrality(pG, \n",
    "                                        max_iter=1000, weight='weight').items())\n",
    "            except Exception as e:\n",
    "                print(e)    \n",
    "            nx.set_node_attributes(pG, dict(le), 'eigenvector')   \n",
    "\n",
    "            ### Betweenness\n",
    "            lb = list(nx.betweenness_centrality(pG, weight='weight').items())\n",
    "            nx.set_node_attributes(pG, dict(lb), 'betweenness')\n",
    "\n",
    "\n",
    "            ### Export node attributes to dataframe\n",
    "            nodes_data ={node: pG.nodes[node] for node in pG.nodes}\n",
    "            nodes_df = pd.DataFrame(nodes_data).T\n",
    "            nodes_df.reset_index(inplace=True, names='id')\n",
    "\n",
    "            corr_spear = nodes_df[['eigenvector', 'betweenness']].corr(method=\"spearman\")\n",
    "            txt = \"Spearman's rank correlation of eidenvector and betweenness: {}\".format(corr_spear.iloc[0,1])\n",
    "            with open(doc_addr, \"a\") as myfile:\n",
    "                    myfile.write('\\n'+ txt  + '\\n')\n",
    "\n",
    "            txt = 'Eigenvector\\n' + \\\n",
    "                str(nodes_df.sort_values(by='eigenvector', ascending=False)[['label', 'mainType', 'membersNumber']].head(7) )+\\\n",
    "                '\\n-----\\nBetweenness'+\\\n",
    "                str(nodes_df.sort_values(by='betweenness', ascending=False)[['label', 'mainType', 'membersNumber']].head(7))\n",
    "            with open(doc_addr, \"a\") as myfile:\n",
    "                    myfile.write('\\n'+ txt  + '\\n')\n",
    "\n",
    "\n",
    "            pict_addr = 'images/organisations/' + concatRelaType + '_' + p +'.svg'        \n",
    "\n",
    "\n",
    "            ### Plot the graph\n",
    "            g = pG\n",
    "            # n_size = np.log(np.sqrt(nx.number_of_nodes(g)))* 25 #*25\n",
    "            n_size = np.log(nx.number_of_nodes(g))*10\n",
    "\n",
    "            graph_layout = 'spring_layout'\n",
    "            n_k = np.log(nx.number_of_nodes(g))/20 #2.5\n",
    "\n",
    "            ### Define the layout, i.e. the choice \n",
    "            # of the algorithm for the representation of the graph.\n",
    "\n",
    "            if graph_layout == 'fruchterman_reingold':\n",
    "                pos = nx.fruchterman_reingold_layout(g)\n",
    "            elif graph_layout == 'kamada_kawai':\n",
    "                pos = nx.kamada_kawai_layout(g)\n",
    "            elif graph_layout == 'spring_layout':\n",
    "                pos = nx.spring_layout(g, k = n_k)  \n",
    "            else:\n",
    "                pos = nx.kamada_kawai_layout(g)\n",
    "\n",
    "            # https://networkx.org/documentation/stable/reference/drawing.html\n",
    "            plt.figure(figsize = (n_size,n_size))\n",
    "\n",
    "            node_size = [n[1]['membersNumber']*20 for n in g.nodes.data()]\n",
    "            #node_size = [d[1]*100 for d in nx.degree(g)]\n",
    "            #node_colors= [color_map[n[1]['mainType']] for n in g.nodes.data()]\n",
    "\n",
    "            edge_size = [e[2]['weight'] for e in g.edges.data()]\n",
    "            edge_labels = {e: g.get_edge_data(e[0], e[1])[\"weight\"] for e in g.edges()}\n",
    "\n",
    "            node_labels = dict([tuple(( n[0] , n[1]['label'] )) for n in g.nodes.data()])\n",
    "\n",
    "\n",
    "            nx.draw_networkx_nodes(g, pos, node_size=node_size, node_color='blue', alpha=0.6)\n",
    "            nx.draw_networkx_edges(g, pos, width=edge_size, alpha=0.02) # edgelist=ln, edge_color=c, \n",
    "            nx.draw_networkx_labels(g, pos, labels=node_labels, alpha=0.7, font_size=10)\n",
    "            #nx.draw_networkx_edge_labels(g, pos, edge_labels=edge_labels, alpha=0.7, font_size=10)\n",
    "\n",
    "            alpha_n=0.5\n",
    "\n",
    "            plt.legend(handles=[plt.Line2D([0], [0], marker='o', color='w', \n",
    "                                    label=label, markerfacecolor=color, \n",
    "                                    markersize=8, alpha=alpha_n\n",
    "                                    )\n",
    "                                    for label, color in color_map.items()],\n",
    "                                    loc='lower right', fontsize=8)\n",
    "\n",
    "\n",
    "            ### On peut augmenter ou diminuer ce paramètre pour ajuster le graphe\n",
    "            plt.tight_layout(pad=60)\n",
    "            pict_addr = pict_addr\n",
    "            plt.savefig(pict_addr)\n",
    "            #plt.show()\n",
    "            plt.close()\n",
    "\n",
    "\n",
    "            ### Identify communitites\n",
    "            l_communities = [(c, len(c)) for c in list(nx.community.louvain_communities(pG, resolution=0.7, weight='weight'))]\n",
    "            sl_communities = sorted(l_communities, key=lambda x: x[1], reverse=True)\n",
    "            txt= 'Number of communitites: ' + str(len(l_communities)) +\\\n",
    "                    '\\nNumber of nodes per community: ' + str([c[1] for c in sl_communities])\n",
    "            with open(doc_addr, \"a\") as myfile:\n",
    "                myfile.write('\\n'+ txt  + '\\n')\n",
    "\n",
    "            communities_print = 'Communities: \\n'\n",
    "            try:\n",
    "                for i in range(0,5):\n",
    "                    communities_print += '\\n\\nCommunity '+ str(i) + '\\nBetweenness'\n",
    "                    communities_print += str(nodes_df[nodes_df.id.isin(list(sl_communities[i][0])) ]\\\n",
    "                                                .sort_values(by='betweenness', ascending=False)[['label', 'mainType', 'membersNumber']].head(5).to_markdown())\n",
    "                    communities_print += '\\n-----\\nEigenvector'\n",
    "                    communities_print += str(nodes_df[nodes_df.id.isin(list(sl_communities[i][0])) ].sort_values(by='eigenvector', ascending=False)[['label', 'mainType', 'membersNumber']].head(5).to_markdown())\n",
    "                with open(doc_addr, \"a\") as myfile:\n",
    "                    myfile.write('\\n'+ communities_print  + '\\n')\n",
    "            except Exception as e:\n",
    "                 print(e)        \n",
    "\n",
    "        else:\n",
    "            print('Too small graph to be analyzed!')        \n"
   ]
  },
  {
   "cell_type": "code",
   "execution_count": 191,
   "metadata": {
    "execution": {
     "iopub.execute_input": "2025-05-24T14:05:48.543813Z",
     "iopub.status.busy": "2025-05-24T14:05:48.542945Z",
     "iopub.status.idle": "2025-05-24T14:05:48.555439Z",
     "shell.execute_reply": "2025-05-24T14:05:48.552938Z",
     "shell.execute_reply.started": "2025-05-24T14:05:48.543735Z"
    }
   },
   "outputs": [
    {
     "name": "stdout",
     "output_type": "stream",
     "text": [
      "['educational institution', 'university', 'private university', 'public university', 'institute of technology', 'learned society', 'not classified organisation', 'research organisation', 'research facility', 'scientific organisation']\n"
     ]
    }
   ],
   "source": [
    "print(df_mainTypes.mainType.to_list())"
   ]
  },
  {
   "cell_type": "code",
   "execution_count": 192,
   "metadata": {
    "execution": {
     "iopub.execute_input": "2025-05-24T14:05:48.958292Z",
     "iopub.status.busy": "2025-05-24T14:05:48.957264Z",
     "iopub.status.idle": "2025-05-24T14:05:49.044491Z",
     "shell.execute_reply": "2025-05-24T14:05:49.042590Z",
     "shell.execute_reply.started": "2025-05-24T14:05:48.958210Z"
    }
   },
   "outputs": [
    {
     "ename": "FileNotFoundError",
     "evalue": "[Errno 2] No such file or directory: 'analysis_doc/education_education.md'",
     "output_type": "error",
     "traceback": [
      "\u001b[0;31m---------------------------------------------------------------------------\u001b[0m",
      "\u001b[0;31mFileNotFoundError\u001b[0m                         Traceback (most recent call last)",
      "Cell \u001b[0;32mIn[192], line 2\u001b[0m\n\u001b[1;32m      1\u001b[0m relationship_type \u001b[38;5;241m=\u001b[39m \u001b[38;5;124m'\u001b[39m\u001b[38;5;124meducation_education\u001b[39m\u001b[38;5;124m'\u001b[39m\n\u001b[0;32m----> 2\u001b[0m \u001b[43mgenerate_report_and_plots\u001b[49m\u001b[43m(\u001b[49m\u001b[43mdf_graph\u001b[49m\u001b[43m,\u001b[49m\u001b[43m \u001b[49m\u001b[43mrelationship_type\u001b[49m\u001b[43m,\u001b[49m\n\u001b[1;32m      3\u001b[0m \u001b[43m                           \u001b[49m\u001b[43m[\u001b[49m\u001b[38;5;124;43m'\u001b[39;49m\u001b[38;5;124;43muniversity\u001b[39;49m\u001b[38;5;124;43m'\u001b[39;49m\u001b[43m,\u001b[49m\u001b[38;5;124;43m'\u001b[39;49m\u001b[38;5;124;43mpublic university\u001b[39;49m\u001b[38;5;124;43m'\u001b[39;49m\u001b[43m,\u001b[49m\u001b[38;5;124;43m'\u001b[39;49m\u001b[38;5;124;43mprivate university\u001b[39;49m\u001b[38;5;124;43m'\u001b[39;49m\u001b[43m]\u001b[49m\u001b[43m,\u001b[49m\n\u001b[1;32m      4\u001b[0m \u001b[43m                           \u001b[49m\u001b[38;5;124;43m'\u001b[39;49m\u001b[38;5;124;43manalysis_doc/\u001b[39;49m\u001b[38;5;124;43m'\u001b[39;49m\u001b[38;5;241;43m+\u001b[39;49m\u001b[43mrelationship_type\u001b[49m\u001b[38;5;241;43m+\u001b[39;49m\u001b[38;5;124;43m'\u001b[39;49m\u001b[38;5;124;43m.md\u001b[39;49m\u001b[38;5;124;43m'\u001b[39;49m\u001b[43m,\u001b[49m\n\u001b[1;32m      5\u001b[0m \u001b[43m                           \u001b[49m\u001b[43mdf_orgPeriod\u001b[49m\u001b[43m)\u001b[49m\n",
      "Cell \u001b[0;32mIn[190], line 3\u001b[0m, in \u001b[0;36mgenerate_report_and_plots\u001b[0;34m(df, concatRelaType, type_list, doc_addr, df_orgPeriod)\u001b[0m\n\u001b[1;32m      1\u001b[0m \u001b[38;5;28;01mdef\u001b[39;00m \u001b[38;5;21mgenerate_report_and_plots\u001b[39m(df, concatRelaType, type_list, doc_addr, df_orgPeriod):\n\u001b[0;32m----> 3\u001b[0m     \u001b[38;5;28;01mwith\u001b[39;00m \u001b[38;5;28;43mopen\u001b[39;49m\u001b[43m(\u001b[49m\u001b[43mdoc_addr\u001b[49m\u001b[43m,\u001b[49m\u001b[43m \u001b[49m\u001b[38;5;124;43m\"\u001b[39;49m\u001b[38;5;124;43mw\u001b[39;49m\u001b[38;5;124;43m\"\u001b[39;49m\u001b[43m)\u001b[49m \u001b[38;5;28;01mas\u001b[39;00m myfile:\n\u001b[1;32m      4\u001b[0m         myfile\u001b[38;5;241m.\u001b[39mwrite(\u001b[38;5;124m'\u001b[39m\u001b[38;5;124m# Report for relations: \u001b[39m\u001b[38;5;124m'\u001b[39m \u001b[38;5;241m+\u001b[39m concatRelaType \u001b[38;5;241m+\u001b[39m \u001b[38;5;124m'\u001b[39m\u001b[38;5;130;01m\\n\u001b[39;00m\u001b[38;5;124m'\u001b[39m)\n\u001b[1;32m      7\u001b[0m     df_g \u001b[38;5;241m=\u001b[39m df[(df\u001b[38;5;241m.\u001b[39mrelaType_concat \u001b[38;5;241m==\u001b[39m concatRelaType) \\\n\u001b[1;32m      8\u001b[0m                      \u001b[38;5;241m&\u001b[39m (df\u001b[38;5;241m.\u001b[39morgMainType_x\u001b[38;5;241m.\u001b[39misin(type_list)) \\\n\u001b[1;32m      9\u001b[0m                      \u001b[38;5;241m&\u001b[39m (df\u001b[38;5;241m.\u001b[39morgMainType_y\u001b[38;5;241m.\u001b[39misin(type_list))  ]\n",
      "File \u001b[0;32m/opt/jlab-env/lib/python3.12/site-packages/IPython/core/interactiveshell.py:324\u001b[0m, in \u001b[0;36m_modified_open\u001b[0;34m(file, *args, **kwargs)\u001b[0m\n\u001b[1;32m    317\u001b[0m \u001b[38;5;28;01mif\u001b[39;00m file \u001b[38;5;129;01min\u001b[39;00m {\u001b[38;5;241m0\u001b[39m, \u001b[38;5;241m1\u001b[39m, \u001b[38;5;241m2\u001b[39m}:\n\u001b[1;32m    318\u001b[0m     \u001b[38;5;28;01mraise\u001b[39;00m \u001b[38;5;167;01mValueError\u001b[39;00m(\n\u001b[1;32m    319\u001b[0m         \u001b[38;5;124mf\u001b[39m\u001b[38;5;124m\"\u001b[39m\u001b[38;5;124mIPython won\u001b[39m\u001b[38;5;124m'\u001b[39m\u001b[38;5;124mt let you open fd=\u001b[39m\u001b[38;5;132;01m{\u001b[39;00mfile\u001b[38;5;132;01m}\u001b[39;00m\u001b[38;5;124m by default \u001b[39m\u001b[38;5;124m\"\u001b[39m\n\u001b[1;32m    320\u001b[0m         \u001b[38;5;124m\"\u001b[39m\u001b[38;5;124mas it is likely to crash IPython. If you know what you are doing, \u001b[39m\u001b[38;5;124m\"\u001b[39m\n\u001b[1;32m    321\u001b[0m         \u001b[38;5;124m\"\u001b[39m\u001b[38;5;124myou can use builtins\u001b[39m\u001b[38;5;124m'\u001b[39m\u001b[38;5;124m open.\u001b[39m\u001b[38;5;124m\"\u001b[39m\n\u001b[1;32m    322\u001b[0m     )\n\u001b[0;32m--> 324\u001b[0m \u001b[38;5;28;01mreturn\u001b[39;00m \u001b[43mio_open\u001b[49m\u001b[43m(\u001b[49m\u001b[43mfile\u001b[49m\u001b[43m,\u001b[49m\u001b[43m \u001b[49m\u001b[38;5;241;43m*\u001b[39;49m\u001b[43margs\u001b[49m\u001b[43m,\u001b[49m\u001b[43m \u001b[49m\u001b[38;5;241;43m*\u001b[39;49m\u001b[38;5;241;43m*\u001b[39;49m\u001b[43mkwargs\u001b[49m\u001b[43m)\u001b[49m\n",
      "\u001b[0;31mFileNotFoundError\u001b[0m: [Errno 2] No such file or directory: 'analysis_doc/education_education.md'"
     ]
    }
   ],
   "source": [
    "relationship_type = 'education_education'\n",
    "generate_report_and_plots(df_graph, relationship_type,\n",
    "                           ['university','public university','private university'],\n",
    "                           'analysis_doc/'+relationship_type+'.md',\n",
    "                           df_orgPeriod)"
   ]
  },
  {
   "cell_type": "code",
   "execution_count": 193,
   "metadata": {
    "execution": {
     "iopub.execute_input": "2025-05-24T14:05:49.428221Z",
     "iopub.status.busy": "2025-05-24T14:05:49.427374Z",
     "iopub.status.idle": "2025-05-24T14:05:49.520557Z",
     "shell.execute_reply": "2025-05-24T14:05:49.518465Z",
     "shell.execute_reply.started": "2025-05-24T14:05:49.428144Z"
    }
   },
   "outputs": [
    {
     "ename": "FileNotFoundError",
     "evalue": "[Errno 2] No such file or directory: 'analysis_doc/membership_membership.md'",
     "output_type": "error",
     "traceback": [
      "\u001b[0;31m---------------------------------------------------------------------------\u001b[0m",
      "\u001b[0;31mFileNotFoundError\u001b[0m                         Traceback (most recent call last)",
      "Cell \u001b[0;32mIn[193], line 2\u001b[0m\n\u001b[1;32m      1\u001b[0m relationship_type \u001b[38;5;241m=\u001b[39m \u001b[38;5;124m'\u001b[39m\u001b[38;5;124mmembership_membership\u001b[39m\u001b[38;5;124m'\u001b[39m\n\u001b[0;32m----> 2\u001b[0m \u001b[43mgenerate_report_and_plots\u001b[49m\u001b[43m(\u001b[49m\u001b[43mdf_graph\u001b[49m\u001b[43m,\u001b[49m\u001b[43m \u001b[49m\u001b[43mrelationship_type\u001b[49m\u001b[43m,\u001b[49m\n\u001b[1;32m      3\u001b[0m \u001b[43m                           \u001b[49m\u001b[43m[\u001b[49m\u001b[38;5;124;43m'\u001b[39;49m\u001b[38;5;124;43muniversity\u001b[39;49m\u001b[38;5;124;43m'\u001b[39;49m\u001b[43m,\u001b[49m\n\u001b[1;32m      4\u001b[0m \u001b[43m                            \u001b[49m\u001b[38;5;124;43m'\u001b[39;49m\u001b[38;5;124;43mpublic university\u001b[39;49m\u001b[38;5;124;43m'\u001b[39;49m\u001b[43m,\u001b[49m\n\u001b[1;32m      5\u001b[0m \u001b[43m                            \u001b[49m\u001b[38;5;124;43m'\u001b[39;49m\u001b[38;5;124;43macademy of sciences\u001b[39;49m\u001b[38;5;124;43m'\u001b[39;49m\u001b[43m,\u001b[49m\n\u001b[1;32m      6\u001b[0m \u001b[43m                            \u001b[49m\u001b[38;5;124;43m'\u001b[39;49m\u001b[38;5;124;43mlearned society\u001b[39;49m\u001b[38;5;124;43m'\u001b[39;49m\u001b[43m,\u001b[49m\n\u001b[1;32m      7\u001b[0m \u001b[43m                            \u001b[49m\u001b[38;5;124;43m'\u001b[39;49m\u001b[38;5;124;43mprivate university\u001b[39;49m\u001b[38;5;124;43m'\u001b[39;49m\u001b[43m,\u001b[49m\n\u001b[1;32m      8\u001b[0m \u001b[43m                            \u001b[49m\u001b[38;5;124;43m'\u001b[39;49m\u001b[38;5;124;43mresearch organisation\u001b[39;49m\u001b[38;5;124;43m'\u001b[39;49m\u001b[43m,\u001b[49m\n\u001b[1;32m      9\u001b[0m \u001b[43m                            \u001b[49m\u001b[38;5;124;43m'\u001b[39;49m\u001b[38;5;124;43minstitute of technology\u001b[39;49m\u001b[38;5;124;43m'\u001b[39;49m\u001b[43m,\u001b[49m\n\u001b[1;32m     10\u001b[0m \u001b[43m                            \u001b[49m\u001b[38;5;124;43m'\u001b[39;49m\u001b[38;5;124;43mscientific organisation\u001b[39;49m\u001b[38;5;124;43m'\u001b[39;49m\u001b[43m,\u001b[49m\n\u001b[1;32m     11\u001b[0m \u001b[43m                            \u001b[49m\u001b[38;5;124;43m'\u001b[39;49m\u001b[38;5;124;43mastronomical observatory\u001b[39;49m\u001b[38;5;124;43m'\u001b[39;49m\u001b[43m,\u001b[49m\n\u001b[1;32m     12\u001b[0m \u001b[43m                            \u001b[49m\u001b[38;5;124;43m'\u001b[39;49m\u001b[38;5;124;43mresearch facility\u001b[39;49m\u001b[38;5;124;43m'\u001b[39;49m\u001b[43m,\u001b[49m\n\u001b[1;32m     13\u001b[0m \u001b[43m                            \u001b[49m\u001b[38;5;124;43m'\u001b[39;49m\u001b[38;5;124;43mcompany\u001b[39;49m\u001b[38;5;124;43m'\u001b[39;49m\u001b[43m,\u001b[49m\n\u001b[1;32m     14\u001b[0m \u001b[43m                            \u001b[49m\u001b[38;5;124;43m'\u001b[39;49m\u001b[38;5;124;43mgovernmenmt agency\u001b[39;49m\u001b[38;5;124;43m'\u001b[39;49m\u001b[43m,\u001b[49m\n\u001b[1;32m     15\u001b[0m \u001b[43m                            \u001b[49m\u001b[38;5;124;43m'\u001b[39;49m\u001b[38;5;124;43mpublisher_edition\u001b[39;49m\u001b[38;5;124;43m'\u001b[39;49m\u001b[43m]\u001b[49m\u001b[43m,\u001b[49m\n\u001b[1;32m     16\u001b[0m \u001b[43m                           \u001b[49m\u001b[38;5;124;43m'\u001b[39;49m\u001b[38;5;124;43manalysis_doc/\u001b[39;49m\u001b[38;5;124;43m'\u001b[39;49m\u001b[38;5;241;43m+\u001b[39;49m\u001b[43m \u001b[49m\u001b[43mrelationship_type\u001b[49m\u001b[38;5;241;43m+\u001b[39;49m\u001b[38;5;124;43m'\u001b[39;49m\u001b[38;5;124;43m.md\u001b[39;49m\u001b[38;5;124;43m'\u001b[39;49m\u001b[43m,\u001b[49m\n\u001b[1;32m     17\u001b[0m \u001b[43m                           \u001b[49m\u001b[43mdf_orgPeriod\u001b[49m\u001b[43m)\u001b[49m\n",
      "Cell \u001b[0;32mIn[190], line 3\u001b[0m, in \u001b[0;36mgenerate_report_and_plots\u001b[0;34m(df, concatRelaType, type_list, doc_addr, df_orgPeriod)\u001b[0m\n\u001b[1;32m      1\u001b[0m \u001b[38;5;28;01mdef\u001b[39;00m \u001b[38;5;21mgenerate_report_and_plots\u001b[39m(df, concatRelaType, type_list, doc_addr, df_orgPeriod):\n\u001b[0;32m----> 3\u001b[0m     \u001b[38;5;28;01mwith\u001b[39;00m \u001b[38;5;28;43mopen\u001b[39;49m\u001b[43m(\u001b[49m\u001b[43mdoc_addr\u001b[49m\u001b[43m,\u001b[49m\u001b[43m \u001b[49m\u001b[38;5;124;43m\"\u001b[39;49m\u001b[38;5;124;43mw\u001b[39;49m\u001b[38;5;124;43m\"\u001b[39;49m\u001b[43m)\u001b[49m \u001b[38;5;28;01mas\u001b[39;00m myfile:\n\u001b[1;32m      4\u001b[0m         myfile\u001b[38;5;241m.\u001b[39mwrite(\u001b[38;5;124m'\u001b[39m\u001b[38;5;124m# Report for relations: \u001b[39m\u001b[38;5;124m'\u001b[39m \u001b[38;5;241m+\u001b[39m concatRelaType \u001b[38;5;241m+\u001b[39m \u001b[38;5;124m'\u001b[39m\u001b[38;5;130;01m\\n\u001b[39;00m\u001b[38;5;124m'\u001b[39m)\n\u001b[1;32m      7\u001b[0m     df_g \u001b[38;5;241m=\u001b[39m df[(df\u001b[38;5;241m.\u001b[39mrelaType_concat \u001b[38;5;241m==\u001b[39m concatRelaType) \\\n\u001b[1;32m      8\u001b[0m                      \u001b[38;5;241m&\u001b[39m (df\u001b[38;5;241m.\u001b[39morgMainType_x\u001b[38;5;241m.\u001b[39misin(type_list)) \\\n\u001b[1;32m      9\u001b[0m                      \u001b[38;5;241m&\u001b[39m (df\u001b[38;5;241m.\u001b[39morgMainType_y\u001b[38;5;241m.\u001b[39misin(type_list))  ]\n",
      "File \u001b[0;32m/opt/jlab-env/lib/python3.12/site-packages/IPython/core/interactiveshell.py:324\u001b[0m, in \u001b[0;36m_modified_open\u001b[0;34m(file, *args, **kwargs)\u001b[0m\n\u001b[1;32m    317\u001b[0m \u001b[38;5;28;01mif\u001b[39;00m file \u001b[38;5;129;01min\u001b[39;00m {\u001b[38;5;241m0\u001b[39m, \u001b[38;5;241m1\u001b[39m, \u001b[38;5;241m2\u001b[39m}:\n\u001b[1;32m    318\u001b[0m     \u001b[38;5;28;01mraise\u001b[39;00m \u001b[38;5;167;01mValueError\u001b[39;00m(\n\u001b[1;32m    319\u001b[0m         \u001b[38;5;124mf\u001b[39m\u001b[38;5;124m\"\u001b[39m\u001b[38;5;124mIPython won\u001b[39m\u001b[38;5;124m'\u001b[39m\u001b[38;5;124mt let you open fd=\u001b[39m\u001b[38;5;132;01m{\u001b[39;00mfile\u001b[38;5;132;01m}\u001b[39;00m\u001b[38;5;124m by default \u001b[39m\u001b[38;5;124m\"\u001b[39m\n\u001b[1;32m    320\u001b[0m         \u001b[38;5;124m\"\u001b[39m\u001b[38;5;124mas it is likely to crash IPython. If you know what you are doing, \u001b[39m\u001b[38;5;124m\"\u001b[39m\n\u001b[1;32m    321\u001b[0m         \u001b[38;5;124m\"\u001b[39m\u001b[38;5;124myou can use builtins\u001b[39m\u001b[38;5;124m'\u001b[39m\u001b[38;5;124m open.\u001b[39m\u001b[38;5;124m\"\u001b[39m\n\u001b[1;32m    322\u001b[0m     )\n\u001b[0;32m--> 324\u001b[0m \u001b[38;5;28;01mreturn\u001b[39;00m \u001b[43mio_open\u001b[49m\u001b[43m(\u001b[49m\u001b[43mfile\u001b[49m\u001b[43m,\u001b[49m\u001b[43m \u001b[49m\u001b[38;5;241;43m*\u001b[39;49m\u001b[43margs\u001b[49m\u001b[43m,\u001b[49m\u001b[43m \u001b[49m\u001b[38;5;241;43m*\u001b[39;49m\u001b[38;5;241;43m*\u001b[39;49m\u001b[43mkwargs\u001b[49m\u001b[43m)\u001b[49m\n",
      "\u001b[0;31mFileNotFoundError\u001b[0m: [Errno 2] No such file or directory: 'analysis_doc/membership_membership.md'"
     ]
    }
   ],
   "source": [
    "relationship_type = 'membership_membership'\n",
    "generate_report_and_plots(df_graph, relationship_type,\n",
    "                           ['university',\n",
    "                            'public university',\n",
    "                            'academy of sciences',\n",
    "                            'learned society',\n",
    "                            'private university',\n",
    "                            'research organisation',\n",
    "                            'institute of technology',\n",
    "                            'scientific organisation',\n",
    "                            'astronomical observatory',\n",
    "                            'research facility',\n",
    "                            'company',\n",
    "                            'governmenmt agency',\n",
    "                            'publisher_edition'],\n",
    "                           'analysis_doc/'+ relationship_type+'.md',\n",
    "                           df_orgPeriod)"
   ]
  },
  {
   "cell_type": "code",
   "execution_count": 194,
   "metadata": {
    "execution": {
     "iopub.execute_input": "2025-05-24T14:05:49.955809Z",
     "iopub.status.busy": "2025-05-24T14:05:49.954961Z",
     "iopub.status.idle": "2025-05-24T14:05:50.049211Z",
     "shell.execute_reply": "2025-05-24T14:05:50.047036Z",
     "shell.execute_reply.started": "2025-05-24T14:05:49.955733Z"
    }
   },
   "outputs": [
    {
     "ename": "FileNotFoundError",
     "evalue": "[Errno 2] No such file or directory: 'analysis_doc/employment_employment.md'",
     "output_type": "error",
     "traceback": [
      "\u001b[0;31m---------------------------------------------------------------------------\u001b[0m",
      "\u001b[0;31mFileNotFoundError\u001b[0m                         Traceback (most recent call last)",
      "Cell \u001b[0;32mIn[194], line 2\u001b[0m\n\u001b[1;32m      1\u001b[0m relationship_type \u001b[38;5;241m=\u001b[39m \u001b[38;5;124m'\u001b[39m\u001b[38;5;124memployment_employment\u001b[39m\u001b[38;5;124m'\u001b[39m\n\u001b[0;32m----> 2\u001b[0m \u001b[43mgenerate_report_and_plots\u001b[49m\u001b[43m(\u001b[49m\u001b[43mdf_graph\u001b[49m\u001b[43m,\u001b[49m\u001b[43m \u001b[49m\u001b[43mrelationship_type\u001b[49m\u001b[43m,\u001b[49m\n\u001b[1;32m      3\u001b[0m \u001b[43m                           \u001b[49m\u001b[43m[\u001b[49m\u001b[38;5;124;43m'\u001b[39;49m\u001b[38;5;124;43muniversity\u001b[39;49m\u001b[38;5;124;43m'\u001b[39;49m\u001b[43m,\u001b[49m\n\u001b[1;32m      4\u001b[0m \u001b[43m                            \u001b[49m\u001b[38;5;124;43m'\u001b[39;49m\u001b[38;5;124;43mpublic university\u001b[39;49m\u001b[38;5;124;43m'\u001b[39;49m\u001b[43m,\u001b[49m\n\u001b[1;32m      5\u001b[0m \u001b[43m                            \u001b[49m\u001b[38;5;124;43m'\u001b[39;49m\u001b[38;5;124;43macademy of sciences\u001b[39;49m\u001b[38;5;124;43m'\u001b[39;49m\u001b[43m,\u001b[49m\n\u001b[1;32m      6\u001b[0m \u001b[43m                            \u001b[49m\u001b[38;5;124;43m'\u001b[39;49m\u001b[38;5;124;43mlearned society\u001b[39;49m\u001b[38;5;124;43m'\u001b[39;49m\u001b[43m,\u001b[49m\n\u001b[1;32m      7\u001b[0m \u001b[43m                            \u001b[49m\u001b[38;5;124;43m'\u001b[39;49m\u001b[38;5;124;43mprivate university\u001b[39;49m\u001b[38;5;124;43m'\u001b[39;49m\u001b[43m,\u001b[49m\n\u001b[1;32m      8\u001b[0m \u001b[43m                            \u001b[49m\u001b[38;5;124;43m'\u001b[39;49m\u001b[38;5;124;43mresearch organisation\u001b[39;49m\u001b[38;5;124;43m'\u001b[39;49m\u001b[43m,\u001b[49m\n\u001b[1;32m      9\u001b[0m \u001b[43m                            \u001b[49m\u001b[38;5;124;43m'\u001b[39;49m\u001b[38;5;124;43minstitute of technology\u001b[39;49m\u001b[38;5;124;43m'\u001b[39;49m\u001b[43m,\u001b[49m\n\u001b[1;32m     10\u001b[0m \u001b[43m                            \u001b[49m\u001b[38;5;124;43m'\u001b[39;49m\u001b[38;5;124;43mscientific organisation\u001b[39;49m\u001b[38;5;124;43m'\u001b[39;49m\u001b[43m,\u001b[49m\n\u001b[1;32m     11\u001b[0m \u001b[43m                            \u001b[49m\u001b[38;5;124;43m'\u001b[39;49m\u001b[38;5;124;43mastronomical observatory\u001b[39;49m\u001b[38;5;124;43m'\u001b[39;49m\u001b[43m,\u001b[49m\n\u001b[1;32m     12\u001b[0m \u001b[43m                            \u001b[49m\u001b[38;5;124;43m'\u001b[39;49m\u001b[38;5;124;43mresearch facility\u001b[39;49m\u001b[38;5;124;43m'\u001b[39;49m\u001b[43m,\u001b[49m\n\u001b[1;32m     13\u001b[0m \u001b[43m                            \u001b[49m\u001b[38;5;124;43m'\u001b[39;49m\u001b[38;5;124;43mcompany\u001b[39;49m\u001b[38;5;124;43m'\u001b[39;49m\u001b[43m,\u001b[49m\n\u001b[1;32m     14\u001b[0m \u001b[43m                            \u001b[49m\u001b[38;5;124;43m'\u001b[39;49m\u001b[38;5;124;43mgovernmenmt agency\u001b[39;49m\u001b[38;5;124;43m'\u001b[39;49m\u001b[43m,\u001b[49m\n\u001b[1;32m     15\u001b[0m \u001b[43m                            \u001b[49m\u001b[38;5;124;43m'\u001b[39;49m\u001b[38;5;124;43mpublisher_edition\u001b[39;49m\u001b[38;5;124;43m'\u001b[39;49m\u001b[43m]\u001b[49m\u001b[43m,\u001b[49m\n\u001b[1;32m     16\u001b[0m \u001b[43m                           \u001b[49m\u001b[38;5;124;43m'\u001b[39;49m\u001b[38;5;124;43manalysis_doc/\u001b[39;49m\u001b[38;5;124;43m'\u001b[39;49m\u001b[38;5;241;43m+\u001b[39;49m\u001b[43m \u001b[49m\u001b[43mrelationship_type\u001b[49m\u001b[38;5;241;43m+\u001b[39;49m\u001b[38;5;124;43m'\u001b[39;49m\u001b[38;5;124;43m.md\u001b[39;49m\u001b[38;5;124;43m'\u001b[39;49m\u001b[43m,\u001b[49m\n\u001b[1;32m     17\u001b[0m \u001b[43m                           \u001b[49m\u001b[43mdf_orgPeriod\u001b[49m\u001b[43m)\u001b[49m\n",
      "Cell \u001b[0;32mIn[190], line 3\u001b[0m, in \u001b[0;36mgenerate_report_and_plots\u001b[0;34m(df, concatRelaType, type_list, doc_addr, df_orgPeriod)\u001b[0m\n\u001b[1;32m      1\u001b[0m \u001b[38;5;28;01mdef\u001b[39;00m \u001b[38;5;21mgenerate_report_and_plots\u001b[39m(df, concatRelaType, type_list, doc_addr, df_orgPeriod):\n\u001b[0;32m----> 3\u001b[0m     \u001b[38;5;28;01mwith\u001b[39;00m \u001b[38;5;28;43mopen\u001b[39;49m\u001b[43m(\u001b[49m\u001b[43mdoc_addr\u001b[49m\u001b[43m,\u001b[49m\u001b[43m \u001b[49m\u001b[38;5;124;43m\"\u001b[39;49m\u001b[38;5;124;43mw\u001b[39;49m\u001b[38;5;124;43m\"\u001b[39;49m\u001b[43m)\u001b[49m \u001b[38;5;28;01mas\u001b[39;00m myfile:\n\u001b[1;32m      4\u001b[0m         myfile\u001b[38;5;241m.\u001b[39mwrite(\u001b[38;5;124m'\u001b[39m\u001b[38;5;124m# Report for relations: \u001b[39m\u001b[38;5;124m'\u001b[39m \u001b[38;5;241m+\u001b[39m concatRelaType \u001b[38;5;241m+\u001b[39m \u001b[38;5;124m'\u001b[39m\u001b[38;5;130;01m\\n\u001b[39;00m\u001b[38;5;124m'\u001b[39m)\n\u001b[1;32m      7\u001b[0m     df_g \u001b[38;5;241m=\u001b[39m df[(df\u001b[38;5;241m.\u001b[39mrelaType_concat \u001b[38;5;241m==\u001b[39m concatRelaType) \\\n\u001b[1;32m      8\u001b[0m                      \u001b[38;5;241m&\u001b[39m (df\u001b[38;5;241m.\u001b[39morgMainType_x\u001b[38;5;241m.\u001b[39misin(type_list)) \\\n\u001b[1;32m      9\u001b[0m                      \u001b[38;5;241m&\u001b[39m (df\u001b[38;5;241m.\u001b[39morgMainType_y\u001b[38;5;241m.\u001b[39misin(type_list))  ]\n",
      "File \u001b[0;32m/opt/jlab-env/lib/python3.12/site-packages/IPython/core/interactiveshell.py:324\u001b[0m, in \u001b[0;36m_modified_open\u001b[0;34m(file, *args, **kwargs)\u001b[0m\n\u001b[1;32m    317\u001b[0m \u001b[38;5;28;01mif\u001b[39;00m file \u001b[38;5;129;01min\u001b[39;00m {\u001b[38;5;241m0\u001b[39m, \u001b[38;5;241m1\u001b[39m, \u001b[38;5;241m2\u001b[39m}:\n\u001b[1;32m    318\u001b[0m     \u001b[38;5;28;01mraise\u001b[39;00m \u001b[38;5;167;01mValueError\u001b[39;00m(\n\u001b[1;32m    319\u001b[0m         \u001b[38;5;124mf\u001b[39m\u001b[38;5;124m\"\u001b[39m\u001b[38;5;124mIPython won\u001b[39m\u001b[38;5;124m'\u001b[39m\u001b[38;5;124mt let you open fd=\u001b[39m\u001b[38;5;132;01m{\u001b[39;00mfile\u001b[38;5;132;01m}\u001b[39;00m\u001b[38;5;124m by default \u001b[39m\u001b[38;5;124m\"\u001b[39m\n\u001b[1;32m    320\u001b[0m         \u001b[38;5;124m\"\u001b[39m\u001b[38;5;124mas it is likely to crash IPython. If you know what you are doing, \u001b[39m\u001b[38;5;124m\"\u001b[39m\n\u001b[1;32m    321\u001b[0m         \u001b[38;5;124m\"\u001b[39m\u001b[38;5;124myou can use builtins\u001b[39m\u001b[38;5;124m'\u001b[39m\u001b[38;5;124m open.\u001b[39m\u001b[38;5;124m\"\u001b[39m\n\u001b[1;32m    322\u001b[0m     )\n\u001b[0;32m--> 324\u001b[0m \u001b[38;5;28;01mreturn\u001b[39;00m \u001b[43mio_open\u001b[49m\u001b[43m(\u001b[49m\u001b[43mfile\u001b[49m\u001b[43m,\u001b[49m\u001b[43m \u001b[49m\u001b[38;5;241;43m*\u001b[39;49m\u001b[43margs\u001b[49m\u001b[43m,\u001b[49m\u001b[43m \u001b[49m\u001b[38;5;241;43m*\u001b[39;49m\u001b[38;5;241;43m*\u001b[39;49m\u001b[43mkwargs\u001b[49m\u001b[43m)\u001b[49m\n",
      "\u001b[0;31mFileNotFoundError\u001b[0m: [Errno 2] No such file or directory: 'analysis_doc/employment_employment.md'"
     ]
    }
   ],
   "source": [
    "relationship_type = 'employment_employment'\n",
    "generate_report_and_plots(df_graph, relationship_type,\n",
    "                           ['university',\n",
    "                            'public university',\n",
    "                            'academy of sciences',\n",
    "                            'learned society',\n",
    "                            'private university',\n",
    "                            'research organisation',\n",
    "                            'institute of technology',\n",
    "                            'scientific organisation',\n",
    "                            'astronomical observatory',\n",
    "                            'research facility',\n",
    "                            'company',\n",
    "                            'governmenmt agency',\n",
    "                            'publisher_edition'],\n",
    "                           'analysis_doc/'+ relationship_type+'.md',\n",
    "                           df_orgPeriod)"
   ]
  },
  {
   "cell_type": "code",
   "execution_count": null,
   "metadata": {},
   "outputs": [],
   "source": []
  },
  {
   "cell_type": "code",
   "execution_count": null,
   "metadata": {},
   "outputs": [],
   "source": []
  },
  {
   "cell_type": "code",
   "execution_count": null,
   "metadata": {},
   "outputs": [],
   "source": []
  }
 ],
 "metadata": {
  "kernelspec": {
   "display_name": "Python3",
   "language": "python",
   "name": "python3"
  },
  "language_info": {
   "codemirror_mode": {
    "name": "ipython",
    "version": 3
   },
   "file_extension": ".py",
   "mimetype": "text/x-python",
   "name": "python",
   "nbconvert_exporter": "python",
   "pygments_lexer": "ipython3",
   "version": "3.12.5"
  }
 },
 "nbformat": 4,
 "nbformat_minor": 4
}
